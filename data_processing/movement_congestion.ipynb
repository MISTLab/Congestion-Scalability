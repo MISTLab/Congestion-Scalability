{
 "cells": [
  {
   "cell_type": "code",
   "execution_count": 10,
   "metadata": {},
   "outputs": [],
   "source": [
    "import sys\n",
    "sys.path.append('../ptitprince/')\n",
    "from collections import namedtuple\n",
    "Circle = namedtuple(\"Circle\", \"x y r\")\n",
    "import pandas as pd\n",
    "import numpy as np\n",
    "import scipy as sp\n",
    "import ptitprince as pt\n",
    "import seaborn as sns\n",
    "import matplotlib.pyplot as plt\n",
    "import itertools\n",
    "import time\n",
    "from matplotlib.lines import Line2D\n",
    "from math import log10\n",
    "import math\n",
    "from scipy.spatial.distance import pdist, squareform\n",
    "from matplotlib.patches import Patch\n",
    "import matplotlib.lines as mlines\n",
    "from matplotlib import colors as mcolors\n",
    "from matplotlib.patches import Rectangle\n",
    "from matplotlib.collections import PatchCollection\n",
    "from matplotlib.offsetbox import OffsetImage, AnnotationBbox\n",
    "from matplotlib.cbook import get_sample_data\n",
    "import matplotlib.animation as animation\n",
    "import matplotlib.gridspec as gridspec\n",
    "import os.path\n",
    "import csv\n",
    "import gc\n",
    "import copy\n",
    "import os\n",
    "\n",
    "import matplotlib\n",
    "matplotlib.rcParams['pdf.fonttype'] = 42\n",
    "matplotlib.rcParams['ps.fonttype'] = 42\n"
   ]
  },
  {
   "cell_type": "code",
   "execution_count": 11,
   "metadata": {},
   "outputs": [
    {
     "name": "stdout",
     "output_type": "stream",
     "text": [
      "[0, 1, 2, 3, 4, 5, 6, 7, 8, 9, 10, 11, 12, 13, 14, 15, 16, 17, 18, 19, 20, 21, 22, 23, 24, 25, 26, 27, 28, 29]\n"
     ]
    }
   ],
   "source": [
    "DATA_DIR=\"/home/somz/Projects/Hierarchies_to_scale/khepera-simulations/files/data_files/comm_congestion\"\n",
    "#robots = [4, 6]\n",
    "seeds = [i for i in range(0, 30)]\n",
    "print(seeds)\n",
    "robots = [2,4,6,10,20,40,60,80,100,120]\n",
    "rab_ranges = [4,8,12]"
   ]
  },
  {
   "cell_type": "code",
   "execution_count": 12,
   "metadata": {},
   "outputs": [],
   "source": [
    "def get_name(n_robot,seed,range):\n",
    "    fname = DATA_DIR +'/'+'perf_communication_congestion_'+str(n_robot)+'_'+str(range)+'_'+str(seed)+'.txt'\n",
    "    print(fname)\n",
    "    return fname"
   ]
  },
  {
   "cell_type": "code",
   "execution_count": 13,
   "metadata": {},
   "outputs": [],
   "source": [
    "def column_position(n_robot,seed,range):\n",
    "    fname = DATA_DIR +'/'+'pos_communication_congestion_'+str(n_robot)+'_'+str(range)+'_'+str(seed)+'.txt'\n",
    "    print(fname)\n",
    "    return fname"
   ]
  },
  {
   "cell_type": "code",
   "execution_count": 14,
   "metadata": {},
   "outputs": [],
   "source": [
    "def get_names_f(n_r):\n",
    "    n = ['time','seed','no_of_robots']\n",
    "\n",
    "    for k in range(0,n_r):\n",
    "        n.append('id:'+str(k))\n",
    "        n.append('collision_'+str(k))\n",
    "        n.append('conflicts_'+str(k))\n",
    "        n.append('state_'+str(k))\n",
    "        n.append('estimate_'+str(k))\n",
    "        n.append('white_nei_agg_'+str(k))\n",
    "        n.append('black_nei_agg_'+str(k))\n",
    "        n.append('decision_flag_'+str(k))\n",
    "\n",
    "    \n",
    "    n.append('exp_finished')\n",
    "    return n"
   ]
  },
  {
   "cell_type": "code",
   "execution_count": 15,
   "metadata": {},
   "outputs": [],
   "source": [
    "def get_names_for_position(n_r):\n",
    "    n = ['time','seed','no_of_robots']\n",
    "\n",
    "    for k in range(0,n_r):\n",
    "        n.append('id:'+str(k))\n",
    "        n.append('x_'+str(k))\n",
    "        n.append('y_'+str(k))\n",
    "        n.append('state_'+str(k))\n",
    "    \n",
    "    n.append('exp_finished')\n",
    "    return n"
   ]
  },
  {
   "attachments": {},
   "cell_type": "markdown",
   "metadata": {},
   "source": [
    "Total collision per robot in the whole experiment, time_taken and estimate average. "
   ]
  },
  {
   "cell_type": "code",
   "execution_count": 16,
   "metadata": {},
   "outputs": [
    {
     "name": "stdout",
     "output_type": "stream",
     "text": [
      "/home/somz/Projects/Hierarchies_to_scale/khepera-simulations/files/data_files/comm_congestion/perf_communication_congestion_2_4_0.txt\n",
      "/home/somz/Projects/Hierarchies_to_scale/khepera-simulations/files/data_files/comm_congestion/perf_communication_congestion_2_8_0.txt\n",
      "/home/somz/Projects/Hierarchies_to_scale/khepera-simulations/files/data_files/comm_congestion/perf_communication_congestion_2_12_0.txt\n",
      "/home/somz/Projects/Hierarchies_to_scale/khepera-simulations/files/data_files/comm_congestion/perf_communication_congestion_2_4_1.txt\n",
      "/home/somz/Projects/Hierarchies_to_scale/khepera-simulations/files/data_files/comm_congestion/perf_communication_congestion_2_8_1.txt\n",
      "/home/somz/Projects/Hierarchies_to_scale/khepera-simulations/files/data_files/comm_congestion/perf_communication_congestion_2_12_1.txt\n",
      "/home/somz/Projects/Hierarchies_to_scale/khepera-simulations/files/data_files/comm_congestion/perf_communication_congestion_2_4_2.txt\n",
      "/home/somz/Projects/Hierarchies_to_scale/khepera-simulations/files/data_files/comm_congestion/perf_communication_congestion_2_8_2.txt\n",
      "/home/somz/Projects/Hierarchies_to_scale/khepera-simulations/files/data_files/comm_congestion/perf_communication_congestion_2_12_2.txt\n",
      "/home/somz/Projects/Hierarchies_to_scale/khepera-simulations/files/data_files/comm_congestion/perf_communication_congestion_2_4_3.txt\n",
      "/home/somz/Projects/Hierarchies_to_scale/khepera-simulations/files/data_files/comm_congestion/perf_communication_congestion_2_8_3.txt\n",
      "/home/somz/Projects/Hierarchies_to_scale/khepera-simulations/files/data_files/comm_congestion/perf_communication_congestion_2_12_3.txt\n",
      "/home/somz/Projects/Hierarchies_to_scale/khepera-simulations/files/data_files/comm_congestion/perf_communication_congestion_2_4_4.txt\n",
      "/home/somz/Projects/Hierarchies_to_scale/khepera-simulations/files/data_files/comm_congestion/perf_communication_congestion_2_8_4.txt\n",
      "/home/somz/Projects/Hierarchies_to_scale/khepera-simulations/files/data_files/comm_congestion/perf_communication_congestion_2_12_4.txt\n",
      "/home/somz/Projects/Hierarchies_to_scale/khepera-simulations/files/data_files/comm_congestion/perf_communication_congestion_2_4_5.txt\n",
      "/home/somz/Projects/Hierarchies_to_scale/khepera-simulations/files/data_files/comm_congestion/perf_communication_congestion_2_8_5.txt\n",
      "/home/somz/Projects/Hierarchies_to_scale/khepera-simulations/files/data_files/comm_congestion/perf_communication_congestion_2_12_5.txt\n",
      "/home/somz/Projects/Hierarchies_to_scale/khepera-simulations/files/data_files/comm_congestion/perf_communication_congestion_2_4_6.txt\n",
      "/home/somz/Projects/Hierarchies_to_scale/khepera-simulations/files/data_files/comm_congestion/perf_communication_congestion_2_8_6.txt\n",
      "/home/somz/Projects/Hierarchies_to_scale/khepera-simulations/files/data_files/comm_congestion/perf_communication_congestion_2_12_6.txt\n",
      "/home/somz/Projects/Hierarchies_to_scale/khepera-simulations/files/data_files/comm_congestion/perf_communication_congestion_2_4_7.txt\n",
      "/home/somz/Projects/Hierarchies_to_scale/khepera-simulations/files/data_files/comm_congestion/perf_communication_congestion_2_8_7.txt\n",
      "/home/somz/Projects/Hierarchies_to_scale/khepera-simulations/files/data_files/comm_congestion/perf_communication_congestion_2_12_7.txt\n",
      "/home/somz/Projects/Hierarchies_to_scale/khepera-simulations/files/data_files/comm_congestion/perf_communication_congestion_2_4_8.txt\n",
      "/home/somz/Projects/Hierarchies_to_scale/khepera-simulations/files/data_files/comm_congestion/perf_communication_congestion_2_8_8.txt\n",
      "/home/somz/Projects/Hierarchies_to_scale/khepera-simulations/files/data_files/comm_congestion/perf_communication_congestion_2_12_8.txt\n",
      "/home/somz/Projects/Hierarchies_to_scale/khepera-simulations/files/data_files/comm_congestion/perf_communication_congestion_2_4_9.txt\n",
      "/home/somz/Projects/Hierarchies_to_scale/khepera-simulations/files/data_files/comm_congestion/perf_communication_congestion_2_8_9.txt\n",
      "/home/somz/Projects/Hierarchies_to_scale/khepera-simulations/files/data_files/comm_congestion/perf_communication_congestion_2_12_9.txt\n",
      "/home/somz/Projects/Hierarchies_to_scale/khepera-simulations/files/data_files/comm_congestion/perf_communication_congestion_2_4_10.txt\n",
      "/home/somz/Projects/Hierarchies_to_scale/khepera-simulations/files/data_files/comm_congestion/perf_communication_congestion_2_8_10.txt\n",
      "/home/somz/Projects/Hierarchies_to_scale/khepera-simulations/files/data_files/comm_congestion/perf_communication_congestion_2_12_10.txt\n",
      "/home/somz/Projects/Hierarchies_to_scale/khepera-simulations/files/data_files/comm_congestion/perf_communication_congestion_2_4_11.txt\n",
      "/home/somz/Projects/Hierarchies_to_scale/khepera-simulations/files/data_files/comm_congestion/perf_communication_congestion_2_8_11.txt\n",
      "/home/somz/Projects/Hierarchies_to_scale/khepera-simulations/files/data_files/comm_congestion/perf_communication_congestion_2_12_11.txt\n",
      "/home/somz/Projects/Hierarchies_to_scale/khepera-simulations/files/data_files/comm_congestion/perf_communication_congestion_2_4_12.txt\n",
      "/home/somz/Projects/Hierarchies_to_scale/khepera-simulations/files/data_files/comm_congestion/perf_communication_congestion_2_8_12.txt\n",
      "/home/somz/Projects/Hierarchies_to_scale/khepera-simulations/files/data_files/comm_congestion/perf_communication_congestion_2_12_12.txt\n",
      "/home/somz/Projects/Hierarchies_to_scale/khepera-simulations/files/data_files/comm_congestion/perf_communication_congestion_2_4_13.txt\n",
      "/home/somz/Projects/Hierarchies_to_scale/khepera-simulations/files/data_files/comm_congestion/perf_communication_congestion_2_8_13.txt\n",
      "/home/somz/Projects/Hierarchies_to_scale/khepera-simulations/files/data_files/comm_congestion/perf_communication_congestion_2_12_13.txt\n",
      "/home/somz/Projects/Hierarchies_to_scale/khepera-simulations/files/data_files/comm_congestion/perf_communication_congestion_2_4_14.txt\n",
      "/home/somz/Projects/Hierarchies_to_scale/khepera-simulations/files/data_files/comm_congestion/perf_communication_congestion_2_8_14.txt\n",
      "/home/somz/Projects/Hierarchies_to_scale/khepera-simulations/files/data_files/comm_congestion/perf_communication_congestion_2_12_14.txt\n",
      "/home/somz/Projects/Hierarchies_to_scale/khepera-simulations/files/data_files/comm_congestion/perf_communication_congestion_2_4_15.txt\n",
      "/home/somz/Projects/Hierarchies_to_scale/khepera-simulations/files/data_files/comm_congestion/perf_communication_congestion_2_8_15.txt\n",
      "/home/somz/Projects/Hierarchies_to_scale/khepera-simulations/files/data_files/comm_congestion/perf_communication_congestion_2_12_15.txt\n",
      "/home/somz/Projects/Hierarchies_to_scale/khepera-simulations/files/data_files/comm_congestion/perf_communication_congestion_2_4_16.txt\n",
      "/home/somz/Projects/Hierarchies_to_scale/khepera-simulations/files/data_files/comm_congestion/perf_communication_congestion_2_8_16.txt\n",
      "/home/somz/Projects/Hierarchies_to_scale/khepera-simulations/files/data_files/comm_congestion/perf_communication_congestion_2_12_16.txt\n",
      "/home/somz/Projects/Hierarchies_to_scale/khepera-simulations/files/data_files/comm_congestion/perf_communication_congestion_2_4_17.txt\n",
      "/home/somz/Projects/Hierarchies_to_scale/khepera-simulations/files/data_files/comm_congestion/perf_communication_congestion_2_8_17.txt\n",
      "/home/somz/Projects/Hierarchies_to_scale/khepera-simulations/files/data_files/comm_congestion/perf_communication_congestion_2_12_17.txt\n",
      "/home/somz/Projects/Hierarchies_to_scale/khepera-simulations/files/data_files/comm_congestion/perf_communication_congestion_2_4_18.txt\n",
      "/home/somz/Projects/Hierarchies_to_scale/khepera-simulations/files/data_files/comm_congestion/perf_communication_congestion_2_8_18.txt\n",
      "/home/somz/Projects/Hierarchies_to_scale/khepera-simulations/files/data_files/comm_congestion/perf_communication_congestion_2_12_18.txt\n",
      "/home/somz/Projects/Hierarchies_to_scale/khepera-simulations/files/data_files/comm_congestion/perf_communication_congestion_2_4_19.txt\n",
      "/home/somz/Projects/Hierarchies_to_scale/khepera-simulations/files/data_files/comm_congestion/perf_communication_congestion_2_8_19.txt\n",
      "/home/somz/Projects/Hierarchies_to_scale/khepera-simulations/files/data_files/comm_congestion/perf_communication_congestion_2_12_19.txt\n",
      "/home/somz/Projects/Hierarchies_to_scale/khepera-simulations/files/data_files/comm_congestion/perf_communication_congestion_2_4_20.txt\n",
      "/home/somz/Projects/Hierarchies_to_scale/khepera-simulations/files/data_files/comm_congestion/perf_communication_congestion_2_8_20.txt\n",
      "/home/somz/Projects/Hierarchies_to_scale/khepera-simulations/files/data_files/comm_congestion/perf_communication_congestion_2_12_20.txt\n",
      "/home/somz/Projects/Hierarchies_to_scale/khepera-simulations/files/data_files/comm_congestion/perf_communication_congestion_2_4_21.txt\n",
      "/home/somz/Projects/Hierarchies_to_scale/khepera-simulations/files/data_files/comm_congestion/perf_communication_congestion_2_8_21.txt\n",
      "/home/somz/Projects/Hierarchies_to_scale/khepera-simulations/files/data_files/comm_congestion/perf_communication_congestion_2_12_21.txt\n",
      "/home/somz/Projects/Hierarchies_to_scale/khepera-simulations/files/data_files/comm_congestion/perf_communication_congestion_2_4_22.txt\n",
      "/home/somz/Projects/Hierarchies_to_scale/khepera-simulations/files/data_files/comm_congestion/perf_communication_congestion_2_8_22.txt\n",
      "/home/somz/Projects/Hierarchies_to_scale/khepera-simulations/files/data_files/comm_congestion/perf_communication_congestion_2_12_22.txt\n",
      "/home/somz/Projects/Hierarchies_to_scale/khepera-simulations/files/data_files/comm_congestion/perf_communication_congestion_2_4_23.txt\n",
      "/home/somz/Projects/Hierarchies_to_scale/khepera-simulations/files/data_files/comm_congestion/perf_communication_congestion_2_8_23.txt\n",
      "/home/somz/Projects/Hierarchies_to_scale/khepera-simulations/files/data_files/comm_congestion/perf_communication_congestion_2_12_23.txt\n",
      "/home/somz/Projects/Hierarchies_to_scale/khepera-simulations/files/data_files/comm_congestion/perf_communication_congestion_2_4_24.txt\n",
      "/home/somz/Projects/Hierarchies_to_scale/khepera-simulations/files/data_files/comm_congestion/perf_communication_congestion_2_8_24.txt\n",
      "/home/somz/Projects/Hierarchies_to_scale/khepera-simulations/files/data_files/comm_congestion/perf_communication_congestion_2_12_24.txt\n",
      "/home/somz/Projects/Hierarchies_to_scale/khepera-simulations/files/data_files/comm_congestion/perf_communication_congestion_2_4_25.txt\n",
      "/home/somz/Projects/Hierarchies_to_scale/khepera-simulations/files/data_files/comm_congestion/perf_communication_congestion_2_8_25.txt\n",
      "/home/somz/Projects/Hierarchies_to_scale/khepera-simulations/files/data_files/comm_congestion/perf_communication_congestion_2_12_25.txt\n",
      "/home/somz/Projects/Hierarchies_to_scale/khepera-simulations/files/data_files/comm_congestion/perf_communication_congestion_2_4_26.txt\n",
      "/home/somz/Projects/Hierarchies_to_scale/khepera-simulations/files/data_files/comm_congestion/perf_communication_congestion_2_8_26.txt\n",
      "/home/somz/Projects/Hierarchies_to_scale/khepera-simulations/files/data_files/comm_congestion/perf_communication_congestion_2_12_26.txt\n",
      "/home/somz/Projects/Hierarchies_to_scale/khepera-simulations/files/data_files/comm_congestion/perf_communication_congestion_2_4_27.txt\n",
      "/home/somz/Projects/Hierarchies_to_scale/khepera-simulations/files/data_files/comm_congestion/perf_communication_congestion_2_8_27.txt\n",
      "/home/somz/Projects/Hierarchies_to_scale/khepera-simulations/files/data_files/comm_congestion/perf_communication_congestion_2_12_27.txt\n",
      "/home/somz/Projects/Hierarchies_to_scale/khepera-simulations/files/data_files/comm_congestion/perf_communication_congestion_2_4_28.txt\n",
      "/home/somz/Projects/Hierarchies_to_scale/khepera-simulations/files/data_files/comm_congestion/perf_communication_congestion_2_8_28.txt\n",
      "/home/somz/Projects/Hierarchies_to_scale/khepera-simulations/files/data_files/comm_congestion/perf_communication_congestion_2_12_28.txt\n",
      "/home/somz/Projects/Hierarchies_to_scale/khepera-simulations/files/data_files/comm_congestion/perf_communication_congestion_2_4_29.txt\n",
      "/home/somz/Projects/Hierarchies_to_scale/khepera-simulations/files/data_files/comm_congestion/perf_communication_congestion_2_8_29.txt\n",
      "/home/somz/Projects/Hierarchies_to_scale/khepera-simulations/files/data_files/comm_congestion/perf_communication_congestion_2_12_29.txt\n",
      "/home/somz/Projects/Hierarchies_to_scale/khepera-simulations/files/data_files/comm_congestion/perf_communication_congestion_4_4_0.txt\n",
      "/home/somz/Projects/Hierarchies_to_scale/khepera-simulations/files/data_files/comm_congestion/perf_communication_congestion_4_8_0.txt\n",
      "/home/somz/Projects/Hierarchies_to_scale/khepera-simulations/files/data_files/comm_congestion/perf_communication_congestion_4_12_0.txt\n",
      "/home/somz/Projects/Hierarchies_to_scale/khepera-simulations/files/data_files/comm_congestion/perf_communication_congestion_4_4_1.txt\n",
      "/home/somz/Projects/Hierarchies_to_scale/khepera-simulations/files/data_files/comm_congestion/perf_communication_congestion_4_8_1.txt\n",
      "/home/somz/Projects/Hierarchies_to_scale/khepera-simulations/files/data_files/comm_congestion/perf_communication_congestion_4_12_1.txt\n",
      "/home/somz/Projects/Hierarchies_to_scale/khepera-simulations/files/data_files/comm_congestion/perf_communication_congestion_4_4_2.txt\n",
      "/home/somz/Projects/Hierarchies_to_scale/khepera-simulations/files/data_files/comm_congestion/perf_communication_congestion_4_8_2.txt\n",
      "/home/somz/Projects/Hierarchies_to_scale/khepera-simulations/files/data_files/comm_congestion/perf_communication_congestion_4_12_2.txt\n",
      "/home/somz/Projects/Hierarchies_to_scale/khepera-simulations/files/data_files/comm_congestion/perf_communication_congestion_4_4_3.txt\n",
      "/home/somz/Projects/Hierarchies_to_scale/khepera-simulations/files/data_files/comm_congestion/perf_communication_congestion_4_8_3.txt\n",
      "/home/somz/Projects/Hierarchies_to_scale/khepera-simulations/files/data_files/comm_congestion/perf_communication_congestion_4_12_3.txt\n",
      "/home/somz/Projects/Hierarchies_to_scale/khepera-simulations/files/data_files/comm_congestion/perf_communication_congestion_4_4_4.txt\n",
      "/home/somz/Projects/Hierarchies_to_scale/khepera-simulations/files/data_files/comm_congestion/perf_communication_congestion_4_8_4.txt\n",
      "/home/somz/Projects/Hierarchies_to_scale/khepera-simulations/files/data_files/comm_congestion/perf_communication_congestion_4_12_4.txt\n",
      "/home/somz/Projects/Hierarchies_to_scale/khepera-simulations/files/data_files/comm_congestion/perf_communication_congestion_4_4_5.txt\n",
      "/home/somz/Projects/Hierarchies_to_scale/khepera-simulations/files/data_files/comm_congestion/perf_communication_congestion_4_8_5.txt\n",
      "/home/somz/Projects/Hierarchies_to_scale/khepera-simulations/files/data_files/comm_congestion/perf_communication_congestion_4_12_5.txt\n",
      "/home/somz/Projects/Hierarchies_to_scale/khepera-simulations/files/data_files/comm_congestion/perf_communication_congestion_4_4_6.txt\n",
      "/home/somz/Projects/Hierarchies_to_scale/khepera-simulations/files/data_files/comm_congestion/perf_communication_congestion_4_8_6.txt\n",
      "/home/somz/Projects/Hierarchies_to_scale/khepera-simulations/files/data_files/comm_congestion/perf_communication_congestion_4_12_6.txt\n",
      "/home/somz/Projects/Hierarchies_to_scale/khepera-simulations/files/data_files/comm_congestion/perf_communication_congestion_4_4_7.txt\n",
      "/home/somz/Projects/Hierarchies_to_scale/khepera-simulations/files/data_files/comm_congestion/perf_communication_congestion_4_8_7.txt\n",
      "/home/somz/Projects/Hierarchies_to_scale/khepera-simulations/files/data_files/comm_congestion/perf_communication_congestion_4_12_7.txt\n",
      "/home/somz/Projects/Hierarchies_to_scale/khepera-simulations/files/data_files/comm_congestion/perf_communication_congestion_4_4_8.txt\n",
      "/home/somz/Projects/Hierarchies_to_scale/khepera-simulations/files/data_files/comm_congestion/perf_communication_congestion_4_8_8.txt\n",
      "/home/somz/Projects/Hierarchies_to_scale/khepera-simulations/files/data_files/comm_congestion/perf_communication_congestion_4_12_8.txt\n",
      "/home/somz/Projects/Hierarchies_to_scale/khepera-simulations/files/data_files/comm_congestion/perf_communication_congestion_4_4_9.txt\n",
      "/home/somz/Projects/Hierarchies_to_scale/khepera-simulations/files/data_files/comm_congestion/perf_communication_congestion_4_8_9.txt\n",
      "/home/somz/Projects/Hierarchies_to_scale/khepera-simulations/files/data_files/comm_congestion/perf_communication_congestion_4_12_9.txt\n",
      "/home/somz/Projects/Hierarchies_to_scale/khepera-simulations/files/data_files/comm_congestion/perf_communication_congestion_4_4_10.txt\n",
      "/home/somz/Projects/Hierarchies_to_scale/khepera-simulations/files/data_files/comm_congestion/perf_communication_congestion_4_8_10.txt\n",
      "/home/somz/Projects/Hierarchies_to_scale/khepera-simulations/files/data_files/comm_congestion/perf_communication_congestion_4_12_10.txt\n",
      "/home/somz/Projects/Hierarchies_to_scale/khepera-simulations/files/data_files/comm_congestion/perf_communication_congestion_4_4_11.txt\n",
      "/home/somz/Projects/Hierarchies_to_scale/khepera-simulations/files/data_files/comm_congestion/perf_communication_congestion_4_8_11.txt\n",
      "/home/somz/Projects/Hierarchies_to_scale/khepera-simulations/files/data_files/comm_congestion/perf_communication_congestion_4_12_11.txt\n",
      "/home/somz/Projects/Hierarchies_to_scale/khepera-simulations/files/data_files/comm_congestion/perf_communication_congestion_4_4_12.txt\n",
      "/home/somz/Projects/Hierarchies_to_scale/khepera-simulations/files/data_files/comm_congestion/perf_communication_congestion_4_8_12.txt\n",
      "/home/somz/Projects/Hierarchies_to_scale/khepera-simulations/files/data_files/comm_congestion/perf_communication_congestion_4_12_12.txt\n",
      "/home/somz/Projects/Hierarchies_to_scale/khepera-simulations/files/data_files/comm_congestion/perf_communication_congestion_4_4_13.txt\n",
      "/home/somz/Projects/Hierarchies_to_scale/khepera-simulations/files/data_files/comm_congestion/perf_communication_congestion_4_8_13.txt\n",
      "/home/somz/Projects/Hierarchies_to_scale/khepera-simulations/files/data_files/comm_congestion/perf_communication_congestion_4_12_13.txt\n",
      "/home/somz/Projects/Hierarchies_to_scale/khepera-simulations/files/data_files/comm_congestion/perf_communication_congestion_4_4_14.txt\n",
      "/home/somz/Projects/Hierarchies_to_scale/khepera-simulations/files/data_files/comm_congestion/perf_communication_congestion_4_8_14.txt\n",
      "/home/somz/Projects/Hierarchies_to_scale/khepera-simulations/files/data_files/comm_congestion/perf_communication_congestion_4_12_14.txt\n",
      "/home/somz/Projects/Hierarchies_to_scale/khepera-simulations/files/data_files/comm_congestion/perf_communication_congestion_4_4_15.txt\n",
      "/home/somz/Projects/Hierarchies_to_scale/khepera-simulations/files/data_files/comm_congestion/perf_communication_congestion_4_8_15.txt\n",
      "/home/somz/Projects/Hierarchies_to_scale/khepera-simulations/files/data_files/comm_congestion/perf_communication_congestion_4_12_15.txt\n",
      "/home/somz/Projects/Hierarchies_to_scale/khepera-simulations/files/data_files/comm_congestion/perf_communication_congestion_4_4_16.txt\n",
      "/home/somz/Projects/Hierarchies_to_scale/khepera-simulations/files/data_files/comm_congestion/perf_communication_congestion_4_8_16.txt\n",
      "/home/somz/Projects/Hierarchies_to_scale/khepera-simulations/files/data_files/comm_congestion/perf_communication_congestion_4_12_16.txt\n",
      "/home/somz/Projects/Hierarchies_to_scale/khepera-simulations/files/data_files/comm_congestion/perf_communication_congestion_4_4_17.txt\n",
      "/home/somz/Projects/Hierarchies_to_scale/khepera-simulations/files/data_files/comm_congestion/perf_communication_congestion_4_8_17.txt\n",
      "/home/somz/Projects/Hierarchies_to_scale/khepera-simulations/files/data_files/comm_congestion/perf_communication_congestion_4_12_17.txt\n",
      "/home/somz/Projects/Hierarchies_to_scale/khepera-simulations/files/data_files/comm_congestion/perf_communication_congestion_4_4_18.txt\n",
      "/home/somz/Projects/Hierarchies_to_scale/khepera-simulations/files/data_files/comm_congestion/perf_communication_congestion_4_8_18.txt\n",
      "/home/somz/Projects/Hierarchies_to_scale/khepera-simulations/files/data_files/comm_congestion/perf_communication_congestion_4_12_18.txt\n",
      "/home/somz/Projects/Hierarchies_to_scale/khepera-simulations/files/data_files/comm_congestion/perf_communication_congestion_4_4_19.txt\n",
      "/home/somz/Projects/Hierarchies_to_scale/khepera-simulations/files/data_files/comm_congestion/perf_communication_congestion_4_8_19.txt\n",
      "/home/somz/Projects/Hierarchies_to_scale/khepera-simulations/files/data_files/comm_congestion/perf_communication_congestion_4_12_19.txt\n",
      "/home/somz/Projects/Hierarchies_to_scale/khepera-simulations/files/data_files/comm_congestion/perf_communication_congestion_4_4_20.txt\n",
      "/home/somz/Projects/Hierarchies_to_scale/khepera-simulations/files/data_files/comm_congestion/perf_communication_congestion_4_8_20.txt\n",
      "/home/somz/Projects/Hierarchies_to_scale/khepera-simulations/files/data_files/comm_congestion/perf_communication_congestion_4_12_20.txt\n",
      "/home/somz/Projects/Hierarchies_to_scale/khepera-simulations/files/data_files/comm_congestion/perf_communication_congestion_4_4_21.txt\n",
      "/home/somz/Projects/Hierarchies_to_scale/khepera-simulations/files/data_files/comm_congestion/perf_communication_congestion_4_8_21.txt\n",
      "/home/somz/Projects/Hierarchies_to_scale/khepera-simulations/files/data_files/comm_congestion/perf_communication_congestion_4_12_21.txt\n",
      "/home/somz/Projects/Hierarchies_to_scale/khepera-simulations/files/data_files/comm_congestion/perf_communication_congestion_4_4_22.txt\n",
      "/home/somz/Projects/Hierarchies_to_scale/khepera-simulations/files/data_files/comm_congestion/perf_communication_congestion_4_8_22.txt\n",
      "/home/somz/Projects/Hierarchies_to_scale/khepera-simulations/files/data_files/comm_congestion/perf_communication_congestion_4_12_22.txt\n",
      "/home/somz/Projects/Hierarchies_to_scale/khepera-simulations/files/data_files/comm_congestion/perf_communication_congestion_4_4_23.txt\n",
      "/home/somz/Projects/Hierarchies_to_scale/khepera-simulations/files/data_files/comm_congestion/perf_communication_congestion_4_8_23.txt\n",
      "/home/somz/Projects/Hierarchies_to_scale/khepera-simulations/files/data_files/comm_congestion/perf_communication_congestion_4_12_23.txt\n",
      "/home/somz/Projects/Hierarchies_to_scale/khepera-simulations/files/data_files/comm_congestion/perf_communication_congestion_4_4_24.txt\n",
      "/home/somz/Projects/Hierarchies_to_scale/khepera-simulations/files/data_files/comm_congestion/perf_communication_congestion_4_8_24.txt\n",
      "/home/somz/Projects/Hierarchies_to_scale/khepera-simulations/files/data_files/comm_congestion/perf_communication_congestion_4_12_24.txt\n",
      "/home/somz/Projects/Hierarchies_to_scale/khepera-simulations/files/data_files/comm_congestion/perf_communication_congestion_4_4_25.txt\n",
      "/home/somz/Projects/Hierarchies_to_scale/khepera-simulations/files/data_files/comm_congestion/perf_communication_congestion_4_8_25.txt\n",
      "/home/somz/Projects/Hierarchies_to_scale/khepera-simulations/files/data_files/comm_congestion/perf_communication_congestion_4_12_25.txt\n",
      "/home/somz/Projects/Hierarchies_to_scale/khepera-simulations/files/data_files/comm_congestion/perf_communication_congestion_4_4_26.txt\n",
      "/home/somz/Projects/Hierarchies_to_scale/khepera-simulations/files/data_files/comm_congestion/perf_communication_congestion_4_8_26.txt\n",
      "/home/somz/Projects/Hierarchies_to_scale/khepera-simulations/files/data_files/comm_congestion/perf_communication_congestion_4_12_26.txt\n",
      "/home/somz/Projects/Hierarchies_to_scale/khepera-simulations/files/data_files/comm_congestion/perf_communication_congestion_4_4_27.txt\n",
      "/home/somz/Projects/Hierarchies_to_scale/khepera-simulations/files/data_files/comm_congestion/perf_communication_congestion_4_8_27.txt\n",
      "/home/somz/Projects/Hierarchies_to_scale/khepera-simulations/files/data_files/comm_congestion/perf_communication_congestion_4_12_27.txt\n",
      "/home/somz/Projects/Hierarchies_to_scale/khepera-simulations/files/data_files/comm_congestion/perf_communication_congestion_4_4_28.txt\n",
      "/home/somz/Projects/Hierarchies_to_scale/khepera-simulations/files/data_files/comm_congestion/perf_communication_congestion_4_8_28.txt\n",
      "/home/somz/Projects/Hierarchies_to_scale/khepera-simulations/files/data_files/comm_congestion/perf_communication_congestion_4_12_28.txt\n",
      "/home/somz/Projects/Hierarchies_to_scale/khepera-simulations/files/data_files/comm_congestion/perf_communication_congestion_4_4_29.txt\n",
      "/home/somz/Projects/Hierarchies_to_scale/khepera-simulations/files/data_files/comm_congestion/perf_communication_congestion_4_8_29.txt\n",
      "/home/somz/Projects/Hierarchies_to_scale/khepera-simulations/files/data_files/comm_congestion/perf_communication_congestion_4_12_29.txt\n",
      "/home/somz/Projects/Hierarchies_to_scale/khepera-simulations/files/data_files/comm_congestion/perf_communication_congestion_6_4_0.txt\n",
      "/home/somz/Projects/Hierarchies_to_scale/khepera-simulations/files/data_files/comm_congestion/perf_communication_congestion_6_8_0.txt\n",
      "/home/somz/Projects/Hierarchies_to_scale/khepera-simulations/files/data_files/comm_congestion/perf_communication_congestion_6_12_0.txt\n",
      "/home/somz/Projects/Hierarchies_to_scale/khepera-simulations/files/data_files/comm_congestion/perf_communication_congestion_6_4_1.txt\n",
      "/home/somz/Projects/Hierarchies_to_scale/khepera-simulations/files/data_files/comm_congestion/perf_communication_congestion_6_8_1.txt\n",
      "/home/somz/Projects/Hierarchies_to_scale/khepera-simulations/files/data_files/comm_congestion/perf_communication_congestion_6_12_1.txt\n",
      "/home/somz/Projects/Hierarchies_to_scale/khepera-simulations/files/data_files/comm_congestion/perf_communication_congestion_6_4_2.txt\n",
      "/home/somz/Projects/Hierarchies_to_scale/khepera-simulations/files/data_files/comm_congestion/perf_communication_congestion_6_8_2.txt\n",
      "/home/somz/Projects/Hierarchies_to_scale/khepera-simulations/files/data_files/comm_congestion/perf_communication_congestion_6_12_2.txt\n",
      "/home/somz/Projects/Hierarchies_to_scale/khepera-simulations/files/data_files/comm_congestion/perf_communication_congestion_6_4_3.txt\n",
      "/home/somz/Projects/Hierarchies_to_scale/khepera-simulations/files/data_files/comm_congestion/perf_communication_congestion_6_8_3.txt\n",
      "/home/somz/Projects/Hierarchies_to_scale/khepera-simulations/files/data_files/comm_congestion/perf_communication_congestion_6_12_3.txt\n",
      "/home/somz/Projects/Hierarchies_to_scale/khepera-simulations/files/data_files/comm_congestion/perf_communication_congestion_6_4_4.txt\n",
      "/home/somz/Projects/Hierarchies_to_scale/khepera-simulations/files/data_files/comm_congestion/perf_communication_congestion_6_8_4.txt\n",
      "/home/somz/Projects/Hierarchies_to_scale/khepera-simulations/files/data_files/comm_congestion/perf_communication_congestion_6_12_4.txt\n",
      "/home/somz/Projects/Hierarchies_to_scale/khepera-simulations/files/data_files/comm_congestion/perf_communication_congestion_6_4_5.txt\n",
      "/home/somz/Projects/Hierarchies_to_scale/khepera-simulations/files/data_files/comm_congestion/perf_communication_congestion_6_8_5.txt\n",
      "/home/somz/Projects/Hierarchies_to_scale/khepera-simulations/files/data_files/comm_congestion/perf_communication_congestion_6_12_5.txt\n",
      "/home/somz/Projects/Hierarchies_to_scale/khepera-simulations/files/data_files/comm_congestion/perf_communication_congestion_6_4_6.txt\n",
      "/home/somz/Projects/Hierarchies_to_scale/khepera-simulations/files/data_files/comm_congestion/perf_communication_congestion_6_8_6.txt\n",
      "/home/somz/Projects/Hierarchies_to_scale/khepera-simulations/files/data_files/comm_congestion/perf_communication_congestion_6_12_6.txt\n",
      "/home/somz/Projects/Hierarchies_to_scale/khepera-simulations/files/data_files/comm_congestion/perf_communication_congestion_6_4_7.txt\n",
      "/home/somz/Projects/Hierarchies_to_scale/khepera-simulations/files/data_files/comm_congestion/perf_communication_congestion_6_8_7.txt\n",
      "/home/somz/Projects/Hierarchies_to_scale/khepera-simulations/files/data_files/comm_congestion/perf_communication_congestion_6_12_7.txt\n",
      "/home/somz/Projects/Hierarchies_to_scale/khepera-simulations/files/data_files/comm_congestion/perf_communication_congestion_6_4_8.txt\n",
      "/home/somz/Projects/Hierarchies_to_scale/khepera-simulations/files/data_files/comm_congestion/perf_communication_congestion_6_8_8.txt\n",
      "/home/somz/Projects/Hierarchies_to_scale/khepera-simulations/files/data_files/comm_congestion/perf_communication_congestion_6_12_8.txt\n",
      "/home/somz/Projects/Hierarchies_to_scale/khepera-simulations/files/data_files/comm_congestion/perf_communication_congestion_6_4_9.txt\n",
      "/home/somz/Projects/Hierarchies_to_scale/khepera-simulations/files/data_files/comm_congestion/perf_communication_congestion_6_8_9.txt\n",
      "/home/somz/Projects/Hierarchies_to_scale/khepera-simulations/files/data_files/comm_congestion/perf_communication_congestion_6_12_9.txt\n",
      "/home/somz/Projects/Hierarchies_to_scale/khepera-simulations/files/data_files/comm_congestion/perf_communication_congestion_6_4_10.txt\n",
      "/home/somz/Projects/Hierarchies_to_scale/khepera-simulations/files/data_files/comm_congestion/perf_communication_congestion_6_8_10.txt\n",
      "/home/somz/Projects/Hierarchies_to_scale/khepera-simulations/files/data_files/comm_congestion/perf_communication_congestion_6_12_10.txt\n",
      "/home/somz/Projects/Hierarchies_to_scale/khepera-simulations/files/data_files/comm_congestion/perf_communication_congestion_6_4_11.txt\n",
      "/home/somz/Projects/Hierarchies_to_scale/khepera-simulations/files/data_files/comm_congestion/perf_communication_congestion_6_8_11.txt\n",
      "/home/somz/Projects/Hierarchies_to_scale/khepera-simulations/files/data_files/comm_congestion/perf_communication_congestion_6_12_11.txt\n",
      "/home/somz/Projects/Hierarchies_to_scale/khepera-simulations/files/data_files/comm_congestion/perf_communication_congestion_6_4_12.txt\n",
      "/home/somz/Projects/Hierarchies_to_scale/khepera-simulations/files/data_files/comm_congestion/perf_communication_congestion_6_8_12.txt\n",
      "/home/somz/Projects/Hierarchies_to_scale/khepera-simulations/files/data_files/comm_congestion/perf_communication_congestion_6_12_12.txt\n",
      "/home/somz/Projects/Hierarchies_to_scale/khepera-simulations/files/data_files/comm_congestion/perf_communication_congestion_6_4_13.txt\n",
      "/home/somz/Projects/Hierarchies_to_scale/khepera-simulations/files/data_files/comm_congestion/perf_communication_congestion_6_8_13.txt\n",
      "/home/somz/Projects/Hierarchies_to_scale/khepera-simulations/files/data_files/comm_congestion/perf_communication_congestion_6_12_13.txt\n",
      "/home/somz/Projects/Hierarchies_to_scale/khepera-simulations/files/data_files/comm_congestion/perf_communication_congestion_6_4_14.txt\n",
      "/home/somz/Projects/Hierarchies_to_scale/khepera-simulations/files/data_files/comm_congestion/perf_communication_congestion_6_8_14.txt\n",
      "/home/somz/Projects/Hierarchies_to_scale/khepera-simulations/files/data_files/comm_congestion/perf_communication_congestion_6_12_14.txt\n",
      "/home/somz/Projects/Hierarchies_to_scale/khepera-simulations/files/data_files/comm_congestion/perf_communication_congestion_6_4_15.txt\n",
      "/home/somz/Projects/Hierarchies_to_scale/khepera-simulations/files/data_files/comm_congestion/perf_communication_congestion_6_8_15.txt\n",
      "/home/somz/Projects/Hierarchies_to_scale/khepera-simulations/files/data_files/comm_congestion/perf_communication_congestion_6_12_15.txt\n",
      "/home/somz/Projects/Hierarchies_to_scale/khepera-simulations/files/data_files/comm_congestion/perf_communication_congestion_6_4_16.txt\n",
      "/home/somz/Projects/Hierarchies_to_scale/khepera-simulations/files/data_files/comm_congestion/perf_communication_congestion_6_8_16.txt\n",
      "/home/somz/Projects/Hierarchies_to_scale/khepera-simulations/files/data_files/comm_congestion/perf_communication_congestion_6_12_16.txt\n",
      "/home/somz/Projects/Hierarchies_to_scale/khepera-simulations/files/data_files/comm_congestion/perf_communication_congestion_6_4_17.txt\n",
      "/home/somz/Projects/Hierarchies_to_scale/khepera-simulations/files/data_files/comm_congestion/perf_communication_congestion_6_8_17.txt\n",
      "/home/somz/Projects/Hierarchies_to_scale/khepera-simulations/files/data_files/comm_congestion/perf_communication_congestion_6_12_17.txt\n",
      "/home/somz/Projects/Hierarchies_to_scale/khepera-simulations/files/data_files/comm_congestion/perf_communication_congestion_6_4_18.txt\n",
      "/home/somz/Projects/Hierarchies_to_scale/khepera-simulations/files/data_files/comm_congestion/perf_communication_congestion_6_8_18.txt\n",
      "/home/somz/Projects/Hierarchies_to_scale/khepera-simulations/files/data_files/comm_congestion/perf_communication_congestion_6_12_18.txt\n",
      "/home/somz/Projects/Hierarchies_to_scale/khepera-simulations/files/data_files/comm_congestion/perf_communication_congestion_6_4_19.txt\n",
      "/home/somz/Projects/Hierarchies_to_scale/khepera-simulations/files/data_files/comm_congestion/perf_communication_congestion_6_8_19.txt\n",
      "/home/somz/Projects/Hierarchies_to_scale/khepera-simulations/files/data_files/comm_congestion/perf_communication_congestion_6_12_19.txt\n",
      "/home/somz/Projects/Hierarchies_to_scale/khepera-simulations/files/data_files/comm_congestion/perf_communication_congestion_6_4_20.txt\n",
      "/home/somz/Projects/Hierarchies_to_scale/khepera-simulations/files/data_files/comm_congestion/perf_communication_congestion_6_8_20.txt\n",
      "/home/somz/Projects/Hierarchies_to_scale/khepera-simulations/files/data_files/comm_congestion/perf_communication_congestion_6_12_20.txt\n",
      "/home/somz/Projects/Hierarchies_to_scale/khepera-simulations/files/data_files/comm_congestion/perf_communication_congestion_6_4_21.txt\n",
      "/home/somz/Projects/Hierarchies_to_scale/khepera-simulations/files/data_files/comm_congestion/perf_communication_congestion_6_8_21.txt\n",
      "/home/somz/Projects/Hierarchies_to_scale/khepera-simulations/files/data_files/comm_congestion/perf_communication_congestion_6_12_21.txt\n",
      "/home/somz/Projects/Hierarchies_to_scale/khepera-simulations/files/data_files/comm_congestion/perf_communication_congestion_6_4_22.txt\n",
      "/home/somz/Projects/Hierarchies_to_scale/khepera-simulations/files/data_files/comm_congestion/perf_communication_congestion_6_8_22.txt\n",
      "/home/somz/Projects/Hierarchies_to_scale/khepera-simulations/files/data_files/comm_congestion/perf_communication_congestion_6_12_22.txt\n",
      "/home/somz/Projects/Hierarchies_to_scale/khepera-simulations/files/data_files/comm_congestion/perf_communication_congestion_6_4_23.txt\n",
      "/home/somz/Projects/Hierarchies_to_scale/khepera-simulations/files/data_files/comm_congestion/perf_communication_congestion_6_8_23.txt\n",
      "/home/somz/Projects/Hierarchies_to_scale/khepera-simulations/files/data_files/comm_congestion/perf_communication_congestion_6_12_23.txt\n",
      "/home/somz/Projects/Hierarchies_to_scale/khepera-simulations/files/data_files/comm_congestion/perf_communication_congestion_6_4_24.txt\n",
      "/home/somz/Projects/Hierarchies_to_scale/khepera-simulations/files/data_files/comm_congestion/perf_communication_congestion_6_8_24.txt\n",
      "/home/somz/Projects/Hierarchies_to_scale/khepera-simulations/files/data_files/comm_congestion/perf_communication_congestion_6_12_24.txt\n",
      "/home/somz/Projects/Hierarchies_to_scale/khepera-simulations/files/data_files/comm_congestion/perf_communication_congestion_6_4_25.txt\n",
      "/home/somz/Projects/Hierarchies_to_scale/khepera-simulations/files/data_files/comm_congestion/perf_communication_congestion_6_8_25.txt\n",
      "/home/somz/Projects/Hierarchies_to_scale/khepera-simulations/files/data_files/comm_congestion/perf_communication_congestion_6_12_25.txt\n",
      "/home/somz/Projects/Hierarchies_to_scale/khepera-simulations/files/data_files/comm_congestion/perf_communication_congestion_6_4_26.txt\n",
      "/home/somz/Projects/Hierarchies_to_scale/khepera-simulations/files/data_files/comm_congestion/perf_communication_congestion_6_8_26.txt\n",
      "/home/somz/Projects/Hierarchies_to_scale/khepera-simulations/files/data_files/comm_congestion/perf_communication_congestion_6_12_26.txt\n",
      "/home/somz/Projects/Hierarchies_to_scale/khepera-simulations/files/data_files/comm_congestion/perf_communication_congestion_6_4_27.txt\n",
      "/home/somz/Projects/Hierarchies_to_scale/khepera-simulations/files/data_files/comm_congestion/perf_communication_congestion_6_8_27.txt\n",
      "/home/somz/Projects/Hierarchies_to_scale/khepera-simulations/files/data_files/comm_congestion/perf_communication_congestion_6_12_27.txt\n",
      "/home/somz/Projects/Hierarchies_to_scale/khepera-simulations/files/data_files/comm_congestion/perf_communication_congestion_6_4_28.txt\n",
      "/home/somz/Projects/Hierarchies_to_scale/khepera-simulations/files/data_files/comm_congestion/perf_communication_congestion_6_8_28.txt\n",
      "/home/somz/Projects/Hierarchies_to_scale/khepera-simulations/files/data_files/comm_congestion/perf_communication_congestion_6_12_28.txt\n",
      "/home/somz/Projects/Hierarchies_to_scale/khepera-simulations/files/data_files/comm_congestion/perf_communication_congestion_6_4_29.txt\n",
      "/home/somz/Projects/Hierarchies_to_scale/khepera-simulations/files/data_files/comm_congestion/perf_communication_congestion_6_8_29.txt\n",
      "/home/somz/Projects/Hierarchies_to_scale/khepera-simulations/files/data_files/comm_congestion/perf_communication_congestion_6_12_29.txt\n",
      "/home/somz/Projects/Hierarchies_to_scale/khepera-simulations/files/data_files/comm_congestion/perf_communication_congestion_10_4_0.txt\n",
      "/home/somz/Projects/Hierarchies_to_scale/khepera-simulations/files/data_files/comm_congestion/perf_communication_congestion_10_8_0.txt\n",
      "/home/somz/Projects/Hierarchies_to_scale/khepera-simulations/files/data_files/comm_congestion/perf_communication_congestion_10_12_0.txt\n",
      "/home/somz/Projects/Hierarchies_to_scale/khepera-simulations/files/data_files/comm_congestion/perf_communication_congestion_10_4_1.txt\n",
      "/home/somz/Projects/Hierarchies_to_scale/khepera-simulations/files/data_files/comm_congestion/perf_communication_congestion_10_8_1.txt\n",
      "/home/somz/Projects/Hierarchies_to_scale/khepera-simulations/files/data_files/comm_congestion/perf_communication_congestion_10_12_1.txt\n",
      "/home/somz/Projects/Hierarchies_to_scale/khepera-simulations/files/data_files/comm_congestion/perf_communication_congestion_10_4_2.txt\n",
      "/home/somz/Projects/Hierarchies_to_scale/khepera-simulations/files/data_files/comm_congestion/perf_communication_congestion_10_8_2.txt\n",
      "/home/somz/Projects/Hierarchies_to_scale/khepera-simulations/files/data_files/comm_congestion/perf_communication_congestion_10_12_2.txt\n",
      "/home/somz/Projects/Hierarchies_to_scale/khepera-simulations/files/data_files/comm_congestion/perf_communication_congestion_10_4_3.txt\n",
      "/home/somz/Projects/Hierarchies_to_scale/khepera-simulations/files/data_files/comm_congestion/perf_communication_congestion_10_8_3.txt\n",
      "/home/somz/Projects/Hierarchies_to_scale/khepera-simulations/files/data_files/comm_congestion/perf_communication_congestion_10_12_3.txt\n",
      "/home/somz/Projects/Hierarchies_to_scale/khepera-simulations/files/data_files/comm_congestion/perf_communication_congestion_10_4_4.txt\n",
      "/home/somz/Projects/Hierarchies_to_scale/khepera-simulations/files/data_files/comm_congestion/perf_communication_congestion_10_8_4.txt\n",
      "/home/somz/Projects/Hierarchies_to_scale/khepera-simulations/files/data_files/comm_congestion/perf_communication_congestion_10_12_4.txt\n",
      "/home/somz/Projects/Hierarchies_to_scale/khepera-simulations/files/data_files/comm_congestion/perf_communication_congestion_10_4_5.txt\n",
      "/home/somz/Projects/Hierarchies_to_scale/khepera-simulations/files/data_files/comm_congestion/perf_communication_congestion_10_8_5.txt\n",
      "/home/somz/Projects/Hierarchies_to_scale/khepera-simulations/files/data_files/comm_congestion/perf_communication_congestion_10_12_5.txt\n",
      "/home/somz/Projects/Hierarchies_to_scale/khepera-simulations/files/data_files/comm_congestion/perf_communication_congestion_10_4_6.txt\n",
      "/home/somz/Projects/Hierarchies_to_scale/khepera-simulations/files/data_files/comm_congestion/perf_communication_congestion_10_8_6.txt\n",
      "/home/somz/Projects/Hierarchies_to_scale/khepera-simulations/files/data_files/comm_congestion/perf_communication_congestion_10_12_6.txt\n",
      "/home/somz/Projects/Hierarchies_to_scale/khepera-simulations/files/data_files/comm_congestion/perf_communication_congestion_10_4_7.txt\n",
      "/home/somz/Projects/Hierarchies_to_scale/khepera-simulations/files/data_files/comm_congestion/perf_communication_congestion_10_8_7.txt\n",
      "/home/somz/Projects/Hierarchies_to_scale/khepera-simulations/files/data_files/comm_congestion/perf_communication_congestion_10_12_7.txt\n",
      "/home/somz/Projects/Hierarchies_to_scale/khepera-simulations/files/data_files/comm_congestion/perf_communication_congestion_10_4_8.txt\n",
      "/home/somz/Projects/Hierarchies_to_scale/khepera-simulations/files/data_files/comm_congestion/perf_communication_congestion_10_8_8.txt\n",
      "/home/somz/Projects/Hierarchies_to_scale/khepera-simulations/files/data_files/comm_congestion/perf_communication_congestion_10_12_8.txt\n",
      "/home/somz/Projects/Hierarchies_to_scale/khepera-simulations/files/data_files/comm_congestion/perf_communication_congestion_10_4_9.txt\n",
      "/home/somz/Projects/Hierarchies_to_scale/khepera-simulations/files/data_files/comm_congestion/perf_communication_congestion_10_8_9.txt\n",
      "/home/somz/Projects/Hierarchies_to_scale/khepera-simulations/files/data_files/comm_congestion/perf_communication_congestion_10_12_9.txt\n",
      "/home/somz/Projects/Hierarchies_to_scale/khepera-simulations/files/data_files/comm_congestion/perf_communication_congestion_10_4_10.txt\n",
      "/home/somz/Projects/Hierarchies_to_scale/khepera-simulations/files/data_files/comm_congestion/perf_communication_congestion_10_8_10.txt\n",
      "/home/somz/Projects/Hierarchies_to_scale/khepera-simulations/files/data_files/comm_congestion/perf_communication_congestion_10_12_10.txt\n",
      "/home/somz/Projects/Hierarchies_to_scale/khepera-simulations/files/data_files/comm_congestion/perf_communication_congestion_10_4_11.txt\n",
      "/home/somz/Projects/Hierarchies_to_scale/khepera-simulations/files/data_files/comm_congestion/perf_communication_congestion_10_8_11.txt\n",
      "/home/somz/Projects/Hierarchies_to_scale/khepera-simulations/files/data_files/comm_congestion/perf_communication_congestion_10_12_11.txt\n",
      "/home/somz/Projects/Hierarchies_to_scale/khepera-simulations/files/data_files/comm_congestion/perf_communication_congestion_10_4_12.txt\n",
      "/home/somz/Projects/Hierarchies_to_scale/khepera-simulations/files/data_files/comm_congestion/perf_communication_congestion_10_8_12.txt\n",
      "/home/somz/Projects/Hierarchies_to_scale/khepera-simulations/files/data_files/comm_congestion/perf_communication_congestion_10_12_12.txt\n",
      "/home/somz/Projects/Hierarchies_to_scale/khepera-simulations/files/data_files/comm_congestion/perf_communication_congestion_10_4_13.txt\n",
      "/home/somz/Projects/Hierarchies_to_scale/khepera-simulations/files/data_files/comm_congestion/perf_communication_congestion_10_8_13.txt\n",
      "/home/somz/Projects/Hierarchies_to_scale/khepera-simulations/files/data_files/comm_congestion/perf_communication_congestion_10_12_13.txt\n",
      "/home/somz/Projects/Hierarchies_to_scale/khepera-simulations/files/data_files/comm_congestion/perf_communication_congestion_10_4_14.txt\n",
      "/home/somz/Projects/Hierarchies_to_scale/khepera-simulations/files/data_files/comm_congestion/perf_communication_congestion_10_8_14.txt\n",
      "/home/somz/Projects/Hierarchies_to_scale/khepera-simulations/files/data_files/comm_congestion/perf_communication_congestion_10_12_14.txt\n",
      "/home/somz/Projects/Hierarchies_to_scale/khepera-simulations/files/data_files/comm_congestion/perf_communication_congestion_10_4_15.txt\n",
      "/home/somz/Projects/Hierarchies_to_scale/khepera-simulations/files/data_files/comm_congestion/perf_communication_congestion_10_8_15.txt\n",
      "/home/somz/Projects/Hierarchies_to_scale/khepera-simulations/files/data_files/comm_congestion/perf_communication_congestion_10_12_15.txt\n",
      "/home/somz/Projects/Hierarchies_to_scale/khepera-simulations/files/data_files/comm_congestion/perf_communication_congestion_10_4_16.txt\n",
      "/home/somz/Projects/Hierarchies_to_scale/khepera-simulations/files/data_files/comm_congestion/perf_communication_congestion_10_8_16.txt\n",
      "/home/somz/Projects/Hierarchies_to_scale/khepera-simulations/files/data_files/comm_congestion/perf_communication_congestion_10_12_16.txt\n",
      "/home/somz/Projects/Hierarchies_to_scale/khepera-simulations/files/data_files/comm_congestion/perf_communication_congestion_10_4_17.txt\n",
      "/home/somz/Projects/Hierarchies_to_scale/khepera-simulations/files/data_files/comm_congestion/perf_communication_congestion_10_8_17.txt\n",
      "/home/somz/Projects/Hierarchies_to_scale/khepera-simulations/files/data_files/comm_congestion/perf_communication_congestion_10_12_17.txt\n",
      "/home/somz/Projects/Hierarchies_to_scale/khepera-simulations/files/data_files/comm_congestion/perf_communication_congestion_10_4_18.txt\n",
      "/home/somz/Projects/Hierarchies_to_scale/khepera-simulations/files/data_files/comm_congestion/perf_communication_congestion_10_8_18.txt\n",
      "/home/somz/Projects/Hierarchies_to_scale/khepera-simulations/files/data_files/comm_congestion/perf_communication_congestion_10_12_18.txt\n",
      "/home/somz/Projects/Hierarchies_to_scale/khepera-simulations/files/data_files/comm_congestion/perf_communication_congestion_10_4_19.txt\n",
      "/home/somz/Projects/Hierarchies_to_scale/khepera-simulations/files/data_files/comm_congestion/perf_communication_congestion_10_8_19.txt\n",
      "/home/somz/Projects/Hierarchies_to_scale/khepera-simulations/files/data_files/comm_congestion/perf_communication_congestion_10_12_19.txt\n",
      "/home/somz/Projects/Hierarchies_to_scale/khepera-simulations/files/data_files/comm_congestion/perf_communication_congestion_10_4_20.txt\n",
      "/home/somz/Projects/Hierarchies_to_scale/khepera-simulations/files/data_files/comm_congestion/perf_communication_congestion_10_8_20.txt\n",
      "/home/somz/Projects/Hierarchies_to_scale/khepera-simulations/files/data_files/comm_congestion/perf_communication_congestion_10_12_20.txt\n",
      "/home/somz/Projects/Hierarchies_to_scale/khepera-simulations/files/data_files/comm_congestion/perf_communication_congestion_10_4_21.txt\n",
      "/home/somz/Projects/Hierarchies_to_scale/khepera-simulations/files/data_files/comm_congestion/perf_communication_congestion_10_8_21.txt\n",
      "/home/somz/Projects/Hierarchies_to_scale/khepera-simulations/files/data_files/comm_congestion/perf_communication_congestion_10_12_21.txt\n",
      "/home/somz/Projects/Hierarchies_to_scale/khepera-simulations/files/data_files/comm_congestion/perf_communication_congestion_10_4_22.txt\n",
      "/home/somz/Projects/Hierarchies_to_scale/khepera-simulations/files/data_files/comm_congestion/perf_communication_congestion_10_8_22.txt\n",
      "/home/somz/Projects/Hierarchies_to_scale/khepera-simulations/files/data_files/comm_congestion/perf_communication_congestion_10_12_22.txt\n",
      "/home/somz/Projects/Hierarchies_to_scale/khepera-simulations/files/data_files/comm_congestion/perf_communication_congestion_10_4_23.txt\n",
      "/home/somz/Projects/Hierarchies_to_scale/khepera-simulations/files/data_files/comm_congestion/perf_communication_congestion_10_8_23.txt\n",
      "/home/somz/Projects/Hierarchies_to_scale/khepera-simulations/files/data_files/comm_congestion/perf_communication_congestion_10_12_23.txt\n",
      "/home/somz/Projects/Hierarchies_to_scale/khepera-simulations/files/data_files/comm_congestion/perf_communication_congestion_10_4_24.txt\n",
      "/home/somz/Projects/Hierarchies_to_scale/khepera-simulations/files/data_files/comm_congestion/perf_communication_congestion_10_8_24.txt\n",
      "/home/somz/Projects/Hierarchies_to_scale/khepera-simulations/files/data_files/comm_congestion/perf_communication_congestion_10_12_24.txt\n",
      "/home/somz/Projects/Hierarchies_to_scale/khepera-simulations/files/data_files/comm_congestion/perf_communication_congestion_10_4_25.txt\n",
      "/home/somz/Projects/Hierarchies_to_scale/khepera-simulations/files/data_files/comm_congestion/perf_communication_congestion_10_8_25.txt\n",
      "/home/somz/Projects/Hierarchies_to_scale/khepera-simulations/files/data_files/comm_congestion/perf_communication_congestion_10_12_25.txt\n",
      "/home/somz/Projects/Hierarchies_to_scale/khepera-simulations/files/data_files/comm_congestion/perf_communication_congestion_10_4_26.txt\n",
      "/home/somz/Projects/Hierarchies_to_scale/khepera-simulations/files/data_files/comm_congestion/perf_communication_congestion_10_8_26.txt\n",
      "/home/somz/Projects/Hierarchies_to_scale/khepera-simulations/files/data_files/comm_congestion/perf_communication_congestion_10_12_26.txt\n",
      "/home/somz/Projects/Hierarchies_to_scale/khepera-simulations/files/data_files/comm_congestion/perf_communication_congestion_10_4_27.txt\n",
      "/home/somz/Projects/Hierarchies_to_scale/khepera-simulations/files/data_files/comm_congestion/perf_communication_congestion_10_8_27.txt\n",
      "/home/somz/Projects/Hierarchies_to_scale/khepera-simulations/files/data_files/comm_congestion/perf_communication_congestion_10_12_27.txt\n",
      "/home/somz/Projects/Hierarchies_to_scale/khepera-simulations/files/data_files/comm_congestion/perf_communication_congestion_10_4_28.txt\n",
      "/home/somz/Projects/Hierarchies_to_scale/khepera-simulations/files/data_files/comm_congestion/perf_communication_congestion_10_8_28.txt\n",
      "/home/somz/Projects/Hierarchies_to_scale/khepera-simulations/files/data_files/comm_congestion/perf_communication_congestion_10_12_28.txt\n",
      "/home/somz/Projects/Hierarchies_to_scale/khepera-simulations/files/data_files/comm_congestion/perf_communication_congestion_10_4_29.txt\n",
      "/home/somz/Projects/Hierarchies_to_scale/khepera-simulations/files/data_files/comm_congestion/perf_communication_congestion_10_8_29.txt\n",
      "/home/somz/Projects/Hierarchies_to_scale/khepera-simulations/files/data_files/comm_congestion/perf_communication_congestion_10_12_29.txt\n",
      "/home/somz/Projects/Hierarchies_to_scale/khepera-simulations/files/data_files/comm_congestion/perf_communication_congestion_20_4_0.txt\n",
      "/home/somz/Projects/Hierarchies_to_scale/khepera-simulations/files/data_files/comm_congestion/perf_communication_congestion_20_8_0.txt\n",
      "/home/somz/Projects/Hierarchies_to_scale/khepera-simulations/files/data_files/comm_congestion/perf_communication_congestion_20_12_0.txt\n",
      "/home/somz/Projects/Hierarchies_to_scale/khepera-simulations/files/data_files/comm_congestion/perf_communication_congestion_20_4_1.txt\n",
      "/home/somz/Projects/Hierarchies_to_scale/khepera-simulations/files/data_files/comm_congestion/perf_communication_congestion_20_8_1.txt\n",
      "/home/somz/Projects/Hierarchies_to_scale/khepera-simulations/files/data_files/comm_congestion/perf_communication_congestion_20_12_1.txt\n",
      "/home/somz/Projects/Hierarchies_to_scale/khepera-simulations/files/data_files/comm_congestion/perf_communication_congestion_20_4_2.txt\n",
      "/home/somz/Projects/Hierarchies_to_scale/khepera-simulations/files/data_files/comm_congestion/perf_communication_congestion_20_8_2.txt\n",
      "/home/somz/Projects/Hierarchies_to_scale/khepera-simulations/files/data_files/comm_congestion/perf_communication_congestion_20_12_2.txt\n",
      "/home/somz/Projects/Hierarchies_to_scale/khepera-simulations/files/data_files/comm_congestion/perf_communication_congestion_20_4_3.txt\n",
      "/home/somz/Projects/Hierarchies_to_scale/khepera-simulations/files/data_files/comm_congestion/perf_communication_congestion_20_8_3.txt\n",
      "/home/somz/Projects/Hierarchies_to_scale/khepera-simulations/files/data_files/comm_congestion/perf_communication_congestion_20_12_3.txt\n",
      "/home/somz/Projects/Hierarchies_to_scale/khepera-simulations/files/data_files/comm_congestion/perf_communication_congestion_20_4_4.txt\n",
      "/home/somz/Projects/Hierarchies_to_scale/khepera-simulations/files/data_files/comm_congestion/perf_communication_congestion_20_8_4.txt\n",
      "/home/somz/Projects/Hierarchies_to_scale/khepera-simulations/files/data_files/comm_congestion/perf_communication_congestion_20_12_4.txt\n",
      "/home/somz/Projects/Hierarchies_to_scale/khepera-simulations/files/data_files/comm_congestion/perf_communication_congestion_20_4_5.txt\n",
      "/home/somz/Projects/Hierarchies_to_scale/khepera-simulations/files/data_files/comm_congestion/perf_communication_congestion_20_8_5.txt\n",
      "/home/somz/Projects/Hierarchies_to_scale/khepera-simulations/files/data_files/comm_congestion/perf_communication_congestion_20_12_5.txt\n",
      "/home/somz/Projects/Hierarchies_to_scale/khepera-simulations/files/data_files/comm_congestion/perf_communication_congestion_20_4_6.txt\n",
      "/home/somz/Projects/Hierarchies_to_scale/khepera-simulations/files/data_files/comm_congestion/perf_communication_congestion_20_8_6.txt\n",
      "/home/somz/Projects/Hierarchies_to_scale/khepera-simulations/files/data_files/comm_congestion/perf_communication_congestion_20_12_6.txt\n",
      "/home/somz/Projects/Hierarchies_to_scale/khepera-simulations/files/data_files/comm_congestion/perf_communication_congestion_20_4_7.txt\n",
      "/home/somz/Projects/Hierarchies_to_scale/khepera-simulations/files/data_files/comm_congestion/perf_communication_congestion_20_8_7.txt\n",
      "/home/somz/Projects/Hierarchies_to_scale/khepera-simulations/files/data_files/comm_congestion/perf_communication_congestion_20_12_7.txt\n",
      "/home/somz/Projects/Hierarchies_to_scale/khepera-simulations/files/data_files/comm_congestion/perf_communication_congestion_20_4_8.txt\n",
      "/home/somz/Projects/Hierarchies_to_scale/khepera-simulations/files/data_files/comm_congestion/perf_communication_congestion_20_8_8.txt\n",
      "/home/somz/Projects/Hierarchies_to_scale/khepera-simulations/files/data_files/comm_congestion/perf_communication_congestion_20_12_8.txt\n",
      "/home/somz/Projects/Hierarchies_to_scale/khepera-simulations/files/data_files/comm_congestion/perf_communication_congestion_20_4_9.txt\n",
      "/home/somz/Projects/Hierarchies_to_scale/khepera-simulations/files/data_files/comm_congestion/perf_communication_congestion_20_8_9.txt\n",
      "/home/somz/Projects/Hierarchies_to_scale/khepera-simulations/files/data_files/comm_congestion/perf_communication_congestion_20_12_9.txt\n",
      "/home/somz/Projects/Hierarchies_to_scale/khepera-simulations/files/data_files/comm_congestion/perf_communication_congestion_20_4_10.txt\n",
      "/home/somz/Projects/Hierarchies_to_scale/khepera-simulations/files/data_files/comm_congestion/perf_communication_congestion_20_8_10.txt\n",
      "/home/somz/Projects/Hierarchies_to_scale/khepera-simulations/files/data_files/comm_congestion/perf_communication_congestion_20_12_10.txt\n",
      "/home/somz/Projects/Hierarchies_to_scale/khepera-simulations/files/data_files/comm_congestion/perf_communication_congestion_20_4_11.txt\n",
      "/home/somz/Projects/Hierarchies_to_scale/khepera-simulations/files/data_files/comm_congestion/perf_communication_congestion_20_8_11.txt\n",
      "/home/somz/Projects/Hierarchies_to_scale/khepera-simulations/files/data_files/comm_congestion/perf_communication_congestion_20_12_11.txt\n",
      "/home/somz/Projects/Hierarchies_to_scale/khepera-simulations/files/data_files/comm_congestion/perf_communication_congestion_20_4_12.txt\n",
      "/home/somz/Projects/Hierarchies_to_scale/khepera-simulations/files/data_files/comm_congestion/perf_communication_congestion_20_8_12.txt\n",
      "/home/somz/Projects/Hierarchies_to_scale/khepera-simulations/files/data_files/comm_congestion/perf_communication_congestion_20_12_12.txt\n",
      "/home/somz/Projects/Hierarchies_to_scale/khepera-simulations/files/data_files/comm_congestion/perf_communication_congestion_20_4_13.txt\n",
      "/home/somz/Projects/Hierarchies_to_scale/khepera-simulations/files/data_files/comm_congestion/perf_communication_congestion_20_8_13.txt\n",
      "/home/somz/Projects/Hierarchies_to_scale/khepera-simulations/files/data_files/comm_congestion/perf_communication_congestion_20_12_13.txt\n",
      "/home/somz/Projects/Hierarchies_to_scale/khepera-simulations/files/data_files/comm_congestion/perf_communication_congestion_20_4_14.txt\n",
      "/home/somz/Projects/Hierarchies_to_scale/khepera-simulations/files/data_files/comm_congestion/perf_communication_congestion_20_8_14.txt\n",
      "/home/somz/Projects/Hierarchies_to_scale/khepera-simulations/files/data_files/comm_congestion/perf_communication_congestion_20_12_14.txt\n",
      "/home/somz/Projects/Hierarchies_to_scale/khepera-simulations/files/data_files/comm_congestion/perf_communication_congestion_20_4_15.txt\n",
      "/home/somz/Projects/Hierarchies_to_scale/khepera-simulations/files/data_files/comm_congestion/perf_communication_congestion_20_8_15.txt\n",
      "/home/somz/Projects/Hierarchies_to_scale/khepera-simulations/files/data_files/comm_congestion/perf_communication_congestion_20_12_15.txt\n",
      "/home/somz/Projects/Hierarchies_to_scale/khepera-simulations/files/data_files/comm_congestion/perf_communication_congestion_20_4_16.txt\n",
      "/home/somz/Projects/Hierarchies_to_scale/khepera-simulations/files/data_files/comm_congestion/perf_communication_congestion_20_8_16.txt\n",
      "/home/somz/Projects/Hierarchies_to_scale/khepera-simulations/files/data_files/comm_congestion/perf_communication_congestion_20_12_16.txt\n",
      "/home/somz/Projects/Hierarchies_to_scale/khepera-simulations/files/data_files/comm_congestion/perf_communication_congestion_20_4_17.txt\n",
      "/home/somz/Projects/Hierarchies_to_scale/khepera-simulations/files/data_files/comm_congestion/perf_communication_congestion_20_8_17.txt\n",
      "/home/somz/Projects/Hierarchies_to_scale/khepera-simulations/files/data_files/comm_congestion/perf_communication_congestion_20_12_17.txt\n",
      "/home/somz/Projects/Hierarchies_to_scale/khepera-simulations/files/data_files/comm_congestion/perf_communication_congestion_20_4_18.txt\n",
      "/home/somz/Projects/Hierarchies_to_scale/khepera-simulations/files/data_files/comm_congestion/perf_communication_congestion_20_8_18.txt\n",
      "/home/somz/Projects/Hierarchies_to_scale/khepera-simulations/files/data_files/comm_congestion/perf_communication_congestion_20_12_18.txt\n",
      "/home/somz/Projects/Hierarchies_to_scale/khepera-simulations/files/data_files/comm_congestion/perf_communication_congestion_20_4_19.txt\n",
      "/home/somz/Projects/Hierarchies_to_scale/khepera-simulations/files/data_files/comm_congestion/perf_communication_congestion_20_8_19.txt\n",
      "/home/somz/Projects/Hierarchies_to_scale/khepera-simulations/files/data_files/comm_congestion/perf_communication_congestion_20_12_19.txt\n",
      "/home/somz/Projects/Hierarchies_to_scale/khepera-simulations/files/data_files/comm_congestion/perf_communication_congestion_20_4_20.txt\n",
      "/home/somz/Projects/Hierarchies_to_scale/khepera-simulations/files/data_files/comm_congestion/perf_communication_congestion_20_8_20.txt\n",
      "/home/somz/Projects/Hierarchies_to_scale/khepera-simulations/files/data_files/comm_congestion/perf_communication_congestion_20_12_20.txt\n",
      "/home/somz/Projects/Hierarchies_to_scale/khepera-simulations/files/data_files/comm_congestion/perf_communication_congestion_20_4_21.txt\n",
      "/home/somz/Projects/Hierarchies_to_scale/khepera-simulations/files/data_files/comm_congestion/perf_communication_congestion_20_8_21.txt\n",
      "/home/somz/Projects/Hierarchies_to_scale/khepera-simulations/files/data_files/comm_congestion/perf_communication_congestion_20_12_21.txt\n",
      "/home/somz/Projects/Hierarchies_to_scale/khepera-simulations/files/data_files/comm_congestion/perf_communication_congestion_20_4_22.txt\n",
      "/home/somz/Projects/Hierarchies_to_scale/khepera-simulations/files/data_files/comm_congestion/perf_communication_congestion_20_8_22.txt\n",
      "/home/somz/Projects/Hierarchies_to_scale/khepera-simulations/files/data_files/comm_congestion/perf_communication_congestion_20_12_22.txt\n",
      "/home/somz/Projects/Hierarchies_to_scale/khepera-simulations/files/data_files/comm_congestion/perf_communication_congestion_20_4_23.txt\n",
      "/home/somz/Projects/Hierarchies_to_scale/khepera-simulations/files/data_files/comm_congestion/perf_communication_congestion_20_8_23.txt\n",
      "/home/somz/Projects/Hierarchies_to_scale/khepera-simulations/files/data_files/comm_congestion/perf_communication_congestion_20_12_23.txt\n",
      "/home/somz/Projects/Hierarchies_to_scale/khepera-simulations/files/data_files/comm_congestion/perf_communication_congestion_20_4_24.txt\n",
      "/home/somz/Projects/Hierarchies_to_scale/khepera-simulations/files/data_files/comm_congestion/perf_communication_congestion_20_8_24.txt\n",
      "/home/somz/Projects/Hierarchies_to_scale/khepera-simulations/files/data_files/comm_congestion/perf_communication_congestion_20_12_24.txt\n",
      "/home/somz/Projects/Hierarchies_to_scale/khepera-simulations/files/data_files/comm_congestion/perf_communication_congestion_20_4_25.txt\n",
      "/home/somz/Projects/Hierarchies_to_scale/khepera-simulations/files/data_files/comm_congestion/perf_communication_congestion_20_8_25.txt\n",
      "/home/somz/Projects/Hierarchies_to_scale/khepera-simulations/files/data_files/comm_congestion/perf_communication_congestion_20_12_25.txt\n",
      "/home/somz/Projects/Hierarchies_to_scale/khepera-simulations/files/data_files/comm_congestion/perf_communication_congestion_20_4_26.txt\n",
      "/home/somz/Projects/Hierarchies_to_scale/khepera-simulations/files/data_files/comm_congestion/perf_communication_congestion_20_8_26.txt\n",
      "/home/somz/Projects/Hierarchies_to_scale/khepera-simulations/files/data_files/comm_congestion/perf_communication_congestion_20_12_26.txt\n",
      "/home/somz/Projects/Hierarchies_to_scale/khepera-simulations/files/data_files/comm_congestion/perf_communication_congestion_20_4_27.txt\n",
      "/home/somz/Projects/Hierarchies_to_scale/khepera-simulations/files/data_files/comm_congestion/perf_communication_congestion_20_8_27.txt\n",
      "/home/somz/Projects/Hierarchies_to_scale/khepera-simulations/files/data_files/comm_congestion/perf_communication_congestion_20_12_27.txt\n",
      "/home/somz/Projects/Hierarchies_to_scale/khepera-simulations/files/data_files/comm_congestion/perf_communication_congestion_20_4_28.txt\n",
      "/home/somz/Projects/Hierarchies_to_scale/khepera-simulations/files/data_files/comm_congestion/perf_communication_congestion_20_8_28.txt\n",
      "/home/somz/Projects/Hierarchies_to_scale/khepera-simulations/files/data_files/comm_congestion/perf_communication_congestion_20_12_28.txt\n",
      "/home/somz/Projects/Hierarchies_to_scale/khepera-simulations/files/data_files/comm_congestion/perf_communication_congestion_20_4_29.txt\n",
      "/home/somz/Projects/Hierarchies_to_scale/khepera-simulations/files/data_files/comm_congestion/perf_communication_congestion_20_8_29.txt\n",
      "/home/somz/Projects/Hierarchies_to_scale/khepera-simulations/files/data_files/comm_congestion/perf_communication_congestion_20_12_29.txt\n",
      "/home/somz/Projects/Hierarchies_to_scale/khepera-simulations/files/data_files/comm_congestion/perf_communication_congestion_40_4_0.txt\n",
      "/home/somz/Projects/Hierarchies_to_scale/khepera-simulations/files/data_files/comm_congestion/perf_communication_congestion_40_8_0.txt\n",
      "/home/somz/Projects/Hierarchies_to_scale/khepera-simulations/files/data_files/comm_congestion/perf_communication_congestion_40_12_0.txt\n",
      "/home/somz/Projects/Hierarchies_to_scale/khepera-simulations/files/data_files/comm_congestion/perf_communication_congestion_40_4_1.txt\n",
      "/home/somz/Projects/Hierarchies_to_scale/khepera-simulations/files/data_files/comm_congestion/perf_communication_congestion_40_8_1.txt\n",
      "/home/somz/Projects/Hierarchies_to_scale/khepera-simulations/files/data_files/comm_congestion/perf_communication_congestion_40_12_1.txt\n",
      "/home/somz/Projects/Hierarchies_to_scale/khepera-simulations/files/data_files/comm_congestion/perf_communication_congestion_40_4_2.txt\n",
      "/home/somz/Projects/Hierarchies_to_scale/khepera-simulations/files/data_files/comm_congestion/perf_communication_congestion_40_8_2.txt\n",
      "/home/somz/Projects/Hierarchies_to_scale/khepera-simulations/files/data_files/comm_congestion/perf_communication_congestion_40_12_2.txt\n",
      "/home/somz/Projects/Hierarchies_to_scale/khepera-simulations/files/data_files/comm_congestion/perf_communication_congestion_40_4_3.txt\n",
      "/home/somz/Projects/Hierarchies_to_scale/khepera-simulations/files/data_files/comm_congestion/perf_communication_congestion_40_8_3.txt\n",
      "/home/somz/Projects/Hierarchies_to_scale/khepera-simulations/files/data_files/comm_congestion/perf_communication_congestion_40_12_3.txt\n",
      "/home/somz/Projects/Hierarchies_to_scale/khepera-simulations/files/data_files/comm_congestion/perf_communication_congestion_40_4_4.txt\n",
      "/home/somz/Projects/Hierarchies_to_scale/khepera-simulations/files/data_files/comm_congestion/perf_communication_congestion_40_8_4.txt\n",
      "/home/somz/Projects/Hierarchies_to_scale/khepera-simulations/files/data_files/comm_congestion/perf_communication_congestion_40_12_4.txt\n",
      "/home/somz/Projects/Hierarchies_to_scale/khepera-simulations/files/data_files/comm_congestion/perf_communication_congestion_40_4_5.txt\n",
      "/home/somz/Projects/Hierarchies_to_scale/khepera-simulations/files/data_files/comm_congestion/perf_communication_congestion_40_8_5.txt\n",
      "/home/somz/Projects/Hierarchies_to_scale/khepera-simulations/files/data_files/comm_congestion/perf_communication_congestion_40_12_5.txt\n",
      "/home/somz/Projects/Hierarchies_to_scale/khepera-simulations/files/data_files/comm_congestion/perf_communication_congestion_40_4_6.txt\n",
      "/home/somz/Projects/Hierarchies_to_scale/khepera-simulations/files/data_files/comm_congestion/perf_communication_congestion_40_8_6.txt\n",
      "/home/somz/Projects/Hierarchies_to_scale/khepera-simulations/files/data_files/comm_congestion/perf_communication_congestion_40_12_6.txt\n",
      "/home/somz/Projects/Hierarchies_to_scale/khepera-simulations/files/data_files/comm_congestion/perf_communication_congestion_40_4_7.txt\n",
      "/home/somz/Projects/Hierarchies_to_scale/khepera-simulations/files/data_files/comm_congestion/perf_communication_congestion_40_8_7.txt\n",
      "/home/somz/Projects/Hierarchies_to_scale/khepera-simulations/files/data_files/comm_congestion/perf_communication_congestion_40_12_7.txt\n",
      "/home/somz/Projects/Hierarchies_to_scale/khepera-simulations/files/data_files/comm_congestion/perf_communication_congestion_40_4_8.txt\n",
      "/home/somz/Projects/Hierarchies_to_scale/khepera-simulations/files/data_files/comm_congestion/perf_communication_congestion_40_8_8.txt\n",
      "/home/somz/Projects/Hierarchies_to_scale/khepera-simulations/files/data_files/comm_congestion/perf_communication_congestion_40_12_8.txt\n",
      "/home/somz/Projects/Hierarchies_to_scale/khepera-simulations/files/data_files/comm_congestion/perf_communication_congestion_40_4_9.txt\n",
      "/home/somz/Projects/Hierarchies_to_scale/khepera-simulations/files/data_files/comm_congestion/perf_communication_congestion_40_8_9.txt\n",
      "/home/somz/Projects/Hierarchies_to_scale/khepera-simulations/files/data_files/comm_congestion/perf_communication_congestion_40_12_9.txt\n",
      "/home/somz/Projects/Hierarchies_to_scale/khepera-simulations/files/data_files/comm_congestion/perf_communication_congestion_40_4_10.txt\n",
      "/home/somz/Projects/Hierarchies_to_scale/khepera-simulations/files/data_files/comm_congestion/perf_communication_congestion_40_8_10.txt\n",
      "/home/somz/Projects/Hierarchies_to_scale/khepera-simulations/files/data_files/comm_congestion/perf_communication_congestion_40_12_10.txt\n",
      "/home/somz/Projects/Hierarchies_to_scale/khepera-simulations/files/data_files/comm_congestion/perf_communication_congestion_40_4_11.txt\n",
      "/home/somz/Projects/Hierarchies_to_scale/khepera-simulations/files/data_files/comm_congestion/perf_communication_congestion_40_8_11.txt\n",
      "/home/somz/Projects/Hierarchies_to_scale/khepera-simulations/files/data_files/comm_congestion/perf_communication_congestion_40_12_11.txt\n",
      "/home/somz/Projects/Hierarchies_to_scale/khepera-simulations/files/data_files/comm_congestion/perf_communication_congestion_40_4_12.txt\n",
      "/home/somz/Projects/Hierarchies_to_scale/khepera-simulations/files/data_files/comm_congestion/perf_communication_congestion_40_8_12.txt\n",
      "/home/somz/Projects/Hierarchies_to_scale/khepera-simulations/files/data_files/comm_congestion/perf_communication_congestion_40_12_12.txt\n",
      "/home/somz/Projects/Hierarchies_to_scale/khepera-simulations/files/data_files/comm_congestion/perf_communication_congestion_40_4_13.txt\n",
      "/home/somz/Projects/Hierarchies_to_scale/khepera-simulations/files/data_files/comm_congestion/perf_communication_congestion_40_8_13.txt\n",
      "/home/somz/Projects/Hierarchies_to_scale/khepera-simulations/files/data_files/comm_congestion/perf_communication_congestion_40_12_13.txt\n",
      "/home/somz/Projects/Hierarchies_to_scale/khepera-simulations/files/data_files/comm_congestion/perf_communication_congestion_40_4_14.txt\n",
      "/home/somz/Projects/Hierarchies_to_scale/khepera-simulations/files/data_files/comm_congestion/perf_communication_congestion_40_8_14.txt\n",
      "/home/somz/Projects/Hierarchies_to_scale/khepera-simulations/files/data_files/comm_congestion/perf_communication_congestion_40_12_14.txt\n",
      "/home/somz/Projects/Hierarchies_to_scale/khepera-simulations/files/data_files/comm_congestion/perf_communication_congestion_40_4_15.txt\n",
      "/home/somz/Projects/Hierarchies_to_scale/khepera-simulations/files/data_files/comm_congestion/perf_communication_congestion_40_8_15.txt\n",
      "/home/somz/Projects/Hierarchies_to_scale/khepera-simulations/files/data_files/comm_congestion/perf_communication_congestion_40_12_15.txt\n",
      "/home/somz/Projects/Hierarchies_to_scale/khepera-simulations/files/data_files/comm_congestion/perf_communication_congestion_40_4_16.txt\n",
      "/home/somz/Projects/Hierarchies_to_scale/khepera-simulations/files/data_files/comm_congestion/perf_communication_congestion_40_8_16.txt\n",
      "/home/somz/Projects/Hierarchies_to_scale/khepera-simulations/files/data_files/comm_congestion/perf_communication_congestion_40_12_16.txt\n",
      "/home/somz/Projects/Hierarchies_to_scale/khepera-simulations/files/data_files/comm_congestion/perf_communication_congestion_40_4_17.txt\n",
      "/home/somz/Projects/Hierarchies_to_scale/khepera-simulations/files/data_files/comm_congestion/perf_communication_congestion_40_8_17.txt\n",
      "/home/somz/Projects/Hierarchies_to_scale/khepera-simulations/files/data_files/comm_congestion/perf_communication_congestion_40_12_17.txt\n",
      "/home/somz/Projects/Hierarchies_to_scale/khepera-simulations/files/data_files/comm_congestion/perf_communication_congestion_40_4_18.txt\n",
      "/home/somz/Projects/Hierarchies_to_scale/khepera-simulations/files/data_files/comm_congestion/perf_communication_congestion_40_8_18.txt\n",
      "/home/somz/Projects/Hierarchies_to_scale/khepera-simulations/files/data_files/comm_congestion/perf_communication_congestion_40_12_18.txt\n",
      "/home/somz/Projects/Hierarchies_to_scale/khepera-simulations/files/data_files/comm_congestion/perf_communication_congestion_40_4_19.txt\n",
      "/home/somz/Projects/Hierarchies_to_scale/khepera-simulations/files/data_files/comm_congestion/perf_communication_congestion_40_8_19.txt\n",
      "/home/somz/Projects/Hierarchies_to_scale/khepera-simulations/files/data_files/comm_congestion/perf_communication_congestion_40_12_19.txt\n",
      "/home/somz/Projects/Hierarchies_to_scale/khepera-simulations/files/data_files/comm_congestion/perf_communication_congestion_40_4_20.txt\n",
      "/home/somz/Projects/Hierarchies_to_scale/khepera-simulations/files/data_files/comm_congestion/perf_communication_congestion_40_8_20.txt\n",
      "/home/somz/Projects/Hierarchies_to_scale/khepera-simulations/files/data_files/comm_congestion/perf_communication_congestion_40_12_20.txt\n",
      "/home/somz/Projects/Hierarchies_to_scale/khepera-simulations/files/data_files/comm_congestion/perf_communication_congestion_40_4_21.txt\n",
      "/home/somz/Projects/Hierarchies_to_scale/khepera-simulations/files/data_files/comm_congestion/perf_communication_congestion_40_8_21.txt\n",
      "/home/somz/Projects/Hierarchies_to_scale/khepera-simulations/files/data_files/comm_congestion/perf_communication_congestion_40_12_21.txt\n",
      "/home/somz/Projects/Hierarchies_to_scale/khepera-simulations/files/data_files/comm_congestion/perf_communication_congestion_40_4_22.txt\n",
      "/home/somz/Projects/Hierarchies_to_scale/khepera-simulations/files/data_files/comm_congestion/perf_communication_congestion_40_8_22.txt\n",
      "/home/somz/Projects/Hierarchies_to_scale/khepera-simulations/files/data_files/comm_congestion/perf_communication_congestion_40_12_22.txt\n",
      "/home/somz/Projects/Hierarchies_to_scale/khepera-simulations/files/data_files/comm_congestion/perf_communication_congestion_40_4_23.txt\n",
      "/home/somz/Projects/Hierarchies_to_scale/khepera-simulations/files/data_files/comm_congestion/perf_communication_congestion_40_8_23.txt\n",
      "/home/somz/Projects/Hierarchies_to_scale/khepera-simulations/files/data_files/comm_congestion/perf_communication_congestion_40_12_23.txt\n",
      "/home/somz/Projects/Hierarchies_to_scale/khepera-simulations/files/data_files/comm_congestion/perf_communication_congestion_40_4_24.txt\n",
      "/home/somz/Projects/Hierarchies_to_scale/khepera-simulations/files/data_files/comm_congestion/perf_communication_congestion_40_8_24.txt\n",
      "/home/somz/Projects/Hierarchies_to_scale/khepera-simulations/files/data_files/comm_congestion/perf_communication_congestion_40_12_24.txt\n",
      "/home/somz/Projects/Hierarchies_to_scale/khepera-simulations/files/data_files/comm_congestion/perf_communication_congestion_40_4_25.txt\n",
      "/home/somz/Projects/Hierarchies_to_scale/khepera-simulations/files/data_files/comm_congestion/perf_communication_congestion_40_8_25.txt\n",
      "/home/somz/Projects/Hierarchies_to_scale/khepera-simulations/files/data_files/comm_congestion/perf_communication_congestion_40_12_25.txt\n",
      "/home/somz/Projects/Hierarchies_to_scale/khepera-simulations/files/data_files/comm_congestion/perf_communication_congestion_40_4_26.txt\n",
      "/home/somz/Projects/Hierarchies_to_scale/khepera-simulations/files/data_files/comm_congestion/perf_communication_congestion_40_8_26.txt\n",
      "/home/somz/Projects/Hierarchies_to_scale/khepera-simulations/files/data_files/comm_congestion/perf_communication_congestion_40_12_26.txt\n",
      "/home/somz/Projects/Hierarchies_to_scale/khepera-simulations/files/data_files/comm_congestion/perf_communication_congestion_40_4_27.txt\n",
      "/home/somz/Projects/Hierarchies_to_scale/khepera-simulations/files/data_files/comm_congestion/perf_communication_congestion_40_8_27.txt\n",
      "/home/somz/Projects/Hierarchies_to_scale/khepera-simulations/files/data_files/comm_congestion/perf_communication_congestion_40_12_27.txt\n",
      "/home/somz/Projects/Hierarchies_to_scale/khepera-simulations/files/data_files/comm_congestion/perf_communication_congestion_40_4_28.txt\n",
      "/home/somz/Projects/Hierarchies_to_scale/khepera-simulations/files/data_files/comm_congestion/perf_communication_congestion_40_8_28.txt\n",
      "/home/somz/Projects/Hierarchies_to_scale/khepera-simulations/files/data_files/comm_congestion/perf_communication_congestion_40_12_28.txt\n",
      "/home/somz/Projects/Hierarchies_to_scale/khepera-simulations/files/data_files/comm_congestion/perf_communication_congestion_40_4_29.txt\n",
      "/home/somz/Projects/Hierarchies_to_scale/khepera-simulations/files/data_files/comm_congestion/perf_communication_congestion_40_8_29.txt\n",
      "/home/somz/Projects/Hierarchies_to_scale/khepera-simulations/files/data_files/comm_congestion/perf_communication_congestion_40_12_29.txt\n",
      "/home/somz/Projects/Hierarchies_to_scale/khepera-simulations/files/data_files/comm_congestion/perf_communication_congestion_60_4_0.txt\n",
      "/home/somz/Projects/Hierarchies_to_scale/khepera-simulations/files/data_files/comm_congestion/perf_communication_congestion_60_8_0.txt\n",
      "/home/somz/Projects/Hierarchies_to_scale/khepera-simulations/files/data_files/comm_congestion/perf_communication_congestion_60_12_0.txt\n",
      "/home/somz/Projects/Hierarchies_to_scale/khepera-simulations/files/data_files/comm_congestion/perf_communication_congestion_60_4_1.txt\n",
      "/home/somz/Projects/Hierarchies_to_scale/khepera-simulations/files/data_files/comm_congestion/perf_communication_congestion_60_8_1.txt\n",
      "/home/somz/Projects/Hierarchies_to_scale/khepera-simulations/files/data_files/comm_congestion/perf_communication_congestion_60_12_1.txt\n",
      "/home/somz/Projects/Hierarchies_to_scale/khepera-simulations/files/data_files/comm_congestion/perf_communication_congestion_60_4_2.txt\n",
      "/home/somz/Projects/Hierarchies_to_scale/khepera-simulations/files/data_files/comm_congestion/perf_communication_congestion_60_8_2.txt\n",
      "/home/somz/Projects/Hierarchies_to_scale/khepera-simulations/files/data_files/comm_congestion/perf_communication_congestion_60_12_2.txt\n",
      "/home/somz/Projects/Hierarchies_to_scale/khepera-simulations/files/data_files/comm_congestion/perf_communication_congestion_60_4_3.txt\n",
      "/home/somz/Projects/Hierarchies_to_scale/khepera-simulations/files/data_files/comm_congestion/perf_communication_congestion_60_8_3.txt\n",
      "/home/somz/Projects/Hierarchies_to_scale/khepera-simulations/files/data_files/comm_congestion/perf_communication_congestion_60_12_3.txt\n",
      "/home/somz/Projects/Hierarchies_to_scale/khepera-simulations/files/data_files/comm_congestion/perf_communication_congestion_60_4_4.txt\n",
      "/home/somz/Projects/Hierarchies_to_scale/khepera-simulations/files/data_files/comm_congestion/perf_communication_congestion_60_8_4.txt\n",
      "/home/somz/Projects/Hierarchies_to_scale/khepera-simulations/files/data_files/comm_congestion/perf_communication_congestion_60_12_4.txt\n",
      "/home/somz/Projects/Hierarchies_to_scale/khepera-simulations/files/data_files/comm_congestion/perf_communication_congestion_60_4_5.txt\n",
      "/home/somz/Projects/Hierarchies_to_scale/khepera-simulations/files/data_files/comm_congestion/perf_communication_congestion_60_8_5.txt\n",
      "/home/somz/Projects/Hierarchies_to_scale/khepera-simulations/files/data_files/comm_congestion/perf_communication_congestion_60_12_5.txt\n",
      "/home/somz/Projects/Hierarchies_to_scale/khepera-simulations/files/data_files/comm_congestion/perf_communication_congestion_60_4_6.txt\n",
      "/home/somz/Projects/Hierarchies_to_scale/khepera-simulations/files/data_files/comm_congestion/perf_communication_congestion_60_8_6.txt\n",
      "/home/somz/Projects/Hierarchies_to_scale/khepera-simulations/files/data_files/comm_congestion/perf_communication_congestion_60_12_6.txt\n",
      "/home/somz/Projects/Hierarchies_to_scale/khepera-simulations/files/data_files/comm_congestion/perf_communication_congestion_60_4_7.txt\n",
      "/home/somz/Projects/Hierarchies_to_scale/khepera-simulations/files/data_files/comm_congestion/perf_communication_congestion_60_8_7.txt\n",
      "/home/somz/Projects/Hierarchies_to_scale/khepera-simulations/files/data_files/comm_congestion/perf_communication_congestion_60_12_7.txt\n",
      "/home/somz/Projects/Hierarchies_to_scale/khepera-simulations/files/data_files/comm_congestion/perf_communication_congestion_60_4_8.txt\n",
      "/home/somz/Projects/Hierarchies_to_scale/khepera-simulations/files/data_files/comm_congestion/perf_communication_congestion_60_8_8.txt\n",
      "/home/somz/Projects/Hierarchies_to_scale/khepera-simulations/files/data_files/comm_congestion/perf_communication_congestion_60_12_8.txt\n",
      "/home/somz/Projects/Hierarchies_to_scale/khepera-simulations/files/data_files/comm_congestion/perf_communication_congestion_60_4_9.txt\n",
      "/home/somz/Projects/Hierarchies_to_scale/khepera-simulations/files/data_files/comm_congestion/perf_communication_congestion_60_8_9.txt\n",
      "/home/somz/Projects/Hierarchies_to_scale/khepera-simulations/files/data_files/comm_congestion/perf_communication_congestion_60_12_9.txt\n",
      "/home/somz/Projects/Hierarchies_to_scale/khepera-simulations/files/data_files/comm_congestion/perf_communication_congestion_60_4_10.txt\n",
      "/home/somz/Projects/Hierarchies_to_scale/khepera-simulations/files/data_files/comm_congestion/perf_communication_congestion_60_8_10.txt\n",
      "/home/somz/Projects/Hierarchies_to_scale/khepera-simulations/files/data_files/comm_congestion/perf_communication_congestion_60_12_10.txt\n",
      "/home/somz/Projects/Hierarchies_to_scale/khepera-simulations/files/data_files/comm_congestion/perf_communication_congestion_60_4_11.txt\n",
      "/home/somz/Projects/Hierarchies_to_scale/khepera-simulations/files/data_files/comm_congestion/perf_communication_congestion_60_8_11.txt\n",
      "/home/somz/Projects/Hierarchies_to_scale/khepera-simulations/files/data_files/comm_congestion/perf_communication_congestion_60_12_11.txt\n",
      "/home/somz/Projects/Hierarchies_to_scale/khepera-simulations/files/data_files/comm_congestion/perf_communication_congestion_60_4_12.txt\n",
      "/home/somz/Projects/Hierarchies_to_scale/khepera-simulations/files/data_files/comm_congestion/perf_communication_congestion_60_8_12.txt\n",
      "/home/somz/Projects/Hierarchies_to_scale/khepera-simulations/files/data_files/comm_congestion/perf_communication_congestion_60_12_12.txt\n",
      "/home/somz/Projects/Hierarchies_to_scale/khepera-simulations/files/data_files/comm_congestion/perf_communication_congestion_60_4_13.txt\n",
      "/home/somz/Projects/Hierarchies_to_scale/khepera-simulations/files/data_files/comm_congestion/perf_communication_congestion_60_8_13.txt\n",
      "/home/somz/Projects/Hierarchies_to_scale/khepera-simulations/files/data_files/comm_congestion/perf_communication_congestion_60_12_13.txt\n",
      "/home/somz/Projects/Hierarchies_to_scale/khepera-simulations/files/data_files/comm_congestion/perf_communication_congestion_60_4_14.txt\n",
      "/home/somz/Projects/Hierarchies_to_scale/khepera-simulations/files/data_files/comm_congestion/perf_communication_congestion_60_8_14.txt\n",
      "/home/somz/Projects/Hierarchies_to_scale/khepera-simulations/files/data_files/comm_congestion/perf_communication_congestion_60_12_14.txt\n",
      "/home/somz/Projects/Hierarchies_to_scale/khepera-simulations/files/data_files/comm_congestion/perf_communication_congestion_60_4_15.txt\n",
      "/home/somz/Projects/Hierarchies_to_scale/khepera-simulations/files/data_files/comm_congestion/perf_communication_congestion_60_8_15.txt\n",
      "/home/somz/Projects/Hierarchies_to_scale/khepera-simulations/files/data_files/comm_congestion/perf_communication_congestion_60_12_15.txt\n",
      "/home/somz/Projects/Hierarchies_to_scale/khepera-simulations/files/data_files/comm_congestion/perf_communication_congestion_60_4_16.txt\n",
      "/home/somz/Projects/Hierarchies_to_scale/khepera-simulations/files/data_files/comm_congestion/perf_communication_congestion_60_8_16.txt\n",
      "/home/somz/Projects/Hierarchies_to_scale/khepera-simulations/files/data_files/comm_congestion/perf_communication_congestion_60_12_16.txt\n",
      "/home/somz/Projects/Hierarchies_to_scale/khepera-simulations/files/data_files/comm_congestion/perf_communication_congestion_60_4_17.txt\n",
      "/home/somz/Projects/Hierarchies_to_scale/khepera-simulations/files/data_files/comm_congestion/perf_communication_congestion_60_8_17.txt\n",
      "/home/somz/Projects/Hierarchies_to_scale/khepera-simulations/files/data_files/comm_congestion/perf_communication_congestion_60_12_17.txt\n",
      "/home/somz/Projects/Hierarchies_to_scale/khepera-simulations/files/data_files/comm_congestion/perf_communication_congestion_60_4_18.txt\n",
      "/home/somz/Projects/Hierarchies_to_scale/khepera-simulations/files/data_files/comm_congestion/perf_communication_congestion_60_8_18.txt\n",
      "/home/somz/Projects/Hierarchies_to_scale/khepera-simulations/files/data_files/comm_congestion/perf_communication_congestion_60_12_18.txt\n",
      "/home/somz/Projects/Hierarchies_to_scale/khepera-simulations/files/data_files/comm_congestion/perf_communication_congestion_60_4_19.txt\n",
      "/home/somz/Projects/Hierarchies_to_scale/khepera-simulations/files/data_files/comm_congestion/perf_communication_congestion_60_8_19.txt\n",
      "/home/somz/Projects/Hierarchies_to_scale/khepera-simulations/files/data_files/comm_congestion/perf_communication_congestion_60_12_19.txt\n",
      "/home/somz/Projects/Hierarchies_to_scale/khepera-simulations/files/data_files/comm_congestion/perf_communication_congestion_60_4_20.txt\n",
      "/home/somz/Projects/Hierarchies_to_scale/khepera-simulations/files/data_files/comm_congestion/perf_communication_congestion_60_8_20.txt\n",
      "/home/somz/Projects/Hierarchies_to_scale/khepera-simulations/files/data_files/comm_congestion/perf_communication_congestion_60_12_20.txt\n",
      "/home/somz/Projects/Hierarchies_to_scale/khepera-simulations/files/data_files/comm_congestion/perf_communication_congestion_60_4_21.txt\n",
      "/home/somz/Projects/Hierarchies_to_scale/khepera-simulations/files/data_files/comm_congestion/perf_communication_congestion_60_8_21.txt\n",
      "/home/somz/Projects/Hierarchies_to_scale/khepera-simulations/files/data_files/comm_congestion/perf_communication_congestion_60_12_21.txt\n",
      "/home/somz/Projects/Hierarchies_to_scale/khepera-simulations/files/data_files/comm_congestion/perf_communication_congestion_60_4_22.txt\n",
      "/home/somz/Projects/Hierarchies_to_scale/khepera-simulations/files/data_files/comm_congestion/perf_communication_congestion_60_8_22.txt\n",
      "/home/somz/Projects/Hierarchies_to_scale/khepera-simulations/files/data_files/comm_congestion/perf_communication_congestion_60_12_22.txt\n",
      "/home/somz/Projects/Hierarchies_to_scale/khepera-simulations/files/data_files/comm_congestion/perf_communication_congestion_60_4_23.txt\n",
      "/home/somz/Projects/Hierarchies_to_scale/khepera-simulations/files/data_files/comm_congestion/perf_communication_congestion_60_8_23.txt\n",
      "/home/somz/Projects/Hierarchies_to_scale/khepera-simulations/files/data_files/comm_congestion/perf_communication_congestion_60_12_23.txt\n",
      "/home/somz/Projects/Hierarchies_to_scale/khepera-simulations/files/data_files/comm_congestion/perf_communication_congestion_60_4_24.txt\n",
      "/home/somz/Projects/Hierarchies_to_scale/khepera-simulations/files/data_files/comm_congestion/perf_communication_congestion_60_8_24.txt\n",
      "/home/somz/Projects/Hierarchies_to_scale/khepera-simulations/files/data_files/comm_congestion/perf_communication_congestion_60_12_24.txt\n",
      "/home/somz/Projects/Hierarchies_to_scale/khepera-simulations/files/data_files/comm_congestion/perf_communication_congestion_60_4_25.txt\n",
      "/home/somz/Projects/Hierarchies_to_scale/khepera-simulations/files/data_files/comm_congestion/perf_communication_congestion_60_8_25.txt\n",
      "/home/somz/Projects/Hierarchies_to_scale/khepera-simulations/files/data_files/comm_congestion/perf_communication_congestion_60_12_25.txt\n",
      "/home/somz/Projects/Hierarchies_to_scale/khepera-simulations/files/data_files/comm_congestion/perf_communication_congestion_60_4_26.txt\n",
      "/home/somz/Projects/Hierarchies_to_scale/khepera-simulations/files/data_files/comm_congestion/perf_communication_congestion_60_8_26.txt\n",
      "/home/somz/Projects/Hierarchies_to_scale/khepera-simulations/files/data_files/comm_congestion/perf_communication_congestion_60_12_26.txt\n",
      "/home/somz/Projects/Hierarchies_to_scale/khepera-simulations/files/data_files/comm_congestion/perf_communication_congestion_60_4_27.txt\n",
      "/home/somz/Projects/Hierarchies_to_scale/khepera-simulations/files/data_files/comm_congestion/perf_communication_congestion_60_8_27.txt\n",
      "/home/somz/Projects/Hierarchies_to_scale/khepera-simulations/files/data_files/comm_congestion/perf_communication_congestion_60_12_27.txt\n",
      "/home/somz/Projects/Hierarchies_to_scale/khepera-simulations/files/data_files/comm_congestion/perf_communication_congestion_60_4_28.txt\n",
      "/home/somz/Projects/Hierarchies_to_scale/khepera-simulations/files/data_files/comm_congestion/perf_communication_congestion_60_8_28.txt\n",
      "/home/somz/Projects/Hierarchies_to_scale/khepera-simulations/files/data_files/comm_congestion/perf_communication_congestion_60_12_28.txt\n",
      "/home/somz/Projects/Hierarchies_to_scale/khepera-simulations/files/data_files/comm_congestion/perf_communication_congestion_60_4_29.txt\n",
      "/home/somz/Projects/Hierarchies_to_scale/khepera-simulations/files/data_files/comm_congestion/perf_communication_congestion_60_8_29.txt\n",
      "/home/somz/Projects/Hierarchies_to_scale/khepera-simulations/files/data_files/comm_congestion/perf_communication_congestion_60_12_29.txt\n",
      "/home/somz/Projects/Hierarchies_to_scale/khepera-simulations/files/data_files/comm_congestion/perf_communication_congestion_80_4_0.txt\n",
      "/home/somz/Projects/Hierarchies_to_scale/khepera-simulations/files/data_files/comm_congestion/perf_communication_congestion_80_8_0.txt\n",
      "/home/somz/Projects/Hierarchies_to_scale/khepera-simulations/files/data_files/comm_congestion/perf_communication_congestion_80_12_0.txt\n",
      "/home/somz/Projects/Hierarchies_to_scale/khepera-simulations/files/data_files/comm_congestion/perf_communication_congestion_80_4_1.txt\n",
      "/home/somz/Projects/Hierarchies_to_scale/khepera-simulations/files/data_files/comm_congestion/perf_communication_congestion_80_8_1.txt\n",
      "/home/somz/Projects/Hierarchies_to_scale/khepera-simulations/files/data_files/comm_congestion/perf_communication_congestion_80_12_1.txt\n",
      "/home/somz/Projects/Hierarchies_to_scale/khepera-simulations/files/data_files/comm_congestion/perf_communication_congestion_80_4_2.txt\n",
      "/home/somz/Projects/Hierarchies_to_scale/khepera-simulations/files/data_files/comm_congestion/perf_communication_congestion_80_8_2.txt\n",
      "/home/somz/Projects/Hierarchies_to_scale/khepera-simulations/files/data_files/comm_congestion/perf_communication_congestion_80_12_2.txt\n",
      "/home/somz/Projects/Hierarchies_to_scale/khepera-simulations/files/data_files/comm_congestion/perf_communication_congestion_80_4_3.txt\n",
      "/home/somz/Projects/Hierarchies_to_scale/khepera-simulations/files/data_files/comm_congestion/perf_communication_congestion_80_8_3.txt\n",
      "/home/somz/Projects/Hierarchies_to_scale/khepera-simulations/files/data_files/comm_congestion/perf_communication_congestion_80_12_3.txt\n",
      "/home/somz/Projects/Hierarchies_to_scale/khepera-simulations/files/data_files/comm_congestion/perf_communication_congestion_80_4_4.txt\n",
      "/home/somz/Projects/Hierarchies_to_scale/khepera-simulations/files/data_files/comm_congestion/perf_communication_congestion_80_8_4.txt\n",
      "/home/somz/Projects/Hierarchies_to_scale/khepera-simulations/files/data_files/comm_congestion/perf_communication_congestion_80_12_4.txt\n",
      "/home/somz/Projects/Hierarchies_to_scale/khepera-simulations/files/data_files/comm_congestion/perf_communication_congestion_80_4_5.txt\n",
      "/home/somz/Projects/Hierarchies_to_scale/khepera-simulations/files/data_files/comm_congestion/perf_communication_congestion_80_8_5.txt\n",
      "/home/somz/Projects/Hierarchies_to_scale/khepera-simulations/files/data_files/comm_congestion/perf_communication_congestion_80_12_5.txt\n",
      "/home/somz/Projects/Hierarchies_to_scale/khepera-simulations/files/data_files/comm_congestion/perf_communication_congestion_80_4_6.txt\n",
      "/home/somz/Projects/Hierarchies_to_scale/khepera-simulations/files/data_files/comm_congestion/perf_communication_congestion_80_8_6.txt\n",
      "/home/somz/Projects/Hierarchies_to_scale/khepera-simulations/files/data_files/comm_congestion/perf_communication_congestion_80_12_6.txt\n",
      "/home/somz/Projects/Hierarchies_to_scale/khepera-simulations/files/data_files/comm_congestion/perf_communication_congestion_80_4_7.txt\n",
      "/home/somz/Projects/Hierarchies_to_scale/khepera-simulations/files/data_files/comm_congestion/perf_communication_congestion_80_8_7.txt\n",
      "/home/somz/Projects/Hierarchies_to_scale/khepera-simulations/files/data_files/comm_congestion/perf_communication_congestion_80_12_7.txt\n",
      "/home/somz/Projects/Hierarchies_to_scale/khepera-simulations/files/data_files/comm_congestion/perf_communication_congestion_80_4_8.txt\n",
      "/home/somz/Projects/Hierarchies_to_scale/khepera-simulations/files/data_files/comm_congestion/perf_communication_congestion_80_8_8.txt\n",
      "/home/somz/Projects/Hierarchies_to_scale/khepera-simulations/files/data_files/comm_congestion/perf_communication_congestion_80_12_8.txt\n",
      "/home/somz/Projects/Hierarchies_to_scale/khepera-simulations/files/data_files/comm_congestion/perf_communication_congestion_80_4_9.txt\n",
      "/home/somz/Projects/Hierarchies_to_scale/khepera-simulations/files/data_files/comm_congestion/perf_communication_congestion_80_8_9.txt\n",
      "/home/somz/Projects/Hierarchies_to_scale/khepera-simulations/files/data_files/comm_congestion/perf_communication_congestion_80_12_9.txt\n",
      "/home/somz/Projects/Hierarchies_to_scale/khepera-simulations/files/data_files/comm_congestion/perf_communication_congestion_80_4_10.txt\n",
      "/home/somz/Projects/Hierarchies_to_scale/khepera-simulations/files/data_files/comm_congestion/perf_communication_congestion_80_8_10.txt\n",
      "/home/somz/Projects/Hierarchies_to_scale/khepera-simulations/files/data_files/comm_congestion/perf_communication_congestion_80_12_10.txt\n",
      "/home/somz/Projects/Hierarchies_to_scale/khepera-simulations/files/data_files/comm_congestion/perf_communication_congestion_80_4_11.txt\n",
      "/home/somz/Projects/Hierarchies_to_scale/khepera-simulations/files/data_files/comm_congestion/perf_communication_congestion_80_8_11.txt\n",
      "/home/somz/Projects/Hierarchies_to_scale/khepera-simulations/files/data_files/comm_congestion/perf_communication_congestion_80_12_11.txt\n",
      "/home/somz/Projects/Hierarchies_to_scale/khepera-simulations/files/data_files/comm_congestion/perf_communication_congestion_80_4_12.txt\n",
      "/home/somz/Projects/Hierarchies_to_scale/khepera-simulations/files/data_files/comm_congestion/perf_communication_congestion_80_8_12.txt\n",
      "/home/somz/Projects/Hierarchies_to_scale/khepera-simulations/files/data_files/comm_congestion/perf_communication_congestion_80_12_12.txt\n",
      "/home/somz/Projects/Hierarchies_to_scale/khepera-simulations/files/data_files/comm_congestion/perf_communication_congestion_80_4_13.txt\n",
      "/home/somz/Projects/Hierarchies_to_scale/khepera-simulations/files/data_files/comm_congestion/perf_communication_congestion_80_8_13.txt\n",
      "/home/somz/Projects/Hierarchies_to_scale/khepera-simulations/files/data_files/comm_congestion/perf_communication_congestion_80_12_13.txt\n",
      "/home/somz/Projects/Hierarchies_to_scale/khepera-simulations/files/data_files/comm_congestion/perf_communication_congestion_80_4_14.txt\n",
      "/home/somz/Projects/Hierarchies_to_scale/khepera-simulations/files/data_files/comm_congestion/perf_communication_congestion_80_8_14.txt\n",
      "/home/somz/Projects/Hierarchies_to_scale/khepera-simulations/files/data_files/comm_congestion/perf_communication_congestion_80_12_14.txt\n",
      "/home/somz/Projects/Hierarchies_to_scale/khepera-simulations/files/data_files/comm_congestion/perf_communication_congestion_80_4_15.txt\n",
      "/home/somz/Projects/Hierarchies_to_scale/khepera-simulations/files/data_files/comm_congestion/perf_communication_congestion_80_8_15.txt\n",
      "/home/somz/Projects/Hierarchies_to_scale/khepera-simulations/files/data_files/comm_congestion/perf_communication_congestion_80_12_15.txt\n",
      "/home/somz/Projects/Hierarchies_to_scale/khepera-simulations/files/data_files/comm_congestion/perf_communication_congestion_80_4_16.txt\n",
      "/home/somz/Projects/Hierarchies_to_scale/khepera-simulations/files/data_files/comm_congestion/perf_communication_congestion_80_8_16.txt\n",
      "/home/somz/Projects/Hierarchies_to_scale/khepera-simulations/files/data_files/comm_congestion/perf_communication_congestion_80_12_16.txt\n",
      "/home/somz/Projects/Hierarchies_to_scale/khepera-simulations/files/data_files/comm_congestion/perf_communication_congestion_80_4_17.txt\n",
      "/home/somz/Projects/Hierarchies_to_scale/khepera-simulations/files/data_files/comm_congestion/perf_communication_congestion_80_8_17.txt\n",
      "/home/somz/Projects/Hierarchies_to_scale/khepera-simulations/files/data_files/comm_congestion/perf_communication_congestion_80_12_17.txt\n",
      "/home/somz/Projects/Hierarchies_to_scale/khepera-simulations/files/data_files/comm_congestion/perf_communication_congestion_80_4_18.txt\n",
      "/home/somz/Projects/Hierarchies_to_scale/khepera-simulations/files/data_files/comm_congestion/perf_communication_congestion_80_8_18.txt\n",
      "/home/somz/Projects/Hierarchies_to_scale/khepera-simulations/files/data_files/comm_congestion/perf_communication_congestion_80_12_18.txt\n",
      "/home/somz/Projects/Hierarchies_to_scale/khepera-simulations/files/data_files/comm_congestion/perf_communication_congestion_80_4_19.txt\n",
      "/home/somz/Projects/Hierarchies_to_scale/khepera-simulations/files/data_files/comm_congestion/perf_communication_congestion_80_8_19.txt\n",
      "/home/somz/Projects/Hierarchies_to_scale/khepera-simulations/files/data_files/comm_congestion/perf_communication_congestion_80_12_19.txt\n",
      "/home/somz/Projects/Hierarchies_to_scale/khepera-simulations/files/data_files/comm_congestion/perf_communication_congestion_80_4_20.txt\n",
      "/home/somz/Projects/Hierarchies_to_scale/khepera-simulations/files/data_files/comm_congestion/perf_communication_congestion_80_8_20.txt\n",
      "/home/somz/Projects/Hierarchies_to_scale/khepera-simulations/files/data_files/comm_congestion/perf_communication_congestion_80_12_20.txt\n",
      "/home/somz/Projects/Hierarchies_to_scale/khepera-simulations/files/data_files/comm_congestion/perf_communication_congestion_80_4_21.txt\n",
      "/home/somz/Projects/Hierarchies_to_scale/khepera-simulations/files/data_files/comm_congestion/perf_communication_congestion_80_8_21.txt\n",
      "/home/somz/Projects/Hierarchies_to_scale/khepera-simulations/files/data_files/comm_congestion/perf_communication_congestion_80_12_21.txt\n",
      "/home/somz/Projects/Hierarchies_to_scale/khepera-simulations/files/data_files/comm_congestion/perf_communication_congestion_80_4_22.txt\n",
      "/home/somz/Projects/Hierarchies_to_scale/khepera-simulations/files/data_files/comm_congestion/perf_communication_congestion_80_8_22.txt\n",
      "/home/somz/Projects/Hierarchies_to_scale/khepera-simulations/files/data_files/comm_congestion/perf_communication_congestion_80_12_22.txt\n",
      "/home/somz/Projects/Hierarchies_to_scale/khepera-simulations/files/data_files/comm_congestion/perf_communication_congestion_80_4_23.txt\n",
      "/home/somz/Projects/Hierarchies_to_scale/khepera-simulations/files/data_files/comm_congestion/perf_communication_congestion_80_8_23.txt\n",
      "/home/somz/Projects/Hierarchies_to_scale/khepera-simulations/files/data_files/comm_congestion/perf_communication_congestion_80_12_23.txt\n",
      "/home/somz/Projects/Hierarchies_to_scale/khepera-simulations/files/data_files/comm_congestion/perf_communication_congestion_80_4_24.txt\n",
      "/home/somz/Projects/Hierarchies_to_scale/khepera-simulations/files/data_files/comm_congestion/perf_communication_congestion_80_8_24.txt\n",
      "/home/somz/Projects/Hierarchies_to_scale/khepera-simulations/files/data_files/comm_congestion/perf_communication_congestion_80_12_24.txt\n",
      "/home/somz/Projects/Hierarchies_to_scale/khepera-simulations/files/data_files/comm_congestion/perf_communication_congestion_80_4_25.txt\n",
      "/home/somz/Projects/Hierarchies_to_scale/khepera-simulations/files/data_files/comm_congestion/perf_communication_congestion_80_8_25.txt\n",
      "/home/somz/Projects/Hierarchies_to_scale/khepera-simulations/files/data_files/comm_congestion/perf_communication_congestion_80_12_25.txt\n",
      "/home/somz/Projects/Hierarchies_to_scale/khepera-simulations/files/data_files/comm_congestion/perf_communication_congestion_80_4_26.txt\n",
      "/home/somz/Projects/Hierarchies_to_scale/khepera-simulations/files/data_files/comm_congestion/perf_communication_congestion_80_8_26.txt\n",
      "/home/somz/Projects/Hierarchies_to_scale/khepera-simulations/files/data_files/comm_congestion/perf_communication_congestion_80_12_26.txt\n",
      "/home/somz/Projects/Hierarchies_to_scale/khepera-simulations/files/data_files/comm_congestion/perf_communication_congestion_80_4_27.txt\n",
      "/home/somz/Projects/Hierarchies_to_scale/khepera-simulations/files/data_files/comm_congestion/perf_communication_congestion_80_8_27.txt\n",
      "/home/somz/Projects/Hierarchies_to_scale/khepera-simulations/files/data_files/comm_congestion/perf_communication_congestion_80_12_27.txt\n",
      "/home/somz/Projects/Hierarchies_to_scale/khepera-simulations/files/data_files/comm_congestion/perf_communication_congestion_80_4_28.txt\n",
      "/home/somz/Projects/Hierarchies_to_scale/khepera-simulations/files/data_files/comm_congestion/perf_communication_congestion_80_8_28.txt\n",
      "/home/somz/Projects/Hierarchies_to_scale/khepera-simulations/files/data_files/comm_congestion/perf_communication_congestion_80_12_28.txt\n",
      "/home/somz/Projects/Hierarchies_to_scale/khepera-simulations/files/data_files/comm_congestion/perf_communication_congestion_80_4_29.txt\n",
      "/home/somz/Projects/Hierarchies_to_scale/khepera-simulations/files/data_files/comm_congestion/perf_communication_congestion_80_8_29.txt\n",
      "/home/somz/Projects/Hierarchies_to_scale/khepera-simulations/files/data_files/comm_congestion/perf_communication_congestion_80_12_29.txt\n",
      "/home/somz/Projects/Hierarchies_to_scale/khepera-simulations/files/data_files/comm_congestion/perf_communication_congestion_100_4_0.txt\n",
      "/home/somz/Projects/Hierarchies_to_scale/khepera-simulations/files/data_files/comm_congestion/perf_communication_congestion_100_8_0.txt\n",
      "/home/somz/Projects/Hierarchies_to_scale/khepera-simulations/files/data_files/comm_congestion/perf_communication_congestion_100_12_0.txt\n",
      "/home/somz/Projects/Hierarchies_to_scale/khepera-simulations/files/data_files/comm_congestion/perf_communication_congestion_100_4_1.txt\n",
      "/home/somz/Projects/Hierarchies_to_scale/khepera-simulations/files/data_files/comm_congestion/perf_communication_congestion_100_8_1.txt\n",
      "/home/somz/Projects/Hierarchies_to_scale/khepera-simulations/files/data_files/comm_congestion/perf_communication_congestion_100_12_1.txt\n",
      "/home/somz/Projects/Hierarchies_to_scale/khepera-simulations/files/data_files/comm_congestion/perf_communication_congestion_100_4_2.txt\n",
      "/home/somz/Projects/Hierarchies_to_scale/khepera-simulations/files/data_files/comm_congestion/perf_communication_congestion_100_8_2.txt\n",
      "/home/somz/Projects/Hierarchies_to_scale/khepera-simulations/files/data_files/comm_congestion/perf_communication_congestion_100_12_2.txt\n",
      "/home/somz/Projects/Hierarchies_to_scale/khepera-simulations/files/data_files/comm_congestion/perf_communication_congestion_100_4_3.txt\n",
      "/home/somz/Projects/Hierarchies_to_scale/khepera-simulations/files/data_files/comm_congestion/perf_communication_congestion_100_8_3.txt\n",
      "/home/somz/Projects/Hierarchies_to_scale/khepera-simulations/files/data_files/comm_congestion/perf_communication_congestion_100_12_3.txt\n",
      "/home/somz/Projects/Hierarchies_to_scale/khepera-simulations/files/data_files/comm_congestion/perf_communication_congestion_100_4_4.txt\n",
      "/home/somz/Projects/Hierarchies_to_scale/khepera-simulations/files/data_files/comm_congestion/perf_communication_congestion_100_8_4.txt\n",
      "/home/somz/Projects/Hierarchies_to_scale/khepera-simulations/files/data_files/comm_congestion/perf_communication_congestion_100_12_4.txt\n",
      "/home/somz/Projects/Hierarchies_to_scale/khepera-simulations/files/data_files/comm_congestion/perf_communication_congestion_100_4_5.txt\n",
      "/home/somz/Projects/Hierarchies_to_scale/khepera-simulations/files/data_files/comm_congestion/perf_communication_congestion_100_8_5.txt\n",
      "/home/somz/Projects/Hierarchies_to_scale/khepera-simulations/files/data_files/comm_congestion/perf_communication_congestion_100_12_5.txt\n",
      "/home/somz/Projects/Hierarchies_to_scale/khepera-simulations/files/data_files/comm_congestion/perf_communication_congestion_100_4_6.txt\n",
      "/home/somz/Projects/Hierarchies_to_scale/khepera-simulations/files/data_files/comm_congestion/perf_communication_congestion_100_8_6.txt\n",
      "/home/somz/Projects/Hierarchies_to_scale/khepera-simulations/files/data_files/comm_congestion/perf_communication_congestion_100_12_6.txt\n",
      "/home/somz/Projects/Hierarchies_to_scale/khepera-simulations/files/data_files/comm_congestion/perf_communication_congestion_100_4_7.txt\n",
      "/home/somz/Projects/Hierarchies_to_scale/khepera-simulations/files/data_files/comm_congestion/perf_communication_congestion_100_8_7.txt\n",
      "/home/somz/Projects/Hierarchies_to_scale/khepera-simulations/files/data_files/comm_congestion/perf_communication_congestion_100_12_7.txt\n",
      "/home/somz/Projects/Hierarchies_to_scale/khepera-simulations/files/data_files/comm_congestion/perf_communication_congestion_100_4_8.txt\n",
      "/home/somz/Projects/Hierarchies_to_scale/khepera-simulations/files/data_files/comm_congestion/perf_communication_congestion_100_8_8.txt\n",
      "/home/somz/Projects/Hierarchies_to_scale/khepera-simulations/files/data_files/comm_congestion/perf_communication_congestion_100_12_8.txt\n",
      "/home/somz/Projects/Hierarchies_to_scale/khepera-simulations/files/data_files/comm_congestion/perf_communication_congestion_100_4_9.txt\n",
      "/home/somz/Projects/Hierarchies_to_scale/khepera-simulations/files/data_files/comm_congestion/perf_communication_congestion_100_8_9.txt\n",
      "/home/somz/Projects/Hierarchies_to_scale/khepera-simulations/files/data_files/comm_congestion/perf_communication_congestion_100_12_9.txt\n",
      "/home/somz/Projects/Hierarchies_to_scale/khepera-simulations/files/data_files/comm_congestion/perf_communication_congestion_100_4_10.txt\n",
      "/home/somz/Projects/Hierarchies_to_scale/khepera-simulations/files/data_files/comm_congestion/perf_communication_congestion_100_8_10.txt\n",
      "/home/somz/Projects/Hierarchies_to_scale/khepera-simulations/files/data_files/comm_congestion/perf_communication_congestion_100_12_10.txt\n",
      "/home/somz/Projects/Hierarchies_to_scale/khepera-simulations/files/data_files/comm_congestion/perf_communication_congestion_100_4_11.txt\n",
      "/home/somz/Projects/Hierarchies_to_scale/khepera-simulations/files/data_files/comm_congestion/perf_communication_congestion_100_8_11.txt\n",
      "/home/somz/Projects/Hierarchies_to_scale/khepera-simulations/files/data_files/comm_congestion/perf_communication_congestion_100_12_11.txt\n",
      "/home/somz/Projects/Hierarchies_to_scale/khepera-simulations/files/data_files/comm_congestion/perf_communication_congestion_100_4_12.txt\n",
      "/home/somz/Projects/Hierarchies_to_scale/khepera-simulations/files/data_files/comm_congestion/perf_communication_congestion_100_8_12.txt\n",
      "/home/somz/Projects/Hierarchies_to_scale/khepera-simulations/files/data_files/comm_congestion/perf_communication_congestion_100_12_12.txt\n",
      "/home/somz/Projects/Hierarchies_to_scale/khepera-simulations/files/data_files/comm_congestion/perf_communication_congestion_100_4_13.txt\n",
      "/home/somz/Projects/Hierarchies_to_scale/khepera-simulations/files/data_files/comm_congestion/perf_communication_congestion_100_8_13.txt\n",
      "/home/somz/Projects/Hierarchies_to_scale/khepera-simulations/files/data_files/comm_congestion/perf_communication_congestion_100_12_13.txt\n",
      "/home/somz/Projects/Hierarchies_to_scale/khepera-simulations/files/data_files/comm_congestion/perf_communication_congestion_100_4_14.txt\n",
      "/home/somz/Projects/Hierarchies_to_scale/khepera-simulations/files/data_files/comm_congestion/perf_communication_congestion_100_8_14.txt\n",
      "/home/somz/Projects/Hierarchies_to_scale/khepera-simulations/files/data_files/comm_congestion/perf_communication_congestion_100_12_14.txt\n",
      "/home/somz/Projects/Hierarchies_to_scale/khepera-simulations/files/data_files/comm_congestion/perf_communication_congestion_100_4_15.txt\n",
      "/home/somz/Projects/Hierarchies_to_scale/khepera-simulations/files/data_files/comm_congestion/perf_communication_congestion_100_8_15.txt\n",
      "/home/somz/Projects/Hierarchies_to_scale/khepera-simulations/files/data_files/comm_congestion/perf_communication_congestion_100_12_15.txt\n",
      "/home/somz/Projects/Hierarchies_to_scale/khepera-simulations/files/data_files/comm_congestion/perf_communication_congestion_100_4_16.txt\n",
      "/home/somz/Projects/Hierarchies_to_scale/khepera-simulations/files/data_files/comm_congestion/perf_communication_congestion_100_8_16.txt\n",
      "/home/somz/Projects/Hierarchies_to_scale/khepera-simulations/files/data_files/comm_congestion/perf_communication_congestion_100_12_16.txt\n",
      "/home/somz/Projects/Hierarchies_to_scale/khepera-simulations/files/data_files/comm_congestion/perf_communication_congestion_100_4_17.txt\n",
      "/home/somz/Projects/Hierarchies_to_scale/khepera-simulations/files/data_files/comm_congestion/perf_communication_congestion_100_8_17.txt\n",
      "/home/somz/Projects/Hierarchies_to_scale/khepera-simulations/files/data_files/comm_congestion/perf_communication_congestion_100_12_17.txt\n",
      "/home/somz/Projects/Hierarchies_to_scale/khepera-simulations/files/data_files/comm_congestion/perf_communication_congestion_100_4_18.txt\n",
      "/home/somz/Projects/Hierarchies_to_scale/khepera-simulations/files/data_files/comm_congestion/perf_communication_congestion_100_8_18.txt\n",
      "/home/somz/Projects/Hierarchies_to_scale/khepera-simulations/files/data_files/comm_congestion/perf_communication_congestion_100_12_18.txt\n",
      "/home/somz/Projects/Hierarchies_to_scale/khepera-simulations/files/data_files/comm_congestion/perf_communication_congestion_100_4_19.txt\n",
      "/home/somz/Projects/Hierarchies_to_scale/khepera-simulations/files/data_files/comm_congestion/perf_communication_congestion_100_8_19.txt\n",
      "/home/somz/Projects/Hierarchies_to_scale/khepera-simulations/files/data_files/comm_congestion/perf_communication_congestion_100_12_19.txt\n",
      "/home/somz/Projects/Hierarchies_to_scale/khepera-simulations/files/data_files/comm_congestion/perf_communication_congestion_100_4_20.txt\n",
      "/home/somz/Projects/Hierarchies_to_scale/khepera-simulations/files/data_files/comm_congestion/perf_communication_congestion_100_8_20.txt\n",
      "/home/somz/Projects/Hierarchies_to_scale/khepera-simulations/files/data_files/comm_congestion/perf_communication_congestion_100_12_20.txt\n",
      "/home/somz/Projects/Hierarchies_to_scale/khepera-simulations/files/data_files/comm_congestion/perf_communication_congestion_100_4_21.txt\n",
      "/home/somz/Projects/Hierarchies_to_scale/khepera-simulations/files/data_files/comm_congestion/perf_communication_congestion_100_8_21.txt\n",
      "/home/somz/Projects/Hierarchies_to_scale/khepera-simulations/files/data_files/comm_congestion/perf_communication_congestion_100_12_21.txt\n",
      "/home/somz/Projects/Hierarchies_to_scale/khepera-simulations/files/data_files/comm_congestion/perf_communication_congestion_100_4_22.txt\n",
      "/home/somz/Projects/Hierarchies_to_scale/khepera-simulations/files/data_files/comm_congestion/perf_communication_congestion_100_8_22.txt\n",
      "/home/somz/Projects/Hierarchies_to_scale/khepera-simulations/files/data_files/comm_congestion/perf_communication_congestion_100_12_22.txt\n",
      "/home/somz/Projects/Hierarchies_to_scale/khepera-simulations/files/data_files/comm_congestion/perf_communication_congestion_100_4_23.txt\n",
      "/home/somz/Projects/Hierarchies_to_scale/khepera-simulations/files/data_files/comm_congestion/perf_communication_congestion_100_8_23.txt\n",
      "/home/somz/Projects/Hierarchies_to_scale/khepera-simulations/files/data_files/comm_congestion/perf_communication_congestion_100_12_23.txt\n",
      "/home/somz/Projects/Hierarchies_to_scale/khepera-simulations/files/data_files/comm_congestion/perf_communication_congestion_100_4_24.txt\n",
      "/home/somz/Projects/Hierarchies_to_scale/khepera-simulations/files/data_files/comm_congestion/perf_communication_congestion_100_8_24.txt\n",
      "/home/somz/Projects/Hierarchies_to_scale/khepera-simulations/files/data_files/comm_congestion/perf_communication_congestion_100_12_24.txt\n",
      "/home/somz/Projects/Hierarchies_to_scale/khepera-simulations/files/data_files/comm_congestion/perf_communication_congestion_100_4_25.txt\n",
      "/home/somz/Projects/Hierarchies_to_scale/khepera-simulations/files/data_files/comm_congestion/perf_communication_congestion_100_8_25.txt\n",
      "/home/somz/Projects/Hierarchies_to_scale/khepera-simulations/files/data_files/comm_congestion/perf_communication_congestion_100_12_25.txt\n",
      "/home/somz/Projects/Hierarchies_to_scale/khepera-simulations/files/data_files/comm_congestion/perf_communication_congestion_100_4_26.txt\n",
      "/home/somz/Projects/Hierarchies_to_scale/khepera-simulations/files/data_files/comm_congestion/perf_communication_congestion_100_8_26.txt\n",
      "/home/somz/Projects/Hierarchies_to_scale/khepera-simulations/files/data_files/comm_congestion/perf_communication_congestion_100_12_26.txt\n",
      "/home/somz/Projects/Hierarchies_to_scale/khepera-simulations/files/data_files/comm_congestion/perf_communication_congestion_100_4_27.txt\n",
      "/home/somz/Projects/Hierarchies_to_scale/khepera-simulations/files/data_files/comm_congestion/perf_communication_congestion_100_8_27.txt\n",
      "/home/somz/Projects/Hierarchies_to_scale/khepera-simulations/files/data_files/comm_congestion/perf_communication_congestion_100_12_27.txt\n",
      "/home/somz/Projects/Hierarchies_to_scale/khepera-simulations/files/data_files/comm_congestion/perf_communication_congestion_100_4_28.txt\n",
      "/home/somz/Projects/Hierarchies_to_scale/khepera-simulations/files/data_files/comm_congestion/perf_communication_congestion_100_8_28.txt\n",
      "/home/somz/Projects/Hierarchies_to_scale/khepera-simulations/files/data_files/comm_congestion/perf_communication_congestion_100_12_28.txt\n",
      "/home/somz/Projects/Hierarchies_to_scale/khepera-simulations/files/data_files/comm_congestion/perf_communication_congestion_100_4_29.txt\n",
      "/home/somz/Projects/Hierarchies_to_scale/khepera-simulations/files/data_files/comm_congestion/perf_communication_congestion_100_8_29.txt\n",
      "/home/somz/Projects/Hierarchies_to_scale/khepera-simulations/files/data_files/comm_congestion/perf_communication_congestion_100_12_29.txt\n",
      "/home/somz/Projects/Hierarchies_to_scale/khepera-simulations/files/data_files/comm_congestion/perf_communication_congestion_120_4_0.txt\n",
      "/home/somz/Projects/Hierarchies_to_scale/khepera-simulations/files/data_files/comm_congestion/perf_communication_congestion_120_8_0.txt\n",
      "/home/somz/Projects/Hierarchies_to_scale/khepera-simulations/files/data_files/comm_congestion/perf_communication_congestion_120_12_0.txt\n",
      "/home/somz/Projects/Hierarchies_to_scale/khepera-simulations/files/data_files/comm_congestion/perf_communication_congestion_120_4_1.txt\n",
      "/home/somz/Projects/Hierarchies_to_scale/khepera-simulations/files/data_files/comm_congestion/perf_communication_congestion_120_8_1.txt\n",
      "/home/somz/Projects/Hierarchies_to_scale/khepera-simulations/files/data_files/comm_congestion/perf_communication_congestion_120_12_1.txt\n",
      "/home/somz/Projects/Hierarchies_to_scale/khepera-simulations/files/data_files/comm_congestion/perf_communication_congestion_120_4_2.txt\n",
      "/home/somz/Projects/Hierarchies_to_scale/khepera-simulations/files/data_files/comm_congestion/perf_communication_congestion_120_8_2.txt\n",
      "/home/somz/Projects/Hierarchies_to_scale/khepera-simulations/files/data_files/comm_congestion/perf_communication_congestion_120_12_2.txt\n",
      "/home/somz/Projects/Hierarchies_to_scale/khepera-simulations/files/data_files/comm_congestion/perf_communication_congestion_120_4_3.txt\n",
      "/home/somz/Projects/Hierarchies_to_scale/khepera-simulations/files/data_files/comm_congestion/perf_communication_congestion_120_8_3.txt\n",
      "/home/somz/Projects/Hierarchies_to_scale/khepera-simulations/files/data_files/comm_congestion/perf_communication_congestion_120_12_3.txt\n",
      "/home/somz/Projects/Hierarchies_to_scale/khepera-simulations/files/data_files/comm_congestion/perf_communication_congestion_120_4_4.txt\n",
      "/home/somz/Projects/Hierarchies_to_scale/khepera-simulations/files/data_files/comm_congestion/perf_communication_congestion_120_8_4.txt\n",
      "/home/somz/Projects/Hierarchies_to_scale/khepera-simulations/files/data_files/comm_congestion/perf_communication_congestion_120_12_4.txt\n",
      "/home/somz/Projects/Hierarchies_to_scale/khepera-simulations/files/data_files/comm_congestion/perf_communication_congestion_120_4_5.txt\n",
      "/home/somz/Projects/Hierarchies_to_scale/khepera-simulations/files/data_files/comm_congestion/perf_communication_congestion_120_8_5.txt\n",
      "/home/somz/Projects/Hierarchies_to_scale/khepera-simulations/files/data_files/comm_congestion/perf_communication_congestion_120_12_5.txt\n",
      "/home/somz/Projects/Hierarchies_to_scale/khepera-simulations/files/data_files/comm_congestion/perf_communication_congestion_120_4_6.txt\n",
      "/home/somz/Projects/Hierarchies_to_scale/khepera-simulations/files/data_files/comm_congestion/perf_communication_congestion_120_8_6.txt\n",
      "/home/somz/Projects/Hierarchies_to_scale/khepera-simulations/files/data_files/comm_congestion/perf_communication_congestion_120_12_6.txt\n",
      "/home/somz/Projects/Hierarchies_to_scale/khepera-simulations/files/data_files/comm_congestion/perf_communication_congestion_120_4_7.txt\n",
      "/home/somz/Projects/Hierarchies_to_scale/khepera-simulations/files/data_files/comm_congestion/perf_communication_congestion_120_8_7.txt\n",
      "/home/somz/Projects/Hierarchies_to_scale/khepera-simulations/files/data_files/comm_congestion/perf_communication_congestion_120_12_7.txt\n",
      "/home/somz/Projects/Hierarchies_to_scale/khepera-simulations/files/data_files/comm_congestion/perf_communication_congestion_120_4_8.txt\n",
      "/home/somz/Projects/Hierarchies_to_scale/khepera-simulations/files/data_files/comm_congestion/perf_communication_congestion_120_8_8.txt\n",
      "/home/somz/Projects/Hierarchies_to_scale/khepera-simulations/files/data_files/comm_congestion/perf_communication_congestion_120_12_8.txt\n",
      "/home/somz/Projects/Hierarchies_to_scale/khepera-simulations/files/data_files/comm_congestion/perf_communication_congestion_120_4_9.txt\n",
      "/home/somz/Projects/Hierarchies_to_scale/khepera-simulations/files/data_files/comm_congestion/perf_communication_congestion_120_8_9.txt\n",
      "/home/somz/Projects/Hierarchies_to_scale/khepera-simulations/files/data_files/comm_congestion/perf_communication_congestion_120_12_9.txt\n",
      "/home/somz/Projects/Hierarchies_to_scale/khepera-simulations/files/data_files/comm_congestion/perf_communication_congestion_120_4_10.txt\n",
      "/home/somz/Projects/Hierarchies_to_scale/khepera-simulations/files/data_files/comm_congestion/perf_communication_congestion_120_8_10.txt\n",
      "/home/somz/Projects/Hierarchies_to_scale/khepera-simulations/files/data_files/comm_congestion/perf_communication_congestion_120_12_10.txt\n",
      "/home/somz/Projects/Hierarchies_to_scale/khepera-simulations/files/data_files/comm_congestion/perf_communication_congestion_120_4_11.txt\n",
      "/home/somz/Projects/Hierarchies_to_scale/khepera-simulations/files/data_files/comm_congestion/perf_communication_congestion_120_8_11.txt\n",
      "/home/somz/Projects/Hierarchies_to_scale/khepera-simulations/files/data_files/comm_congestion/perf_communication_congestion_120_12_11.txt\n",
      "/home/somz/Projects/Hierarchies_to_scale/khepera-simulations/files/data_files/comm_congestion/perf_communication_congestion_120_4_12.txt\n",
      "/home/somz/Projects/Hierarchies_to_scale/khepera-simulations/files/data_files/comm_congestion/perf_communication_congestion_120_8_12.txt\n",
      "/home/somz/Projects/Hierarchies_to_scale/khepera-simulations/files/data_files/comm_congestion/perf_communication_congestion_120_12_12.txt\n",
      "/home/somz/Projects/Hierarchies_to_scale/khepera-simulations/files/data_files/comm_congestion/perf_communication_congestion_120_4_13.txt\n",
      "/home/somz/Projects/Hierarchies_to_scale/khepera-simulations/files/data_files/comm_congestion/perf_communication_congestion_120_8_13.txt\n",
      "/home/somz/Projects/Hierarchies_to_scale/khepera-simulations/files/data_files/comm_congestion/perf_communication_congestion_120_12_13.txt\n",
      "/home/somz/Projects/Hierarchies_to_scale/khepera-simulations/files/data_files/comm_congestion/perf_communication_congestion_120_4_14.txt\n",
      "/home/somz/Projects/Hierarchies_to_scale/khepera-simulations/files/data_files/comm_congestion/perf_communication_congestion_120_8_14.txt\n",
      "/home/somz/Projects/Hierarchies_to_scale/khepera-simulations/files/data_files/comm_congestion/perf_communication_congestion_120_12_14.txt\n",
      "/home/somz/Projects/Hierarchies_to_scale/khepera-simulations/files/data_files/comm_congestion/perf_communication_congestion_120_4_15.txt\n",
      "/home/somz/Projects/Hierarchies_to_scale/khepera-simulations/files/data_files/comm_congestion/perf_communication_congestion_120_8_15.txt\n",
      "/home/somz/Projects/Hierarchies_to_scale/khepera-simulations/files/data_files/comm_congestion/perf_communication_congestion_120_12_15.txt\n",
      "/home/somz/Projects/Hierarchies_to_scale/khepera-simulations/files/data_files/comm_congestion/perf_communication_congestion_120_4_16.txt\n",
      "/home/somz/Projects/Hierarchies_to_scale/khepera-simulations/files/data_files/comm_congestion/perf_communication_congestion_120_8_16.txt\n",
      "/home/somz/Projects/Hierarchies_to_scale/khepera-simulations/files/data_files/comm_congestion/perf_communication_congestion_120_12_16.txt\n",
      "/home/somz/Projects/Hierarchies_to_scale/khepera-simulations/files/data_files/comm_congestion/perf_communication_congestion_120_4_17.txt\n",
      "/home/somz/Projects/Hierarchies_to_scale/khepera-simulations/files/data_files/comm_congestion/perf_communication_congestion_120_8_17.txt\n",
      "/home/somz/Projects/Hierarchies_to_scale/khepera-simulations/files/data_files/comm_congestion/perf_communication_congestion_120_12_17.txt\n",
      "/home/somz/Projects/Hierarchies_to_scale/khepera-simulations/files/data_files/comm_congestion/perf_communication_congestion_120_4_18.txt\n",
      "/home/somz/Projects/Hierarchies_to_scale/khepera-simulations/files/data_files/comm_congestion/perf_communication_congestion_120_8_18.txt\n",
      "/home/somz/Projects/Hierarchies_to_scale/khepera-simulations/files/data_files/comm_congestion/perf_communication_congestion_120_12_18.txt\n",
      "/home/somz/Projects/Hierarchies_to_scale/khepera-simulations/files/data_files/comm_congestion/perf_communication_congestion_120_4_19.txt\n",
      "/home/somz/Projects/Hierarchies_to_scale/khepera-simulations/files/data_files/comm_congestion/perf_communication_congestion_120_8_19.txt\n",
      "/home/somz/Projects/Hierarchies_to_scale/khepera-simulations/files/data_files/comm_congestion/perf_communication_congestion_120_12_19.txt\n",
      "/home/somz/Projects/Hierarchies_to_scale/khepera-simulations/files/data_files/comm_congestion/perf_communication_congestion_120_4_20.txt\n",
      "/home/somz/Projects/Hierarchies_to_scale/khepera-simulations/files/data_files/comm_congestion/perf_communication_congestion_120_8_20.txt\n",
      "/home/somz/Projects/Hierarchies_to_scale/khepera-simulations/files/data_files/comm_congestion/perf_communication_congestion_120_12_20.txt\n",
      "/home/somz/Projects/Hierarchies_to_scale/khepera-simulations/files/data_files/comm_congestion/perf_communication_congestion_120_4_21.txt\n",
      "/home/somz/Projects/Hierarchies_to_scale/khepera-simulations/files/data_files/comm_congestion/perf_communication_congestion_120_8_21.txt\n",
      "/home/somz/Projects/Hierarchies_to_scale/khepera-simulations/files/data_files/comm_congestion/perf_communication_congestion_120_12_21.txt\n",
      "/home/somz/Projects/Hierarchies_to_scale/khepera-simulations/files/data_files/comm_congestion/perf_communication_congestion_120_4_22.txt\n",
      "/home/somz/Projects/Hierarchies_to_scale/khepera-simulations/files/data_files/comm_congestion/perf_communication_congestion_120_8_22.txt\n",
      "/home/somz/Projects/Hierarchies_to_scale/khepera-simulations/files/data_files/comm_congestion/perf_communication_congestion_120_12_22.txt\n",
      "/home/somz/Projects/Hierarchies_to_scale/khepera-simulations/files/data_files/comm_congestion/perf_communication_congestion_120_4_23.txt\n",
      "/home/somz/Projects/Hierarchies_to_scale/khepera-simulations/files/data_files/comm_congestion/perf_communication_congestion_120_8_23.txt\n",
      "/home/somz/Projects/Hierarchies_to_scale/khepera-simulations/files/data_files/comm_congestion/perf_communication_congestion_120_12_23.txt\n",
      "/home/somz/Projects/Hierarchies_to_scale/khepera-simulations/files/data_files/comm_congestion/perf_communication_congestion_120_4_24.txt\n",
      "/home/somz/Projects/Hierarchies_to_scale/khepera-simulations/files/data_files/comm_congestion/perf_communication_congestion_120_8_24.txt\n",
      "/home/somz/Projects/Hierarchies_to_scale/khepera-simulations/files/data_files/comm_congestion/perf_communication_congestion_120_12_24.txt\n",
      "/home/somz/Projects/Hierarchies_to_scale/khepera-simulations/files/data_files/comm_congestion/perf_communication_congestion_120_4_25.txt\n",
      "/home/somz/Projects/Hierarchies_to_scale/khepera-simulations/files/data_files/comm_congestion/perf_communication_congestion_120_8_25.txt\n",
      "/home/somz/Projects/Hierarchies_to_scale/khepera-simulations/files/data_files/comm_congestion/perf_communication_congestion_120_12_25.txt\n",
      "/home/somz/Projects/Hierarchies_to_scale/khepera-simulations/files/data_files/comm_congestion/perf_communication_congestion_120_4_26.txt\n",
      "/home/somz/Projects/Hierarchies_to_scale/khepera-simulations/files/data_files/comm_congestion/perf_communication_congestion_120_8_26.txt\n",
      "/home/somz/Projects/Hierarchies_to_scale/khepera-simulations/files/data_files/comm_congestion/perf_communication_congestion_120_12_26.txt\n",
      "/home/somz/Projects/Hierarchies_to_scale/khepera-simulations/files/data_files/comm_congestion/perf_communication_congestion_120_4_27.txt\n",
      "/home/somz/Projects/Hierarchies_to_scale/khepera-simulations/files/data_files/comm_congestion/perf_communication_congestion_120_8_27.txt\n",
      "/home/somz/Projects/Hierarchies_to_scale/khepera-simulations/files/data_files/comm_congestion/perf_communication_congestion_120_12_27.txt\n",
      "/home/somz/Projects/Hierarchies_to_scale/khepera-simulations/files/data_files/comm_congestion/perf_communication_congestion_120_4_28.txt\n",
      "/home/somz/Projects/Hierarchies_to_scale/khepera-simulations/files/data_files/comm_congestion/perf_communication_congestion_120_8_28.txt\n",
      "/home/somz/Projects/Hierarchies_to_scale/khepera-simulations/files/data_files/comm_congestion/perf_communication_congestion_120_12_28.txt\n",
      "/home/somz/Projects/Hierarchies_to_scale/khepera-simulations/files/data_files/comm_congestion/perf_communication_congestion_120_4_29.txt\n",
      "/home/somz/Projects/Hierarchies_to_scale/khepera-simulations/files/data_files/comm_congestion/perf_communication_congestion_120_8_29.txt\n",
      "/home/somz/Projects/Hierarchies_to_scale/khepera-simulations/files/data_files/comm_congestion/perf_communication_congestion_120_12_29.txt\n",
      "     exp_finished  collision_sum  number_of_robots  seed  range\n",
      "0               1      50.050000                 2     0    0.4\n",
      "1               1      11.950000                 2     0    0.8\n",
      "2               1       7.400000                 2     0    1.2\n",
      "3               1       2.000000                 2     1    0.4\n",
      "4               1       2.000000                 2     1    0.8\n",
      "..            ...            ...               ...   ...    ...\n",
      "895             1     204.025000               120    28    0.8\n",
      "896             1     204.025000               120    28    1.2\n",
      "897             1     160.229167               120    29    0.4\n",
      "898             1     160.229167               120    29    0.8\n",
      "899             1     160.229167               120    29    1.2\n",
      "\n",
      "[900 rows x 5 columns]\n",
      "       time  exp_finished  number_of_robots  seed  range\n",
      "0    1133.9             1                 2     0    0.4\n",
      "1     192.1             1                 2     0    0.8\n",
      "2     150.7             1                 2     0    1.2\n",
      "3      31.0             1                 2     1    0.4\n",
      "4      31.0             1                 2     1    0.8\n",
      "..      ...           ...               ...   ...    ...\n",
      "895   255.9             1               120    28    0.8\n",
      "896   255.9             1               120    28    1.2\n",
      "897   204.2             1               120    29    0.4\n",
      "898   204.2             1               120    29    0.8\n",
      "899   204.2             1               120    29    1.2\n",
      "\n",
      "[900 rows x 5 columns]\n",
      "     exp_finished  conflicts_sum  number_of_robots  seed  range\n",
      "0               1       0.000000                 2     0    0.4\n",
      "1               1       0.000000                 2     0    0.8\n",
      "2               1       0.000000                 2     0    1.2\n",
      "3               1       0.000000                 2     1    0.4\n",
      "4               1       0.000000                 2     1    0.8\n",
      "..            ...            ...               ...   ...    ...\n",
      "895             1      14.876667               120    28    0.8\n",
      "896             1      27.100833               120    28    1.2\n",
      "897             1       4.007500               120    29    0.4\n",
      "898             1       8.705000               120    29    0.8\n",
      "899             1      16.571667               120    29    1.2\n",
      "\n",
      "[900 rows x 5 columns]\n"
     ]
    }
   ],
   "source": [
    "total_collision = pd.DataFrame()\n",
    "total_time = pd.DataFrame()\n",
    "total_conflicts = pd.DataFrame()\n",
    "\n",
    "for robot in robots:\n",
    "    for seed in seeds: \n",
    "        for range_ in rab_ranges:\n",
    "            fname = get_name(robot,seed,range_)\n",
    "            perf_frame = pd.read_csv(fname, sep=',', names=get_names_f(robot))\n",
    "            df = pd.DataFrame(data=perf_frame)\n",
    "            collision_sum = pd.DataFrame() \n",
    "            conflicts_sum = pd.DataFrame()\n",
    "            time_ = pd.DataFrame()\n",
    "        \n",
    "            collision = df.filter(regex='collision').tail(1).reset_index(drop=True)\n",
    "            collision_sum['exp_finished']  = df['exp_finished'].tail(1).reset_index(drop=True)\n",
    "            collision_sum['collision_sum'] = collision.sum(axis='columns')/(robot*10)\n",
    "            collision_sum['number_of_robots'] = robot\n",
    "            collision_sum['seed'] = seed\n",
    "            collision_sum['range'] = range_/10\n",
    "\n",
    "            conflicts = df.filter(regex='conflicts').tail(1).reset_index(drop=True)\n",
    "            conflicts_sum['exp_finished']  = df['exp_finished'].tail(1).reset_index(drop=True)\n",
    "            conflicts_sum['conflicts_sum'] = conflicts.sum(axis='columns')/(robot*10)\n",
    "            conflicts_sum['number_of_robots'] = robot\n",
    "            conflicts_sum['seed'] = seed\n",
    "            conflicts_sum['range'] = range_/10\n",
    "\n",
    "            time_= df['exp_finished'].tail(1).reset_index()\n",
    "            time_.rename(columns={'index':'time'}, inplace=True)\n",
    "            time_['time'] = time_['time']/10\n",
    "            time_['number_of_robots'] = robot\n",
    "            time_['seed'] = seed\n",
    "            time_['range'] = range_/10\n",
    "\n",
    "\n",
    "            total_collision = pd.concat([total_collision,collision_sum], ignore_index=True) \n",
    "            total_conflicts = pd.concat([total_conflicts,conflicts_sum], ignore_index=True)    \n",
    "            total_time = pd.concat([total_time,time_], ignore_index=True) \n",
    "\n",
    "\n",
    "\n",
    "# print(perf_frame)\n",
    "\n",
    "#total collisions for experiment \n",
    "# print(perf_frame[)\n",
    "print(total_collision)\n",
    "print(total_time)\n",
    "print(total_conflicts)\n",
    "\n",
    "\n"
   ]
  },
  {
   "cell_type": "code",
   "execution_count": 69,
   "metadata": {},
   "outputs": [
    {
     "data": {
      "text/html": [
       "<div>\n",
       "<style scoped>\n",
       "    .dataframe tbody tr th:only-of-type {\n",
       "        vertical-align: middle;\n",
       "    }\n",
       "\n",
       "    .dataframe tbody tr th {\n",
       "        vertical-align: top;\n",
       "    }\n",
       "\n",
       "    .dataframe thead th {\n",
       "        text-align: right;\n",
       "    }\n",
       "</style>\n",
       "<table border=\"1\" class=\"dataframe\">\n",
       "  <thead>\n",
       "    <tr style=\"text-align: right;\">\n",
       "      <th></th>\n",
       "      <th>exp_finished</th>\n",
       "      <th>conflicts_sum</th>\n",
       "      <th>number_of_robots</th>\n",
       "      <th>seed</th>\n",
       "      <th>range</th>\n",
       "    </tr>\n",
       "  </thead>\n",
       "  <tbody>\n",
       "    <tr>\n",
       "      <th>0</th>\n",
       "      <td>1</td>\n",
       "      <td>0.000</td>\n",
       "      <td>2</td>\n",
       "      <td>0</td>\n",
       "      <td>0.4</td>\n",
       "    </tr>\n",
       "    <tr>\n",
       "      <th>1</th>\n",
       "      <td>1</td>\n",
       "      <td>0.000</td>\n",
       "      <td>2</td>\n",
       "      <td>0</td>\n",
       "      <td>0.8</td>\n",
       "    </tr>\n",
       "    <tr>\n",
       "      <th>2</th>\n",
       "      <td>1</td>\n",
       "      <td>0.000</td>\n",
       "      <td>2</td>\n",
       "      <td>0</td>\n",
       "      <td>1.2</td>\n",
       "    </tr>\n",
       "    <tr>\n",
       "      <th>3</th>\n",
       "      <td>1</td>\n",
       "      <td>0.000</td>\n",
       "      <td>2</td>\n",
       "      <td>1</td>\n",
       "      <td>0.4</td>\n",
       "    </tr>\n",
       "    <tr>\n",
       "      <th>4</th>\n",
       "      <td>1</td>\n",
       "      <td>0.000</td>\n",
       "      <td>2</td>\n",
       "      <td>1</td>\n",
       "      <td>0.8</td>\n",
       "    </tr>\n",
       "    <tr>\n",
       "      <th>...</th>\n",
       "      <td>...</td>\n",
       "      <td>...</td>\n",
       "      <td>...</td>\n",
       "      <td>...</td>\n",
       "      <td>...</td>\n",
       "    </tr>\n",
       "    <tr>\n",
       "      <th>805</th>\n",
       "      <td>1</td>\n",
       "      <td>10.022</td>\n",
       "      <td>100</td>\n",
       "      <td>28</td>\n",
       "      <td>0.8</td>\n",
       "    </tr>\n",
       "    <tr>\n",
       "      <th>806</th>\n",
       "      <td>1</td>\n",
       "      <td>18.044</td>\n",
       "      <td>100</td>\n",
       "      <td>28</td>\n",
       "      <td>1.2</td>\n",
       "    </tr>\n",
       "    <tr>\n",
       "      <th>807</th>\n",
       "      <td>1</td>\n",
       "      <td>1.743</td>\n",
       "      <td>100</td>\n",
       "      <td>29</td>\n",
       "      <td>0.4</td>\n",
       "    </tr>\n",
       "    <tr>\n",
       "      <th>808</th>\n",
       "      <td>1</td>\n",
       "      <td>7.502</td>\n",
       "      <td>100</td>\n",
       "      <td>29</td>\n",
       "      <td>0.8</td>\n",
       "    </tr>\n",
       "    <tr>\n",
       "      <th>809</th>\n",
       "      <td>1</td>\n",
       "      <td>15.363</td>\n",
       "      <td>100</td>\n",
       "      <td>29</td>\n",
       "      <td>1.2</td>\n",
       "    </tr>\n",
       "  </tbody>\n",
       "</table>\n",
       "<p>810 rows × 5 columns</p>\n",
       "</div>"
      ],
      "text/plain": [
       "     exp_finished  conflicts_sum  number_of_robots  seed  range\n",
       "0               1          0.000                 2     0    0.4\n",
       "1               1          0.000                 2     0    0.8\n",
       "2               1          0.000                 2     0    1.2\n",
       "3               1          0.000                 2     1    0.4\n",
       "4               1          0.000                 2     1    0.8\n",
       "..            ...            ...               ...   ...    ...\n",
       "805             1         10.022               100    28    0.8\n",
       "806             1         18.044               100    28    1.2\n",
       "807             1          1.743               100    29    0.4\n",
       "808             1          7.502               100    29    0.8\n",
       "809             1         15.363               100    29    1.2\n",
       "\n",
       "[810 rows x 5 columns]"
      ]
     },
     "execution_count": 69,
     "metadata": {},
     "output_type": "execute_result"
    }
   ],
   "source": [
    "total_conflicts"
   ]
  },
  {
   "cell_type": "code",
   "execution_count": 70,
   "metadata": {},
   "outputs": [
    {
     "data": {
      "text/plain": [
       "time                810\n",
       "exp_finished        810\n",
       "number_of_robots    810\n",
       "seed                783\n",
       "range               810\n",
       "dtype: int64"
      ]
     },
     "execution_count": 70,
     "metadata": {},
     "output_type": "execute_result"
    }
   ],
   "source": [
    "total_time.astype(bool).sum(axis=0)"
   ]
  },
  {
   "cell_type": "code",
   "execution_count": 17,
   "metadata": {},
   "outputs": [
    {
     "data": {
      "image/png": "[encoded data removed]",
      "text/plain": [
       "<Figure size 324x252 with 1 Axes>"
      ]
     },
     "metadata": {
      "needs_background": "light"
     },
     "output_type": "display_data"
    }
   ],
   "source": [
    "dx=\"number_of_robots\"\n",
    "dy=\"collision_sum\"\n",
    "dhue=\"range\"\n",
    "pal=[\"red\",\"blue\",\"green\"]\n",
    "data = total_collision\n",
    "\n",
    "f, ax = plt.subplots(figsize=(4.5,3.5))\n",
    "# ax.set_yticks([i for i in range(0,30000,2000)])\n",
    "\n",
    "plt.rc('xtick', labelsize=10) \n",
    "plt.rc('ytick', labelsize=10) \n",
    "\n",
    "plt.title(\"Time spent avoiding collisions\")\n",
    "\n",
    "\n",
    "sns.stripplot(x=dx, \n",
    "              y=dy,  \n",
    "              hue=dhue,\n",
    "              data=data,\n",
    "              ax=ax,\n",
    "              alpha=0.69,\n",
    "              jitter=0.1,\n",
    "              palette=pal,\n",
    "              dodge=True,\n",
    "              size=5)\n",
    "\n",
    "sns.boxplot(showmeans=True,\n",
    "            meanline=True,\n",
    "            meanprops={'color': 'k', 'ls': '-', 'lw': 0.8},\n",
    "            medianprops={'visible': False},\n",
    "            whiskerprops={'visible': False},\n",
    "            zorder=10,\n",
    "            x=dx,\n",
    "            y=dy,\n",
    "            hue=dhue,\n",
    "            data=data,\n",
    "            showfliers=False,\n",
    "            showbox=False,\n",
    "            showcaps=False,\n",
    "            ax=ax)\n",
    "\n",
    "# ax.get_legend().remove()\n",
    "# ax.legend(loc=3,ncol=3,framealpha=0.5,fontsize=11)\n",
    "handles, labels = ax.get_legend_handles_labels()\n",
    "l = plt.legend(handles[0:3], ['Range 0.4m','Range 0.8m','Range 1.2m'],loc=\"upper left\",framealpha=0.7,fontsize=11)\n",
    "\n",
    "# plt.xticks([0,5,10,15], ['15X15','30X30', '60X60', '120X120'])\n",
    "# plt.ylim(-0.05,1.4)\n",
    "\n",
    "# plt.yticks(np.arange(0.0,1.45,0.2))\n",
    "plt.tight_layout(pad=0.1)\n",
    "# plt.figtext(0.12, 0.8, ' 30X30m Arena',  color='black', weight='roman',size='medium',fontsize=16)\n",
    "ax.set_ylabel(\"Collisions per robot (s)\",fontsize=10)\n",
    "ax.set_xlabel(\"Number of robots\",fontsize=10)\n",
    "plt.savefig(\"comm_cong_collision_time_spent.pdf\", dpi=600, format=\"pdf\", transparent=False)\n",
    "plt.show()"
   ]
  },
  {
   "cell_type": "code",
   "execution_count": 18,
   "metadata": {},
   "outputs": [
    {
     "data": {
      "image/png": "[encoded data removed]",
      "text/plain": [
       "<Figure size 324x252 with 1 Axes>"
      ]
     },
     "metadata": {
      "needs_background": "light"
     },
     "output_type": "display_data"
    }
   ],
   "source": [
    "dx=\"number_of_robots\"\n",
    "dy=\"conflicts_sum\"\n",
    "dhue=\"range\"\n",
    "pal=[\"red\",\"blue\",\"green\"]\n",
    "data = total_conflicts\n",
    "\n",
    "f, ax = plt.subplots(figsize=(4.5,3.5))\n",
    "# ax.set_yticks([i for i in range(0,30000,2000)])\n",
    "\n",
    "plt.rc('xtick', labelsize=10) \n",
    "plt.rc('ytick', labelsize=10) \n",
    "\n",
    "plt.title(\"No of conflicts per robot\")\n",
    "\n",
    "\n",
    "sns.stripplot(x=dx, \n",
    "              y=dy,  \n",
    "              hue=dhue,\n",
    "              data=data,\n",
    "              ax=ax,\n",
    "              alpha=0.69,\n",
    "              jitter=0.1,\n",
    "              palette=pal,\n",
    "              dodge=True,\n",
    "              size=5)\n",
    "\n",
    "sns.boxplot(showmeans=True,\n",
    "            meanline=True,\n",
    "            meanprops={'color': 'k', 'ls': '-', 'lw': 0.9},\n",
    "            medianprops={'visible': False},\n",
    "            whiskerprops={'visible': False},\n",
    "            zorder=10,\n",
    "            x=dx,\n",
    "            y=dy,\n",
    "            hue=dhue,\n",
    "            data=data,\n",
    "            showfliers=False,\n",
    "            showbox=False,\n",
    "            showcaps=False,\n",
    "            ax=ax)\n",
    "\n",
    "# ax.get_legend().remove()\n",
    "# ax.legend(loc=3,ncol=3,framealpha=0.5,fontsize=11)\n",
    "handles, labels = ax.get_legend_handles_labels()\n",
    "l = plt.legend(handles[0:3], ['Range 0.4m','Range 0.8m','Range 1.2m'],loc=\"upper left\",framealpha=0.7,fontsize=11)\n",
    "\n",
    "# plt.xticks([0,5,10,15], ['15X15','30X30', '60X60', '120X120'])\n",
    "# plt.ylim(-0.05,1.4)\n",
    "\n",
    "# plt.yticks(np.arange(0.0,1.45,0.2))\n",
    "plt.tight_layout(pad=0.1)\n",
    "# plt.figtext(0.12, 0.8, ' 30X30m Arena',  color='black', weight='roman',size='medium',fontsize=16)\n",
    "ax.set_ylabel(\"Conflicts\",fontsize=10)\n",
    "ax.set_xlabel(\"Number of robots\",fontsize=10)\n",
    "plt.savefig(\"comm_cong_conflicts.pdf\", dpi=600, format=\"pdf\", transparent=False)\n",
    "plt.show()"
   ]
  },
  {
   "cell_type": "code",
   "execution_count": 19,
   "metadata": {},
   "outputs": [
    {
     "data": {
      "image/png": "[encoded data removed]",
      "text/plain": [
       "<Figure size 324x252 with 1 Axes>"
      ]
     },
     "metadata": {
      "needs_background": "light"
     },
     "output_type": "display_data"
    }
   ],
   "source": [
    "dx=\"number_of_robots\"\n",
    "dy=\"time\"\n",
    "dhue=\"range\"\n",
    "pal=[\"red\",\"blue\",\"green\"]\n",
    "data = total_time\n",
    "\n",
    "f, ax = plt.subplots(figsize=(4.5,3.5))\n",
    "# ax.set_yticks([i for i in range(0,30000,2000)])\n",
    "\n",
    "plt.rc('xtick', labelsize=10) \n",
    "plt.rc('ytick', labelsize=10) \n",
    "\n",
    "plt.title(\"Total Time\")\n",
    "\n",
    "\n",
    "sns.stripplot(x=dx, \n",
    "              y=dy,  \n",
    "              hue=dhue,\n",
    "              data=data,\n",
    "              ax=ax,\n",
    "              alpha=0.69,\n",
    "              jitter=0.1,\n",
    "              palette=pal,\n",
    "              dodge=True,\n",
    "              size=5)\n",
    "\n",
    "sns.boxplot(showmeans=True,\n",
    "            meanline=True,\n",
    "            meanprops={'color': 'k', 'ls': '-', 'lw': 0.8},\n",
    "            medianprops={'visible': False},\n",
    "            whiskerprops={'visible': False},\n",
    "            zorder=12,\n",
    "            x=dx,\n",
    "            y=dy,\n",
    "            hue=dhue,\n",
    "            data=data,\n",
    "            showfliers=False,\n",
    "            showbox=False,\n",
    "            showcaps=False,\n",
    "            ax=ax)\n",
    "\n",
    "# ax.get_legend().remove()\n",
    "# ax.legend(loc=3,ncol=3,framealpha=0.5,fontsize=11)\n",
    "handles, labels = ax.get_legend_handles_labels()\n",
    "l = plt.legend(handles[0:3], ['Range 0.4m','Range 0.8m','Range 1.2m'],loc=\"upper left\",framealpha=0.7,fontsize=11)\n",
    "\n",
    "# plt.xticks([0,5,10,15], ['15X15','30X30', '60X60', '120X120'])\n",
    "# plt.ylim(-0.05,1.4)\n",
    "\n",
    "# plt.yticks(np.arange(0.0,1.45,0.2))\n",
    "plt.tight_layout(pad=0.1)\n",
    "# plt.figtext(0.12, 0.8, ' 30X30m Arena',  color='black', weight='roman',size='medium',fontsize=16)\n",
    "ax.set_ylabel(\"Time (s)\",fontsize=10)\n",
    "ax.set_xlabel(\"Number of robots\",fontsize=10)\n",
    "plt.savefig(\"comm_cong_time_spent.pdf\", dpi=600, format=\"pdf\", transparent=False)\n",
    "plt.show()"
   ]
  },
  {
   "cell_type": "code",
   "execution_count": 43,
   "metadata": {},
   "outputs": [
    {
     "ename": "ValueError",
     "evalue": "'total_conflicts' is not one of the example datasets.",
     "output_type": "error",
     "traceback": [
      "\u001b[0;31m---------------------------------------------------------------------------\u001b[0m",
      "\u001b[0;31mValueError\u001b[0m                                Traceback (most recent call last)",
      "\u001b[1;32m/home/somz/Projects/Hierarchies_to_scale/khepera-simulations/files/data_processing/movement_congestion.ipynb Cell 14\u001b[0m in \u001b[0;36m<cell line: 1>\u001b[0;34m()\u001b[0m\n\u001b[0;32m----> <a href='vscode-notebook-cell:/home/somz/Projects/Hierarchies_to_scale/khepera-simulations/files/data_processing/movement_congestion.ipynb#X32sZmlsZQ%3D%3D?line=0'>1</a>\u001b[0m t_conflicts \u001b[39m=\u001b[39m sns\u001b[39m.\u001b[39;49mload_dataset(\u001b[39m\"\u001b[39;49m\u001b[39mtotal_conflicts\u001b[39;49m\u001b[39m\"\u001b[39;49m)\u001b[39m.\u001b[39mpivot(\u001b[39m\"\u001b[39m\u001b[39mnumber_of_robots\u001b[39m\u001b[39m\"\u001b[39m, \u001b[39m\"\u001b[39m\u001b[39mrange\u001b[39m\u001b[39m\"\u001b[39m, \u001b[39m\"\u001b[39m\u001b[39mconflicts_sum\u001b[39m\u001b[39m\"\u001b[39m)\n\u001b[1;32m      <a href='vscode-notebook-cell:/home/somz/Projects/Hierarchies_to_scale/khepera-simulations/files/data_processing/movement_congestion.ipynb#X32sZmlsZQ%3D%3D?line=1'>2</a>\u001b[0m sns\u001b[39m.\u001b[39mheatmap(t_conflicts, cmap\u001b[39m=\u001b[39m\u001b[39m\"\u001b[39m\u001b[39mcrest\u001b[39m\u001b[39m\"\u001b[39m)\n",
      "File \u001b[0;32m~/.pyenv/versions/3.8.12/envs/data_process/lib/python3.8/site-packages/seaborn/utils.py:595\u001b[0m, in \u001b[0;36mload_dataset\u001b[0;34m(name, cache, data_home, **kws)\u001b[0m\n\u001b[1;32m    593\u001b[0m \u001b[39mif\u001b[39;00m \u001b[39mnot\u001b[39;00m os\u001b[39m.\u001b[39mpath\u001b[39m.\u001b[39mexists(cache_path):\n\u001b[1;32m    594\u001b[0m     \u001b[39mif\u001b[39;00m name \u001b[39mnot\u001b[39;00m \u001b[39min\u001b[39;00m get_dataset_names():\n\u001b[0;32m--> 595\u001b[0m         \u001b[39mraise\u001b[39;00m \u001b[39mValueError\u001b[39;00m(\u001b[39mf\u001b[39m\u001b[39m\"\u001b[39m\u001b[39m'\u001b[39m\u001b[39m{\u001b[39;00mname\u001b[39m}\u001b[39;00m\u001b[39m'\u001b[39m\u001b[39m is not one of the example datasets.\u001b[39m\u001b[39m\"\u001b[39m)\n\u001b[1;32m    596\u001b[0m     urlretrieve(url, cache_path)\n\u001b[1;32m    597\u001b[0m full_path \u001b[39m=\u001b[39m cache_path\n",
      "\u001b[0;31mValueError\u001b[0m: 'total_conflicts' is not one of the example datasets."
     ]
    }
   ],
   "source": [
    "t_conflicts = sns.load_dataset(\"total_conflicts\").pivot(\"number_of_robots\", \"range\", \"conflicts_sum\")\n",
    "sns.heatmap(t_conflicts, cmap=\"crest\")"
   ]
  },
  {
   "attachments": {},
   "cell_type": "markdown",
   "metadata": {},
   "source": [
    "Per State analysis for time and collisions"
   ]
  },
  {
   "cell_type": "code",
   "execution_count": null,
   "metadata": {},
   "outputs": [
    {
     "name": "stdout",
     "output_type": "stream",
     "text": [
      "/home/somz/Projects/Hierarchies_to_scale/khepera-simulations/files/results/perf_out_2_1.txt\n",
      "/home/somz/Projects/Hierarchies_to_scale/khepera-simulations/files/results/perf_out_2_2.txt\n",
      "/home/somz/Projects/Hierarchies_to_scale/khepera-simulations/files/results/perf_out_2_3.txt\n",
      "/home/somz/Projects/Hierarchies_to_scale/khepera-simulations/files/results/perf_out_2_4.txt\n",
      "/home/somz/Projects/Hierarchies_to_scale/khepera-simulations/files/results/perf_out_2_5.txt\n",
      "/home/somz/Projects/Hierarchies_to_scale/khepera-simulations/files/results/perf_out_2_6.txt\n",
      "/home/somz/Projects/Hierarchies_to_scale/khepera-simulations/files/results/perf_out_2_7.txt\n",
      "/home/somz/Projects/Hierarchies_to_scale/khepera-simulations/files/results/perf_out_2_8.txt\n",
      "/home/somz/Projects/Hierarchies_to_scale/khepera-simulations/files/results/perf_out_2_9.txt\n",
      "/home/somz/Projects/Hierarchies_to_scale/khepera-simulations/files/results/perf_out_2_10.txt\n",
      "/home/somz/Projects/Hierarchies_to_scale/khepera-simulations/files/results/perf_out_2_11.txt\n",
      "/home/somz/Projects/Hierarchies_to_scale/khepera-simulations/files/results/perf_out_2_12.txt\n",
      "/home/somz/Projects/Hierarchies_to_scale/khepera-simulations/files/results/perf_out_2_13.txt\n",
      "/home/somz/Projects/Hierarchies_to_scale/khepera-simulations/files/results/perf_out_2_14.txt\n",
      "/home/somz/Projects/Hierarchies_to_scale/khepera-simulations/files/results/perf_out_2_15.txt\n",
      "/home/somz/Projects/Hierarchies_to_scale/khepera-simulations/files/results/perf_out_2_16.txt\n",
      "/home/somz/Projects/Hierarchies_to_scale/khepera-simulations/files/results/perf_out_2_17.txt\n",
      "/home/somz/Projects/Hierarchies_to_scale/khepera-simulations/files/results/perf_out_2_18.txt\n",
      "/home/somz/Projects/Hierarchies_to_scale/khepera-simulations/files/results/perf_out_2_19.txt\n",
      "/home/somz/Projects/Hierarchies_to_scale/khepera-simulations/files/results/perf_out_2_20.txt\n",
      "/home/somz/Projects/Hierarchies_to_scale/khepera-simulations/files/results/perf_out_2_21.txt\n",
      "/home/somz/Projects/Hierarchies_to_scale/khepera-simulations/files/results/perf_out_2_22.txt\n",
      "/home/somz/Projects/Hierarchies_to_scale/khepera-simulations/files/results/perf_out_2_23.txt\n",
      "/home/somz/Projects/Hierarchies_to_scale/khepera-simulations/files/results/perf_out_2_24.txt\n",
      "/home/somz/Projects/Hierarchies_to_scale/khepera-simulations/files/results/perf_out_2_25.txt\n",
      "/home/somz/Projects/Hierarchies_to_scale/khepera-simulations/files/results/perf_out_2_26.txt\n",
      "/home/somz/Projects/Hierarchies_to_scale/khepera-simulations/files/results/perf_out_2_27.txt\n",
      "/home/somz/Projects/Hierarchies_to_scale/khepera-simulations/files/results/perf_out_2_28.txt\n",
      "/home/somz/Projects/Hierarchies_to_scale/khepera-simulations/files/results/perf_out_2_29.txt\n",
      "/home/somz/Projects/Hierarchies_to_scale/khepera-simulations/files/results/perf_out_2_30.txt\n",
      "/home/somz/Projects/Hierarchies_to_scale/khepera-simulations/files/results/perf_out_4_1.txt\n",
      "/home/somz/Projects/Hierarchies_to_scale/khepera-simulations/files/results/perf_out_4_2.txt\n",
      "/home/somz/Projects/Hierarchies_to_scale/khepera-simulations/files/results/perf_out_4_3.txt\n",
      "/home/somz/Projects/Hierarchies_to_scale/khepera-simulations/files/results/perf_out_4_4.txt\n",
      "/home/somz/Projects/Hierarchies_to_scale/khepera-simulations/files/results/perf_out_4_5.txt\n",
      "/home/somz/Projects/Hierarchies_to_scale/khepera-simulations/files/results/perf_out_4_6.txt\n",
      "/home/somz/Projects/Hierarchies_to_scale/khepera-simulations/files/results/perf_out_4_7.txt\n",
      "/home/somz/Projects/Hierarchies_to_scale/khepera-simulations/files/results/perf_out_4_8.txt\n",
      "/home/somz/Projects/Hierarchies_to_scale/khepera-simulations/files/results/perf_out_4_9.txt\n",
      "/home/somz/Projects/Hierarchies_to_scale/khepera-simulations/files/results/perf_out_4_10.txt\n",
      "/home/somz/Projects/Hierarchies_to_scale/khepera-simulations/files/results/perf_out_4_11.txt\n",
      "/home/somz/Projects/Hierarchies_to_scale/khepera-simulations/files/results/perf_out_4_12.txt\n",
      "/home/somz/Projects/Hierarchies_to_scale/khepera-simulations/files/results/perf_out_4_13.txt\n",
      "/home/somz/Projects/Hierarchies_to_scale/khepera-simulations/files/results/perf_out_4_14.txt\n",
      "/home/somz/Projects/Hierarchies_to_scale/khepera-simulations/files/results/perf_out_4_15.txt\n",
      "/home/somz/Projects/Hierarchies_to_scale/khepera-simulations/files/results/perf_out_4_16.txt\n",
      "/home/somz/Projects/Hierarchies_to_scale/khepera-simulations/files/results/perf_out_4_17.txt\n",
      "/home/somz/Projects/Hierarchies_to_scale/khepera-simulations/files/results/perf_out_4_18.txt\n",
      "/home/somz/Projects/Hierarchies_to_scale/khepera-simulations/files/results/perf_out_4_19.txt\n",
      "/home/somz/Projects/Hierarchies_to_scale/khepera-simulations/files/results/perf_out_4_20.txt\n",
      "/home/somz/Projects/Hierarchies_to_scale/khepera-simulations/files/results/perf_out_4_21.txt\n",
      "/home/somz/Projects/Hierarchies_to_scale/khepera-simulations/files/results/perf_out_4_22.txt\n",
      "/home/somz/Projects/Hierarchies_to_scale/khepera-simulations/files/results/perf_out_4_23.txt\n",
      "/home/somz/Projects/Hierarchies_to_scale/khepera-simulations/files/results/perf_out_4_24.txt\n",
      "/home/somz/Projects/Hierarchies_to_scale/khepera-simulations/files/results/perf_out_4_25.txt\n",
      "/home/somz/Projects/Hierarchies_to_scale/khepera-simulations/files/results/perf_out_4_26.txt\n",
      "/home/somz/Projects/Hierarchies_to_scale/khepera-simulations/files/results/perf_out_4_27.txt\n",
      "/home/somz/Projects/Hierarchies_to_scale/khepera-simulations/files/results/perf_out_4_28.txt\n",
      "/home/somz/Projects/Hierarchies_to_scale/khepera-simulations/files/results/perf_out_4_29.txt\n",
      "/home/somz/Projects/Hierarchies_to_scale/khepera-simulations/files/results/perf_out_4_30.txt\n",
      "/home/somz/Projects/Hierarchies_to_scale/khepera-simulations/files/results/perf_out_6_1.txt\n",
      "/home/somz/Projects/Hierarchies_to_scale/khepera-simulations/files/results/perf_out_6_2.txt\n",
      "/home/somz/Projects/Hierarchies_to_scale/khepera-simulations/files/results/perf_out_6_3.txt\n",
      "/home/somz/Projects/Hierarchies_to_scale/khepera-simulations/files/results/perf_out_6_4.txt\n",
      "/home/somz/Projects/Hierarchies_to_scale/khepera-simulations/files/results/perf_out_6_5.txt\n",
      "/home/somz/Projects/Hierarchies_to_scale/khepera-simulations/files/results/perf_out_6_6.txt\n",
      "/home/somz/Projects/Hierarchies_to_scale/khepera-simulations/files/results/perf_out_6_7.txt\n",
      "/home/somz/Projects/Hierarchies_to_scale/khepera-simulations/files/results/perf_out_6_8.txt\n",
      "/home/somz/Projects/Hierarchies_to_scale/khepera-simulations/files/results/perf_out_6_9.txt\n",
      "/home/somz/Projects/Hierarchies_to_scale/khepera-simulations/files/results/perf_out_6_10.txt\n",
      "/home/somz/Projects/Hierarchies_to_scale/khepera-simulations/files/results/perf_out_6_11.txt\n",
      "/home/somz/Projects/Hierarchies_to_scale/khepera-simulations/files/results/perf_out_6_12.txt\n",
      "/home/somz/Projects/Hierarchies_to_scale/khepera-simulations/files/results/perf_out_6_13.txt\n",
      "/home/somz/Projects/Hierarchies_to_scale/khepera-simulations/files/results/perf_out_6_14.txt\n",
      "/home/somz/Projects/Hierarchies_to_scale/khepera-simulations/files/results/perf_out_6_15.txt\n",
      "/home/somz/Projects/Hierarchies_to_scale/khepera-simulations/files/results/perf_out_6_16.txt\n",
      "/home/somz/Projects/Hierarchies_to_scale/khepera-simulations/files/results/perf_out_6_17.txt\n",
      "/home/somz/Projects/Hierarchies_to_scale/khepera-simulations/files/results/perf_out_6_18.txt\n",
      "/home/somz/Projects/Hierarchies_to_scale/khepera-simulations/files/results/perf_out_6_19.txt\n",
      "/home/somz/Projects/Hierarchies_to_scale/khepera-simulations/files/results/perf_out_6_20.txt\n",
      "/home/somz/Projects/Hierarchies_to_scale/khepera-simulations/files/results/perf_out_6_21.txt\n",
      "/home/somz/Projects/Hierarchies_to_scale/khepera-simulations/files/results/perf_out_6_22.txt\n",
      "/home/somz/Projects/Hierarchies_to_scale/khepera-simulations/files/results/perf_out_6_23.txt\n",
      "/home/somz/Projects/Hierarchies_to_scale/khepera-simulations/files/results/perf_out_6_24.txt\n",
      "/home/somz/Projects/Hierarchies_to_scale/khepera-simulations/files/results/perf_out_6_25.txt\n",
      "/home/somz/Projects/Hierarchies_to_scale/khepera-simulations/files/results/perf_out_6_26.txt\n",
      "/home/somz/Projects/Hierarchies_to_scale/khepera-simulations/files/results/perf_out_6_27.txt\n",
      "/home/somz/Projects/Hierarchies_to_scale/khepera-simulations/files/results/perf_out_6_28.txt\n",
      "/home/somz/Projects/Hierarchies_to_scale/khepera-simulations/files/results/perf_out_6_29.txt\n",
      "/home/somz/Projects/Hierarchies_to_scale/khepera-simulations/files/results/perf_out_6_30.txt\n",
      "/home/somz/Projects/Hierarchies_to_scale/khepera-simulations/files/results/perf_out_10_1.txt\n",
      "/home/somz/Projects/Hierarchies_to_scale/khepera-simulations/files/results/perf_out_10_2.txt\n",
      "/home/somz/Projects/Hierarchies_to_scale/khepera-simulations/files/results/perf_out_10_3.txt\n",
      "/home/somz/Projects/Hierarchies_to_scale/khepera-simulations/files/results/perf_out_10_4.txt\n",
      "/home/somz/Projects/Hierarchies_to_scale/khepera-simulations/files/results/perf_out_10_5.txt\n",
      "/home/somz/Projects/Hierarchies_to_scale/khepera-simulations/files/results/perf_out_10_6.txt\n",
      "/home/somz/Projects/Hierarchies_to_scale/khepera-simulations/files/results/perf_out_10_7.txt\n",
      "/home/somz/Projects/Hierarchies_to_scale/khepera-simulations/files/results/perf_out_10_8.txt\n",
      "/home/somz/Projects/Hierarchies_to_scale/khepera-simulations/files/results/perf_out_10_9.txt\n",
      "/home/somz/Projects/Hierarchies_to_scale/khepera-simulations/files/results/perf_out_10_10.txt\n",
      "/home/somz/Projects/Hierarchies_to_scale/khepera-simulations/files/results/perf_out_10_11.txt\n",
      "/home/somz/Projects/Hierarchies_to_scale/khepera-simulations/files/results/perf_out_10_12.txt\n",
      "/home/somz/Projects/Hierarchies_to_scale/khepera-simulations/files/results/perf_out_10_13.txt\n",
      "/home/somz/Projects/Hierarchies_to_scale/khepera-simulations/files/results/perf_out_10_14.txt\n",
      "/home/somz/Projects/Hierarchies_to_scale/khepera-simulations/files/results/perf_out_10_15.txt\n",
      "/home/somz/Projects/Hierarchies_to_scale/khepera-simulations/files/results/perf_out_10_16.txt\n",
      "/home/somz/Projects/Hierarchies_to_scale/khepera-simulations/files/results/perf_out_10_17.txt\n",
      "/home/somz/Projects/Hierarchies_to_scale/khepera-simulations/files/results/perf_out_10_18.txt\n",
      "/home/somz/Projects/Hierarchies_to_scale/khepera-simulations/files/results/perf_out_10_19.txt\n",
      "/home/somz/Projects/Hierarchies_to_scale/khepera-simulations/files/results/perf_out_10_20.txt\n",
      "/home/somz/Projects/Hierarchies_to_scale/khepera-simulations/files/results/perf_out_10_21.txt\n",
      "/home/somz/Projects/Hierarchies_to_scale/khepera-simulations/files/results/perf_out_10_22.txt\n",
      "/home/somz/Projects/Hierarchies_to_scale/khepera-simulations/files/results/perf_out_10_23.txt\n",
      "/home/somz/Projects/Hierarchies_to_scale/khepera-simulations/files/results/perf_out_10_24.txt\n",
      "/home/somz/Projects/Hierarchies_to_scale/khepera-simulations/files/results/perf_out_10_25.txt\n",
      "/home/somz/Projects/Hierarchies_to_scale/khepera-simulations/files/results/perf_out_10_26.txt\n",
      "/home/somz/Projects/Hierarchies_to_scale/khepera-simulations/files/results/perf_out_10_27.txt\n",
      "/home/somz/Projects/Hierarchies_to_scale/khepera-simulations/files/results/perf_out_10_28.txt\n",
      "/home/somz/Projects/Hierarchies_to_scale/khepera-simulations/files/results/perf_out_10_29.txt\n",
      "/home/somz/Projects/Hierarchies_to_scale/khepera-simulations/files/results/perf_out_10_30.txt\n",
      "/home/somz/Projects/Hierarchies_to_scale/khepera-simulations/files/results/perf_out_20_1.txt\n",
      "/home/somz/Projects/Hierarchies_to_scale/khepera-simulations/files/results/perf_out_20_2.txt\n",
      "/home/somz/Projects/Hierarchies_to_scale/khepera-simulations/files/results/perf_out_20_3.txt\n",
      "/home/somz/Projects/Hierarchies_to_scale/khepera-simulations/files/results/perf_out_20_4.txt\n",
      "/home/somz/Projects/Hierarchies_to_scale/khepera-simulations/files/results/perf_out_20_5.txt\n",
      "/home/somz/Projects/Hierarchies_to_scale/khepera-simulations/files/results/perf_out_20_6.txt\n",
      "/home/somz/Projects/Hierarchies_to_scale/khepera-simulations/files/results/perf_out_20_7.txt\n",
      "/home/somz/Projects/Hierarchies_to_scale/khepera-simulations/files/results/perf_out_20_8.txt\n",
      "/home/somz/Projects/Hierarchies_to_scale/khepera-simulations/files/results/perf_out_20_9.txt\n",
      "/home/somz/Projects/Hierarchies_to_scale/khepera-simulations/files/results/perf_out_20_10.txt\n",
      "/home/somz/Projects/Hierarchies_to_scale/khepera-simulations/files/results/perf_out_20_11.txt\n",
      "/home/somz/Projects/Hierarchies_to_scale/khepera-simulations/files/results/perf_out_20_12.txt\n",
      "/home/somz/Projects/Hierarchies_to_scale/khepera-simulations/files/results/perf_out_20_13.txt\n",
      "/home/somz/Projects/Hierarchies_to_scale/khepera-simulations/files/results/perf_out_20_14.txt\n",
      "/home/somz/Projects/Hierarchies_to_scale/khepera-simulations/files/results/perf_out_20_15.txt\n",
      "/home/somz/Projects/Hierarchies_to_scale/khepera-simulations/files/results/perf_out_20_16.txt\n",
      "/home/somz/Projects/Hierarchies_to_scale/khepera-simulations/files/results/perf_out_20_17.txt\n",
      "/home/somz/Projects/Hierarchies_to_scale/khepera-simulations/files/results/perf_out_20_18.txt\n",
      "/home/somz/Projects/Hierarchies_to_scale/khepera-simulations/files/results/perf_out_20_19.txt\n",
      "/home/somz/Projects/Hierarchies_to_scale/khepera-simulations/files/results/perf_out_20_20.txt\n",
      "/home/somz/Projects/Hierarchies_to_scale/khepera-simulations/files/results/perf_out_20_21.txt\n",
      "/home/somz/Projects/Hierarchies_to_scale/khepera-simulations/files/results/perf_out_20_22.txt\n",
      "/home/somz/Projects/Hierarchies_to_scale/khepera-simulations/files/results/perf_out_20_23.txt\n",
      "/home/somz/Projects/Hierarchies_to_scale/khepera-simulations/files/results/perf_out_20_24.txt\n",
      "/home/somz/Projects/Hierarchies_to_scale/khepera-simulations/files/results/perf_out_20_25.txt\n",
      "/home/somz/Projects/Hierarchies_to_scale/khepera-simulations/files/results/perf_out_20_26.txt\n",
      "/home/somz/Projects/Hierarchies_to_scale/khepera-simulations/files/results/perf_out_20_27.txt\n",
      "/home/somz/Projects/Hierarchies_to_scale/khepera-simulations/files/results/perf_out_20_28.txt\n",
      "/home/somz/Projects/Hierarchies_to_scale/khepera-simulations/files/results/perf_out_20_29.txt\n",
      "/home/somz/Projects/Hierarchies_to_scale/khepera-simulations/files/results/perf_out_20_30.txt\n",
      "/home/somz/Projects/Hierarchies_to_scale/khepera-simulations/files/results/perf_out_40_1.txt\n",
      "/home/somz/Projects/Hierarchies_to_scale/khepera-simulations/files/results/perf_out_40_2.txt\n",
      "/home/somz/Projects/Hierarchies_to_scale/khepera-simulations/files/results/perf_out_40_3.txt\n",
      "/home/somz/Projects/Hierarchies_to_scale/khepera-simulations/files/results/perf_out_40_4.txt\n",
      "/home/somz/Projects/Hierarchies_to_scale/khepera-simulations/files/results/perf_out_40_5.txt\n",
      "/home/somz/Projects/Hierarchies_to_scale/khepera-simulations/files/results/perf_out_40_6.txt\n",
      "/home/somz/Projects/Hierarchies_to_scale/khepera-simulations/files/results/perf_out_40_7.txt\n",
      "/home/somz/Projects/Hierarchies_to_scale/khepera-simulations/files/results/perf_out_40_8.txt\n",
      "/home/somz/Projects/Hierarchies_to_scale/khepera-simulations/files/results/perf_out_40_9.txt\n",
      "/home/somz/Projects/Hierarchies_to_scale/khepera-simulations/files/results/perf_out_40_10.txt\n",
      "/home/somz/Projects/Hierarchies_to_scale/khepera-simulations/files/results/perf_out_40_11.txt\n",
      "/home/somz/Projects/Hierarchies_to_scale/khepera-simulations/files/results/perf_out_40_12.txt\n",
      "/home/somz/Projects/Hierarchies_to_scale/khepera-simulations/files/results/perf_out_40_13.txt\n",
      "/home/somz/Projects/Hierarchies_to_scale/khepera-simulations/files/results/perf_out_40_14.txt\n",
      "/home/somz/Projects/Hierarchies_to_scale/khepera-simulations/files/results/perf_out_40_15.txt\n",
      "/home/somz/Projects/Hierarchies_to_scale/khepera-simulations/files/results/perf_out_40_16.txt\n",
      "/home/somz/Projects/Hierarchies_to_scale/khepera-simulations/files/results/perf_out_40_17.txt\n",
      "/home/somz/Projects/Hierarchies_to_scale/khepera-simulations/files/results/perf_out_40_18.txt\n",
      "/home/somz/Projects/Hierarchies_to_scale/khepera-simulations/files/results/perf_out_40_19.txt\n",
      "/home/somz/Projects/Hierarchies_to_scale/khepera-simulations/files/results/perf_out_40_20.txt\n",
      "/home/somz/Projects/Hierarchies_to_scale/khepera-simulations/files/results/perf_out_40_21.txt\n",
      "/home/somz/Projects/Hierarchies_to_scale/khepera-simulations/files/results/perf_out_40_22.txt\n",
      "/home/somz/Projects/Hierarchies_to_scale/khepera-simulations/files/results/perf_out_40_23.txt\n",
      "/home/somz/Projects/Hierarchies_to_scale/khepera-simulations/files/results/perf_out_40_24.txt\n",
      "/home/somz/Projects/Hierarchies_to_scale/khepera-simulations/files/results/perf_out_40_25.txt\n",
      "/home/somz/Projects/Hierarchies_to_scale/khepera-simulations/files/results/perf_out_40_26.txt\n",
      "/home/somz/Projects/Hierarchies_to_scale/khepera-simulations/files/results/perf_out_40_27.txt\n",
      "/home/somz/Projects/Hierarchies_to_scale/khepera-simulations/files/results/perf_out_40_28.txt\n",
      "/home/somz/Projects/Hierarchies_to_scale/khepera-simulations/files/results/perf_out_40_29.txt\n",
      "/home/somz/Projects/Hierarchies_to_scale/khepera-simulations/files/results/perf_out_40_30.txt\n",
      "/home/somz/Projects/Hierarchies_to_scale/khepera-simulations/files/results/perf_out_60_1.txt\n",
      "/home/somz/Projects/Hierarchies_to_scale/khepera-simulations/files/results/perf_out_60_2.txt\n",
      "/home/somz/Projects/Hierarchies_to_scale/khepera-simulations/files/results/perf_out_60_3.txt\n",
      "/home/somz/Projects/Hierarchies_to_scale/khepera-simulations/files/results/perf_out_60_4.txt\n",
      "/home/somz/Projects/Hierarchies_to_scale/khepera-simulations/files/results/perf_out_60_5.txt\n",
      "/home/somz/Projects/Hierarchies_to_scale/khepera-simulations/files/results/perf_out_60_6.txt\n",
      "/home/somz/Projects/Hierarchies_to_scale/khepera-simulations/files/results/perf_out_60_7.txt\n",
      "/home/somz/Projects/Hierarchies_to_scale/khepera-simulations/files/results/perf_out_60_8.txt\n",
      "/home/somz/Projects/Hierarchies_to_scale/khepera-simulations/files/results/perf_out_60_9.txt\n",
      "/home/somz/Projects/Hierarchies_to_scale/khepera-simulations/files/results/perf_out_60_10.txt\n",
      "/home/somz/Projects/Hierarchies_to_scale/khepera-simulations/files/results/perf_out_60_11.txt\n",
      "/home/somz/Projects/Hierarchies_to_scale/khepera-simulations/files/results/perf_out_60_12.txt\n",
      "/home/somz/Projects/Hierarchies_to_scale/khepera-simulations/files/results/perf_out_60_13.txt\n",
      "/home/somz/Projects/Hierarchies_to_scale/khepera-simulations/files/results/perf_out_60_14.txt\n",
      "/home/somz/Projects/Hierarchies_to_scale/khepera-simulations/files/results/perf_out_60_15.txt\n",
      "/home/somz/Projects/Hierarchies_to_scale/khepera-simulations/files/results/perf_out_60_16.txt\n",
      "/home/somz/Projects/Hierarchies_to_scale/khepera-simulations/files/results/perf_out_60_17.txt\n",
      "/home/somz/Projects/Hierarchies_to_scale/khepera-simulations/files/results/perf_out_60_18.txt\n",
      "/home/somz/Projects/Hierarchies_to_scale/khepera-simulations/files/results/perf_out_60_19.txt\n",
      "/home/somz/Projects/Hierarchies_to_scale/khepera-simulations/files/results/perf_out_60_20.txt\n",
      "/home/somz/Projects/Hierarchies_to_scale/khepera-simulations/files/results/perf_out_60_21.txt\n",
      "/home/somz/Projects/Hierarchies_to_scale/khepera-simulations/files/results/perf_out_60_22.txt\n",
      "/home/somz/Projects/Hierarchies_to_scale/khepera-simulations/files/results/perf_out_60_23.txt\n",
      "/home/somz/Projects/Hierarchies_to_scale/khepera-simulations/files/results/perf_out_60_24.txt\n",
      "/home/somz/Projects/Hierarchies_to_scale/khepera-simulations/files/results/perf_out_60_25.txt\n",
      "/home/somz/Projects/Hierarchies_to_scale/khepera-simulations/files/results/perf_out_60_26.txt\n",
      "/home/somz/Projects/Hierarchies_to_scale/khepera-simulations/files/results/perf_out_60_27.txt\n",
      "/home/somz/Projects/Hierarchies_to_scale/khepera-simulations/files/results/perf_out_60_28.txt\n",
      "/home/somz/Projects/Hierarchies_to_scale/khepera-simulations/files/results/perf_out_60_29.txt\n",
      "/home/somz/Projects/Hierarchies_to_scale/khepera-simulations/files/results/perf_out_60_30.txt\n",
      "/home/somz/Projects/Hierarchies_to_scale/khepera-simulations/files/results/perf_out_80_1.txt\n",
      "/home/somz/Projects/Hierarchies_to_scale/khepera-simulations/files/results/perf_out_80_2.txt\n",
      "/home/somz/Projects/Hierarchies_to_scale/khepera-simulations/files/results/perf_out_80_3.txt\n",
      "/home/somz/Projects/Hierarchies_to_scale/khepera-simulations/files/results/perf_out_80_4.txt\n",
      "/home/somz/Projects/Hierarchies_to_scale/khepera-simulations/files/results/perf_out_80_5.txt\n",
      "/home/somz/Projects/Hierarchies_to_scale/khepera-simulations/files/results/perf_out_80_6.txt\n",
      "/home/somz/Projects/Hierarchies_to_scale/khepera-simulations/files/results/perf_out_80_7.txt\n",
      "/home/somz/Projects/Hierarchies_to_scale/khepera-simulations/files/results/perf_out_80_8.txt\n",
      "/home/somz/Projects/Hierarchies_to_scale/khepera-simulations/files/results/perf_out_80_9.txt\n",
      "/home/somz/Projects/Hierarchies_to_scale/khepera-simulations/files/results/perf_out_80_10.txt\n",
      "/home/somz/Projects/Hierarchies_to_scale/khepera-simulations/files/results/perf_out_80_11.txt\n",
      "/home/somz/Projects/Hierarchies_to_scale/khepera-simulations/files/results/perf_out_80_12.txt\n",
      "/home/somz/Projects/Hierarchies_to_scale/khepera-simulations/files/results/perf_out_80_13.txt\n",
      "/home/somz/Projects/Hierarchies_to_scale/khepera-simulations/files/results/perf_out_80_14.txt\n",
      "/home/somz/Projects/Hierarchies_to_scale/khepera-simulations/files/results/perf_out_80_15.txt\n",
      "/home/somz/Projects/Hierarchies_to_scale/khepera-simulations/files/results/perf_out_80_16.txt\n",
      "/home/somz/Projects/Hierarchies_to_scale/khepera-simulations/files/results/perf_out_80_17.txt\n",
      "/home/somz/Projects/Hierarchies_to_scale/khepera-simulations/files/results/perf_out_80_18.txt\n",
      "/home/somz/Projects/Hierarchies_to_scale/khepera-simulations/files/results/perf_out_80_19.txt\n",
      "/home/somz/Projects/Hierarchies_to_scale/khepera-simulations/files/results/perf_out_80_20.txt\n",
      "/home/somz/Projects/Hierarchies_to_scale/khepera-simulations/files/results/perf_out_80_21.txt\n",
      "/home/somz/Projects/Hierarchies_to_scale/khepera-simulations/files/results/perf_out_80_22.txt\n",
      "/home/somz/Projects/Hierarchies_to_scale/khepera-simulations/files/results/perf_out_80_23.txt\n",
      "/home/somz/Projects/Hierarchies_to_scale/khepera-simulations/files/results/perf_out_80_24.txt\n",
      "/home/somz/Projects/Hierarchies_to_scale/khepera-simulations/files/results/perf_out_80_25.txt\n",
      "/home/somz/Projects/Hierarchies_to_scale/khepera-simulations/files/results/perf_out_80_26.txt\n",
      "/home/somz/Projects/Hierarchies_to_scale/khepera-simulations/files/results/perf_out_80_27.txt\n",
      "/home/somz/Projects/Hierarchies_to_scale/khepera-simulations/files/results/perf_out_80_28.txt\n",
      "/home/somz/Projects/Hierarchies_to_scale/khepera-simulations/files/results/perf_out_80_29.txt\n",
      "/home/somz/Projects/Hierarchies_to_scale/khepera-simulations/files/results/perf_out_80_30.txt\n",
      "/home/somz/Projects/Hierarchies_to_scale/khepera-simulations/files/results/perf_out_100_1.txt\n",
      "/home/somz/Projects/Hierarchies_to_scale/khepera-simulations/files/results/perf_out_100_2.txt\n",
      "/home/somz/Projects/Hierarchies_to_scale/khepera-simulations/files/results/perf_out_100_3.txt\n",
      "/home/somz/Projects/Hierarchies_to_scale/khepera-simulations/files/results/perf_out_100_4.txt\n",
      "/home/somz/Projects/Hierarchies_to_scale/khepera-simulations/files/results/perf_out_100_5.txt\n",
      "/home/somz/Projects/Hierarchies_to_scale/khepera-simulations/files/results/perf_out_100_6.txt\n",
      "/home/somz/Projects/Hierarchies_to_scale/khepera-simulations/files/results/perf_out_100_7.txt\n",
      "/home/somz/Projects/Hierarchies_to_scale/khepera-simulations/files/results/perf_out_100_8.txt\n",
      "/home/somz/Projects/Hierarchies_to_scale/khepera-simulations/files/results/perf_out_100_9.txt\n",
      "/home/somz/Projects/Hierarchies_to_scale/khepera-simulations/files/results/perf_out_100_10.txt\n",
      "/home/somz/Projects/Hierarchies_to_scale/khepera-simulations/files/results/perf_out_100_11.txt\n",
      "/home/somz/Projects/Hierarchies_to_scale/khepera-simulations/files/results/perf_out_100_12.txt\n",
      "/home/somz/Projects/Hierarchies_to_scale/khepera-simulations/files/results/perf_out_100_13.txt\n",
      "/home/somz/Projects/Hierarchies_to_scale/khepera-simulations/files/results/perf_out_100_14.txt\n",
      "/home/somz/Projects/Hierarchies_to_scale/khepera-simulations/files/results/perf_out_100_15.txt\n",
      "/home/somz/Projects/Hierarchies_to_scale/khepera-simulations/files/results/perf_out_100_16.txt\n",
      "/home/somz/Projects/Hierarchies_to_scale/khepera-simulations/files/results/perf_out_100_17.txt\n",
      "/home/somz/Projects/Hierarchies_to_scale/khepera-simulations/files/results/perf_out_100_18.txt\n",
      "/home/somz/Projects/Hierarchies_to_scale/khepera-simulations/files/results/perf_out_100_19.txt\n",
      "/home/somz/Projects/Hierarchies_to_scale/khepera-simulations/files/results/perf_out_100_20.txt\n",
      "/home/somz/Projects/Hierarchies_to_scale/khepera-simulations/files/results/perf_out_100_21.txt\n",
      "/home/somz/Projects/Hierarchies_to_scale/khepera-simulations/files/results/perf_out_100_22.txt\n",
      "/home/somz/Projects/Hierarchies_to_scale/khepera-simulations/files/results/perf_out_100_23.txt\n",
      "/home/somz/Projects/Hierarchies_to_scale/khepera-simulations/files/results/perf_out_100_24.txt\n",
      "/home/somz/Projects/Hierarchies_to_scale/khepera-simulations/files/results/perf_out_100_25.txt\n",
      "/home/somz/Projects/Hierarchies_to_scale/khepera-simulations/files/results/perf_out_100_26.txt\n",
      "/home/somz/Projects/Hierarchies_to_scale/khepera-simulations/files/results/perf_out_100_27.txt\n",
      "/home/somz/Projects/Hierarchies_to_scale/khepera-simulations/files/results/perf_out_100_28.txt\n",
      "/home/somz/Projects/Hierarchies_to_scale/khepera-simulations/files/results/perf_out_100_29.txt\n",
      "/home/somz/Projects/Hierarchies_to_scale/khepera-simulations/files/results/perf_out_100_30.txt\n"
     ]
    }
   ],
   "source": [
    "total_state_collision = pd.DataFrame()\n",
    "total_state_time = pd.DataFrame()\n",
    "\n",
    "for robot in robots:\n",
    "    for seed in seeds: \n",
    "\n",
    "        fname = get_name(robot,seed)\n",
    "        perf_frame = pd.read_csv(fname, sep=',', names=get_names_f(robot))\n",
    "        df = pd.DataFrame(data=perf_frame)\n",
    "        collision_state = pd.DataFrame() \n",
    "        time_per_state = pd.DataFrame()\n",
    "\n",
    "        state = df.filter(regex='state')\n",
    "        collision = df.filter(regex='collision').diff()\n",
    "\n",
    "        state = state.melt(var_name='columns', value_name='index')\n",
    "        collision = collision.melt(var_name='col_collision', value_name='ind_collision')\n",
    "        collision_state = pd.concat([state,collision], axis = 1)\n",
    "        collision_state.drop(collision_state.index[collision_state['ind_collision'] == 0], inplace = True)\n",
    "        collision_state = collision_state.filter(regex=r'index|columns').reset_index(drop=True)\n",
    "\n",
    "\n",
    "        state = pd.crosstab(index=state['index'], columns=state['columns'])\n",
    "        collision_state = pd.crosstab(index=collision_state['index'], columns=collision_state['columns'])\n",
    "        state[\"sum\"] = state.sum(axis=1)/(robot*10)\n",
    "        collision_state[\"sum\"] = collision_state.sum(axis=1)/(robot*10)\n",
    "\n",
    "        state = state.drop(state.columns[0:state.shape[1]-1], axis=1)\n",
    "        collision_state = collision_state.drop(collision_state.columns[0:collision_state.shape[1]-1], axis=1)\n",
    "\n",
    "        state['state'] = state.index \n",
    "        collision_state['state'] = collision_state.index\n",
    "\n",
    "        state['seed'] = [seed]*state.shape[0]\n",
    "        state['number_of_robots'] = [robot]*state.shape[0]\n",
    "        collision_state['seed'] = [seed]*collision_state.shape[0]\n",
    "        collision_state['number_of_robots'] = [robot]*collision_state.shape[0]\n",
    "\n",
    "        total_state_time = pd.concat([total_state_time,state])\n",
    "        total_state_collision = pd.concat([total_state_collision,collision_state])\n",
    "\n",
    "\n",
    "\n",
    "total_state_time.sort_values(by=['state'], inplace=True)\n",
    "total_state_collision.sort_values(by=['state'], inplace=True)\n",
    "\n",
    "total_state_time_black = total_state_time.filter(regex='black',axis=0)\n",
    "total_state_collision_black = total_state_collision.filter(regex='black',axis=0)\n",
    "total_state_time_white = total_state_time.filter(regex='white',axis=0)\n",
    "total_state_collision_white = total_state_collision.filter(regex='white',axis=0)\n"
   ]
  },
  {
   "cell_type": "code",
   "execution_count": null,
   "metadata": {},
   "outputs": [
    {
     "data": {
      "image/png": "[encoded data removed]",
      "text/plain": [
       "<Figure size 1440x504 with 1 Axes>"
      ]
     },
     "metadata": {
      "needs_background": "light"
     },
     "output_type": "display_data"
    }
   ],
   "source": [
    "dx=\"number_of_robots\"\n",
    "dy=\"sum\"\n",
    "dhue=\"state\"\n",
    "pal=[\"red\",\"blue\",\"green\",\"orange\",\"yellow\",\"black\",\"pink\",\"purple\"]\n",
    "data = total_state_time_black\n",
    "\n",
    "f, ax = plt.subplots(figsize=(20,7))\n",
    "# ax.set_yticks([i for i in range(0,30000,2000)])\n",
    "\n",
    "plt.rc('xtick', labelsize=10) \n",
    "plt.rc('ytick', labelsize=10) \n",
    "\n",
    "plt.title(\"Total Time in every state spent avoiding collisions\")\n",
    "\n",
    "\n",
    "\n",
    "\n",
    "# sns.stripplot(x=dx, \n",
    "#               y=dy,  \n",
    "#               hue=dhue,\n",
    "#               data=data,\n",
    "#               ax=ax,\n",
    "#               alpha=0.69,\n",
    "#               jitter=0.1,\n",
    "#               palette=pal,\n",
    "#               dodge=True,\n",
    "#               size=10)\n",
    "\n",
    "sns.boxplot(showmeans=True,\n",
    "            meanline=True,\n",
    "            meanprops={'color': 'k', 'ls': '-', 'lw': 0.1},\n",
    "            medianprops={'visible': True},\n",
    "            whiskerprops={'visible': True},\n",
    "            zorder=50,\n",
    "            x=dx,\n",
    "            y=dy,\n",
    "            hue=dhue,\n",
    "            data=data,\n",
    "            showfliers=True,\n",
    "            showbox=True,\n",
    "            showcaps=True,\n",
    "            width=1,\n",
    "            ax=ax)\n",
    "\n",
    "# ax.get_legend().remove()\n",
    "# ax.legend(loc=3,ncol=3,framealpha=0.5,fontsize=11)\n",
    "# handles, labels = ax.get_legend_handles_labels()\n",
    "# l = plt.legend(handles[0:9], ['black_follower','Success'],loc=\"upper left\",framealpha=0.7,fontsize=11)\n",
    "\n",
    "# plt.xticks([0,5,10,15], ['15X15','30X30', '60X60', '120X120'])\n",
    "# plt.ylim(-0.05,1.4)\n",
    "\n",
    "# plt.yticks(np.arange(0.0,1.45,0.2))\n",
    "plt.tight_layout(pad=0.1)\n",
    "# plt.figtext(0.12, 0.8, ' 30X30m Arena',  color='black', weight='roman',size='medium',fontsize=16)\n",
    "ax.set_ylabel(\"Total (s)\",fontsize=10)\n",
    "ax.set_xlabel(\"Number of robots\",fontsize=10)\n",
    "# plt.savefig(\"/home/somz/connectivity/papers/2022/Topology_manipulation/ICRA_Topology_Manipulation/ieeeconf/figures/Time_taken_line.pdf\", dpi=600, format=\"pdf\", transparent=False)\n",
    "plt.show()"
   ]
  },
  {
   "cell_type": "code",
   "execution_count": null,
   "metadata": {},
   "outputs": [
    {
     "data": {
      "image/png": "[encoded data removed]",
      "text/plain": [
       "<Figure size 1440x504 with 1 Axes>"
      ]
     },
     "metadata": {
      "needs_background": "light"
     },
     "output_type": "display_data"
    }
   ],
   "source": [
    "dx=\"number_of_robots\"\n",
    "dy=\"sum\"\n",
    "dhue=\"state\"\n",
    "pal=[\"red\",\"blue\",\"green\",\"orange\",\"yellow\",\"black\",\"pink\",\"purple\"]\n",
    "data = total_state_collision_black\n",
    "\n",
    "f, ax = plt.subplots(figsize=(20,7))\n",
    "# ax.set_yticks([i for i in range(0,30000,2000)])\n",
    "\n",
    "plt.rc('xtick', labelsize=10) \n",
    "plt.rc('ytick', labelsize=10) \n",
    "\n",
    "plt.title(\"Total Time in every state\")\n",
    "\n",
    "\n",
    "\n",
    "\n",
    "# sns.stripplot(x=dx, \n",
    "#               y=dy,  \n",
    "#               hue=dhue,\n",
    "#               data=data,\n",
    "#               ax=ax,\n",
    "#               alpha=0.69,\n",
    "#               jitter=0.1,\n",
    "#               palette=pal,\n",
    "#               dodge=True,\n",
    "#               size=10)\n",
    "\n",
    "sns.boxplot(showmeans=True,\n",
    "            meanline=True,\n",
    "            meanprops={'color': 'k', 'ls': '-', 'lw': 0.1},\n",
    "            medianprops={'visible': True},\n",
    "            whiskerprops={'visible': True},\n",
    "            zorder=50,\n",
    "            x=dx,\n",
    "            y=dy,\n",
    "            hue=dhue,\n",
    "            data=data,\n",
    "            showfliers=True,\n",
    "            showbox=True,\n",
    "            showcaps=True,\n",
    "            width=1,\n",
    "            ax=ax)\n",
    "\n",
    "# ax.get_legend().remove()\n",
    "# ax.legend(loc=3,ncol=3,framealpha=0.5,fontsize=11)\n",
    "# handles, labels = ax.get_legend_handles_labels()\n",
    "# l = plt.legend(handles[0:9], ['black_follower','Success'],loc=\"upper left\",framealpha=0.7,fontsize=11)\n",
    "\n",
    "# plt.xticks([0,5,10,15], ['15X15','30X30', '60X60', '120X120'])\n",
    "# plt.ylim(-0.05,1.4)\n",
    "\n",
    "# plt.yticks(np.arange(0.0,1.45,0.2))\n",
    "plt.tight_layout(pad=0.1)\n",
    "# plt.figtext(0.12, 0.8, ' 30X30m Arena',  color='black', weight='roman',size='medium',fontsize=16)\n",
    "ax.set_ylabel(\"Total collision time (s)\",fontsize=10)\n",
    "ax.set_xlabel(\"Number of robots\",fontsize=10)\n",
    "# plt.savefig(\"/home/somz/connectivity/papers/2022/Topology_manipulation/ICRA_Topology_Manipulation/ieeeconf/figures/Time_taken_line.pdf\", dpi=600, format=\"pdf\", transparent=False)\n",
    "plt.show()"
   ]
  },
  {
   "cell_type": "code",
   "execution_count": null,
   "metadata": {},
   "outputs": [
    {
     "data": {
      "image/png": "[encoded data removed]",
      "text/plain": [
       "<Figure size 1440x504 with 1 Axes>"
      ]
     },
     "metadata": {
      "needs_background": "light"
     },
     "output_type": "display_data"
    }
   ],
   "source": [
    "dx=\"number_of_robots\"\n",
    "dy=\"sum\"\n",
    "dhue=\"state\"\n",
    "pal=[\"red\",\"blue\",\"green\",\"orange\",\"yellow\",\"black\",\"pink\",\"purple\"]\n",
    "data = total_state_collision_white\n",
    "\n",
    "f, ax = plt.subplots(figsize=(20,7))\n",
    "# ax.set_yticks([i for i in range(0,30000,2000)])\n",
    "\n",
    "plt.rc('xtick', labelsize=10) \n",
    "plt.rc('ytick', labelsize=10) \n",
    "\n",
    "plt.title(\"Total Time in every state spent avoiding collisions\")\n",
    "\n",
    "\n",
    "\n",
    "\n",
    "# sns.stripplot(x=dx, \n",
    "#               y=dy,  \n",
    "#               hue=dhue,\n",
    "#               data=data,\n",
    "#               ax=ax,\n",
    "#               alpha=0.69,\n",
    "#               jitter=0.1,\n",
    "#               palette=pal,\n",
    "#               dodge=True,\n",
    "#               size=10)\n",
    "\n",
    "sns.boxplot(showmeans=True,\n",
    "            meanline=True,\n",
    "            meanprops={'color': 'k', 'ls': '-', 'lw': 0.1},\n",
    "            medianprops={'visible': True},\n",
    "            whiskerprops={'visible': True},\n",
    "            zorder=50,\n",
    "            x=dx,\n",
    "            y=dy,\n",
    "            hue=dhue,\n",
    "            data=data,\n",
    "            showfliers=True,\n",
    "            showbox=True,\n",
    "            showcaps=True,\n",
    "            width=1,\n",
    "            ax=ax)\n",
    "\n",
    "# ax.get_legend().remove()\n",
    "# ax.legend(loc=3,ncol=3,framealpha=0.5,fontsize=11)\n",
    "# handles, labels = ax.get_legend_handles_labels()\n",
    "# l = plt.legend(handles[0:9], ['black_follower','Success'],loc=\"upper left\",framealpha=0.7,fontsize=11)\n",
    "\n",
    "# plt.xticks([0,5,10,15], ['15X15','30X30', '60X60', '120X120'])\n",
    "# plt.ylim(-0.05,1.4)\n",
    "\n",
    "# plt.yticks(np.arange(0.0,1.45,0.2))\n",
    "plt.tight_layout(pad=0.1)\n",
    "# plt.figtext(0.12, 0.8, ' 30X30m Arena',  color='black', weight='roman',size='medium',fontsize=16)\n",
    "ax.set_ylabel(\"Total collision time (s)\",fontsize=10)\n",
    "ax.set_xlabel(\"Number of robots\",fontsize=10)\n",
    "# plt.savefig(\"/home/somz/connectivity/papers/2022/Topology_manipulation/ICRA_Topology_Manipulation/ieeeconf/figures/Time_taken_line.pdf\", dpi=600, format=\"pdf\", transparent=False)\n",
    "plt.show()\n",
    "        "
   ]
  },
  {
   "attachments": {},
   "cell_type": "markdown",
   "metadata": {},
   "source": [
    "Visitation frequency in a grid fashion \n"
   ]
  },
  {
   "cell_type": "code",
   "execution_count": 74,
   "metadata": {},
   "outputs": [
    {
     "name": "stdout",
     "output_type": "stream",
     "text": [
      "/home/somz/Projects/Hierarchies_to_scale/khepera-simulations/files/data_files/results/pos_communication_congestion_4_2_0.txt\n",
      "/home/somz/Projects/Hierarchies_to_scale/khepera-simulations/files/data_files/results/pos_communication_congestion_4_2_0.txt\n",
      "/home/somz/Projects/Hierarchies_to_scale/khepera-simulations/files/data_files/results/pos_communication_congestion_8_2_0.txt\n",
      "/home/somz/Projects/Hierarchies_to_scale/khepera-simulations/files/data_files/results/pos_communication_congestion_8_2_0.txt\n",
      "/home/somz/Projects/Hierarchies_to_scale/khepera-simulations/files/data_files/results/pos_communication_congestion_12_2_0.txt\n",
      "/home/somz/Projects/Hierarchies_to_scale/khepera-simulations/files/data_files/results/pos_communication_congestion_12_2_0.txt\n",
      "/home/somz/Projects/Hierarchies_to_scale/khepera-simulations/files/data_files/results/pos_communication_congestion_4_2_1.txt\n",
      "/home/somz/Projects/Hierarchies_to_scale/khepera-simulations/files/data_files/results/pos_communication_congestion_4_2_1.txt\n",
      "/home/somz/Projects/Hierarchies_to_scale/khepera-simulations/files/data_files/results/pos_communication_congestion_8_2_1.txt\n",
      "/home/somz/Projects/Hierarchies_to_scale/khepera-simulations/files/data_files/results/pos_communication_congestion_8_2_1.txt\n",
      "/home/somz/Projects/Hierarchies_to_scale/khepera-simulations/files/data_files/results/pos_communication_congestion_12_2_1.txt\n",
      "/home/somz/Projects/Hierarchies_to_scale/khepera-simulations/files/data_files/results/pos_communication_congestion_12_2_1.txt\n",
      "/home/somz/Projects/Hierarchies_to_scale/khepera-simulations/files/data_files/results/pos_communication_congestion_4_2_2.txt\n",
      "/home/somz/Projects/Hierarchies_to_scale/khepera-simulations/files/data_files/results/pos_communication_congestion_4_2_2.txt\n",
      "/home/somz/Projects/Hierarchies_to_scale/khepera-simulations/files/data_files/results/pos_communication_congestion_8_2_2.txt\n",
      "/home/somz/Projects/Hierarchies_to_scale/khepera-simulations/files/data_files/results/pos_communication_congestion_8_2_2.txt\n",
      "/home/somz/Projects/Hierarchies_to_scale/khepera-simulations/files/data_files/results/pos_communication_congestion_12_2_2.txt\n",
      "/home/somz/Projects/Hierarchies_to_scale/khepera-simulations/files/data_files/results/pos_communication_congestion_12_2_2.txt\n",
      "/home/somz/Projects/Hierarchies_to_scale/khepera-simulations/files/data_files/results/pos_communication_congestion_4_2_3.txt\n",
      "/home/somz/Projects/Hierarchies_to_scale/khepera-simulations/files/data_files/results/pos_communication_congestion_4_2_3.txt\n",
      "/home/somz/Projects/Hierarchies_to_scale/khepera-simulations/files/data_files/results/pos_communication_congestion_8_2_3.txt\n",
      "/home/somz/Projects/Hierarchies_to_scale/khepera-simulations/files/data_files/results/pos_communication_congestion_8_2_3.txt\n"
     ]
    },
    {
     "name": "stderr",
     "output_type": "stream",
     "text": [
      "/tmp/ipykernel_101808/3159663649.py:34: RuntimeWarning: More than 20 figures have been opened. Figures created through the pyplot interface (`matplotlib.pyplot.figure`) are retained until explicitly closed and may consume too much memory. (To control this warning, see the rcParam `figure.max_open_warning`).\n",
      "  f, ax = plt.subplots(figsize=(5.5,4.75))\n"
     ]
    },
    {
     "name": "stdout",
     "output_type": "stream",
     "text": [
      "/home/somz/Projects/Hierarchies_to_scale/khepera-simulations/files/data_files/results/pos_communication_congestion_12_2_3.txt\n",
      "/home/somz/Projects/Hierarchies_to_scale/khepera-simulations/files/data_files/results/pos_communication_congestion_12_2_3.txt\n",
      "/home/somz/Projects/Hierarchies_to_scale/khepera-simulations/files/data_files/results/pos_communication_congestion_4_2_4.txt\n",
      "/home/somz/Projects/Hierarchies_to_scale/khepera-simulations/files/data_files/results/pos_communication_congestion_4_2_4.txt\n",
      "/home/somz/Projects/Hierarchies_to_scale/khepera-simulations/files/data_files/results/pos_communication_congestion_8_2_4.txt\n",
      "/home/somz/Projects/Hierarchies_to_scale/khepera-simulations/files/data_files/results/pos_communication_congestion_8_2_4.txt\n",
      "/home/somz/Projects/Hierarchies_to_scale/khepera-simulations/files/data_files/results/pos_communication_congestion_12_2_4.txt\n",
      "/home/somz/Projects/Hierarchies_to_scale/khepera-simulations/files/data_files/results/pos_communication_congestion_12_2_4.txt\n",
      "/home/somz/Projects/Hierarchies_to_scale/khepera-simulations/files/data_files/results/pos_communication_congestion_4_2_5.txt\n",
      "/home/somz/Projects/Hierarchies_to_scale/khepera-simulations/files/data_files/results/pos_communication_congestion_4_2_5.txt\n",
      "/home/somz/Projects/Hierarchies_to_scale/khepera-simulations/files/data_files/results/pos_communication_congestion_8_2_5.txt\n",
      "/home/somz/Projects/Hierarchies_to_scale/khepera-simulations/files/data_files/results/pos_communication_congestion_8_2_5.txt\n",
      "/home/somz/Projects/Hierarchies_to_scale/khepera-simulations/files/data_files/results/pos_communication_congestion_12_2_5.txt\n",
      "/home/somz/Projects/Hierarchies_to_scale/khepera-simulations/files/data_files/results/pos_communication_congestion_12_2_5.txt\n",
      "/home/somz/Projects/Hierarchies_to_scale/khepera-simulations/files/data_files/results/pos_communication_congestion_4_2_6.txt\n",
      "/home/somz/Projects/Hierarchies_to_scale/khepera-simulations/files/data_files/results/pos_communication_congestion_4_2_6.txt\n",
      "/home/somz/Projects/Hierarchies_to_scale/khepera-simulations/files/data_files/results/pos_communication_congestion_8_2_6.txt\n",
      "/home/somz/Projects/Hierarchies_to_scale/khepera-simulations/files/data_files/results/pos_communication_congestion_8_2_6.txt\n",
      "/home/somz/Projects/Hierarchies_to_scale/khepera-simulations/files/data_files/results/pos_communication_congestion_12_2_6.txt\n",
      "/home/somz/Projects/Hierarchies_to_scale/khepera-simulations/files/data_files/results/pos_communication_congestion_12_2_6.txt\n",
      "/home/somz/Projects/Hierarchies_to_scale/khepera-simulations/files/data_files/results/pos_communication_congestion_4_2_7.txt\n",
      "/home/somz/Projects/Hierarchies_to_scale/khepera-simulations/files/data_files/results/pos_communication_congestion_4_2_7.txt\n",
      "/home/somz/Projects/Hierarchies_to_scale/khepera-simulations/files/data_files/results/pos_communication_congestion_8_2_7.txt\n",
      "/home/somz/Projects/Hierarchies_to_scale/khepera-simulations/files/data_files/results/pos_communication_congestion_8_2_7.txt\n",
      "/home/somz/Projects/Hierarchies_to_scale/khepera-simulations/files/data_files/results/pos_communication_congestion_12_2_7.txt\n",
      "/home/somz/Projects/Hierarchies_to_scale/khepera-simulations/files/data_files/results/pos_communication_congestion_12_2_7.txt\n",
      "/home/somz/Projects/Hierarchies_to_scale/khepera-simulations/files/data_files/results/pos_communication_congestion_4_2_8.txt\n",
      "/home/somz/Projects/Hierarchies_to_scale/khepera-simulations/files/data_files/results/pos_communication_congestion_4_2_8.txt\n",
      "/home/somz/Projects/Hierarchies_to_scale/khepera-simulations/files/data_files/results/pos_communication_congestion_8_2_8.txt\n",
      "/home/somz/Projects/Hierarchies_to_scale/khepera-simulations/files/data_files/results/pos_communication_congestion_8_2_8.txt\n",
      "/home/somz/Projects/Hierarchies_to_scale/khepera-simulations/files/data_files/results/pos_communication_congestion_12_2_8.txt\n",
      "/home/somz/Projects/Hierarchies_to_scale/khepera-simulations/files/data_files/results/pos_communication_congestion_12_2_8.txt\n",
      "/home/somz/Projects/Hierarchies_to_scale/khepera-simulations/files/data_files/results/pos_communication_congestion_4_2_9.txt\n",
      "/home/somz/Projects/Hierarchies_to_scale/khepera-simulations/files/data_files/results/pos_communication_congestion_4_2_9.txt\n",
      "/home/somz/Projects/Hierarchies_to_scale/khepera-simulations/files/data_files/results/pos_communication_congestion_8_2_9.txt\n",
      "/home/somz/Projects/Hierarchies_to_scale/khepera-simulations/files/data_files/results/pos_communication_congestion_8_2_9.txt\n",
      "/home/somz/Projects/Hierarchies_to_scale/khepera-simulations/files/data_files/results/pos_communication_congestion_12_2_9.txt\n",
      "/home/somz/Projects/Hierarchies_to_scale/khepera-simulations/files/data_files/results/pos_communication_congestion_12_2_9.txt\n",
      "/home/somz/Projects/Hierarchies_to_scale/khepera-simulations/files/data_files/results/pos_communication_congestion_4_2_10.txt\n",
      "/home/somz/Projects/Hierarchies_to_scale/khepera-simulations/files/data_files/results/pos_communication_congestion_4_2_10.txt\n",
      "/home/somz/Projects/Hierarchies_to_scale/khepera-simulations/files/data_files/results/pos_communication_congestion_8_2_10.txt\n",
      "/home/somz/Projects/Hierarchies_to_scale/khepera-simulations/files/data_files/results/pos_communication_congestion_8_2_10.txt\n",
      "/home/somz/Projects/Hierarchies_to_scale/khepera-simulations/files/data_files/results/pos_communication_congestion_12_2_10.txt\n",
      "/home/somz/Projects/Hierarchies_to_scale/khepera-simulations/files/data_files/results/pos_communication_congestion_12_2_10.txt\n",
      "/home/somz/Projects/Hierarchies_to_scale/khepera-simulations/files/data_files/results/pos_communication_congestion_4_2_11.txt\n",
      "/home/somz/Projects/Hierarchies_to_scale/khepera-simulations/files/data_files/results/pos_communication_congestion_4_2_11.txt\n",
      "/home/somz/Projects/Hierarchies_to_scale/khepera-simulations/files/data_files/results/pos_communication_congestion_8_2_11.txt\n",
      "/home/somz/Projects/Hierarchies_to_scale/khepera-simulations/files/data_files/results/pos_communication_congestion_8_2_11.txt\n",
      "/home/somz/Projects/Hierarchies_to_scale/khepera-simulations/files/data_files/results/pos_communication_congestion_12_2_11.txt\n",
      "/home/somz/Projects/Hierarchies_to_scale/khepera-simulations/files/data_files/results/pos_communication_congestion_12_2_11.txt\n",
      "/home/somz/Projects/Hierarchies_to_scale/khepera-simulations/files/data_files/results/pos_communication_congestion_4_2_12.txt\n",
      "/home/somz/Projects/Hierarchies_to_scale/khepera-simulations/files/data_files/results/pos_communication_congestion_4_2_12.txt\n",
      "/home/somz/Projects/Hierarchies_to_scale/khepera-simulations/files/data_files/results/pos_communication_congestion_8_2_12.txt\n",
      "/home/somz/Projects/Hierarchies_to_scale/khepera-simulations/files/data_files/results/pos_communication_congestion_8_2_12.txt\n",
      "/home/somz/Projects/Hierarchies_to_scale/khepera-simulations/files/data_files/results/pos_communication_congestion_12_2_12.txt\n",
      "/home/somz/Projects/Hierarchies_to_scale/khepera-simulations/files/data_files/results/pos_communication_congestion_12_2_12.txt\n",
      "/home/somz/Projects/Hierarchies_to_scale/khepera-simulations/files/data_files/results/pos_communication_congestion_4_2_13.txt\n",
      "/home/somz/Projects/Hierarchies_to_scale/khepera-simulations/files/data_files/results/pos_communication_congestion_4_2_13.txt\n",
      "/home/somz/Projects/Hierarchies_to_scale/khepera-simulations/files/data_files/results/pos_communication_congestion_8_2_13.txt\n",
      "/home/somz/Projects/Hierarchies_to_scale/khepera-simulations/files/data_files/results/pos_communication_congestion_8_2_13.txt\n",
      "/home/somz/Projects/Hierarchies_to_scale/khepera-simulations/files/data_files/results/pos_communication_congestion_12_2_13.txt\n",
      "/home/somz/Projects/Hierarchies_to_scale/khepera-simulations/files/data_files/results/pos_communication_congestion_12_2_13.txt\n",
      "/home/somz/Projects/Hierarchies_to_scale/khepera-simulations/files/data_files/results/pos_communication_congestion_4_2_14.txt\n",
      "/home/somz/Projects/Hierarchies_to_scale/khepera-simulations/files/data_files/results/pos_communication_congestion_4_2_14.txt\n",
      "/home/somz/Projects/Hierarchies_to_scale/khepera-simulations/files/data_files/results/pos_communication_congestion_8_2_14.txt\n",
      "/home/somz/Projects/Hierarchies_to_scale/khepera-simulations/files/data_files/results/pos_communication_congestion_8_2_14.txt\n",
      "/home/somz/Projects/Hierarchies_to_scale/khepera-simulations/files/data_files/results/pos_communication_congestion_12_2_14.txt\n",
      "/home/somz/Projects/Hierarchies_to_scale/khepera-simulations/files/data_files/results/pos_communication_congestion_12_2_14.txt\n",
      "/home/somz/Projects/Hierarchies_to_scale/khepera-simulations/files/data_files/results/pos_communication_congestion_4_2_15.txt\n",
      "/home/somz/Projects/Hierarchies_to_scale/khepera-simulations/files/data_files/results/pos_communication_congestion_4_2_15.txt\n",
      "/home/somz/Projects/Hierarchies_to_scale/khepera-simulations/files/data_files/results/pos_communication_congestion_8_2_15.txt\n",
      "/home/somz/Projects/Hierarchies_to_scale/khepera-simulations/files/data_files/results/pos_communication_congestion_8_2_15.txt\n",
      "/home/somz/Projects/Hierarchies_to_scale/khepera-simulations/files/data_files/results/pos_communication_congestion_12_2_15.txt\n",
      "/home/somz/Projects/Hierarchies_to_scale/khepera-simulations/files/data_files/results/pos_communication_congestion_12_2_15.txt\n",
      "/home/somz/Projects/Hierarchies_to_scale/khepera-simulations/files/data_files/results/pos_communication_congestion_4_2_16.txt\n",
      "/home/somz/Projects/Hierarchies_to_scale/khepera-simulations/files/data_files/results/pos_communication_congestion_4_2_16.txt\n",
      "/home/somz/Projects/Hierarchies_to_scale/khepera-simulations/files/data_files/results/pos_communication_congestion_8_2_16.txt\n",
      "/home/somz/Projects/Hierarchies_to_scale/khepera-simulations/files/data_files/results/pos_communication_congestion_8_2_16.txt\n",
      "/home/somz/Projects/Hierarchies_to_scale/khepera-simulations/files/data_files/results/pos_communication_congestion_12_2_16.txt\n",
      "/home/somz/Projects/Hierarchies_to_scale/khepera-simulations/files/data_files/results/pos_communication_congestion_12_2_16.txt\n",
      "/home/somz/Projects/Hierarchies_to_scale/khepera-simulations/files/data_files/results/pos_communication_congestion_4_2_17.txt\n",
      "/home/somz/Projects/Hierarchies_to_scale/khepera-simulations/files/data_files/results/pos_communication_congestion_4_2_17.txt\n",
      "/home/somz/Projects/Hierarchies_to_scale/khepera-simulations/files/data_files/results/pos_communication_congestion_8_2_17.txt\n",
      "/home/somz/Projects/Hierarchies_to_scale/khepera-simulations/files/data_files/results/pos_communication_congestion_8_2_17.txt\n",
      "/home/somz/Projects/Hierarchies_to_scale/khepera-simulations/files/data_files/results/pos_communication_congestion_12_2_17.txt\n",
      "/home/somz/Projects/Hierarchies_to_scale/khepera-simulations/files/data_files/results/pos_communication_congestion_12_2_17.txt\n",
      "/home/somz/Projects/Hierarchies_to_scale/khepera-simulations/files/data_files/results/pos_communication_congestion_4_2_18.txt\n",
      "/home/somz/Projects/Hierarchies_to_scale/khepera-simulations/files/data_files/results/pos_communication_congestion_4_2_18.txt\n",
      "/home/somz/Projects/Hierarchies_to_scale/khepera-simulations/files/data_files/results/pos_communication_congestion_8_2_18.txt\n",
      "/home/somz/Projects/Hierarchies_to_scale/khepera-simulations/files/data_files/results/pos_communication_congestion_8_2_18.txt\n",
      "/home/somz/Projects/Hierarchies_to_scale/khepera-simulations/files/data_files/results/pos_communication_congestion_12_2_18.txt\n",
      "/home/somz/Projects/Hierarchies_to_scale/khepera-simulations/files/data_files/results/pos_communication_congestion_12_2_18.txt\n",
      "/home/somz/Projects/Hierarchies_to_scale/khepera-simulations/files/data_files/results/pos_communication_congestion_4_2_19.txt\n",
      "/home/somz/Projects/Hierarchies_to_scale/khepera-simulations/files/data_files/results/pos_communication_congestion_4_2_19.txt\n",
      "/home/somz/Projects/Hierarchies_to_scale/khepera-simulations/files/data_files/results/pos_communication_congestion_8_2_19.txt\n",
      "/home/somz/Projects/Hierarchies_to_scale/khepera-simulations/files/data_files/results/pos_communication_congestion_8_2_19.txt\n",
      "/home/somz/Projects/Hierarchies_to_scale/khepera-simulations/files/data_files/results/pos_communication_congestion_12_2_19.txt\n",
      "/home/somz/Projects/Hierarchies_to_scale/khepera-simulations/files/data_files/results/pos_communication_congestion_12_2_19.txt\n",
      "/home/somz/Projects/Hierarchies_to_scale/khepera-simulations/files/data_files/results/pos_communication_congestion_4_2_20.txt\n",
      "/home/somz/Projects/Hierarchies_to_scale/khepera-simulations/files/data_files/results/pos_communication_congestion_4_2_20.txt\n",
      "/home/somz/Projects/Hierarchies_to_scale/khepera-simulations/files/data_files/results/pos_communication_congestion_8_2_20.txt\n",
      "/home/somz/Projects/Hierarchies_to_scale/khepera-simulations/files/data_files/results/pos_communication_congestion_8_2_20.txt\n",
      "/home/somz/Projects/Hierarchies_to_scale/khepera-simulations/files/data_files/results/pos_communication_congestion_12_2_20.txt\n",
      "/home/somz/Projects/Hierarchies_to_scale/khepera-simulations/files/data_files/results/pos_communication_congestion_12_2_20.txt\n",
      "/home/somz/Projects/Hierarchies_to_scale/khepera-simulations/files/data_files/results/pos_communication_congestion_4_2_21.txt\n",
      "/home/somz/Projects/Hierarchies_to_scale/khepera-simulations/files/data_files/results/pos_communication_congestion_4_2_21.txt\n",
      "/home/somz/Projects/Hierarchies_to_scale/khepera-simulations/files/data_files/results/pos_communication_congestion_8_2_21.txt\n",
      "/home/somz/Projects/Hierarchies_to_scale/khepera-simulations/files/data_files/results/pos_communication_congestion_8_2_21.txt\n",
      "/home/somz/Projects/Hierarchies_to_scale/khepera-simulations/files/data_files/results/pos_communication_congestion_12_2_21.txt\n",
      "/home/somz/Projects/Hierarchies_to_scale/khepera-simulations/files/data_files/results/pos_communication_congestion_12_2_21.txt\n",
      "/home/somz/Projects/Hierarchies_to_scale/khepera-simulations/files/data_files/results/pos_communication_congestion_4_2_22.txt\n",
      "/home/somz/Projects/Hierarchies_to_scale/khepera-simulations/files/data_files/results/pos_communication_congestion_4_2_22.txt\n",
      "/home/somz/Projects/Hierarchies_to_scale/khepera-simulations/files/data_files/results/pos_communication_congestion_8_2_22.txt\n",
      "/home/somz/Projects/Hierarchies_to_scale/khepera-simulations/files/data_files/results/pos_communication_congestion_8_2_22.txt\n",
      "/home/somz/Projects/Hierarchies_to_scale/khepera-simulations/files/data_files/results/pos_communication_congestion_12_2_22.txt\n",
      "/home/somz/Projects/Hierarchies_to_scale/khepera-simulations/files/data_files/results/pos_communication_congestion_12_2_22.txt\n",
      "/home/somz/Projects/Hierarchies_to_scale/khepera-simulations/files/data_files/results/pos_communication_congestion_4_2_23.txt\n",
      "/home/somz/Projects/Hierarchies_to_scale/khepera-simulations/files/data_files/results/pos_communication_congestion_4_2_23.txt\n",
      "/home/somz/Projects/Hierarchies_to_scale/khepera-simulations/files/data_files/results/pos_communication_congestion_8_2_23.txt\n",
      "/home/somz/Projects/Hierarchies_to_scale/khepera-simulations/files/data_files/results/pos_communication_congestion_8_2_23.txt\n",
      "/home/somz/Projects/Hierarchies_to_scale/khepera-simulations/files/data_files/results/pos_communication_congestion_12_2_23.txt\n",
      "/home/somz/Projects/Hierarchies_to_scale/khepera-simulations/files/data_files/results/pos_communication_congestion_12_2_23.txt\n",
      "/home/somz/Projects/Hierarchies_to_scale/khepera-simulations/files/data_files/results/pos_communication_congestion_4_2_24.txt\n",
      "/home/somz/Projects/Hierarchies_to_scale/khepera-simulations/files/data_files/results/pos_communication_congestion_4_2_24.txt\n",
      "/home/somz/Projects/Hierarchies_to_scale/khepera-simulations/files/data_files/results/pos_communication_congestion_8_2_24.txt\n",
      "/home/somz/Projects/Hierarchies_to_scale/khepera-simulations/files/data_files/results/pos_communication_congestion_8_2_24.txt\n",
      "/home/somz/Projects/Hierarchies_to_scale/khepera-simulations/files/data_files/results/pos_communication_congestion_12_2_24.txt\n",
      "/home/somz/Projects/Hierarchies_to_scale/khepera-simulations/files/data_files/results/pos_communication_congestion_12_2_24.txt\n",
      "/home/somz/Projects/Hierarchies_to_scale/khepera-simulations/files/data_files/results/pos_communication_congestion_4_2_25.txt\n",
      "/home/somz/Projects/Hierarchies_to_scale/khepera-simulations/files/data_files/results/pos_communication_congestion_4_2_25.txt\n",
      "/home/somz/Projects/Hierarchies_to_scale/khepera-simulations/files/data_files/results/pos_communication_congestion_8_2_25.txt\n",
      "/home/somz/Projects/Hierarchies_to_scale/khepera-simulations/files/data_files/results/pos_communication_congestion_8_2_25.txt\n",
      "/home/somz/Projects/Hierarchies_to_scale/khepera-simulations/files/data_files/results/pos_communication_congestion_12_2_25.txt\n",
      "/home/somz/Projects/Hierarchies_to_scale/khepera-simulations/files/data_files/results/pos_communication_congestion_12_2_25.txt\n",
      "/home/somz/Projects/Hierarchies_to_scale/khepera-simulations/files/data_files/results/pos_communication_congestion_4_2_26.txt\n",
      "/home/somz/Projects/Hierarchies_to_scale/khepera-simulations/files/data_files/results/pos_communication_congestion_4_2_26.txt\n",
      "/home/somz/Projects/Hierarchies_to_scale/khepera-simulations/files/data_files/results/pos_communication_congestion_8_2_26.txt\n",
      "/home/somz/Projects/Hierarchies_to_scale/khepera-simulations/files/data_files/results/pos_communication_congestion_8_2_26.txt\n",
      "/home/somz/Projects/Hierarchies_to_scale/khepera-simulations/files/data_files/results/pos_communication_congestion_12_2_26.txt\n",
      "/home/somz/Projects/Hierarchies_to_scale/khepera-simulations/files/data_files/results/pos_communication_congestion_12_2_26.txt\n",
      "/home/somz/Projects/Hierarchies_to_scale/khepera-simulations/files/data_files/results/pos_communication_congestion_4_2_27.txt\n",
      "/home/somz/Projects/Hierarchies_to_scale/khepera-simulations/files/data_files/results/pos_communication_congestion_4_2_27.txt\n",
      "/home/somz/Projects/Hierarchies_to_scale/khepera-simulations/files/data_files/results/pos_communication_congestion_8_2_27.txt\n",
      "/home/somz/Projects/Hierarchies_to_scale/khepera-simulations/files/data_files/results/pos_communication_congestion_8_2_27.txt\n",
      "/home/somz/Projects/Hierarchies_to_scale/khepera-simulations/files/data_files/results/pos_communication_congestion_12_2_27.txt\n",
      "/home/somz/Projects/Hierarchies_to_scale/khepera-simulations/files/data_files/results/pos_communication_congestion_12_2_27.txt\n",
      "/home/somz/Projects/Hierarchies_to_scale/khepera-simulations/files/data_files/results/pos_communication_congestion_4_2_28.txt\n",
      "/home/somz/Projects/Hierarchies_to_scale/khepera-simulations/files/data_files/results/pos_communication_congestion_4_2_28.txt\n",
      "/home/somz/Projects/Hierarchies_to_scale/khepera-simulations/files/data_files/results/pos_communication_congestion_8_2_28.txt\n",
      "/home/somz/Projects/Hierarchies_to_scale/khepera-simulations/files/data_files/results/pos_communication_congestion_8_2_28.txt\n",
      "/home/somz/Projects/Hierarchies_to_scale/khepera-simulations/files/data_files/results/pos_communication_congestion_12_2_28.txt\n",
      "/home/somz/Projects/Hierarchies_to_scale/khepera-simulations/files/data_files/results/pos_communication_congestion_12_2_28.txt\n",
      "/home/somz/Projects/Hierarchies_to_scale/khepera-simulations/files/data_files/results/pos_communication_congestion_4_2_29.txt\n",
      "/home/somz/Projects/Hierarchies_to_scale/khepera-simulations/files/data_files/results/pos_communication_congestion_4_2_29.txt\n",
      "/home/somz/Projects/Hierarchies_to_scale/khepera-simulations/files/data_files/results/pos_communication_congestion_8_2_29.txt\n",
      "/home/somz/Projects/Hierarchies_to_scale/khepera-simulations/files/data_files/results/pos_communication_congestion_8_2_29.txt\n",
      "/home/somz/Projects/Hierarchies_to_scale/khepera-simulations/files/data_files/results/pos_communication_congestion_12_2_29.txt\n",
      "/home/somz/Projects/Hierarchies_to_scale/khepera-simulations/files/data_files/results/pos_communication_congestion_12_2_29.txt\n",
      "/home/somz/Projects/Hierarchies_to_scale/khepera-simulations/files/data_files/results/pos_communication_congestion_4_4_0.txt\n",
      "/home/somz/Projects/Hierarchies_to_scale/khepera-simulations/files/data_files/results/pos_communication_congestion_4_4_0.txt\n",
      "/home/somz/Projects/Hierarchies_to_scale/khepera-simulations/files/data_files/results/pos_communication_congestion_8_4_0.txt\n",
      "/home/somz/Projects/Hierarchies_to_scale/khepera-simulations/files/data_files/results/pos_communication_congestion_8_4_0.txt\n",
      "/home/somz/Projects/Hierarchies_to_scale/khepera-simulations/files/data_files/results/pos_communication_congestion_12_4_0.txt\n",
      "/home/somz/Projects/Hierarchies_to_scale/khepera-simulations/files/data_files/results/pos_communication_congestion_12_4_0.txt\n",
      "/home/somz/Projects/Hierarchies_to_scale/khepera-simulations/files/data_files/results/pos_communication_congestion_4_4_1.txt\n",
      "/home/somz/Projects/Hierarchies_to_scale/khepera-simulations/files/data_files/results/pos_communication_congestion_4_4_1.txt\n",
      "/home/somz/Projects/Hierarchies_to_scale/khepera-simulations/files/data_files/results/pos_communication_congestion_8_4_1.txt\n",
      "/home/somz/Projects/Hierarchies_to_scale/khepera-simulations/files/data_files/results/pos_communication_congestion_8_4_1.txt\n",
      "/home/somz/Projects/Hierarchies_to_scale/khepera-simulations/files/data_files/results/pos_communication_congestion_12_4_1.txt\n",
      "/home/somz/Projects/Hierarchies_to_scale/khepera-simulations/files/data_files/results/pos_communication_congestion_12_4_1.txt\n",
      "/home/somz/Projects/Hierarchies_to_scale/khepera-simulations/files/data_files/results/pos_communication_congestion_4_4_2.txt\n",
      "/home/somz/Projects/Hierarchies_to_scale/khepera-simulations/files/data_files/results/pos_communication_congestion_4_4_2.txt\n",
      "/home/somz/Projects/Hierarchies_to_scale/khepera-simulations/files/data_files/results/pos_communication_congestion_8_4_2.txt\n",
      "/home/somz/Projects/Hierarchies_to_scale/khepera-simulations/files/data_files/results/pos_communication_congestion_8_4_2.txt\n",
      "/home/somz/Projects/Hierarchies_to_scale/khepera-simulations/files/data_files/results/pos_communication_congestion_12_4_2.txt\n",
      "/home/somz/Projects/Hierarchies_to_scale/khepera-simulations/files/data_files/results/pos_communication_congestion_12_4_2.txt\n",
      "/home/somz/Projects/Hierarchies_to_scale/khepera-simulations/files/data_files/results/pos_communication_congestion_4_4_3.txt\n",
      "/home/somz/Projects/Hierarchies_to_scale/khepera-simulations/files/data_files/results/pos_communication_congestion_4_4_3.txt\n",
      "/home/somz/Projects/Hierarchies_to_scale/khepera-simulations/files/data_files/results/pos_communication_congestion_8_4_3.txt\n",
      "/home/somz/Projects/Hierarchies_to_scale/khepera-simulations/files/data_files/results/pos_communication_congestion_8_4_3.txt\n",
      "/home/somz/Projects/Hierarchies_to_scale/khepera-simulations/files/data_files/results/pos_communication_congestion_12_4_3.txt\n",
      "/home/somz/Projects/Hierarchies_to_scale/khepera-simulations/files/data_files/results/pos_communication_congestion_12_4_3.txt\n",
      "/home/somz/Projects/Hierarchies_to_scale/khepera-simulations/files/data_files/results/pos_communication_congestion_4_4_4.txt\n",
      "/home/somz/Projects/Hierarchies_to_scale/khepera-simulations/files/data_files/results/pos_communication_congestion_4_4_4.txt\n",
      "/home/somz/Projects/Hierarchies_to_scale/khepera-simulations/files/data_files/results/pos_communication_congestion_8_4_4.txt\n",
      "/home/somz/Projects/Hierarchies_to_scale/khepera-simulations/files/data_files/results/pos_communication_congestion_8_4_4.txt\n",
      "/home/somz/Projects/Hierarchies_to_scale/khepera-simulations/files/data_files/results/pos_communication_congestion_12_4_4.txt\n",
      "/home/somz/Projects/Hierarchies_to_scale/khepera-simulations/files/data_files/results/pos_communication_congestion_12_4_4.txt\n",
      "/home/somz/Projects/Hierarchies_to_scale/khepera-simulations/files/data_files/results/pos_communication_congestion_4_4_5.txt\n",
      "/home/somz/Projects/Hierarchies_to_scale/khepera-simulations/files/data_files/results/pos_communication_congestion_4_4_5.txt\n",
      "/home/somz/Projects/Hierarchies_to_scale/khepera-simulations/files/data_files/results/pos_communication_congestion_8_4_5.txt\n",
      "/home/somz/Projects/Hierarchies_to_scale/khepera-simulations/files/data_files/results/pos_communication_congestion_8_4_5.txt\n",
      "/home/somz/Projects/Hierarchies_to_scale/khepera-simulations/files/data_files/results/pos_communication_congestion_12_4_5.txt\n",
      "/home/somz/Projects/Hierarchies_to_scale/khepera-simulations/files/data_files/results/pos_communication_congestion_12_4_5.txt\n",
      "/home/somz/Projects/Hierarchies_to_scale/khepera-simulations/files/data_files/results/pos_communication_congestion_4_4_6.txt\n",
      "/home/somz/Projects/Hierarchies_to_scale/khepera-simulations/files/data_files/results/pos_communication_congestion_4_4_6.txt\n",
      "/home/somz/Projects/Hierarchies_to_scale/khepera-simulations/files/data_files/results/pos_communication_congestion_8_4_6.txt\n",
      "/home/somz/Projects/Hierarchies_to_scale/khepera-simulations/files/data_files/results/pos_communication_congestion_8_4_6.txt\n",
      "/home/somz/Projects/Hierarchies_to_scale/khepera-simulations/files/data_files/results/pos_communication_congestion_12_4_6.txt\n",
      "/home/somz/Projects/Hierarchies_to_scale/khepera-simulations/files/data_files/results/pos_communication_congestion_12_4_6.txt\n",
      "/home/somz/Projects/Hierarchies_to_scale/khepera-simulations/files/data_files/results/pos_communication_congestion_4_4_7.txt\n",
      "/home/somz/Projects/Hierarchies_to_scale/khepera-simulations/files/data_files/results/pos_communication_congestion_4_4_7.txt\n",
      "/home/somz/Projects/Hierarchies_to_scale/khepera-simulations/files/data_files/results/pos_communication_congestion_8_4_7.txt\n",
      "/home/somz/Projects/Hierarchies_to_scale/khepera-simulations/files/data_files/results/pos_communication_congestion_8_4_7.txt\n",
      "/home/somz/Projects/Hierarchies_to_scale/khepera-simulations/files/data_files/results/pos_communication_congestion_12_4_7.txt\n",
      "/home/somz/Projects/Hierarchies_to_scale/khepera-simulations/files/data_files/results/pos_communication_congestion_12_4_7.txt\n",
      "/home/somz/Projects/Hierarchies_to_scale/khepera-simulations/files/data_files/results/pos_communication_congestion_4_4_8.txt\n",
      "/home/somz/Projects/Hierarchies_to_scale/khepera-simulations/files/data_files/results/pos_communication_congestion_4_4_8.txt\n",
      "/home/somz/Projects/Hierarchies_to_scale/khepera-simulations/files/data_files/results/pos_communication_congestion_8_4_8.txt\n",
      "/home/somz/Projects/Hierarchies_to_scale/khepera-simulations/files/data_files/results/pos_communication_congestion_8_4_8.txt\n",
      "/home/somz/Projects/Hierarchies_to_scale/khepera-simulations/files/data_files/results/pos_communication_congestion_12_4_8.txt\n",
      "/home/somz/Projects/Hierarchies_to_scale/khepera-simulations/files/data_files/results/pos_communication_congestion_12_4_8.txt\n",
      "/home/somz/Projects/Hierarchies_to_scale/khepera-simulations/files/data_files/results/pos_communication_congestion_4_4_9.txt\n",
      "/home/somz/Projects/Hierarchies_to_scale/khepera-simulations/files/data_files/results/pos_communication_congestion_4_4_9.txt\n",
      "/home/somz/Projects/Hierarchies_to_scale/khepera-simulations/files/data_files/results/pos_communication_congestion_8_4_9.txt\n",
      "/home/somz/Projects/Hierarchies_to_scale/khepera-simulations/files/data_files/results/pos_communication_congestion_8_4_9.txt\n",
      "/home/somz/Projects/Hierarchies_to_scale/khepera-simulations/files/data_files/results/pos_communication_congestion_12_4_9.txt\n",
      "/home/somz/Projects/Hierarchies_to_scale/khepera-simulations/files/data_files/results/pos_communication_congestion_12_4_9.txt\n",
      "/home/somz/Projects/Hierarchies_to_scale/khepera-simulations/files/data_files/results/pos_communication_congestion_4_4_10.txt\n",
      "/home/somz/Projects/Hierarchies_to_scale/khepera-simulations/files/data_files/results/pos_communication_congestion_4_4_10.txt\n",
      "/home/somz/Projects/Hierarchies_to_scale/khepera-simulations/files/data_files/results/pos_communication_congestion_8_4_10.txt\n",
      "/home/somz/Projects/Hierarchies_to_scale/khepera-simulations/files/data_files/results/pos_communication_congestion_8_4_10.txt\n",
      "/home/somz/Projects/Hierarchies_to_scale/khepera-simulations/files/data_files/results/pos_communication_congestion_12_4_10.txt\n",
      "/home/somz/Projects/Hierarchies_to_scale/khepera-simulations/files/data_files/results/pos_communication_congestion_12_4_10.txt\n",
      "/home/somz/Projects/Hierarchies_to_scale/khepera-simulations/files/data_files/results/pos_communication_congestion_4_4_11.txt\n",
      "/home/somz/Projects/Hierarchies_to_scale/khepera-simulations/files/data_files/results/pos_communication_congestion_4_4_11.txt\n",
      "/home/somz/Projects/Hierarchies_to_scale/khepera-simulations/files/data_files/results/pos_communication_congestion_8_4_11.txt\n",
      "/home/somz/Projects/Hierarchies_to_scale/khepera-simulations/files/data_files/results/pos_communication_congestion_8_4_11.txt\n",
      "/home/somz/Projects/Hierarchies_to_scale/khepera-simulations/files/data_files/results/pos_communication_congestion_12_4_11.txt\n",
      "/home/somz/Projects/Hierarchies_to_scale/khepera-simulations/files/data_files/results/pos_communication_congestion_12_4_11.txt\n",
      "/home/somz/Projects/Hierarchies_to_scale/khepera-simulations/files/data_files/results/pos_communication_congestion_4_4_12.txt\n",
      "/home/somz/Projects/Hierarchies_to_scale/khepera-simulations/files/data_files/results/pos_communication_congestion_4_4_12.txt\n",
      "/home/somz/Projects/Hierarchies_to_scale/khepera-simulations/files/data_files/results/pos_communication_congestion_8_4_12.txt\n",
      "/home/somz/Projects/Hierarchies_to_scale/khepera-simulations/files/data_files/results/pos_communication_congestion_8_4_12.txt\n",
      "/home/somz/Projects/Hierarchies_to_scale/khepera-simulations/files/data_files/results/pos_communication_congestion_12_4_12.txt\n",
      "/home/somz/Projects/Hierarchies_to_scale/khepera-simulations/files/data_files/results/pos_communication_congestion_12_4_12.txt\n",
      "/home/somz/Projects/Hierarchies_to_scale/khepera-simulations/files/data_files/results/pos_communication_congestion_4_4_13.txt\n",
      "/home/somz/Projects/Hierarchies_to_scale/khepera-simulations/files/data_files/results/pos_communication_congestion_4_4_13.txt\n",
      "/home/somz/Projects/Hierarchies_to_scale/khepera-simulations/files/data_files/results/pos_communication_congestion_8_4_13.txt\n",
      "/home/somz/Projects/Hierarchies_to_scale/khepera-simulations/files/data_files/results/pos_communication_congestion_8_4_13.txt\n",
      "/home/somz/Projects/Hierarchies_to_scale/khepera-simulations/files/data_files/results/pos_communication_congestion_12_4_13.txt\n",
      "/home/somz/Projects/Hierarchies_to_scale/khepera-simulations/files/data_files/results/pos_communication_congestion_12_4_13.txt\n",
      "/home/somz/Projects/Hierarchies_to_scale/khepera-simulations/files/data_files/results/pos_communication_congestion_4_4_14.txt\n",
      "/home/somz/Projects/Hierarchies_to_scale/khepera-simulations/files/data_files/results/pos_communication_congestion_4_4_14.txt\n",
      "/home/somz/Projects/Hierarchies_to_scale/khepera-simulations/files/data_files/results/pos_communication_congestion_8_4_14.txt\n",
      "/home/somz/Projects/Hierarchies_to_scale/khepera-simulations/files/data_files/results/pos_communication_congestion_8_4_14.txt\n",
      "/home/somz/Projects/Hierarchies_to_scale/khepera-simulations/files/data_files/results/pos_communication_congestion_12_4_14.txt\n",
      "/home/somz/Projects/Hierarchies_to_scale/khepera-simulations/files/data_files/results/pos_communication_congestion_12_4_14.txt\n",
      "/home/somz/Projects/Hierarchies_to_scale/khepera-simulations/files/data_files/results/pos_communication_congestion_4_4_15.txt\n",
      "/home/somz/Projects/Hierarchies_to_scale/khepera-simulations/files/data_files/results/pos_communication_congestion_4_4_15.txt\n",
      "/home/somz/Projects/Hierarchies_to_scale/khepera-simulations/files/data_files/results/pos_communication_congestion_8_4_15.txt\n",
      "/home/somz/Projects/Hierarchies_to_scale/khepera-simulations/files/data_files/results/pos_communication_congestion_8_4_15.txt\n",
      "/home/somz/Projects/Hierarchies_to_scale/khepera-simulations/files/data_files/results/pos_communication_congestion_12_4_15.txt\n",
      "/home/somz/Projects/Hierarchies_to_scale/khepera-simulations/files/data_files/results/pos_communication_congestion_12_4_15.txt\n",
      "/home/somz/Projects/Hierarchies_to_scale/khepera-simulations/files/data_files/results/pos_communication_congestion_4_4_16.txt\n",
      "/home/somz/Projects/Hierarchies_to_scale/khepera-simulations/files/data_files/results/pos_communication_congestion_4_4_16.txt\n",
      "/home/somz/Projects/Hierarchies_to_scale/khepera-simulations/files/data_files/results/pos_communication_congestion_8_4_16.txt\n",
      "/home/somz/Projects/Hierarchies_to_scale/khepera-simulations/files/data_files/results/pos_communication_congestion_8_4_16.txt\n",
      "/home/somz/Projects/Hierarchies_to_scale/khepera-simulations/files/data_files/results/pos_communication_congestion_12_4_16.txt\n",
      "/home/somz/Projects/Hierarchies_to_scale/khepera-simulations/files/data_files/results/pos_communication_congestion_12_4_16.txt\n",
      "/home/somz/Projects/Hierarchies_to_scale/khepera-simulations/files/data_files/results/pos_communication_congestion_4_4_17.txt\n",
      "/home/somz/Projects/Hierarchies_to_scale/khepera-simulations/files/data_files/results/pos_communication_congestion_4_4_17.txt\n",
      "/home/somz/Projects/Hierarchies_to_scale/khepera-simulations/files/data_files/results/pos_communication_congestion_8_4_17.txt\n",
      "/home/somz/Projects/Hierarchies_to_scale/khepera-simulations/files/data_files/results/pos_communication_congestion_8_4_17.txt\n",
      "/home/somz/Projects/Hierarchies_to_scale/khepera-simulations/files/data_files/results/pos_communication_congestion_12_4_17.txt\n",
      "/home/somz/Projects/Hierarchies_to_scale/khepera-simulations/files/data_files/results/pos_communication_congestion_12_4_17.txt\n",
      "/home/somz/Projects/Hierarchies_to_scale/khepera-simulations/files/data_files/results/pos_communication_congestion_4_4_18.txt\n",
      "/home/somz/Projects/Hierarchies_to_scale/khepera-simulations/files/data_files/results/pos_communication_congestion_4_4_18.txt\n",
      "/home/somz/Projects/Hierarchies_to_scale/khepera-simulations/files/data_files/results/pos_communication_congestion_8_4_18.txt\n",
      "/home/somz/Projects/Hierarchies_to_scale/khepera-simulations/files/data_files/results/pos_communication_congestion_8_4_18.txt\n",
      "/home/somz/Projects/Hierarchies_to_scale/khepera-simulations/files/data_files/results/pos_communication_congestion_12_4_18.txt\n",
      "/home/somz/Projects/Hierarchies_to_scale/khepera-simulations/files/data_files/results/pos_communication_congestion_12_4_18.txt\n",
      "/home/somz/Projects/Hierarchies_to_scale/khepera-simulations/files/data_files/results/pos_communication_congestion_4_4_19.txt\n",
      "/home/somz/Projects/Hierarchies_to_scale/khepera-simulations/files/data_files/results/pos_communication_congestion_4_4_19.txt\n",
      "/home/somz/Projects/Hierarchies_to_scale/khepera-simulations/files/data_files/results/pos_communication_congestion_8_4_19.txt\n",
      "/home/somz/Projects/Hierarchies_to_scale/khepera-simulations/files/data_files/results/pos_communication_congestion_8_4_19.txt\n",
      "/home/somz/Projects/Hierarchies_to_scale/khepera-simulations/files/data_files/results/pos_communication_congestion_12_4_19.txt\n",
      "/home/somz/Projects/Hierarchies_to_scale/khepera-simulations/files/data_files/results/pos_communication_congestion_12_4_19.txt\n",
      "/home/somz/Projects/Hierarchies_to_scale/khepera-simulations/files/data_files/results/pos_communication_congestion_4_4_20.txt\n",
      "/home/somz/Projects/Hierarchies_to_scale/khepera-simulations/files/data_files/results/pos_communication_congestion_4_4_20.txt\n",
      "/home/somz/Projects/Hierarchies_to_scale/khepera-simulations/files/data_files/results/pos_communication_congestion_8_4_20.txt\n",
      "/home/somz/Projects/Hierarchies_to_scale/khepera-simulations/files/data_files/results/pos_communication_congestion_8_4_20.txt\n",
      "/home/somz/Projects/Hierarchies_to_scale/khepera-simulations/files/data_files/results/pos_communication_congestion_12_4_20.txt\n",
      "/home/somz/Projects/Hierarchies_to_scale/khepera-simulations/files/data_files/results/pos_communication_congestion_12_4_20.txt\n",
      "/home/somz/Projects/Hierarchies_to_scale/khepera-simulations/files/data_files/results/pos_communication_congestion_4_4_21.txt\n",
      "/home/somz/Projects/Hierarchies_to_scale/khepera-simulations/files/data_files/results/pos_communication_congestion_4_4_21.txt\n",
      "/home/somz/Projects/Hierarchies_to_scale/khepera-simulations/files/data_files/results/pos_communication_congestion_8_4_21.txt\n",
      "/home/somz/Projects/Hierarchies_to_scale/khepera-simulations/files/data_files/results/pos_communication_congestion_8_4_21.txt\n",
      "/home/somz/Projects/Hierarchies_to_scale/khepera-simulations/files/data_files/results/pos_communication_congestion_12_4_21.txt\n",
      "/home/somz/Projects/Hierarchies_to_scale/khepera-simulations/files/data_files/results/pos_communication_congestion_12_4_21.txt\n",
      "/home/somz/Projects/Hierarchies_to_scale/khepera-simulations/files/data_files/results/pos_communication_congestion_4_4_22.txt\n",
      "/home/somz/Projects/Hierarchies_to_scale/khepera-simulations/files/data_files/results/pos_communication_congestion_4_4_22.txt\n",
      "/home/somz/Projects/Hierarchies_to_scale/khepera-simulations/files/data_files/results/pos_communication_congestion_8_4_22.txt\n",
      "/home/somz/Projects/Hierarchies_to_scale/khepera-simulations/files/data_files/results/pos_communication_congestion_8_4_22.txt\n",
      "/home/somz/Projects/Hierarchies_to_scale/khepera-simulations/files/data_files/results/pos_communication_congestion_12_4_22.txt\n",
      "/home/somz/Projects/Hierarchies_to_scale/khepera-simulations/files/data_files/results/pos_communication_congestion_12_4_22.txt\n",
      "/home/somz/Projects/Hierarchies_to_scale/khepera-simulations/files/data_files/results/pos_communication_congestion_4_4_23.txt\n",
      "/home/somz/Projects/Hierarchies_to_scale/khepera-simulations/files/data_files/results/pos_communication_congestion_4_4_23.txt\n",
      "/home/somz/Projects/Hierarchies_to_scale/khepera-simulations/files/data_files/results/pos_communication_congestion_8_4_23.txt\n",
      "/home/somz/Projects/Hierarchies_to_scale/khepera-simulations/files/data_files/results/pos_communication_congestion_8_4_23.txt\n",
      "/home/somz/Projects/Hierarchies_to_scale/khepera-simulations/files/data_files/results/pos_communication_congestion_12_4_23.txt\n",
      "/home/somz/Projects/Hierarchies_to_scale/khepera-simulations/files/data_files/results/pos_communication_congestion_12_4_23.txt\n",
      "/home/somz/Projects/Hierarchies_to_scale/khepera-simulations/files/data_files/results/pos_communication_congestion_4_4_24.txt\n",
      "/home/somz/Projects/Hierarchies_to_scale/khepera-simulations/files/data_files/results/pos_communication_congestion_4_4_24.txt\n",
      "/home/somz/Projects/Hierarchies_to_scale/khepera-simulations/files/data_files/results/pos_communication_congestion_8_4_24.txt\n",
      "/home/somz/Projects/Hierarchies_to_scale/khepera-simulations/files/data_files/results/pos_communication_congestion_8_4_24.txt\n",
      "/home/somz/Projects/Hierarchies_to_scale/khepera-simulations/files/data_files/results/pos_communication_congestion_12_4_24.txt\n",
      "/home/somz/Projects/Hierarchies_to_scale/khepera-simulations/files/data_files/results/pos_communication_congestion_12_4_24.txt\n",
      "/home/somz/Projects/Hierarchies_to_scale/khepera-simulations/files/data_files/results/pos_communication_congestion_4_4_25.txt\n",
      "/home/somz/Projects/Hierarchies_to_scale/khepera-simulations/files/data_files/results/pos_communication_congestion_4_4_25.txt\n",
      "/home/somz/Projects/Hierarchies_to_scale/khepera-simulations/files/data_files/results/pos_communication_congestion_8_4_25.txt\n",
      "/home/somz/Projects/Hierarchies_to_scale/khepera-simulations/files/data_files/results/pos_communication_congestion_8_4_25.txt\n",
      "/home/somz/Projects/Hierarchies_to_scale/khepera-simulations/files/data_files/results/pos_communication_congestion_12_4_25.txt\n",
      "/home/somz/Projects/Hierarchies_to_scale/khepera-simulations/files/data_files/results/pos_communication_congestion_12_4_25.txt\n",
      "/home/somz/Projects/Hierarchies_to_scale/khepera-simulations/files/data_files/results/pos_communication_congestion_4_4_26.txt\n",
      "/home/somz/Projects/Hierarchies_to_scale/khepera-simulations/files/data_files/results/pos_communication_congestion_4_4_26.txt\n",
      "/home/somz/Projects/Hierarchies_to_scale/khepera-simulations/files/data_files/results/pos_communication_congestion_8_4_26.txt\n",
      "/home/somz/Projects/Hierarchies_to_scale/khepera-simulations/files/data_files/results/pos_communication_congestion_8_4_26.txt\n",
      "/home/somz/Projects/Hierarchies_to_scale/khepera-simulations/files/data_files/results/pos_communication_congestion_12_4_26.txt\n",
      "/home/somz/Projects/Hierarchies_to_scale/khepera-simulations/files/data_files/results/pos_communication_congestion_12_4_26.txt\n",
      "/home/somz/Projects/Hierarchies_to_scale/khepera-simulations/files/data_files/results/pos_communication_congestion_4_4_27.txt\n",
      "/home/somz/Projects/Hierarchies_to_scale/khepera-simulations/files/data_files/results/pos_communication_congestion_4_4_27.txt\n",
      "/home/somz/Projects/Hierarchies_to_scale/khepera-simulations/files/data_files/results/pos_communication_congestion_8_4_27.txt\n",
      "/home/somz/Projects/Hierarchies_to_scale/khepera-simulations/files/data_files/results/pos_communication_congestion_8_4_27.txt\n",
      "/home/somz/Projects/Hierarchies_to_scale/khepera-simulations/files/data_files/results/pos_communication_congestion_12_4_27.txt\n",
      "/home/somz/Projects/Hierarchies_to_scale/khepera-simulations/files/data_files/results/pos_communication_congestion_12_4_27.txt\n",
      "/home/somz/Projects/Hierarchies_to_scale/khepera-simulations/files/data_files/results/pos_communication_congestion_4_4_28.txt\n",
      "/home/somz/Projects/Hierarchies_to_scale/khepera-simulations/files/data_files/results/pos_communication_congestion_4_4_28.txt\n",
      "/home/somz/Projects/Hierarchies_to_scale/khepera-simulations/files/data_files/results/pos_communication_congestion_8_4_28.txt\n",
      "/home/somz/Projects/Hierarchies_to_scale/khepera-simulations/files/data_files/results/pos_communication_congestion_8_4_28.txt\n",
      "/home/somz/Projects/Hierarchies_to_scale/khepera-simulations/files/data_files/results/pos_communication_congestion_12_4_28.txt\n",
      "/home/somz/Projects/Hierarchies_to_scale/khepera-simulations/files/data_files/results/pos_communication_congestion_12_4_28.txt\n",
      "/home/somz/Projects/Hierarchies_to_scale/khepera-simulations/files/data_files/results/pos_communication_congestion_4_4_29.txt\n",
      "/home/somz/Projects/Hierarchies_to_scale/khepera-simulations/files/data_files/results/pos_communication_congestion_4_4_29.txt\n",
      "/home/somz/Projects/Hierarchies_to_scale/khepera-simulations/files/data_files/results/pos_communication_congestion_8_4_29.txt\n",
      "/home/somz/Projects/Hierarchies_to_scale/khepera-simulations/files/data_files/results/pos_communication_congestion_8_4_29.txt\n",
      "/home/somz/Projects/Hierarchies_to_scale/khepera-simulations/files/data_files/results/pos_communication_congestion_12_4_29.txt\n",
      "/home/somz/Projects/Hierarchies_to_scale/khepera-simulations/files/data_files/results/pos_communication_congestion_12_4_29.txt\n",
      "/home/somz/Projects/Hierarchies_to_scale/khepera-simulations/files/data_files/results/pos_communication_congestion_4_6_0.txt\n",
      "/home/somz/Projects/Hierarchies_to_scale/khepera-simulations/files/data_files/results/pos_communication_congestion_4_6_0.txt\n",
      "/home/somz/Projects/Hierarchies_to_scale/khepera-simulations/files/data_files/results/pos_communication_congestion_8_6_0.txt\n",
      "/home/somz/Projects/Hierarchies_to_scale/khepera-simulations/files/data_files/results/pos_communication_congestion_8_6_0.txt\n",
      "/home/somz/Projects/Hierarchies_to_scale/khepera-simulations/files/data_files/results/pos_communication_congestion_12_6_0.txt\n",
      "/home/somz/Projects/Hierarchies_to_scale/khepera-simulations/files/data_files/results/pos_communication_congestion_12_6_0.txt\n",
      "/home/somz/Projects/Hierarchies_to_scale/khepera-simulations/files/data_files/results/pos_communication_congestion_4_6_1.txt\n",
      "/home/somz/Projects/Hierarchies_to_scale/khepera-simulations/files/data_files/results/pos_communication_congestion_4_6_1.txt\n",
      "/home/somz/Projects/Hierarchies_to_scale/khepera-simulations/files/data_files/results/pos_communication_congestion_8_6_1.txt\n",
      "/home/somz/Projects/Hierarchies_to_scale/khepera-simulations/files/data_files/results/pos_communication_congestion_8_6_1.txt\n",
      "/home/somz/Projects/Hierarchies_to_scale/khepera-simulations/files/data_files/results/pos_communication_congestion_12_6_1.txt\n",
      "/home/somz/Projects/Hierarchies_to_scale/khepera-simulations/files/data_files/results/pos_communication_congestion_12_6_1.txt\n",
      "/home/somz/Projects/Hierarchies_to_scale/khepera-simulations/files/data_files/results/pos_communication_congestion_4_6_2.txt\n",
      "/home/somz/Projects/Hierarchies_to_scale/khepera-simulations/files/data_files/results/pos_communication_congestion_4_6_2.txt\n",
      "/home/somz/Projects/Hierarchies_to_scale/khepera-simulations/files/data_files/results/pos_communication_congestion_8_6_2.txt\n",
      "/home/somz/Projects/Hierarchies_to_scale/khepera-simulations/files/data_files/results/pos_communication_congestion_8_6_2.txt\n",
      "/home/somz/Projects/Hierarchies_to_scale/khepera-simulations/files/data_files/results/pos_communication_congestion_12_6_2.txt\n",
      "/home/somz/Projects/Hierarchies_to_scale/khepera-simulations/files/data_files/results/pos_communication_congestion_12_6_2.txt\n",
      "/home/somz/Projects/Hierarchies_to_scale/khepera-simulations/files/data_files/results/pos_communication_congestion_4_6_3.txt\n",
      "/home/somz/Projects/Hierarchies_to_scale/khepera-simulations/files/data_files/results/pos_communication_congestion_4_6_3.txt\n",
      "/home/somz/Projects/Hierarchies_to_scale/khepera-simulations/files/data_files/results/pos_communication_congestion_8_6_3.txt\n",
      "/home/somz/Projects/Hierarchies_to_scale/khepera-simulations/files/data_files/results/pos_communication_congestion_8_6_3.txt\n",
      "/home/somz/Projects/Hierarchies_to_scale/khepera-simulations/files/data_files/results/pos_communication_congestion_12_6_3.txt\n",
      "/home/somz/Projects/Hierarchies_to_scale/khepera-simulations/files/data_files/results/pos_communication_congestion_12_6_3.txt\n",
      "/home/somz/Projects/Hierarchies_to_scale/khepera-simulations/files/data_files/results/pos_communication_congestion_4_6_4.txt\n",
      "/home/somz/Projects/Hierarchies_to_scale/khepera-simulations/files/data_files/results/pos_communication_congestion_4_6_4.txt\n",
      "/home/somz/Projects/Hierarchies_to_scale/khepera-simulations/files/data_files/results/pos_communication_congestion_8_6_4.txt\n",
      "/home/somz/Projects/Hierarchies_to_scale/khepera-simulations/files/data_files/results/pos_communication_congestion_8_6_4.txt\n",
      "/home/somz/Projects/Hierarchies_to_scale/khepera-simulations/files/data_files/results/pos_communication_congestion_12_6_4.txt\n",
      "/home/somz/Projects/Hierarchies_to_scale/khepera-simulations/files/data_files/results/pos_communication_congestion_12_6_4.txt\n",
      "/home/somz/Projects/Hierarchies_to_scale/khepera-simulations/files/data_files/results/pos_communication_congestion_4_6_5.txt\n",
      "/home/somz/Projects/Hierarchies_to_scale/khepera-simulations/files/data_files/results/pos_communication_congestion_4_6_5.txt\n",
      "/home/somz/Projects/Hierarchies_to_scale/khepera-simulations/files/data_files/results/pos_communication_congestion_8_6_5.txt\n",
      "/home/somz/Projects/Hierarchies_to_scale/khepera-simulations/files/data_files/results/pos_communication_congestion_8_6_5.txt\n",
      "/home/somz/Projects/Hierarchies_to_scale/khepera-simulations/files/data_files/results/pos_communication_congestion_12_6_5.txt\n",
      "/home/somz/Projects/Hierarchies_to_scale/khepera-simulations/files/data_files/results/pos_communication_congestion_12_6_5.txt\n",
      "/home/somz/Projects/Hierarchies_to_scale/khepera-simulations/files/data_files/results/pos_communication_congestion_4_6_6.txt\n",
      "/home/somz/Projects/Hierarchies_to_scale/khepera-simulations/files/data_files/results/pos_communication_congestion_4_6_6.txt\n",
      "/home/somz/Projects/Hierarchies_to_scale/khepera-simulations/files/data_files/results/pos_communication_congestion_8_6_6.txt\n",
      "/home/somz/Projects/Hierarchies_to_scale/khepera-simulations/files/data_files/results/pos_communication_congestion_8_6_6.txt\n",
      "/home/somz/Projects/Hierarchies_to_scale/khepera-simulations/files/data_files/results/pos_communication_congestion_12_6_6.txt\n",
      "/home/somz/Projects/Hierarchies_to_scale/khepera-simulations/files/data_files/results/pos_communication_congestion_12_6_6.txt\n",
      "/home/somz/Projects/Hierarchies_to_scale/khepera-simulations/files/data_files/results/pos_communication_congestion_4_6_7.txt\n",
      "/home/somz/Projects/Hierarchies_to_scale/khepera-simulations/files/data_files/results/pos_communication_congestion_4_6_7.txt\n",
      "/home/somz/Projects/Hierarchies_to_scale/khepera-simulations/files/data_files/results/pos_communication_congestion_8_6_7.txt\n",
      "/home/somz/Projects/Hierarchies_to_scale/khepera-simulations/files/data_files/results/pos_communication_congestion_8_6_7.txt\n",
      "/home/somz/Projects/Hierarchies_to_scale/khepera-simulations/files/data_files/results/pos_communication_congestion_12_6_7.txt\n",
      "/home/somz/Projects/Hierarchies_to_scale/khepera-simulations/files/data_files/results/pos_communication_congestion_12_6_7.txt\n",
      "/home/somz/Projects/Hierarchies_to_scale/khepera-simulations/files/data_files/results/pos_communication_congestion_4_6_8.txt\n",
      "/home/somz/Projects/Hierarchies_to_scale/khepera-simulations/files/data_files/results/pos_communication_congestion_4_6_8.txt\n",
      "/home/somz/Projects/Hierarchies_to_scale/khepera-simulations/files/data_files/results/pos_communication_congestion_8_6_8.txt\n",
      "/home/somz/Projects/Hierarchies_to_scale/khepera-simulations/files/data_files/results/pos_communication_congestion_8_6_8.txt\n",
      "/home/somz/Projects/Hierarchies_to_scale/khepera-simulations/files/data_files/results/pos_communication_congestion_12_6_8.txt\n",
      "/home/somz/Projects/Hierarchies_to_scale/khepera-simulations/files/data_files/results/pos_communication_congestion_12_6_8.txt\n",
      "/home/somz/Projects/Hierarchies_to_scale/khepera-simulations/files/data_files/results/pos_communication_congestion_4_6_9.txt\n",
      "/home/somz/Projects/Hierarchies_to_scale/khepera-simulations/files/data_files/results/pos_communication_congestion_4_6_9.txt\n",
      "/home/somz/Projects/Hierarchies_to_scale/khepera-simulations/files/data_files/results/pos_communication_congestion_8_6_9.txt\n",
      "/home/somz/Projects/Hierarchies_to_scale/khepera-simulations/files/data_files/results/pos_communication_congestion_8_6_9.txt\n",
      "/home/somz/Projects/Hierarchies_to_scale/khepera-simulations/files/data_files/results/pos_communication_congestion_12_6_9.txt\n",
      "/home/somz/Projects/Hierarchies_to_scale/khepera-simulations/files/data_files/results/pos_communication_congestion_12_6_9.txt\n",
      "/home/somz/Projects/Hierarchies_to_scale/khepera-simulations/files/data_files/results/pos_communication_congestion_4_6_10.txt\n",
      "/home/somz/Projects/Hierarchies_to_scale/khepera-simulations/files/data_files/results/pos_communication_congestion_4_6_10.txt\n",
      "/home/somz/Projects/Hierarchies_to_scale/khepera-simulations/files/data_files/results/pos_communication_congestion_8_6_10.txt\n",
      "/home/somz/Projects/Hierarchies_to_scale/khepera-simulations/files/data_files/results/pos_communication_congestion_8_6_10.txt\n",
      "/home/somz/Projects/Hierarchies_to_scale/khepera-simulations/files/data_files/results/pos_communication_congestion_12_6_10.txt\n",
      "/home/somz/Projects/Hierarchies_to_scale/khepera-simulations/files/data_files/results/pos_communication_congestion_12_6_10.txt\n",
      "/home/somz/Projects/Hierarchies_to_scale/khepera-simulations/files/data_files/results/pos_communication_congestion_4_6_11.txt\n",
      "/home/somz/Projects/Hierarchies_to_scale/khepera-simulations/files/data_files/results/pos_communication_congestion_4_6_11.txt\n",
      "/home/somz/Projects/Hierarchies_to_scale/khepera-simulations/files/data_files/results/pos_communication_congestion_8_6_11.txt\n",
      "/home/somz/Projects/Hierarchies_to_scale/khepera-simulations/files/data_files/results/pos_communication_congestion_8_6_11.txt\n",
      "/home/somz/Projects/Hierarchies_to_scale/khepera-simulations/files/data_files/results/pos_communication_congestion_12_6_11.txt\n",
      "/home/somz/Projects/Hierarchies_to_scale/khepera-simulations/files/data_files/results/pos_communication_congestion_12_6_11.txt\n",
      "/home/somz/Projects/Hierarchies_to_scale/khepera-simulations/files/data_files/results/pos_communication_congestion_4_6_12.txt\n",
      "/home/somz/Projects/Hierarchies_to_scale/khepera-simulations/files/data_files/results/pos_communication_congestion_4_6_12.txt\n",
      "/home/somz/Projects/Hierarchies_to_scale/khepera-simulations/files/data_files/results/pos_communication_congestion_8_6_12.txt\n",
      "/home/somz/Projects/Hierarchies_to_scale/khepera-simulations/files/data_files/results/pos_communication_congestion_8_6_12.txt\n",
      "/home/somz/Projects/Hierarchies_to_scale/khepera-simulations/files/data_files/results/pos_communication_congestion_12_6_12.txt\n",
      "/home/somz/Projects/Hierarchies_to_scale/khepera-simulations/files/data_files/results/pos_communication_congestion_12_6_12.txt\n",
      "/home/somz/Projects/Hierarchies_to_scale/khepera-simulations/files/data_files/results/pos_communication_congestion_4_6_13.txt\n",
      "/home/somz/Projects/Hierarchies_to_scale/khepera-simulations/files/data_files/results/pos_communication_congestion_4_6_13.txt\n",
      "/home/somz/Projects/Hierarchies_to_scale/khepera-simulations/files/data_files/results/pos_communication_congestion_8_6_13.txt\n",
      "/home/somz/Projects/Hierarchies_to_scale/khepera-simulations/files/data_files/results/pos_communication_congestion_8_6_13.txt\n",
      "/home/somz/Projects/Hierarchies_to_scale/khepera-simulations/files/data_files/results/pos_communication_congestion_12_6_13.txt\n",
      "/home/somz/Projects/Hierarchies_to_scale/khepera-simulations/files/data_files/results/pos_communication_congestion_12_6_13.txt\n",
      "/home/somz/Projects/Hierarchies_to_scale/khepera-simulations/files/data_files/results/pos_communication_congestion_4_6_14.txt\n",
      "/home/somz/Projects/Hierarchies_to_scale/khepera-simulations/files/data_files/results/pos_communication_congestion_4_6_14.txt\n",
      "/home/somz/Projects/Hierarchies_to_scale/khepera-simulations/files/data_files/results/pos_communication_congestion_8_6_14.txt\n",
      "/home/somz/Projects/Hierarchies_to_scale/khepera-simulations/files/data_files/results/pos_communication_congestion_8_6_14.txt\n",
      "/home/somz/Projects/Hierarchies_to_scale/khepera-simulations/files/data_files/results/pos_communication_congestion_12_6_14.txt\n",
      "/home/somz/Projects/Hierarchies_to_scale/khepera-simulations/files/data_files/results/pos_communication_congestion_12_6_14.txt\n",
      "/home/somz/Projects/Hierarchies_to_scale/khepera-simulations/files/data_files/results/pos_communication_congestion_4_6_15.txt\n",
      "/home/somz/Projects/Hierarchies_to_scale/khepera-simulations/files/data_files/results/pos_communication_congestion_4_6_15.txt\n",
      "/home/somz/Projects/Hierarchies_to_scale/khepera-simulations/files/data_files/results/pos_communication_congestion_8_6_15.txt\n",
      "/home/somz/Projects/Hierarchies_to_scale/khepera-simulations/files/data_files/results/pos_communication_congestion_8_6_15.txt\n",
      "/home/somz/Projects/Hierarchies_to_scale/khepera-simulations/files/data_files/results/pos_communication_congestion_12_6_15.txt\n",
      "/home/somz/Projects/Hierarchies_to_scale/khepera-simulations/files/data_files/results/pos_communication_congestion_12_6_15.txt\n",
      "/home/somz/Projects/Hierarchies_to_scale/khepera-simulations/files/data_files/results/pos_communication_congestion_4_6_16.txt\n",
      "/home/somz/Projects/Hierarchies_to_scale/khepera-simulations/files/data_files/results/pos_communication_congestion_4_6_16.txt\n",
      "/home/somz/Projects/Hierarchies_to_scale/khepera-simulations/files/data_files/results/pos_communication_congestion_8_6_16.txt\n",
      "/home/somz/Projects/Hierarchies_to_scale/khepera-simulations/files/data_files/results/pos_communication_congestion_8_6_16.txt\n",
      "/home/somz/Projects/Hierarchies_to_scale/khepera-simulations/files/data_files/results/pos_communication_congestion_12_6_16.txt\n",
      "/home/somz/Projects/Hierarchies_to_scale/khepera-simulations/files/data_files/results/pos_communication_congestion_12_6_16.txt\n",
      "/home/somz/Projects/Hierarchies_to_scale/khepera-simulations/files/data_files/results/pos_communication_congestion_4_6_17.txt\n",
      "/home/somz/Projects/Hierarchies_to_scale/khepera-simulations/files/data_files/results/pos_communication_congestion_4_6_17.txt\n",
      "/home/somz/Projects/Hierarchies_to_scale/khepera-simulations/files/data_files/results/pos_communication_congestion_8_6_17.txt\n",
      "/home/somz/Projects/Hierarchies_to_scale/khepera-simulations/files/data_files/results/pos_communication_congestion_8_6_17.txt\n",
      "/home/somz/Projects/Hierarchies_to_scale/khepera-simulations/files/data_files/results/pos_communication_congestion_12_6_17.txt\n",
      "/home/somz/Projects/Hierarchies_to_scale/khepera-simulations/files/data_files/results/pos_communication_congestion_12_6_17.txt\n",
      "/home/somz/Projects/Hierarchies_to_scale/khepera-simulations/files/data_files/results/pos_communication_congestion_4_6_18.txt\n",
      "/home/somz/Projects/Hierarchies_to_scale/khepera-simulations/files/data_files/results/pos_communication_congestion_4_6_18.txt\n",
      "/home/somz/Projects/Hierarchies_to_scale/khepera-simulations/files/data_files/results/pos_communication_congestion_8_6_18.txt\n",
      "/home/somz/Projects/Hierarchies_to_scale/khepera-simulations/files/data_files/results/pos_communication_congestion_8_6_18.txt\n",
      "/home/somz/Projects/Hierarchies_to_scale/khepera-simulations/files/data_files/results/pos_communication_congestion_12_6_18.txt\n",
      "/home/somz/Projects/Hierarchies_to_scale/khepera-simulations/files/data_files/results/pos_communication_congestion_12_6_18.txt\n",
      "/home/somz/Projects/Hierarchies_to_scale/khepera-simulations/files/data_files/results/pos_communication_congestion_4_6_19.txt\n",
      "/home/somz/Projects/Hierarchies_to_scale/khepera-simulations/files/data_files/results/pos_communication_congestion_4_6_19.txt\n",
      "/home/somz/Projects/Hierarchies_to_scale/khepera-simulations/files/data_files/results/pos_communication_congestion_8_6_19.txt\n",
      "/home/somz/Projects/Hierarchies_to_scale/khepera-simulations/files/data_files/results/pos_communication_congestion_8_6_19.txt\n",
      "/home/somz/Projects/Hierarchies_to_scale/khepera-simulations/files/data_files/results/pos_communication_congestion_12_6_19.txt\n",
      "/home/somz/Projects/Hierarchies_to_scale/khepera-simulations/files/data_files/results/pos_communication_congestion_12_6_19.txt\n",
      "/home/somz/Projects/Hierarchies_to_scale/khepera-simulations/files/data_files/results/pos_communication_congestion_4_6_20.txt\n",
      "/home/somz/Projects/Hierarchies_to_scale/khepera-simulations/files/data_files/results/pos_communication_congestion_4_6_20.txt\n",
      "/home/somz/Projects/Hierarchies_to_scale/khepera-simulations/files/data_files/results/pos_communication_congestion_8_6_20.txt\n",
      "/home/somz/Projects/Hierarchies_to_scale/khepera-simulations/files/data_files/results/pos_communication_congestion_8_6_20.txt\n",
      "/home/somz/Projects/Hierarchies_to_scale/khepera-simulations/files/data_files/results/pos_communication_congestion_12_6_20.txt\n",
      "/home/somz/Projects/Hierarchies_to_scale/khepera-simulations/files/data_files/results/pos_communication_congestion_12_6_20.txt\n",
      "/home/somz/Projects/Hierarchies_to_scale/khepera-simulations/files/data_files/results/pos_communication_congestion_4_6_21.txt\n",
      "/home/somz/Projects/Hierarchies_to_scale/khepera-simulations/files/data_files/results/pos_communication_congestion_4_6_21.txt\n",
      "/home/somz/Projects/Hierarchies_to_scale/khepera-simulations/files/data_files/results/pos_communication_congestion_8_6_21.txt\n",
      "/home/somz/Projects/Hierarchies_to_scale/khepera-simulations/files/data_files/results/pos_communication_congestion_8_6_21.txt\n",
      "/home/somz/Projects/Hierarchies_to_scale/khepera-simulations/files/data_files/results/pos_communication_congestion_12_6_21.txt\n",
      "/home/somz/Projects/Hierarchies_to_scale/khepera-simulations/files/data_files/results/pos_communication_congestion_12_6_21.txt\n",
      "/home/somz/Projects/Hierarchies_to_scale/khepera-simulations/files/data_files/results/pos_communication_congestion_4_6_22.txt\n",
      "/home/somz/Projects/Hierarchies_to_scale/khepera-simulations/files/data_files/results/pos_communication_congestion_4_6_22.txt\n",
      "/home/somz/Projects/Hierarchies_to_scale/khepera-simulations/files/data_files/results/pos_communication_congestion_8_6_22.txt\n",
      "/home/somz/Projects/Hierarchies_to_scale/khepera-simulations/files/data_files/results/pos_communication_congestion_8_6_22.txt\n",
      "/home/somz/Projects/Hierarchies_to_scale/khepera-simulations/files/data_files/results/pos_communication_congestion_12_6_22.txt\n",
      "/home/somz/Projects/Hierarchies_to_scale/khepera-simulations/files/data_files/results/pos_communication_congestion_12_6_22.txt\n",
      "/home/somz/Projects/Hierarchies_to_scale/khepera-simulations/files/data_files/results/pos_communication_congestion_4_6_23.txt\n",
      "/home/somz/Projects/Hierarchies_to_scale/khepera-simulations/files/data_files/results/pos_communication_congestion_4_6_23.txt\n",
      "/home/somz/Projects/Hierarchies_to_scale/khepera-simulations/files/data_files/results/pos_communication_congestion_8_6_23.txt\n",
      "/home/somz/Projects/Hierarchies_to_scale/khepera-simulations/files/data_files/results/pos_communication_congestion_8_6_23.txt\n",
      "/home/somz/Projects/Hierarchies_to_scale/khepera-simulations/files/data_files/results/pos_communication_congestion_12_6_23.txt\n",
      "/home/somz/Projects/Hierarchies_to_scale/khepera-simulations/files/data_files/results/pos_communication_congestion_12_6_23.txt\n",
      "/home/somz/Projects/Hierarchies_to_scale/khepera-simulations/files/data_files/results/pos_communication_congestion_4_6_24.txt\n",
      "/home/somz/Projects/Hierarchies_to_scale/khepera-simulations/files/data_files/results/pos_communication_congestion_4_6_24.txt\n",
      "/home/somz/Projects/Hierarchies_to_scale/khepera-simulations/files/data_files/results/pos_communication_congestion_8_6_24.txt\n",
      "/home/somz/Projects/Hierarchies_to_scale/khepera-simulations/files/data_files/results/pos_communication_congestion_8_6_24.txt\n",
      "/home/somz/Projects/Hierarchies_to_scale/khepera-simulations/files/data_files/results/pos_communication_congestion_12_6_24.txt\n",
      "/home/somz/Projects/Hierarchies_to_scale/khepera-simulations/files/data_files/results/pos_communication_congestion_12_6_24.txt\n",
      "/home/somz/Projects/Hierarchies_to_scale/khepera-simulations/files/data_files/results/pos_communication_congestion_4_6_25.txt\n",
      "/home/somz/Projects/Hierarchies_to_scale/khepera-simulations/files/data_files/results/pos_communication_congestion_4_6_25.txt\n",
      "/home/somz/Projects/Hierarchies_to_scale/khepera-simulations/files/data_files/results/pos_communication_congestion_8_6_25.txt\n",
      "/home/somz/Projects/Hierarchies_to_scale/khepera-simulations/files/data_files/results/pos_communication_congestion_8_6_25.txt\n",
      "/home/somz/Projects/Hierarchies_to_scale/khepera-simulations/files/data_files/results/pos_communication_congestion_12_6_25.txt\n",
      "/home/somz/Projects/Hierarchies_to_scale/khepera-simulations/files/data_files/results/pos_communication_congestion_12_6_25.txt\n",
      "/home/somz/Projects/Hierarchies_to_scale/khepera-simulations/files/data_files/results/pos_communication_congestion_4_6_26.txt\n",
      "/home/somz/Projects/Hierarchies_to_scale/khepera-simulations/files/data_files/results/pos_communication_congestion_4_6_26.txt\n",
      "/home/somz/Projects/Hierarchies_to_scale/khepera-simulations/files/data_files/results/pos_communication_congestion_8_6_26.txt\n",
      "/home/somz/Projects/Hierarchies_to_scale/khepera-simulations/files/data_files/results/pos_communication_congestion_8_6_26.txt\n",
      "/home/somz/Projects/Hierarchies_to_scale/khepera-simulations/files/data_files/results/pos_communication_congestion_12_6_26.txt\n",
      "/home/somz/Projects/Hierarchies_to_scale/khepera-simulations/files/data_files/results/pos_communication_congestion_12_6_26.txt\n",
      "/home/somz/Projects/Hierarchies_to_scale/khepera-simulations/files/data_files/results/pos_communication_congestion_4_6_27.txt\n",
      "/home/somz/Projects/Hierarchies_to_scale/khepera-simulations/files/data_files/results/pos_communication_congestion_4_6_27.txt\n",
      "/home/somz/Projects/Hierarchies_to_scale/khepera-simulations/files/data_files/results/pos_communication_congestion_8_6_27.txt\n",
      "/home/somz/Projects/Hierarchies_to_scale/khepera-simulations/files/data_files/results/pos_communication_congestion_8_6_27.txt\n",
      "/home/somz/Projects/Hierarchies_to_scale/khepera-simulations/files/data_files/results/pos_communication_congestion_12_6_27.txt\n",
      "/home/somz/Projects/Hierarchies_to_scale/khepera-simulations/files/data_files/results/pos_communication_congestion_12_6_27.txt\n",
      "/home/somz/Projects/Hierarchies_to_scale/khepera-simulations/files/data_files/results/pos_communication_congestion_4_6_28.txt\n",
      "/home/somz/Projects/Hierarchies_to_scale/khepera-simulations/files/data_files/results/pos_communication_congestion_4_6_28.txt\n",
      "/home/somz/Projects/Hierarchies_to_scale/khepera-simulations/files/data_files/results/pos_communication_congestion_8_6_28.txt\n",
      "/home/somz/Projects/Hierarchies_to_scale/khepera-simulations/files/data_files/results/pos_communication_congestion_8_6_28.txt\n",
      "/home/somz/Projects/Hierarchies_to_scale/khepera-simulations/files/data_files/results/pos_communication_congestion_12_6_28.txt\n",
      "/home/somz/Projects/Hierarchies_to_scale/khepera-simulations/files/data_files/results/pos_communication_congestion_12_6_28.txt\n",
      "/home/somz/Projects/Hierarchies_to_scale/khepera-simulations/files/data_files/results/pos_communication_congestion_4_6_29.txt\n",
      "/home/somz/Projects/Hierarchies_to_scale/khepera-simulations/files/data_files/results/pos_communication_congestion_4_6_29.txt\n",
      "/home/somz/Projects/Hierarchies_to_scale/khepera-simulations/files/data_files/results/pos_communication_congestion_8_6_29.txt\n",
      "/home/somz/Projects/Hierarchies_to_scale/khepera-simulations/files/data_files/results/pos_communication_congestion_8_6_29.txt\n",
      "/home/somz/Projects/Hierarchies_to_scale/khepera-simulations/files/data_files/results/pos_communication_congestion_12_6_29.txt\n",
      "/home/somz/Projects/Hierarchies_to_scale/khepera-simulations/files/data_files/results/pos_communication_congestion_12_6_29.txt\n",
      "/home/somz/Projects/Hierarchies_to_scale/khepera-simulations/files/data_files/results/pos_communication_congestion_4_10_0.txt\n",
      "/home/somz/Projects/Hierarchies_to_scale/khepera-simulations/files/data_files/results/pos_communication_congestion_4_10_0.txt\n",
      "/home/somz/Projects/Hierarchies_to_scale/khepera-simulations/files/data_files/results/pos_communication_congestion_8_10_0.txt\n",
      "/home/somz/Projects/Hierarchies_to_scale/khepera-simulations/files/data_files/results/pos_communication_congestion_8_10_0.txt\n",
      "/home/somz/Projects/Hierarchies_to_scale/khepera-simulations/files/data_files/results/pos_communication_congestion_12_10_0.txt\n",
      "/home/somz/Projects/Hierarchies_to_scale/khepera-simulations/files/data_files/results/pos_communication_congestion_12_10_0.txt\n",
      "/home/somz/Projects/Hierarchies_to_scale/khepera-simulations/files/data_files/results/pos_communication_congestion_4_10_1.txt\n",
      "/home/somz/Projects/Hierarchies_to_scale/khepera-simulations/files/data_files/results/pos_communication_congestion_4_10_1.txt\n",
      "/home/somz/Projects/Hierarchies_to_scale/khepera-simulations/files/data_files/results/pos_communication_congestion_8_10_1.txt\n",
      "/home/somz/Projects/Hierarchies_to_scale/khepera-simulations/files/data_files/results/pos_communication_congestion_8_10_1.txt\n",
      "/home/somz/Projects/Hierarchies_to_scale/khepera-simulations/files/data_files/results/pos_communication_congestion_12_10_1.txt\n",
      "/home/somz/Projects/Hierarchies_to_scale/khepera-simulations/files/data_files/results/pos_communication_congestion_12_10_1.txt\n",
      "/home/somz/Projects/Hierarchies_to_scale/khepera-simulations/files/data_files/results/pos_communication_congestion_4_10_2.txt\n",
      "/home/somz/Projects/Hierarchies_to_scale/khepera-simulations/files/data_files/results/pos_communication_congestion_4_10_2.txt\n",
      "/home/somz/Projects/Hierarchies_to_scale/khepera-simulations/files/data_files/results/pos_communication_congestion_8_10_2.txt\n",
      "/home/somz/Projects/Hierarchies_to_scale/khepera-simulations/files/data_files/results/pos_communication_congestion_8_10_2.txt\n",
      "/home/somz/Projects/Hierarchies_to_scale/khepera-simulations/files/data_files/results/pos_communication_congestion_12_10_2.txt\n",
      "/home/somz/Projects/Hierarchies_to_scale/khepera-simulations/files/data_files/results/pos_communication_congestion_12_10_2.txt\n",
      "/home/somz/Projects/Hierarchies_to_scale/khepera-simulations/files/data_files/results/pos_communication_congestion_4_10_3.txt\n",
      "/home/somz/Projects/Hierarchies_to_scale/khepera-simulations/files/data_files/results/pos_communication_congestion_4_10_3.txt\n",
      "/home/somz/Projects/Hierarchies_to_scale/khepera-simulations/files/data_files/results/pos_communication_congestion_8_10_3.txt\n",
      "/home/somz/Projects/Hierarchies_to_scale/khepera-simulations/files/data_files/results/pos_communication_congestion_8_10_3.txt\n",
      "/home/somz/Projects/Hierarchies_to_scale/khepera-simulations/files/data_files/results/pos_communication_congestion_12_10_3.txt\n",
      "/home/somz/Projects/Hierarchies_to_scale/khepera-simulations/files/data_files/results/pos_communication_congestion_12_10_3.txt\n",
      "/home/somz/Projects/Hierarchies_to_scale/khepera-simulations/files/data_files/results/pos_communication_congestion_4_10_4.txt\n",
      "/home/somz/Projects/Hierarchies_to_scale/khepera-simulations/files/data_files/results/pos_communication_congestion_4_10_4.txt\n",
      "/home/somz/Projects/Hierarchies_to_scale/khepera-simulations/files/data_files/results/pos_communication_congestion_8_10_4.txt\n",
      "/home/somz/Projects/Hierarchies_to_scale/khepera-simulations/files/data_files/results/pos_communication_congestion_8_10_4.txt\n",
      "/home/somz/Projects/Hierarchies_to_scale/khepera-simulations/files/data_files/results/pos_communication_congestion_12_10_4.txt\n",
      "/home/somz/Projects/Hierarchies_to_scale/khepera-simulations/files/data_files/results/pos_communication_congestion_12_10_4.txt\n",
      "/home/somz/Projects/Hierarchies_to_scale/khepera-simulations/files/data_files/results/pos_communication_congestion_4_10_5.txt\n",
      "/home/somz/Projects/Hierarchies_to_scale/khepera-simulations/files/data_files/results/pos_communication_congestion_4_10_5.txt\n",
      "/home/somz/Projects/Hierarchies_to_scale/khepera-simulations/files/data_files/results/pos_communication_congestion_8_10_5.txt\n",
      "/home/somz/Projects/Hierarchies_to_scale/khepera-simulations/files/data_files/results/pos_communication_congestion_8_10_5.txt\n",
      "/home/somz/Projects/Hierarchies_to_scale/khepera-simulations/files/data_files/results/pos_communication_congestion_12_10_5.txt\n",
      "/home/somz/Projects/Hierarchies_to_scale/khepera-simulations/files/data_files/results/pos_communication_congestion_12_10_5.txt\n",
      "/home/somz/Projects/Hierarchies_to_scale/khepera-simulations/files/data_files/results/pos_communication_congestion_4_10_6.txt\n",
      "/home/somz/Projects/Hierarchies_to_scale/khepera-simulations/files/data_files/results/pos_communication_congestion_4_10_6.txt\n",
      "/home/somz/Projects/Hierarchies_to_scale/khepera-simulations/files/data_files/results/pos_communication_congestion_8_10_6.txt\n",
      "/home/somz/Projects/Hierarchies_to_scale/khepera-simulations/files/data_files/results/pos_communication_congestion_8_10_6.txt\n",
      "/home/somz/Projects/Hierarchies_to_scale/khepera-simulations/files/data_files/results/pos_communication_congestion_12_10_6.txt\n",
      "/home/somz/Projects/Hierarchies_to_scale/khepera-simulations/files/data_files/results/pos_communication_congestion_12_10_6.txt\n",
      "/home/somz/Projects/Hierarchies_to_scale/khepera-simulations/files/data_files/results/pos_communication_congestion_4_10_7.txt\n",
      "/home/somz/Projects/Hierarchies_to_scale/khepera-simulations/files/data_files/results/pos_communication_congestion_4_10_7.txt\n",
      "/home/somz/Projects/Hierarchies_to_scale/khepera-simulations/files/data_files/results/pos_communication_congestion_8_10_7.txt\n",
      "/home/somz/Projects/Hierarchies_to_scale/khepera-simulations/files/data_files/results/pos_communication_congestion_8_10_7.txt\n",
      "/home/somz/Projects/Hierarchies_to_scale/khepera-simulations/files/data_files/results/pos_communication_congestion_12_10_7.txt\n",
      "/home/somz/Projects/Hierarchies_to_scale/khepera-simulations/files/data_files/results/pos_communication_congestion_12_10_7.txt\n",
      "/home/somz/Projects/Hierarchies_to_scale/khepera-simulations/files/data_files/results/pos_communication_congestion_4_10_8.txt\n",
      "/home/somz/Projects/Hierarchies_to_scale/khepera-simulations/files/data_files/results/pos_communication_congestion_4_10_8.txt\n",
      "/home/somz/Projects/Hierarchies_to_scale/khepera-simulations/files/data_files/results/pos_communication_congestion_8_10_8.txt\n",
      "/home/somz/Projects/Hierarchies_to_scale/khepera-simulations/files/data_files/results/pos_communication_congestion_8_10_8.txt\n",
      "/home/somz/Projects/Hierarchies_to_scale/khepera-simulations/files/data_files/results/pos_communication_congestion_12_10_8.txt\n",
      "/home/somz/Projects/Hierarchies_to_scale/khepera-simulations/files/data_files/results/pos_communication_congestion_12_10_8.txt\n",
      "/home/somz/Projects/Hierarchies_to_scale/khepera-simulations/files/data_files/results/pos_communication_congestion_4_10_9.txt\n",
      "/home/somz/Projects/Hierarchies_to_scale/khepera-simulations/files/data_files/results/pos_communication_congestion_4_10_9.txt\n",
      "/home/somz/Projects/Hierarchies_to_scale/khepera-simulations/files/data_files/results/pos_communication_congestion_8_10_9.txt\n",
      "/home/somz/Projects/Hierarchies_to_scale/khepera-simulations/files/data_files/results/pos_communication_congestion_8_10_9.txt\n",
      "/home/somz/Projects/Hierarchies_to_scale/khepera-simulations/files/data_files/results/pos_communication_congestion_12_10_9.txt\n",
      "/home/somz/Projects/Hierarchies_to_scale/khepera-simulations/files/data_files/results/pos_communication_congestion_12_10_9.txt\n",
      "/home/somz/Projects/Hierarchies_to_scale/khepera-simulations/files/data_files/results/pos_communication_congestion_4_10_10.txt\n",
      "/home/somz/Projects/Hierarchies_to_scale/khepera-simulations/files/data_files/results/pos_communication_congestion_4_10_10.txt\n",
      "/home/somz/Projects/Hierarchies_to_scale/khepera-simulations/files/data_files/results/pos_communication_congestion_8_10_10.txt\n",
      "/home/somz/Projects/Hierarchies_to_scale/khepera-simulations/files/data_files/results/pos_communication_congestion_8_10_10.txt\n",
      "/home/somz/Projects/Hierarchies_to_scale/khepera-simulations/files/data_files/results/pos_communication_congestion_12_10_10.txt\n",
      "/home/somz/Projects/Hierarchies_to_scale/khepera-simulations/files/data_files/results/pos_communication_congestion_12_10_10.txt\n",
      "/home/somz/Projects/Hierarchies_to_scale/khepera-simulations/files/data_files/results/pos_communication_congestion_4_10_11.txt\n",
      "/home/somz/Projects/Hierarchies_to_scale/khepera-simulations/files/data_files/results/pos_communication_congestion_4_10_11.txt\n",
      "/home/somz/Projects/Hierarchies_to_scale/khepera-simulations/files/data_files/results/pos_communication_congestion_8_10_11.txt\n",
      "/home/somz/Projects/Hierarchies_to_scale/khepera-simulations/files/data_files/results/pos_communication_congestion_8_10_11.txt\n",
      "/home/somz/Projects/Hierarchies_to_scale/khepera-simulations/files/data_files/results/pos_communication_congestion_12_10_11.txt\n",
      "/home/somz/Projects/Hierarchies_to_scale/khepera-simulations/files/data_files/results/pos_communication_congestion_12_10_11.txt\n",
      "/home/somz/Projects/Hierarchies_to_scale/khepera-simulations/files/data_files/results/pos_communication_congestion_4_10_12.txt\n",
      "/home/somz/Projects/Hierarchies_to_scale/khepera-simulations/files/data_files/results/pos_communication_congestion_4_10_12.txt\n",
      "/home/somz/Projects/Hierarchies_to_scale/khepera-simulations/files/data_files/results/pos_communication_congestion_8_10_12.txt\n",
      "/home/somz/Projects/Hierarchies_to_scale/khepera-simulations/files/data_files/results/pos_communication_congestion_8_10_12.txt\n",
      "/home/somz/Projects/Hierarchies_to_scale/khepera-simulations/files/data_files/results/pos_communication_congestion_12_10_12.txt\n",
      "/home/somz/Projects/Hierarchies_to_scale/khepera-simulations/files/data_files/results/pos_communication_congestion_12_10_12.txt\n",
      "/home/somz/Projects/Hierarchies_to_scale/khepera-simulations/files/data_files/results/pos_communication_congestion_4_10_13.txt\n",
      "/home/somz/Projects/Hierarchies_to_scale/khepera-simulations/files/data_files/results/pos_communication_congestion_4_10_13.txt\n",
      "/home/somz/Projects/Hierarchies_to_scale/khepera-simulations/files/data_files/results/pos_communication_congestion_8_10_13.txt\n",
      "/home/somz/Projects/Hierarchies_to_scale/khepera-simulations/files/data_files/results/pos_communication_congestion_8_10_13.txt\n",
      "/home/somz/Projects/Hierarchies_to_scale/khepera-simulations/files/data_files/results/pos_communication_congestion_12_10_13.txt\n",
      "/home/somz/Projects/Hierarchies_to_scale/khepera-simulations/files/data_files/results/pos_communication_congestion_12_10_13.txt\n",
      "/home/somz/Projects/Hierarchies_to_scale/khepera-simulations/files/data_files/results/pos_communication_congestion_4_10_14.txt\n",
      "/home/somz/Projects/Hierarchies_to_scale/khepera-simulations/files/data_files/results/pos_communication_congestion_4_10_14.txt\n",
      "/home/somz/Projects/Hierarchies_to_scale/khepera-simulations/files/data_files/results/pos_communication_congestion_8_10_14.txt\n",
      "/home/somz/Projects/Hierarchies_to_scale/khepera-simulations/files/data_files/results/pos_communication_congestion_8_10_14.txt\n",
      "/home/somz/Projects/Hierarchies_to_scale/khepera-simulations/files/data_files/results/pos_communication_congestion_12_10_14.txt\n",
      "/home/somz/Projects/Hierarchies_to_scale/khepera-simulations/files/data_files/results/pos_communication_congestion_12_10_14.txt\n",
      "/home/somz/Projects/Hierarchies_to_scale/khepera-simulations/files/data_files/results/pos_communication_congestion_4_10_15.txt\n",
      "/home/somz/Projects/Hierarchies_to_scale/khepera-simulations/files/data_files/results/pos_communication_congestion_4_10_15.txt\n",
      "/home/somz/Projects/Hierarchies_to_scale/khepera-simulations/files/data_files/results/pos_communication_congestion_8_10_15.txt\n",
      "/home/somz/Projects/Hierarchies_to_scale/khepera-simulations/files/data_files/results/pos_communication_congestion_8_10_15.txt\n",
      "/home/somz/Projects/Hierarchies_to_scale/khepera-simulations/files/data_files/results/pos_communication_congestion_12_10_15.txt\n",
      "/home/somz/Projects/Hierarchies_to_scale/khepera-simulations/files/data_files/results/pos_communication_congestion_12_10_15.txt\n",
      "/home/somz/Projects/Hierarchies_to_scale/khepera-simulations/files/data_files/results/pos_communication_congestion_4_10_16.txt\n",
      "/home/somz/Projects/Hierarchies_to_scale/khepera-simulations/files/data_files/results/pos_communication_congestion_4_10_16.txt\n",
      "/home/somz/Projects/Hierarchies_to_scale/khepera-simulations/files/data_files/results/pos_communication_congestion_8_10_16.txt\n",
      "/home/somz/Projects/Hierarchies_to_scale/khepera-simulations/files/data_files/results/pos_communication_congestion_8_10_16.txt\n",
      "/home/somz/Projects/Hierarchies_to_scale/khepera-simulations/files/data_files/results/pos_communication_congestion_12_10_16.txt\n",
      "/home/somz/Projects/Hierarchies_to_scale/khepera-simulations/files/data_files/results/pos_communication_congestion_12_10_16.txt\n",
      "/home/somz/Projects/Hierarchies_to_scale/khepera-simulations/files/data_files/results/pos_communication_congestion_4_10_17.txt\n",
      "/home/somz/Projects/Hierarchies_to_scale/khepera-simulations/files/data_files/results/pos_communication_congestion_4_10_17.txt\n",
      "/home/somz/Projects/Hierarchies_to_scale/khepera-simulations/files/data_files/results/pos_communication_congestion_8_10_17.txt\n",
      "/home/somz/Projects/Hierarchies_to_scale/khepera-simulations/files/data_files/results/pos_communication_congestion_8_10_17.txt\n",
      "/home/somz/Projects/Hierarchies_to_scale/khepera-simulations/files/data_files/results/pos_communication_congestion_12_10_17.txt\n",
      "/home/somz/Projects/Hierarchies_to_scale/khepera-simulations/files/data_files/results/pos_communication_congestion_12_10_17.txt\n",
      "/home/somz/Projects/Hierarchies_to_scale/khepera-simulations/files/data_files/results/pos_communication_congestion_4_10_18.txt\n",
      "/home/somz/Projects/Hierarchies_to_scale/khepera-simulations/files/data_files/results/pos_communication_congestion_4_10_18.txt\n",
      "/home/somz/Projects/Hierarchies_to_scale/khepera-simulations/files/data_files/results/pos_communication_congestion_8_10_18.txt\n",
      "/home/somz/Projects/Hierarchies_to_scale/khepera-simulations/files/data_files/results/pos_communication_congestion_8_10_18.txt\n",
      "/home/somz/Projects/Hierarchies_to_scale/khepera-simulations/files/data_files/results/pos_communication_congestion_12_10_18.txt\n",
      "/home/somz/Projects/Hierarchies_to_scale/khepera-simulations/files/data_files/results/pos_communication_congestion_12_10_18.txt\n",
      "/home/somz/Projects/Hierarchies_to_scale/khepera-simulations/files/data_files/results/pos_communication_congestion_4_10_19.txt\n",
      "/home/somz/Projects/Hierarchies_to_scale/khepera-simulations/files/data_files/results/pos_communication_congestion_4_10_19.txt\n",
      "/home/somz/Projects/Hierarchies_to_scale/khepera-simulations/files/data_files/results/pos_communication_congestion_8_10_19.txt\n",
      "/home/somz/Projects/Hierarchies_to_scale/khepera-simulations/files/data_files/results/pos_communication_congestion_8_10_19.txt\n",
      "/home/somz/Projects/Hierarchies_to_scale/khepera-simulations/files/data_files/results/pos_communication_congestion_12_10_19.txt\n",
      "/home/somz/Projects/Hierarchies_to_scale/khepera-simulations/files/data_files/results/pos_communication_congestion_12_10_19.txt\n",
      "/home/somz/Projects/Hierarchies_to_scale/khepera-simulations/files/data_files/results/pos_communication_congestion_4_10_20.txt\n",
      "/home/somz/Projects/Hierarchies_to_scale/khepera-simulations/files/data_files/results/pos_communication_congestion_4_10_20.txt\n",
      "/home/somz/Projects/Hierarchies_to_scale/khepera-simulations/files/data_files/results/pos_communication_congestion_8_10_20.txt\n",
      "/home/somz/Projects/Hierarchies_to_scale/khepera-simulations/files/data_files/results/pos_communication_congestion_8_10_20.txt\n",
      "/home/somz/Projects/Hierarchies_to_scale/khepera-simulations/files/data_files/results/pos_communication_congestion_12_10_20.txt\n",
      "/home/somz/Projects/Hierarchies_to_scale/khepera-simulations/files/data_files/results/pos_communication_congestion_12_10_20.txt\n",
      "/home/somz/Projects/Hierarchies_to_scale/khepera-simulations/files/data_files/results/pos_communication_congestion_4_10_21.txt\n",
      "/home/somz/Projects/Hierarchies_to_scale/khepera-simulations/files/data_files/results/pos_communication_congestion_4_10_21.txt\n",
      "/home/somz/Projects/Hierarchies_to_scale/khepera-simulations/files/data_files/results/pos_communication_congestion_8_10_21.txt\n",
      "/home/somz/Projects/Hierarchies_to_scale/khepera-simulations/files/data_files/results/pos_communication_congestion_8_10_21.txt\n",
      "/home/somz/Projects/Hierarchies_to_scale/khepera-simulations/files/data_files/results/pos_communication_congestion_12_10_21.txt\n",
      "/home/somz/Projects/Hierarchies_to_scale/khepera-simulations/files/data_files/results/pos_communication_congestion_12_10_21.txt\n",
      "/home/somz/Projects/Hierarchies_to_scale/khepera-simulations/files/data_files/results/pos_communication_congestion_4_10_22.txt\n",
      "/home/somz/Projects/Hierarchies_to_scale/khepera-simulations/files/data_files/results/pos_communication_congestion_4_10_22.txt\n",
      "/home/somz/Projects/Hierarchies_to_scale/khepera-simulations/files/data_files/results/pos_communication_congestion_8_10_22.txt\n",
      "/home/somz/Projects/Hierarchies_to_scale/khepera-simulations/files/data_files/results/pos_communication_congestion_8_10_22.txt\n",
      "/home/somz/Projects/Hierarchies_to_scale/khepera-simulations/files/data_files/results/pos_communication_congestion_12_10_22.txt\n",
      "/home/somz/Projects/Hierarchies_to_scale/khepera-simulations/files/data_files/results/pos_communication_congestion_12_10_22.txt\n",
      "/home/somz/Projects/Hierarchies_to_scale/khepera-simulations/files/data_files/results/pos_communication_congestion_4_10_23.txt\n",
      "/home/somz/Projects/Hierarchies_to_scale/khepera-simulations/files/data_files/results/pos_communication_congestion_4_10_23.txt\n",
      "/home/somz/Projects/Hierarchies_to_scale/khepera-simulations/files/data_files/results/pos_communication_congestion_8_10_23.txt\n",
      "/home/somz/Projects/Hierarchies_to_scale/khepera-simulations/files/data_files/results/pos_communication_congestion_8_10_23.txt\n",
      "/home/somz/Projects/Hierarchies_to_scale/khepera-simulations/files/data_files/results/pos_communication_congestion_12_10_23.txt\n",
      "/home/somz/Projects/Hierarchies_to_scale/khepera-simulations/files/data_files/results/pos_communication_congestion_12_10_23.txt\n",
      "/home/somz/Projects/Hierarchies_to_scale/khepera-simulations/files/data_files/results/pos_communication_congestion_4_10_24.txt\n",
      "/home/somz/Projects/Hierarchies_to_scale/khepera-simulations/files/data_files/results/pos_communication_congestion_4_10_24.txt\n",
      "/home/somz/Projects/Hierarchies_to_scale/khepera-simulations/files/data_files/results/pos_communication_congestion_8_10_24.txt\n",
      "/home/somz/Projects/Hierarchies_to_scale/khepera-simulations/files/data_files/results/pos_communication_congestion_8_10_24.txt\n",
      "/home/somz/Projects/Hierarchies_to_scale/khepera-simulations/files/data_files/results/pos_communication_congestion_12_10_24.txt\n",
      "/home/somz/Projects/Hierarchies_to_scale/khepera-simulations/files/data_files/results/pos_communication_congestion_12_10_24.txt\n",
      "/home/somz/Projects/Hierarchies_to_scale/khepera-simulations/files/data_files/results/pos_communication_congestion_4_10_25.txt\n",
      "/home/somz/Projects/Hierarchies_to_scale/khepera-simulations/files/data_files/results/pos_communication_congestion_4_10_25.txt\n",
      "/home/somz/Projects/Hierarchies_to_scale/khepera-simulations/files/data_files/results/pos_communication_congestion_8_10_25.txt\n",
      "/home/somz/Projects/Hierarchies_to_scale/khepera-simulations/files/data_files/results/pos_communication_congestion_8_10_25.txt\n",
      "/home/somz/Projects/Hierarchies_to_scale/khepera-simulations/files/data_files/results/pos_communication_congestion_12_10_25.txt\n",
      "/home/somz/Projects/Hierarchies_to_scale/khepera-simulations/files/data_files/results/pos_communication_congestion_12_10_25.txt\n",
      "/home/somz/Projects/Hierarchies_to_scale/khepera-simulations/files/data_files/results/pos_communication_congestion_4_10_26.txt\n",
      "/home/somz/Projects/Hierarchies_to_scale/khepera-simulations/files/data_files/results/pos_communication_congestion_4_10_26.txt\n",
      "/home/somz/Projects/Hierarchies_to_scale/khepera-simulations/files/data_files/results/pos_communication_congestion_8_10_26.txt\n",
      "/home/somz/Projects/Hierarchies_to_scale/khepera-simulations/files/data_files/results/pos_communication_congestion_8_10_26.txt\n",
      "/home/somz/Projects/Hierarchies_to_scale/khepera-simulations/files/data_files/results/pos_communication_congestion_12_10_26.txt\n",
      "/home/somz/Projects/Hierarchies_to_scale/khepera-simulations/files/data_files/results/pos_communication_congestion_12_10_26.txt\n",
      "/home/somz/Projects/Hierarchies_to_scale/khepera-simulations/files/data_files/results/pos_communication_congestion_4_10_27.txt\n",
      "/home/somz/Projects/Hierarchies_to_scale/khepera-simulations/files/data_files/results/pos_communication_congestion_4_10_27.txt\n",
      "/home/somz/Projects/Hierarchies_to_scale/khepera-simulations/files/data_files/results/pos_communication_congestion_8_10_27.txt\n",
      "/home/somz/Projects/Hierarchies_to_scale/khepera-simulations/files/data_files/results/pos_communication_congestion_8_10_27.txt\n",
      "/home/somz/Projects/Hierarchies_to_scale/khepera-simulations/files/data_files/results/pos_communication_congestion_12_10_27.txt\n",
      "/home/somz/Projects/Hierarchies_to_scale/khepera-simulations/files/data_files/results/pos_communication_congestion_12_10_27.txt\n",
      "/home/somz/Projects/Hierarchies_to_scale/khepera-simulations/files/data_files/results/pos_communication_congestion_4_10_28.txt\n",
      "/home/somz/Projects/Hierarchies_to_scale/khepera-simulations/files/data_files/results/pos_communication_congestion_4_10_28.txt\n",
      "/home/somz/Projects/Hierarchies_to_scale/khepera-simulations/files/data_files/results/pos_communication_congestion_8_10_28.txt\n",
      "/home/somz/Projects/Hierarchies_to_scale/khepera-simulations/files/data_files/results/pos_communication_congestion_8_10_28.txt\n",
      "/home/somz/Projects/Hierarchies_to_scale/khepera-simulations/files/data_files/results/pos_communication_congestion_12_10_28.txt\n",
      "/home/somz/Projects/Hierarchies_to_scale/khepera-simulations/files/data_files/results/pos_communication_congestion_12_10_28.txt\n",
      "/home/somz/Projects/Hierarchies_to_scale/khepera-simulations/files/data_files/results/pos_communication_congestion_4_10_29.txt\n",
      "/home/somz/Projects/Hierarchies_to_scale/khepera-simulations/files/data_files/results/pos_communication_congestion_4_10_29.txt\n",
      "/home/somz/Projects/Hierarchies_to_scale/khepera-simulations/files/data_files/results/pos_communication_congestion_8_10_29.txt\n",
      "/home/somz/Projects/Hierarchies_to_scale/khepera-simulations/files/data_files/results/pos_communication_congestion_8_10_29.txt\n",
      "/home/somz/Projects/Hierarchies_to_scale/khepera-simulations/files/data_files/results/pos_communication_congestion_12_10_29.txt\n",
      "/home/somz/Projects/Hierarchies_to_scale/khepera-simulations/files/data_files/results/pos_communication_congestion_12_10_29.txt\n",
      "/home/somz/Projects/Hierarchies_to_scale/khepera-simulations/files/data_files/results/pos_communication_congestion_4_20_0.txt\n",
      "/home/somz/Projects/Hierarchies_to_scale/khepera-simulations/files/data_files/results/pos_communication_congestion_4_20_0.txt\n",
      "/home/somz/Projects/Hierarchies_to_scale/khepera-simulations/files/data_files/results/pos_communication_congestion_8_20_0.txt\n",
      "/home/somz/Projects/Hierarchies_to_scale/khepera-simulations/files/data_files/results/pos_communication_congestion_8_20_0.txt\n",
      "/home/somz/Projects/Hierarchies_to_scale/khepera-simulations/files/data_files/results/pos_communication_congestion_12_20_0.txt\n",
      "/home/somz/Projects/Hierarchies_to_scale/khepera-simulations/files/data_files/results/pos_communication_congestion_12_20_0.txt\n",
      "/home/somz/Projects/Hierarchies_to_scale/khepera-simulations/files/data_files/results/pos_communication_congestion_4_20_1.txt\n",
      "/home/somz/Projects/Hierarchies_to_scale/khepera-simulations/files/data_files/results/pos_communication_congestion_4_20_1.txt\n",
      "/home/somz/Projects/Hierarchies_to_scale/khepera-simulations/files/data_files/results/pos_communication_congestion_8_20_1.txt\n",
      "/home/somz/Projects/Hierarchies_to_scale/khepera-simulations/files/data_files/results/pos_communication_congestion_8_20_1.txt\n",
      "/home/somz/Projects/Hierarchies_to_scale/khepera-simulations/files/data_files/results/pos_communication_congestion_12_20_1.txt\n",
      "/home/somz/Projects/Hierarchies_to_scale/khepera-simulations/files/data_files/results/pos_communication_congestion_12_20_1.txt\n",
      "/home/somz/Projects/Hierarchies_to_scale/khepera-simulations/files/data_files/results/pos_communication_congestion_4_20_2.txt\n",
      "/home/somz/Projects/Hierarchies_to_scale/khepera-simulations/files/data_files/results/pos_communication_congestion_4_20_2.txt\n",
      "/home/somz/Projects/Hierarchies_to_scale/khepera-simulations/files/data_files/results/pos_communication_congestion_8_20_2.txt\n",
      "/home/somz/Projects/Hierarchies_to_scale/khepera-simulations/files/data_files/results/pos_communication_congestion_8_20_2.txt\n",
      "/home/somz/Projects/Hierarchies_to_scale/khepera-simulations/files/data_files/results/pos_communication_congestion_12_20_2.txt\n",
      "/home/somz/Projects/Hierarchies_to_scale/khepera-simulations/files/data_files/results/pos_communication_congestion_12_20_2.txt\n",
      "/home/somz/Projects/Hierarchies_to_scale/khepera-simulations/files/data_files/results/pos_communication_congestion_4_20_3.txt\n",
      "/home/somz/Projects/Hierarchies_to_scale/khepera-simulations/files/data_files/results/pos_communication_congestion_4_20_3.txt\n",
      "/home/somz/Projects/Hierarchies_to_scale/khepera-simulations/files/data_files/results/pos_communication_congestion_8_20_3.txt\n",
      "/home/somz/Projects/Hierarchies_to_scale/khepera-simulations/files/data_files/results/pos_communication_congestion_8_20_3.txt\n",
      "/home/somz/Projects/Hierarchies_to_scale/khepera-simulations/files/data_files/results/pos_communication_congestion_12_20_3.txt\n",
      "/home/somz/Projects/Hierarchies_to_scale/khepera-simulations/files/data_files/results/pos_communication_congestion_12_20_3.txt\n",
      "/home/somz/Projects/Hierarchies_to_scale/khepera-simulations/files/data_files/results/pos_communication_congestion_4_20_4.txt\n",
      "/home/somz/Projects/Hierarchies_to_scale/khepera-simulations/files/data_files/results/pos_communication_congestion_4_20_4.txt\n",
      "/home/somz/Projects/Hierarchies_to_scale/khepera-simulations/files/data_files/results/pos_communication_congestion_8_20_4.txt\n",
      "/home/somz/Projects/Hierarchies_to_scale/khepera-simulations/files/data_files/results/pos_communication_congestion_8_20_4.txt\n",
      "/home/somz/Projects/Hierarchies_to_scale/khepera-simulations/files/data_files/results/pos_communication_congestion_12_20_4.txt\n",
      "/home/somz/Projects/Hierarchies_to_scale/khepera-simulations/files/data_files/results/pos_communication_congestion_12_20_4.txt\n",
      "/home/somz/Projects/Hierarchies_to_scale/khepera-simulations/files/data_files/results/pos_communication_congestion_4_20_5.txt\n",
      "/home/somz/Projects/Hierarchies_to_scale/khepera-simulations/files/data_files/results/pos_communication_congestion_4_20_5.txt\n",
      "/home/somz/Projects/Hierarchies_to_scale/khepera-simulations/files/data_files/results/pos_communication_congestion_8_20_5.txt\n",
      "/home/somz/Projects/Hierarchies_to_scale/khepera-simulations/files/data_files/results/pos_communication_congestion_8_20_5.txt\n",
      "/home/somz/Projects/Hierarchies_to_scale/khepera-simulations/files/data_files/results/pos_communication_congestion_12_20_5.txt\n",
      "/home/somz/Projects/Hierarchies_to_scale/khepera-simulations/files/data_files/results/pos_communication_congestion_12_20_5.txt\n",
      "/home/somz/Projects/Hierarchies_to_scale/khepera-simulations/files/data_files/results/pos_communication_congestion_4_20_6.txt\n",
      "/home/somz/Projects/Hierarchies_to_scale/khepera-simulations/files/data_files/results/pos_communication_congestion_4_20_6.txt\n",
      "/home/somz/Projects/Hierarchies_to_scale/khepera-simulations/files/data_files/results/pos_communication_congestion_8_20_6.txt\n",
      "/home/somz/Projects/Hierarchies_to_scale/khepera-simulations/files/data_files/results/pos_communication_congestion_8_20_6.txt\n",
      "/home/somz/Projects/Hierarchies_to_scale/khepera-simulations/files/data_files/results/pos_communication_congestion_12_20_6.txt\n",
      "/home/somz/Projects/Hierarchies_to_scale/khepera-simulations/files/data_files/results/pos_communication_congestion_12_20_6.txt\n",
      "/home/somz/Projects/Hierarchies_to_scale/khepera-simulations/files/data_files/results/pos_communication_congestion_4_20_7.txt\n",
      "/home/somz/Projects/Hierarchies_to_scale/khepera-simulations/files/data_files/results/pos_communication_congestion_4_20_7.txt\n",
      "/home/somz/Projects/Hierarchies_to_scale/khepera-simulations/files/data_files/results/pos_communication_congestion_8_20_7.txt\n",
      "/home/somz/Projects/Hierarchies_to_scale/khepera-simulations/files/data_files/results/pos_communication_congestion_8_20_7.txt\n",
      "/home/somz/Projects/Hierarchies_to_scale/khepera-simulations/files/data_files/results/pos_communication_congestion_12_20_7.txt\n",
      "/home/somz/Projects/Hierarchies_to_scale/khepera-simulations/files/data_files/results/pos_communication_congestion_12_20_7.txt\n",
      "/home/somz/Projects/Hierarchies_to_scale/khepera-simulations/files/data_files/results/pos_communication_congestion_4_20_8.txt\n",
      "/home/somz/Projects/Hierarchies_to_scale/khepera-simulations/files/data_files/results/pos_communication_congestion_4_20_8.txt\n",
      "/home/somz/Projects/Hierarchies_to_scale/khepera-simulations/files/data_files/results/pos_communication_congestion_8_20_8.txt\n",
      "/home/somz/Projects/Hierarchies_to_scale/khepera-simulations/files/data_files/results/pos_communication_congestion_8_20_8.txt\n",
      "/home/somz/Projects/Hierarchies_to_scale/khepera-simulations/files/data_files/results/pos_communication_congestion_12_20_8.txt\n",
      "/home/somz/Projects/Hierarchies_to_scale/khepera-simulations/files/data_files/results/pos_communication_congestion_12_20_8.txt\n",
      "/home/somz/Projects/Hierarchies_to_scale/khepera-simulations/files/data_files/results/pos_communication_congestion_4_20_9.txt\n",
      "/home/somz/Projects/Hierarchies_to_scale/khepera-simulations/files/data_files/results/pos_communication_congestion_4_20_9.txt\n",
      "/home/somz/Projects/Hierarchies_to_scale/khepera-simulations/files/data_files/results/pos_communication_congestion_8_20_9.txt\n",
      "/home/somz/Projects/Hierarchies_to_scale/khepera-simulations/files/data_files/results/pos_communication_congestion_8_20_9.txt\n",
      "/home/somz/Projects/Hierarchies_to_scale/khepera-simulations/files/data_files/results/pos_communication_congestion_12_20_9.txt\n",
      "/home/somz/Projects/Hierarchies_to_scale/khepera-simulations/files/data_files/results/pos_communication_congestion_12_20_9.txt\n",
      "/home/somz/Projects/Hierarchies_to_scale/khepera-simulations/files/data_files/results/pos_communication_congestion_4_20_10.txt\n",
      "/home/somz/Projects/Hierarchies_to_scale/khepera-simulations/files/data_files/results/pos_communication_congestion_4_20_10.txt\n",
      "/home/somz/Projects/Hierarchies_to_scale/khepera-simulations/files/data_files/results/pos_communication_congestion_8_20_10.txt\n",
      "/home/somz/Projects/Hierarchies_to_scale/khepera-simulations/files/data_files/results/pos_communication_congestion_8_20_10.txt\n",
      "/home/somz/Projects/Hierarchies_to_scale/khepera-simulations/files/data_files/results/pos_communication_congestion_12_20_10.txt\n",
      "/home/somz/Projects/Hierarchies_to_scale/khepera-simulations/files/data_files/results/pos_communication_congestion_12_20_10.txt\n",
      "/home/somz/Projects/Hierarchies_to_scale/khepera-simulations/files/data_files/results/pos_communication_congestion_4_20_11.txt\n",
      "/home/somz/Projects/Hierarchies_to_scale/khepera-simulations/files/data_files/results/pos_communication_congestion_4_20_11.txt\n",
      "/home/somz/Projects/Hierarchies_to_scale/khepera-simulations/files/data_files/results/pos_communication_congestion_8_20_11.txt\n",
      "/home/somz/Projects/Hierarchies_to_scale/khepera-simulations/files/data_files/results/pos_communication_congestion_8_20_11.txt\n",
      "/home/somz/Projects/Hierarchies_to_scale/khepera-simulations/files/data_files/results/pos_communication_congestion_12_20_11.txt\n",
      "/home/somz/Projects/Hierarchies_to_scale/khepera-simulations/files/data_files/results/pos_communication_congestion_12_20_11.txt\n",
      "/home/somz/Projects/Hierarchies_to_scale/khepera-simulations/files/data_files/results/pos_communication_congestion_4_20_12.txt\n",
      "/home/somz/Projects/Hierarchies_to_scale/khepera-simulations/files/data_files/results/pos_communication_congestion_4_20_12.txt\n",
      "/home/somz/Projects/Hierarchies_to_scale/khepera-simulations/files/data_files/results/pos_communication_congestion_8_20_12.txt\n",
      "/home/somz/Projects/Hierarchies_to_scale/khepera-simulations/files/data_files/results/pos_communication_congestion_8_20_12.txt\n",
      "/home/somz/Projects/Hierarchies_to_scale/khepera-simulations/files/data_files/results/pos_communication_congestion_12_20_12.txt\n",
      "/home/somz/Projects/Hierarchies_to_scale/khepera-simulations/files/data_files/results/pos_communication_congestion_12_20_12.txt\n",
      "/home/somz/Projects/Hierarchies_to_scale/khepera-simulations/files/data_files/results/pos_communication_congestion_4_20_13.txt\n",
      "/home/somz/Projects/Hierarchies_to_scale/khepera-simulations/files/data_files/results/pos_communication_congestion_4_20_13.txt\n",
      "/home/somz/Projects/Hierarchies_to_scale/khepera-simulations/files/data_files/results/pos_communication_congestion_8_20_13.txt\n",
      "/home/somz/Projects/Hierarchies_to_scale/khepera-simulations/files/data_files/results/pos_communication_congestion_8_20_13.txt\n",
      "/home/somz/Projects/Hierarchies_to_scale/khepera-simulations/files/data_files/results/pos_communication_congestion_12_20_13.txt\n",
      "/home/somz/Projects/Hierarchies_to_scale/khepera-simulations/files/data_files/results/pos_communication_congestion_12_20_13.txt\n",
      "/home/somz/Projects/Hierarchies_to_scale/khepera-simulations/files/data_files/results/pos_communication_congestion_4_20_14.txt\n",
      "/home/somz/Projects/Hierarchies_to_scale/khepera-simulations/files/data_files/results/pos_communication_congestion_4_20_14.txt\n",
      "/home/somz/Projects/Hierarchies_to_scale/khepera-simulations/files/data_files/results/pos_communication_congestion_8_20_14.txt\n",
      "/home/somz/Projects/Hierarchies_to_scale/khepera-simulations/files/data_files/results/pos_communication_congestion_8_20_14.txt\n",
      "/home/somz/Projects/Hierarchies_to_scale/khepera-simulations/files/data_files/results/pos_communication_congestion_12_20_14.txt\n",
      "/home/somz/Projects/Hierarchies_to_scale/khepera-simulations/files/data_files/results/pos_communication_congestion_12_20_14.txt\n",
      "/home/somz/Projects/Hierarchies_to_scale/khepera-simulations/files/data_files/results/pos_communication_congestion_4_20_15.txt\n",
      "/home/somz/Projects/Hierarchies_to_scale/khepera-simulations/files/data_files/results/pos_communication_congestion_4_20_15.txt\n",
      "/home/somz/Projects/Hierarchies_to_scale/khepera-simulations/files/data_files/results/pos_communication_congestion_8_20_15.txt\n",
      "/home/somz/Projects/Hierarchies_to_scale/khepera-simulations/files/data_files/results/pos_communication_congestion_8_20_15.txt\n",
      "/home/somz/Projects/Hierarchies_to_scale/khepera-simulations/files/data_files/results/pos_communication_congestion_12_20_15.txt\n",
      "/home/somz/Projects/Hierarchies_to_scale/khepera-simulations/files/data_files/results/pos_communication_congestion_12_20_15.txt\n",
      "/home/somz/Projects/Hierarchies_to_scale/khepera-simulations/files/data_files/results/pos_communication_congestion_4_20_16.txt\n",
      "/home/somz/Projects/Hierarchies_to_scale/khepera-simulations/files/data_files/results/pos_communication_congestion_4_20_16.txt\n",
      "/home/somz/Projects/Hierarchies_to_scale/khepera-simulations/files/data_files/results/pos_communication_congestion_8_20_16.txt\n",
      "/home/somz/Projects/Hierarchies_to_scale/khepera-simulations/files/data_files/results/pos_communication_congestion_8_20_16.txt\n",
      "/home/somz/Projects/Hierarchies_to_scale/khepera-simulations/files/data_files/results/pos_communication_congestion_12_20_16.txt\n",
      "/home/somz/Projects/Hierarchies_to_scale/khepera-simulations/files/data_files/results/pos_communication_congestion_12_20_16.txt\n",
      "/home/somz/Projects/Hierarchies_to_scale/khepera-simulations/files/data_files/results/pos_communication_congestion_4_20_17.txt\n",
      "/home/somz/Projects/Hierarchies_to_scale/khepera-simulations/files/data_files/results/pos_communication_congestion_4_20_17.txt\n",
      "/home/somz/Projects/Hierarchies_to_scale/khepera-simulations/files/data_files/results/pos_communication_congestion_8_20_17.txt\n",
      "/home/somz/Projects/Hierarchies_to_scale/khepera-simulations/files/data_files/results/pos_communication_congestion_8_20_17.txt\n",
      "/home/somz/Projects/Hierarchies_to_scale/khepera-simulations/files/data_files/results/pos_communication_congestion_12_20_17.txt\n",
      "/home/somz/Projects/Hierarchies_to_scale/khepera-simulations/files/data_files/results/pos_communication_congestion_12_20_17.txt\n",
      "/home/somz/Projects/Hierarchies_to_scale/khepera-simulations/files/data_files/results/pos_communication_congestion_4_20_18.txt\n",
      "/home/somz/Projects/Hierarchies_to_scale/khepera-simulations/files/data_files/results/pos_communication_congestion_4_20_18.txt\n",
      "/home/somz/Projects/Hierarchies_to_scale/khepera-simulations/files/data_files/results/pos_communication_congestion_8_20_18.txt\n",
      "/home/somz/Projects/Hierarchies_to_scale/khepera-simulations/files/data_files/results/pos_communication_congestion_8_20_18.txt\n",
      "/home/somz/Projects/Hierarchies_to_scale/khepera-simulations/files/data_files/results/pos_communication_congestion_12_20_18.txt\n",
      "/home/somz/Projects/Hierarchies_to_scale/khepera-simulations/files/data_files/results/pos_communication_congestion_12_20_18.txt\n",
      "/home/somz/Projects/Hierarchies_to_scale/khepera-simulations/files/data_files/results/pos_communication_congestion_4_20_19.txt\n",
      "/home/somz/Projects/Hierarchies_to_scale/khepera-simulations/files/data_files/results/pos_communication_congestion_4_20_19.txt\n",
      "/home/somz/Projects/Hierarchies_to_scale/khepera-simulations/files/data_files/results/pos_communication_congestion_8_20_19.txt\n",
      "/home/somz/Projects/Hierarchies_to_scale/khepera-simulations/files/data_files/results/pos_communication_congestion_8_20_19.txt\n",
      "/home/somz/Projects/Hierarchies_to_scale/khepera-simulations/files/data_files/results/pos_communication_congestion_12_20_19.txt\n",
      "/home/somz/Projects/Hierarchies_to_scale/khepera-simulations/files/data_files/results/pos_communication_congestion_12_20_19.txt\n",
      "/home/somz/Projects/Hierarchies_to_scale/khepera-simulations/files/data_files/results/pos_communication_congestion_4_20_20.txt\n",
      "/home/somz/Projects/Hierarchies_to_scale/khepera-simulations/files/data_files/results/pos_communication_congestion_4_20_20.txt\n",
      "/home/somz/Projects/Hierarchies_to_scale/khepera-simulations/files/data_files/results/pos_communication_congestion_8_20_20.txt\n",
      "/home/somz/Projects/Hierarchies_to_scale/khepera-simulations/files/data_files/results/pos_communication_congestion_8_20_20.txt\n",
      "/home/somz/Projects/Hierarchies_to_scale/khepera-simulations/files/data_files/results/pos_communication_congestion_12_20_20.txt\n",
      "/home/somz/Projects/Hierarchies_to_scale/khepera-simulations/files/data_files/results/pos_communication_congestion_12_20_20.txt\n",
      "/home/somz/Projects/Hierarchies_to_scale/khepera-simulations/files/data_files/results/pos_communication_congestion_4_20_21.txt\n",
      "/home/somz/Projects/Hierarchies_to_scale/khepera-simulations/files/data_files/results/pos_communication_congestion_4_20_21.txt\n",
      "/home/somz/Projects/Hierarchies_to_scale/khepera-simulations/files/data_files/results/pos_communication_congestion_8_20_21.txt\n",
      "/home/somz/Projects/Hierarchies_to_scale/khepera-simulations/files/data_files/results/pos_communication_congestion_8_20_21.txt\n",
      "/home/somz/Projects/Hierarchies_to_scale/khepera-simulations/files/data_files/results/pos_communication_congestion_12_20_21.txt\n",
      "/home/somz/Projects/Hierarchies_to_scale/khepera-simulations/files/data_files/results/pos_communication_congestion_12_20_21.txt\n",
      "/home/somz/Projects/Hierarchies_to_scale/khepera-simulations/files/data_files/results/pos_communication_congestion_4_20_22.txt\n",
      "/home/somz/Projects/Hierarchies_to_scale/khepera-simulations/files/data_files/results/pos_communication_congestion_4_20_22.txt\n",
      "/home/somz/Projects/Hierarchies_to_scale/khepera-simulations/files/data_files/results/pos_communication_congestion_8_20_22.txt\n",
      "/home/somz/Projects/Hierarchies_to_scale/khepera-simulations/files/data_files/results/pos_communication_congestion_8_20_22.txt\n",
      "/home/somz/Projects/Hierarchies_to_scale/khepera-simulations/files/data_files/results/pos_communication_congestion_12_20_22.txt\n",
      "/home/somz/Projects/Hierarchies_to_scale/khepera-simulations/files/data_files/results/pos_communication_congestion_12_20_22.txt\n",
      "/home/somz/Projects/Hierarchies_to_scale/khepera-simulations/files/data_files/results/pos_communication_congestion_4_20_23.txt\n",
      "/home/somz/Projects/Hierarchies_to_scale/khepera-simulations/files/data_files/results/pos_communication_congestion_4_20_23.txt\n",
      "/home/somz/Projects/Hierarchies_to_scale/khepera-simulations/files/data_files/results/pos_communication_congestion_8_20_23.txt\n",
      "/home/somz/Projects/Hierarchies_to_scale/khepera-simulations/files/data_files/results/pos_communication_congestion_8_20_23.txt\n",
      "/home/somz/Projects/Hierarchies_to_scale/khepera-simulations/files/data_files/results/pos_communication_congestion_12_20_23.txt\n",
      "/home/somz/Projects/Hierarchies_to_scale/khepera-simulations/files/data_files/results/pos_communication_congestion_12_20_23.txt\n",
      "/home/somz/Projects/Hierarchies_to_scale/khepera-simulations/files/data_files/results/pos_communication_congestion_4_20_24.txt\n",
      "/home/somz/Projects/Hierarchies_to_scale/khepera-simulations/files/data_files/results/pos_communication_congestion_4_20_24.txt\n",
      "/home/somz/Projects/Hierarchies_to_scale/khepera-simulations/files/data_files/results/pos_communication_congestion_8_20_24.txt\n",
      "/home/somz/Projects/Hierarchies_to_scale/khepera-simulations/files/data_files/results/pos_communication_congestion_8_20_24.txt\n",
      "/home/somz/Projects/Hierarchies_to_scale/khepera-simulations/files/data_files/results/pos_communication_congestion_12_20_24.txt\n",
      "/home/somz/Projects/Hierarchies_to_scale/khepera-simulations/files/data_files/results/pos_communication_congestion_12_20_24.txt\n",
      "/home/somz/Projects/Hierarchies_to_scale/khepera-simulations/files/data_files/results/pos_communication_congestion_4_20_25.txt\n",
      "/home/somz/Projects/Hierarchies_to_scale/khepera-simulations/files/data_files/results/pos_communication_congestion_4_20_25.txt\n",
      "/home/somz/Projects/Hierarchies_to_scale/khepera-simulations/files/data_files/results/pos_communication_congestion_8_20_25.txt\n",
      "/home/somz/Projects/Hierarchies_to_scale/khepera-simulations/files/data_files/results/pos_communication_congestion_8_20_25.txt\n",
      "/home/somz/Projects/Hierarchies_to_scale/khepera-simulations/files/data_files/results/pos_communication_congestion_12_20_25.txt\n",
      "/home/somz/Projects/Hierarchies_to_scale/khepera-simulations/files/data_files/results/pos_communication_congestion_12_20_25.txt\n",
      "/home/somz/Projects/Hierarchies_to_scale/khepera-simulations/files/data_files/results/pos_communication_congestion_4_20_26.txt\n",
      "/home/somz/Projects/Hierarchies_to_scale/khepera-simulations/files/data_files/results/pos_communication_congestion_4_20_26.txt\n",
      "/home/somz/Projects/Hierarchies_to_scale/khepera-simulations/files/data_files/results/pos_communication_congestion_8_20_26.txt\n",
      "/home/somz/Projects/Hierarchies_to_scale/khepera-simulations/files/data_files/results/pos_communication_congestion_8_20_26.txt\n",
      "/home/somz/Projects/Hierarchies_to_scale/khepera-simulations/files/data_files/results/pos_communication_congestion_12_20_26.txt\n",
      "/home/somz/Projects/Hierarchies_to_scale/khepera-simulations/files/data_files/results/pos_communication_congestion_12_20_26.txt\n",
      "/home/somz/Projects/Hierarchies_to_scale/khepera-simulations/files/data_files/results/pos_communication_congestion_4_20_27.txt\n",
      "/home/somz/Projects/Hierarchies_to_scale/khepera-simulations/files/data_files/results/pos_communication_congestion_4_20_27.txt\n",
      "/home/somz/Projects/Hierarchies_to_scale/khepera-simulations/files/data_files/results/pos_communication_congestion_8_20_27.txt\n",
      "/home/somz/Projects/Hierarchies_to_scale/khepera-simulations/files/data_files/results/pos_communication_congestion_8_20_27.txt\n",
      "/home/somz/Projects/Hierarchies_to_scale/khepera-simulations/files/data_files/results/pos_communication_congestion_12_20_27.txt\n",
      "/home/somz/Projects/Hierarchies_to_scale/khepera-simulations/files/data_files/results/pos_communication_congestion_12_20_27.txt\n",
      "/home/somz/Projects/Hierarchies_to_scale/khepera-simulations/files/data_files/results/pos_communication_congestion_4_20_28.txt\n",
      "/home/somz/Projects/Hierarchies_to_scale/khepera-simulations/files/data_files/results/pos_communication_congestion_4_20_28.txt\n",
      "/home/somz/Projects/Hierarchies_to_scale/khepera-simulations/files/data_files/results/pos_communication_congestion_8_20_28.txt\n",
      "/home/somz/Projects/Hierarchies_to_scale/khepera-simulations/files/data_files/results/pos_communication_congestion_8_20_28.txt\n",
      "/home/somz/Projects/Hierarchies_to_scale/khepera-simulations/files/data_files/results/pos_communication_congestion_12_20_28.txt\n",
      "/home/somz/Projects/Hierarchies_to_scale/khepera-simulations/files/data_files/results/pos_communication_congestion_12_20_28.txt\n",
      "/home/somz/Projects/Hierarchies_to_scale/khepera-simulations/files/data_files/results/pos_communication_congestion_4_20_29.txt\n",
      "/home/somz/Projects/Hierarchies_to_scale/khepera-simulations/files/data_files/results/pos_communication_congestion_4_20_29.txt\n",
      "/home/somz/Projects/Hierarchies_to_scale/khepera-simulations/files/data_files/results/pos_communication_congestion_8_20_29.txt\n",
      "/home/somz/Projects/Hierarchies_to_scale/khepera-simulations/files/data_files/results/pos_communication_congestion_8_20_29.txt\n",
      "/home/somz/Projects/Hierarchies_to_scale/khepera-simulations/files/data_files/results/pos_communication_congestion_12_20_29.txt\n",
      "/home/somz/Projects/Hierarchies_to_scale/khepera-simulations/files/data_files/results/pos_communication_congestion_12_20_29.txt\n",
      "/home/somz/Projects/Hierarchies_to_scale/khepera-simulations/files/data_files/results/pos_communication_congestion_4_40_0.txt\n",
      "/home/somz/Projects/Hierarchies_to_scale/khepera-simulations/files/data_files/results/pos_communication_congestion_4_40_0.txt\n",
      "/home/somz/Projects/Hierarchies_to_scale/khepera-simulations/files/data_files/results/pos_communication_congestion_8_40_0.txt\n",
      "/home/somz/Projects/Hierarchies_to_scale/khepera-simulations/files/data_files/results/pos_communication_congestion_8_40_0.txt\n",
      "/home/somz/Projects/Hierarchies_to_scale/khepera-simulations/files/data_files/results/pos_communication_congestion_12_40_0.txt\n",
      "/home/somz/Projects/Hierarchies_to_scale/khepera-simulations/files/data_files/results/pos_communication_congestion_12_40_0.txt\n",
      "/home/somz/Projects/Hierarchies_to_scale/khepera-simulations/files/data_files/results/pos_communication_congestion_4_40_1.txt\n",
      "/home/somz/Projects/Hierarchies_to_scale/khepera-simulations/files/data_files/results/pos_communication_congestion_4_40_1.txt\n",
      "/home/somz/Projects/Hierarchies_to_scale/khepera-simulations/files/data_files/results/pos_communication_congestion_8_40_1.txt\n",
      "/home/somz/Projects/Hierarchies_to_scale/khepera-simulations/files/data_files/results/pos_communication_congestion_8_40_1.txt\n",
      "/home/somz/Projects/Hierarchies_to_scale/khepera-simulations/files/data_files/results/pos_communication_congestion_12_40_1.txt\n",
      "/home/somz/Projects/Hierarchies_to_scale/khepera-simulations/files/data_files/results/pos_communication_congestion_12_40_1.txt\n",
      "/home/somz/Projects/Hierarchies_to_scale/khepera-simulations/files/data_files/results/pos_communication_congestion_4_40_2.txt\n",
      "/home/somz/Projects/Hierarchies_to_scale/khepera-simulations/files/data_files/results/pos_communication_congestion_4_40_2.txt\n",
      "/home/somz/Projects/Hierarchies_to_scale/khepera-simulations/files/data_files/results/pos_communication_congestion_8_40_2.txt\n",
      "/home/somz/Projects/Hierarchies_to_scale/khepera-simulations/files/data_files/results/pos_communication_congestion_8_40_2.txt\n",
      "/home/somz/Projects/Hierarchies_to_scale/khepera-simulations/files/data_files/results/pos_communication_congestion_12_40_2.txt\n",
      "/home/somz/Projects/Hierarchies_to_scale/khepera-simulations/files/data_files/results/pos_communication_congestion_12_40_2.txt\n",
      "/home/somz/Projects/Hierarchies_to_scale/khepera-simulations/files/data_files/results/pos_communication_congestion_4_40_3.txt\n",
      "/home/somz/Projects/Hierarchies_to_scale/khepera-simulations/files/data_files/results/pos_communication_congestion_4_40_3.txt\n",
      "/home/somz/Projects/Hierarchies_to_scale/khepera-simulations/files/data_files/results/pos_communication_congestion_8_40_3.txt\n",
      "/home/somz/Projects/Hierarchies_to_scale/khepera-simulations/files/data_files/results/pos_communication_congestion_8_40_3.txt\n",
      "/home/somz/Projects/Hierarchies_to_scale/khepera-simulations/files/data_files/results/pos_communication_congestion_12_40_3.txt\n",
      "/home/somz/Projects/Hierarchies_to_scale/khepera-simulations/files/data_files/results/pos_communication_congestion_12_40_3.txt\n",
      "/home/somz/Projects/Hierarchies_to_scale/khepera-simulations/files/data_files/results/pos_communication_congestion_4_40_4.txt\n",
      "/home/somz/Projects/Hierarchies_to_scale/khepera-simulations/files/data_files/results/pos_communication_congestion_4_40_4.txt\n",
      "/home/somz/Projects/Hierarchies_to_scale/khepera-simulations/files/data_files/results/pos_communication_congestion_8_40_4.txt\n",
      "/home/somz/Projects/Hierarchies_to_scale/khepera-simulations/files/data_files/results/pos_communication_congestion_8_40_4.txt\n",
      "/home/somz/Projects/Hierarchies_to_scale/khepera-simulations/files/data_files/results/pos_communication_congestion_12_40_4.txt\n",
      "/home/somz/Projects/Hierarchies_to_scale/khepera-simulations/files/data_files/results/pos_communication_congestion_12_40_4.txt\n",
      "/home/somz/Projects/Hierarchies_to_scale/khepera-simulations/files/data_files/results/pos_communication_congestion_4_40_5.txt\n",
      "/home/somz/Projects/Hierarchies_to_scale/khepera-simulations/files/data_files/results/pos_communication_congestion_4_40_5.txt\n",
      "/home/somz/Projects/Hierarchies_to_scale/khepera-simulations/files/data_files/results/pos_communication_congestion_8_40_5.txt\n",
      "/home/somz/Projects/Hierarchies_to_scale/khepera-simulations/files/data_files/results/pos_communication_congestion_8_40_5.txt\n",
      "/home/somz/Projects/Hierarchies_to_scale/khepera-simulations/files/data_files/results/pos_communication_congestion_12_40_5.txt\n",
      "/home/somz/Projects/Hierarchies_to_scale/khepera-simulations/files/data_files/results/pos_communication_congestion_12_40_5.txt\n",
      "/home/somz/Projects/Hierarchies_to_scale/khepera-simulations/files/data_files/results/pos_communication_congestion_4_40_6.txt\n",
      "/home/somz/Projects/Hierarchies_to_scale/khepera-simulations/files/data_files/results/pos_communication_congestion_4_40_6.txt\n",
      "/home/somz/Projects/Hierarchies_to_scale/khepera-simulations/files/data_files/results/pos_communication_congestion_8_40_6.txt\n",
      "/home/somz/Projects/Hierarchies_to_scale/khepera-simulations/files/data_files/results/pos_communication_congestion_8_40_6.txt\n",
      "/home/somz/Projects/Hierarchies_to_scale/khepera-simulations/files/data_files/results/pos_communication_congestion_12_40_6.txt\n",
      "/home/somz/Projects/Hierarchies_to_scale/khepera-simulations/files/data_files/results/pos_communication_congestion_12_40_6.txt\n",
      "/home/somz/Projects/Hierarchies_to_scale/khepera-simulations/files/data_files/results/pos_communication_congestion_4_40_7.txt\n",
      "/home/somz/Projects/Hierarchies_to_scale/khepera-simulations/files/data_files/results/pos_communication_congestion_4_40_7.txt\n",
      "/home/somz/Projects/Hierarchies_to_scale/khepera-simulations/files/data_files/results/pos_communication_congestion_8_40_7.txt\n",
      "/home/somz/Projects/Hierarchies_to_scale/khepera-simulations/files/data_files/results/pos_communication_congestion_8_40_7.txt\n",
      "/home/somz/Projects/Hierarchies_to_scale/khepera-simulations/files/data_files/results/pos_communication_congestion_12_40_7.txt\n",
      "/home/somz/Projects/Hierarchies_to_scale/khepera-simulations/files/data_files/results/pos_communication_congestion_12_40_7.txt\n",
      "/home/somz/Projects/Hierarchies_to_scale/khepera-simulations/files/data_files/results/pos_communication_congestion_4_40_8.txt\n",
      "/home/somz/Projects/Hierarchies_to_scale/khepera-simulations/files/data_files/results/pos_communication_congestion_4_40_8.txt\n",
      "/home/somz/Projects/Hierarchies_to_scale/khepera-simulations/files/data_files/results/pos_communication_congestion_8_40_8.txt\n",
      "/home/somz/Projects/Hierarchies_to_scale/khepera-simulations/files/data_files/results/pos_communication_congestion_8_40_8.txt\n",
      "/home/somz/Projects/Hierarchies_to_scale/khepera-simulations/files/data_files/results/pos_communication_congestion_12_40_8.txt\n",
      "/home/somz/Projects/Hierarchies_to_scale/khepera-simulations/files/data_files/results/pos_communication_congestion_12_40_8.txt\n",
      "/home/somz/Projects/Hierarchies_to_scale/khepera-simulations/files/data_files/results/pos_communication_congestion_4_40_9.txt\n",
      "/home/somz/Projects/Hierarchies_to_scale/khepera-simulations/files/data_files/results/pos_communication_congestion_4_40_9.txt\n",
      "/home/somz/Projects/Hierarchies_to_scale/khepera-simulations/files/data_files/results/pos_communication_congestion_8_40_9.txt\n",
      "/home/somz/Projects/Hierarchies_to_scale/khepera-simulations/files/data_files/results/pos_communication_congestion_8_40_9.txt\n",
      "/home/somz/Projects/Hierarchies_to_scale/khepera-simulations/files/data_files/results/pos_communication_congestion_12_40_9.txt\n",
      "/home/somz/Projects/Hierarchies_to_scale/khepera-simulations/files/data_files/results/pos_communication_congestion_12_40_9.txt\n",
      "/home/somz/Projects/Hierarchies_to_scale/khepera-simulations/files/data_files/results/pos_communication_congestion_4_40_10.txt\n",
      "/home/somz/Projects/Hierarchies_to_scale/khepera-simulations/files/data_files/results/pos_communication_congestion_4_40_10.txt\n",
      "/home/somz/Projects/Hierarchies_to_scale/khepera-simulations/files/data_files/results/pos_communication_congestion_8_40_10.txt\n",
      "/home/somz/Projects/Hierarchies_to_scale/khepera-simulations/files/data_files/results/pos_communication_congestion_8_40_10.txt\n",
      "/home/somz/Projects/Hierarchies_to_scale/khepera-simulations/files/data_files/results/pos_communication_congestion_12_40_10.txt\n",
      "/home/somz/Projects/Hierarchies_to_scale/khepera-simulations/files/data_files/results/pos_communication_congestion_12_40_10.txt\n",
      "/home/somz/Projects/Hierarchies_to_scale/khepera-simulations/files/data_files/results/pos_communication_congestion_4_40_11.txt\n",
      "/home/somz/Projects/Hierarchies_to_scale/khepera-simulations/files/data_files/results/pos_communication_congestion_4_40_11.txt\n",
      "/home/somz/Projects/Hierarchies_to_scale/khepera-simulations/files/data_files/results/pos_communication_congestion_8_40_11.txt\n",
      "/home/somz/Projects/Hierarchies_to_scale/khepera-simulations/files/data_files/results/pos_communication_congestion_8_40_11.txt\n",
      "/home/somz/Projects/Hierarchies_to_scale/khepera-simulations/files/data_files/results/pos_communication_congestion_12_40_11.txt\n",
      "/home/somz/Projects/Hierarchies_to_scale/khepera-simulations/files/data_files/results/pos_communication_congestion_12_40_11.txt\n",
      "/home/somz/Projects/Hierarchies_to_scale/khepera-simulations/files/data_files/results/pos_communication_congestion_4_40_12.txt\n",
      "/home/somz/Projects/Hierarchies_to_scale/khepera-simulations/files/data_files/results/pos_communication_congestion_4_40_12.txt\n",
      "/home/somz/Projects/Hierarchies_to_scale/khepera-simulations/files/data_files/results/pos_communication_congestion_8_40_12.txt\n",
      "/home/somz/Projects/Hierarchies_to_scale/khepera-simulations/files/data_files/results/pos_communication_congestion_8_40_12.txt\n",
      "/home/somz/Projects/Hierarchies_to_scale/khepera-simulations/files/data_files/results/pos_communication_congestion_12_40_12.txt\n",
      "/home/somz/Projects/Hierarchies_to_scale/khepera-simulations/files/data_files/results/pos_communication_congestion_12_40_12.txt\n",
      "/home/somz/Projects/Hierarchies_to_scale/khepera-simulations/files/data_files/results/pos_communication_congestion_4_40_13.txt\n",
      "/home/somz/Projects/Hierarchies_to_scale/khepera-simulations/files/data_files/results/pos_communication_congestion_4_40_13.txt\n",
      "/home/somz/Projects/Hierarchies_to_scale/khepera-simulations/files/data_files/results/pos_communication_congestion_8_40_13.txt\n",
      "/home/somz/Projects/Hierarchies_to_scale/khepera-simulations/files/data_files/results/pos_communication_congestion_8_40_13.txt\n",
      "/home/somz/Projects/Hierarchies_to_scale/khepera-simulations/files/data_files/results/pos_communication_congestion_12_40_13.txt\n",
      "/home/somz/Projects/Hierarchies_to_scale/khepera-simulations/files/data_files/results/pos_communication_congestion_12_40_13.txt\n",
      "/home/somz/Projects/Hierarchies_to_scale/khepera-simulations/files/data_files/results/pos_communication_congestion_4_40_14.txt\n",
      "/home/somz/Projects/Hierarchies_to_scale/khepera-simulations/files/data_files/results/pos_communication_congestion_4_40_14.txt\n",
      "/home/somz/Projects/Hierarchies_to_scale/khepera-simulations/files/data_files/results/pos_communication_congestion_8_40_14.txt\n",
      "/home/somz/Projects/Hierarchies_to_scale/khepera-simulations/files/data_files/results/pos_communication_congestion_8_40_14.txt\n",
      "/home/somz/Projects/Hierarchies_to_scale/khepera-simulations/files/data_files/results/pos_communication_congestion_12_40_14.txt\n",
      "/home/somz/Projects/Hierarchies_to_scale/khepera-simulations/files/data_files/results/pos_communication_congestion_12_40_14.txt\n",
      "/home/somz/Projects/Hierarchies_to_scale/khepera-simulations/files/data_files/results/pos_communication_congestion_4_40_15.txt\n",
      "/home/somz/Projects/Hierarchies_to_scale/khepera-simulations/files/data_files/results/pos_communication_congestion_4_40_15.txt\n",
      "/home/somz/Projects/Hierarchies_to_scale/khepera-simulations/files/data_files/results/pos_communication_congestion_8_40_15.txt\n",
      "/home/somz/Projects/Hierarchies_to_scale/khepera-simulations/files/data_files/results/pos_communication_congestion_8_40_15.txt\n",
      "/home/somz/Projects/Hierarchies_to_scale/khepera-simulations/files/data_files/results/pos_communication_congestion_12_40_15.txt\n",
      "/home/somz/Projects/Hierarchies_to_scale/khepera-simulations/files/data_files/results/pos_communication_congestion_12_40_15.txt\n",
      "/home/somz/Projects/Hierarchies_to_scale/khepera-simulations/files/data_files/results/pos_communication_congestion_4_40_16.txt\n",
      "/home/somz/Projects/Hierarchies_to_scale/khepera-simulations/files/data_files/results/pos_communication_congestion_4_40_16.txt\n",
      "/home/somz/Projects/Hierarchies_to_scale/khepera-simulations/files/data_files/results/pos_communication_congestion_8_40_16.txt\n",
      "/home/somz/Projects/Hierarchies_to_scale/khepera-simulations/files/data_files/results/pos_communication_congestion_8_40_16.txt\n",
      "/home/somz/Projects/Hierarchies_to_scale/khepera-simulations/files/data_files/results/pos_communication_congestion_12_40_16.txt\n",
      "/home/somz/Projects/Hierarchies_to_scale/khepera-simulations/files/data_files/results/pos_communication_congestion_12_40_16.txt\n",
      "/home/somz/Projects/Hierarchies_to_scale/khepera-simulations/files/data_files/results/pos_communication_congestion_4_40_17.txt\n",
      "/home/somz/Projects/Hierarchies_to_scale/khepera-simulations/files/data_files/results/pos_communication_congestion_4_40_17.txt\n",
      "/home/somz/Projects/Hierarchies_to_scale/khepera-simulations/files/data_files/results/pos_communication_congestion_8_40_17.txt\n",
      "/home/somz/Projects/Hierarchies_to_scale/khepera-simulations/files/data_files/results/pos_communication_congestion_8_40_17.txt\n",
      "/home/somz/Projects/Hierarchies_to_scale/khepera-simulations/files/data_files/results/pos_communication_congestion_12_40_17.txt\n",
      "/home/somz/Projects/Hierarchies_to_scale/khepera-simulations/files/data_files/results/pos_communication_congestion_12_40_17.txt\n",
      "/home/somz/Projects/Hierarchies_to_scale/khepera-simulations/files/data_files/results/pos_communication_congestion_4_40_18.txt\n",
      "/home/somz/Projects/Hierarchies_to_scale/khepera-simulations/files/data_files/results/pos_communication_congestion_4_40_18.txt\n",
      "/home/somz/Projects/Hierarchies_to_scale/khepera-simulations/files/data_files/results/pos_communication_congestion_8_40_18.txt\n",
      "/home/somz/Projects/Hierarchies_to_scale/khepera-simulations/files/data_files/results/pos_communication_congestion_8_40_18.txt\n",
      "/home/somz/Projects/Hierarchies_to_scale/khepera-simulations/files/data_files/results/pos_communication_congestion_12_40_18.txt\n",
      "/home/somz/Projects/Hierarchies_to_scale/khepera-simulations/files/data_files/results/pos_communication_congestion_12_40_18.txt\n",
      "/home/somz/Projects/Hierarchies_to_scale/khepera-simulations/files/data_files/results/pos_communication_congestion_4_40_19.txt\n",
      "/home/somz/Projects/Hierarchies_to_scale/khepera-simulations/files/data_files/results/pos_communication_congestion_4_40_19.txt\n",
      "/home/somz/Projects/Hierarchies_to_scale/khepera-simulations/files/data_files/results/pos_communication_congestion_8_40_19.txt\n",
      "/home/somz/Projects/Hierarchies_to_scale/khepera-simulations/files/data_files/results/pos_communication_congestion_8_40_19.txt\n",
      "/home/somz/Projects/Hierarchies_to_scale/khepera-simulations/files/data_files/results/pos_communication_congestion_12_40_19.txt\n",
      "/home/somz/Projects/Hierarchies_to_scale/khepera-simulations/files/data_files/results/pos_communication_congestion_12_40_19.txt\n",
      "/home/somz/Projects/Hierarchies_to_scale/khepera-simulations/files/data_files/results/pos_communication_congestion_4_40_20.txt\n",
      "/home/somz/Projects/Hierarchies_to_scale/khepera-simulations/files/data_files/results/pos_communication_congestion_4_40_20.txt\n",
      "/home/somz/Projects/Hierarchies_to_scale/khepera-simulations/files/data_files/results/pos_communication_congestion_8_40_20.txt\n",
      "/home/somz/Projects/Hierarchies_to_scale/khepera-simulations/files/data_files/results/pos_communication_congestion_8_40_20.txt\n",
      "/home/somz/Projects/Hierarchies_to_scale/khepera-simulations/files/data_files/results/pos_communication_congestion_12_40_20.txt\n",
      "/home/somz/Projects/Hierarchies_to_scale/khepera-simulations/files/data_files/results/pos_communication_congestion_12_40_20.txt\n",
      "/home/somz/Projects/Hierarchies_to_scale/khepera-simulations/files/data_files/results/pos_communication_congestion_4_40_21.txt\n",
      "/home/somz/Projects/Hierarchies_to_scale/khepera-simulations/files/data_files/results/pos_communication_congestion_4_40_21.txt\n",
      "/home/somz/Projects/Hierarchies_to_scale/khepera-simulations/files/data_files/results/pos_communication_congestion_8_40_21.txt\n",
      "/home/somz/Projects/Hierarchies_to_scale/khepera-simulations/files/data_files/results/pos_communication_congestion_8_40_21.txt\n",
      "/home/somz/Projects/Hierarchies_to_scale/khepera-simulations/files/data_files/results/pos_communication_congestion_12_40_21.txt\n",
      "/home/somz/Projects/Hierarchies_to_scale/khepera-simulations/files/data_files/results/pos_communication_congestion_12_40_21.txt\n",
      "/home/somz/Projects/Hierarchies_to_scale/khepera-simulations/files/data_files/results/pos_communication_congestion_4_40_22.txt\n",
      "/home/somz/Projects/Hierarchies_to_scale/khepera-simulations/files/data_files/results/pos_communication_congestion_4_40_22.txt\n",
      "/home/somz/Projects/Hierarchies_to_scale/khepera-simulations/files/data_files/results/pos_communication_congestion_8_40_22.txt\n",
      "/home/somz/Projects/Hierarchies_to_scale/khepera-simulations/files/data_files/results/pos_communication_congestion_8_40_22.txt\n",
      "/home/somz/Projects/Hierarchies_to_scale/khepera-simulations/files/data_files/results/pos_communication_congestion_12_40_22.txt\n",
      "/home/somz/Projects/Hierarchies_to_scale/khepera-simulations/files/data_files/results/pos_communication_congestion_12_40_22.txt\n",
      "/home/somz/Projects/Hierarchies_to_scale/khepera-simulations/files/data_files/results/pos_communication_congestion_4_40_23.txt\n",
      "/home/somz/Projects/Hierarchies_to_scale/khepera-simulations/files/data_files/results/pos_communication_congestion_4_40_23.txt\n",
      "/home/somz/Projects/Hierarchies_to_scale/khepera-simulations/files/data_files/results/pos_communication_congestion_8_40_23.txt\n",
      "/home/somz/Projects/Hierarchies_to_scale/khepera-simulations/files/data_files/results/pos_communication_congestion_8_40_23.txt\n",
      "/home/somz/Projects/Hierarchies_to_scale/khepera-simulations/files/data_files/results/pos_communication_congestion_12_40_23.txt\n",
      "/home/somz/Projects/Hierarchies_to_scale/khepera-simulations/files/data_files/results/pos_communication_congestion_12_40_23.txt\n",
      "/home/somz/Projects/Hierarchies_to_scale/khepera-simulations/files/data_files/results/pos_communication_congestion_4_40_24.txt\n",
      "/home/somz/Projects/Hierarchies_to_scale/khepera-simulations/files/data_files/results/pos_communication_congestion_4_40_24.txt\n",
      "/home/somz/Projects/Hierarchies_to_scale/khepera-simulations/files/data_files/results/pos_communication_congestion_8_40_24.txt\n",
      "/home/somz/Projects/Hierarchies_to_scale/khepera-simulations/files/data_files/results/pos_communication_congestion_8_40_24.txt\n",
      "/home/somz/Projects/Hierarchies_to_scale/khepera-simulations/files/data_files/results/pos_communication_congestion_12_40_24.txt\n",
      "/home/somz/Projects/Hierarchies_to_scale/khepera-simulations/files/data_files/results/pos_communication_congestion_12_40_24.txt\n",
      "/home/somz/Projects/Hierarchies_to_scale/khepera-simulations/files/data_files/results/pos_communication_congestion_4_40_25.txt\n",
      "/home/somz/Projects/Hierarchies_to_scale/khepera-simulations/files/data_files/results/pos_communication_congestion_4_40_25.txt\n",
      "/home/somz/Projects/Hierarchies_to_scale/khepera-simulations/files/data_files/results/pos_communication_congestion_8_40_25.txt\n",
      "/home/somz/Projects/Hierarchies_to_scale/khepera-simulations/files/data_files/results/pos_communication_congestion_8_40_25.txt\n",
      "/home/somz/Projects/Hierarchies_to_scale/khepera-simulations/files/data_files/results/pos_communication_congestion_12_40_25.txt\n",
      "/home/somz/Projects/Hierarchies_to_scale/khepera-simulations/files/data_files/results/pos_communication_congestion_12_40_25.txt\n",
      "/home/somz/Projects/Hierarchies_to_scale/khepera-simulations/files/data_files/results/pos_communication_congestion_4_40_26.txt\n",
      "/home/somz/Projects/Hierarchies_to_scale/khepera-simulations/files/data_files/results/pos_communication_congestion_4_40_26.txt\n",
      "/home/somz/Projects/Hierarchies_to_scale/khepera-simulations/files/data_files/results/pos_communication_congestion_8_40_26.txt\n",
      "/home/somz/Projects/Hierarchies_to_scale/khepera-simulations/files/data_files/results/pos_communication_congestion_8_40_26.txt\n",
      "/home/somz/Projects/Hierarchies_to_scale/khepera-simulations/files/data_files/results/pos_communication_congestion_12_40_26.txt\n",
      "/home/somz/Projects/Hierarchies_to_scale/khepera-simulations/files/data_files/results/pos_communication_congestion_12_40_26.txt\n",
      "/home/somz/Projects/Hierarchies_to_scale/khepera-simulations/files/data_files/results/pos_communication_congestion_4_40_27.txt\n",
      "/home/somz/Projects/Hierarchies_to_scale/khepera-simulations/files/data_files/results/pos_communication_congestion_4_40_27.txt\n",
      "/home/somz/Projects/Hierarchies_to_scale/khepera-simulations/files/data_files/results/pos_communication_congestion_8_40_27.txt\n",
      "/home/somz/Projects/Hierarchies_to_scale/khepera-simulations/files/data_files/results/pos_communication_congestion_8_40_27.txt\n",
      "/home/somz/Projects/Hierarchies_to_scale/khepera-simulations/files/data_files/results/pos_communication_congestion_12_40_27.txt\n",
      "/home/somz/Projects/Hierarchies_to_scale/khepera-simulations/files/data_files/results/pos_communication_congestion_12_40_27.txt\n",
      "/home/somz/Projects/Hierarchies_to_scale/khepera-simulations/files/data_files/results/pos_communication_congestion_4_40_28.txt\n",
      "/home/somz/Projects/Hierarchies_to_scale/khepera-simulations/files/data_files/results/pos_communication_congestion_4_40_28.txt\n",
      "/home/somz/Projects/Hierarchies_to_scale/khepera-simulations/files/data_files/results/pos_communication_congestion_8_40_28.txt\n",
      "/home/somz/Projects/Hierarchies_to_scale/khepera-simulations/files/data_files/results/pos_communication_congestion_8_40_28.txt\n",
      "/home/somz/Projects/Hierarchies_to_scale/khepera-simulations/files/data_files/results/pos_communication_congestion_12_40_28.txt\n",
      "/home/somz/Projects/Hierarchies_to_scale/khepera-simulations/files/data_files/results/pos_communication_congestion_12_40_28.txt\n",
      "/home/somz/Projects/Hierarchies_to_scale/khepera-simulations/files/data_files/results/pos_communication_congestion_4_40_29.txt\n",
      "/home/somz/Projects/Hierarchies_to_scale/khepera-simulations/files/data_files/results/pos_communication_congestion_4_40_29.txt\n",
      "/home/somz/Projects/Hierarchies_to_scale/khepera-simulations/files/data_files/results/pos_communication_congestion_8_40_29.txt\n",
      "/home/somz/Projects/Hierarchies_to_scale/khepera-simulations/files/data_files/results/pos_communication_congestion_8_40_29.txt\n",
      "/home/somz/Projects/Hierarchies_to_scale/khepera-simulations/files/data_files/results/pos_communication_congestion_12_40_29.txt\n",
      "/home/somz/Projects/Hierarchies_to_scale/khepera-simulations/files/data_files/results/pos_communication_congestion_12_40_29.txt\n",
      "/home/somz/Projects/Hierarchies_to_scale/khepera-simulations/files/data_files/results/pos_communication_congestion_4_60_0.txt\n",
      "/home/somz/Projects/Hierarchies_to_scale/khepera-simulations/files/data_files/results/pos_communication_congestion_4_60_0.txt\n",
      "/home/somz/Projects/Hierarchies_to_scale/khepera-simulations/files/data_files/results/pos_communication_congestion_8_60_0.txt\n",
      "/home/somz/Projects/Hierarchies_to_scale/khepera-simulations/files/data_files/results/pos_communication_congestion_8_60_0.txt\n",
      "/home/somz/Projects/Hierarchies_to_scale/khepera-simulations/files/data_files/results/pos_communication_congestion_12_60_0.txt\n",
      "/home/somz/Projects/Hierarchies_to_scale/khepera-simulations/files/data_files/results/pos_communication_congestion_12_60_0.txt\n",
      "/home/somz/Projects/Hierarchies_to_scale/khepera-simulations/files/data_files/results/pos_communication_congestion_4_60_1.txt\n",
      "/home/somz/Projects/Hierarchies_to_scale/khepera-simulations/files/data_files/results/pos_communication_congestion_4_60_1.txt\n",
      "/home/somz/Projects/Hierarchies_to_scale/khepera-simulations/files/data_files/results/pos_communication_congestion_8_60_1.txt\n",
      "/home/somz/Projects/Hierarchies_to_scale/khepera-simulations/files/data_files/results/pos_communication_congestion_8_60_1.txt\n",
      "/home/somz/Projects/Hierarchies_to_scale/khepera-simulations/files/data_files/results/pos_communication_congestion_12_60_1.txt\n",
      "/home/somz/Projects/Hierarchies_to_scale/khepera-simulations/files/data_files/results/pos_communication_congestion_12_60_1.txt\n",
      "/home/somz/Projects/Hierarchies_to_scale/khepera-simulations/files/data_files/results/pos_communication_congestion_4_60_2.txt\n",
      "/home/somz/Projects/Hierarchies_to_scale/khepera-simulations/files/data_files/results/pos_communication_congestion_4_60_2.txt\n",
      "/home/somz/Projects/Hierarchies_to_scale/khepera-simulations/files/data_files/results/pos_communication_congestion_8_60_2.txt\n",
      "/home/somz/Projects/Hierarchies_to_scale/khepera-simulations/files/data_files/results/pos_communication_congestion_8_60_2.txt\n",
      "/home/somz/Projects/Hierarchies_to_scale/khepera-simulations/files/data_files/results/pos_communication_congestion_12_60_2.txt\n",
      "/home/somz/Projects/Hierarchies_to_scale/khepera-simulations/files/data_files/results/pos_communication_congestion_12_60_2.txt\n",
      "/home/somz/Projects/Hierarchies_to_scale/khepera-simulations/files/data_files/results/pos_communication_congestion_4_60_3.txt\n",
      "/home/somz/Projects/Hierarchies_to_scale/khepera-simulations/files/data_files/results/pos_communication_congestion_4_60_3.txt\n",
      "/home/somz/Projects/Hierarchies_to_scale/khepera-simulations/files/data_files/results/pos_communication_congestion_8_60_3.txt\n",
      "/home/somz/Projects/Hierarchies_to_scale/khepera-simulations/files/data_files/results/pos_communication_congestion_8_60_3.txt\n",
      "/home/somz/Projects/Hierarchies_to_scale/khepera-simulations/files/data_files/results/pos_communication_congestion_12_60_3.txt\n",
      "/home/somz/Projects/Hierarchies_to_scale/khepera-simulations/files/data_files/results/pos_communication_congestion_12_60_3.txt\n",
      "/home/somz/Projects/Hierarchies_to_scale/khepera-simulations/files/data_files/results/pos_communication_congestion_4_60_4.txt\n",
      "/home/somz/Projects/Hierarchies_to_scale/khepera-simulations/files/data_files/results/pos_communication_congestion_4_60_4.txt\n",
      "/home/somz/Projects/Hierarchies_to_scale/khepera-simulations/files/data_files/results/pos_communication_congestion_8_60_4.txt\n",
      "/home/somz/Projects/Hierarchies_to_scale/khepera-simulations/files/data_files/results/pos_communication_congestion_8_60_4.txt\n",
      "/home/somz/Projects/Hierarchies_to_scale/khepera-simulations/files/data_files/results/pos_communication_congestion_12_60_4.txt\n",
      "/home/somz/Projects/Hierarchies_to_scale/khepera-simulations/files/data_files/results/pos_communication_congestion_12_60_4.txt\n",
      "/home/somz/Projects/Hierarchies_to_scale/khepera-simulations/files/data_files/results/pos_communication_congestion_4_60_5.txt\n",
      "/home/somz/Projects/Hierarchies_to_scale/khepera-simulations/files/data_files/results/pos_communication_congestion_4_60_5.txt\n",
      "/home/somz/Projects/Hierarchies_to_scale/khepera-simulations/files/data_files/results/pos_communication_congestion_8_60_5.txt\n",
      "/home/somz/Projects/Hierarchies_to_scale/khepera-simulations/files/data_files/results/pos_communication_congestion_8_60_5.txt\n",
      "/home/somz/Projects/Hierarchies_to_scale/khepera-simulations/files/data_files/results/pos_communication_congestion_12_60_5.txt\n",
      "/home/somz/Projects/Hierarchies_to_scale/khepera-simulations/files/data_files/results/pos_communication_congestion_12_60_5.txt\n",
      "/home/somz/Projects/Hierarchies_to_scale/khepera-simulations/files/data_files/results/pos_communication_congestion_4_60_6.txt\n",
      "/home/somz/Projects/Hierarchies_to_scale/khepera-simulations/files/data_files/results/pos_communication_congestion_4_60_6.txt\n",
      "/home/somz/Projects/Hierarchies_to_scale/khepera-simulations/files/data_files/results/pos_communication_congestion_8_60_6.txt\n",
      "/home/somz/Projects/Hierarchies_to_scale/khepera-simulations/files/data_files/results/pos_communication_congestion_8_60_6.txt\n",
      "/home/somz/Projects/Hierarchies_to_scale/khepera-simulations/files/data_files/results/pos_communication_congestion_12_60_6.txt\n",
      "/home/somz/Projects/Hierarchies_to_scale/khepera-simulations/files/data_files/results/pos_communication_congestion_12_60_6.txt\n",
      "/home/somz/Projects/Hierarchies_to_scale/khepera-simulations/files/data_files/results/pos_communication_congestion_4_60_7.txt\n",
      "/home/somz/Projects/Hierarchies_to_scale/khepera-simulations/files/data_files/results/pos_communication_congestion_4_60_7.txt\n",
      "/home/somz/Projects/Hierarchies_to_scale/khepera-simulations/files/data_files/results/pos_communication_congestion_8_60_7.txt\n",
      "/home/somz/Projects/Hierarchies_to_scale/khepera-simulations/files/data_files/results/pos_communication_congestion_8_60_7.txt\n",
      "/home/somz/Projects/Hierarchies_to_scale/khepera-simulations/files/data_files/results/pos_communication_congestion_12_60_7.txt\n",
      "/home/somz/Projects/Hierarchies_to_scale/khepera-simulations/files/data_files/results/pos_communication_congestion_12_60_7.txt\n",
      "/home/somz/Projects/Hierarchies_to_scale/khepera-simulations/files/data_files/results/pos_communication_congestion_4_60_8.txt\n",
      "/home/somz/Projects/Hierarchies_to_scale/khepera-simulations/files/data_files/results/pos_communication_congestion_4_60_8.txt\n",
      "/home/somz/Projects/Hierarchies_to_scale/khepera-simulations/files/data_files/results/pos_communication_congestion_8_60_8.txt\n",
      "/home/somz/Projects/Hierarchies_to_scale/khepera-simulations/files/data_files/results/pos_communication_congestion_8_60_8.txt\n",
      "/home/somz/Projects/Hierarchies_to_scale/khepera-simulations/files/data_files/results/pos_communication_congestion_12_60_8.txt\n",
      "/home/somz/Projects/Hierarchies_to_scale/khepera-simulations/files/data_files/results/pos_communication_congestion_12_60_8.txt\n",
      "/home/somz/Projects/Hierarchies_to_scale/khepera-simulations/files/data_files/results/pos_communication_congestion_4_60_9.txt\n",
      "/home/somz/Projects/Hierarchies_to_scale/khepera-simulations/files/data_files/results/pos_communication_congestion_4_60_9.txt\n",
      "/home/somz/Projects/Hierarchies_to_scale/khepera-simulations/files/data_files/results/pos_communication_congestion_8_60_9.txt\n",
      "/home/somz/Projects/Hierarchies_to_scale/khepera-simulations/files/data_files/results/pos_communication_congestion_8_60_9.txt\n",
      "/home/somz/Projects/Hierarchies_to_scale/khepera-simulations/files/data_files/results/pos_communication_congestion_12_60_9.txt\n",
      "/home/somz/Projects/Hierarchies_to_scale/khepera-simulations/files/data_files/results/pos_communication_congestion_12_60_9.txt\n",
      "/home/somz/Projects/Hierarchies_to_scale/khepera-simulations/files/data_files/results/pos_communication_congestion_4_60_10.txt\n",
      "/home/somz/Projects/Hierarchies_to_scale/khepera-simulations/files/data_files/results/pos_communication_congestion_4_60_10.txt\n",
      "/home/somz/Projects/Hierarchies_to_scale/khepera-simulations/files/data_files/results/pos_communication_congestion_8_60_10.txt\n",
      "/home/somz/Projects/Hierarchies_to_scale/khepera-simulations/files/data_files/results/pos_communication_congestion_8_60_10.txt\n",
      "/home/somz/Projects/Hierarchies_to_scale/khepera-simulations/files/data_files/results/pos_communication_congestion_12_60_10.txt\n",
      "/home/somz/Projects/Hierarchies_to_scale/khepera-simulations/files/data_files/results/pos_communication_congestion_12_60_10.txt\n",
      "/home/somz/Projects/Hierarchies_to_scale/khepera-simulations/files/data_files/results/pos_communication_congestion_4_60_11.txt\n",
      "/home/somz/Projects/Hierarchies_to_scale/khepera-simulations/files/data_files/results/pos_communication_congestion_4_60_11.txt\n",
      "/home/somz/Projects/Hierarchies_to_scale/khepera-simulations/files/data_files/results/pos_communication_congestion_8_60_11.txt\n",
      "/home/somz/Projects/Hierarchies_to_scale/khepera-simulations/files/data_files/results/pos_communication_congestion_8_60_11.txt\n",
      "/home/somz/Projects/Hierarchies_to_scale/khepera-simulations/files/data_files/results/pos_communication_congestion_12_60_11.txt\n",
      "/home/somz/Projects/Hierarchies_to_scale/khepera-simulations/files/data_files/results/pos_communication_congestion_12_60_11.txt\n",
      "/home/somz/Projects/Hierarchies_to_scale/khepera-simulations/files/data_files/results/pos_communication_congestion_4_60_12.txt\n",
      "/home/somz/Projects/Hierarchies_to_scale/khepera-simulations/files/data_files/results/pos_communication_congestion_4_60_12.txt\n",
      "/home/somz/Projects/Hierarchies_to_scale/khepera-simulations/files/data_files/results/pos_communication_congestion_8_60_12.txt\n",
      "/home/somz/Projects/Hierarchies_to_scale/khepera-simulations/files/data_files/results/pos_communication_congestion_8_60_12.txt\n",
      "/home/somz/Projects/Hierarchies_to_scale/khepera-simulations/files/data_files/results/pos_communication_congestion_12_60_12.txt\n",
      "/home/somz/Projects/Hierarchies_to_scale/khepera-simulations/files/data_files/results/pos_communication_congestion_12_60_12.txt\n",
      "/home/somz/Projects/Hierarchies_to_scale/khepera-simulations/files/data_files/results/pos_communication_congestion_4_60_13.txt\n",
      "/home/somz/Projects/Hierarchies_to_scale/khepera-simulations/files/data_files/results/pos_communication_congestion_4_60_13.txt\n",
      "/home/somz/Projects/Hierarchies_to_scale/khepera-simulations/files/data_files/results/pos_communication_congestion_8_60_13.txt\n",
      "/home/somz/Projects/Hierarchies_to_scale/khepera-simulations/files/data_files/results/pos_communication_congestion_8_60_13.txt\n",
      "/home/somz/Projects/Hierarchies_to_scale/khepera-simulations/files/data_files/results/pos_communication_congestion_12_60_13.txt\n",
      "/home/somz/Projects/Hierarchies_to_scale/khepera-simulations/files/data_files/results/pos_communication_congestion_12_60_13.txt\n",
      "/home/somz/Projects/Hierarchies_to_scale/khepera-simulations/files/data_files/results/pos_communication_congestion_4_60_14.txt\n",
      "/home/somz/Projects/Hierarchies_to_scale/khepera-simulations/files/data_files/results/pos_communication_congestion_4_60_14.txt\n",
      "/home/somz/Projects/Hierarchies_to_scale/khepera-simulations/files/data_files/results/pos_communication_congestion_8_60_14.txt\n",
      "/home/somz/Projects/Hierarchies_to_scale/khepera-simulations/files/data_files/results/pos_communication_congestion_8_60_14.txt\n",
      "/home/somz/Projects/Hierarchies_to_scale/khepera-simulations/files/data_files/results/pos_communication_congestion_12_60_14.txt\n",
      "/home/somz/Projects/Hierarchies_to_scale/khepera-simulations/files/data_files/results/pos_communication_congestion_12_60_14.txt\n",
      "/home/somz/Projects/Hierarchies_to_scale/khepera-simulations/files/data_files/results/pos_communication_congestion_4_60_15.txt\n",
      "/home/somz/Projects/Hierarchies_to_scale/khepera-simulations/files/data_files/results/pos_communication_congestion_4_60_15.txt\n",
      "/home/somz/Projects/Hierarchies_to_scale/khepera-simulations/files/data_files/results/pos_communication_congestion_8_60_15.txt\n",
      "/home/somz/Projects/Hierarchies_to_scale/khepera-simulations/files/data_files/results/pos_communication_congestion_8_60_15.txt\n",
      "/home/somz/Projects/Hierarchies_to_scale/khepera-simulations/files/data_files/results/pos_communication_congestion_12_60_15.txt\n",
      "/home/somz/Projects/Hierarchies_to_scale/khepera-simulations/files/data_files/results/pos_communication_congestion_12_60_15.txt\n",
      "/home/somz/Projects/Hierarchies_to_scale/khepera-simulations/files/data_files/results/pos_communication_congestion_4_60_16.txt\n",
      "/home/somz/Projects/Hierarchies_to_scale/khepera-simulations/files/data_files/results/pos_communication_congestion_4_60_16.txt\n",
      "/home/somz/Projects/Hierarchies_to_scale/khepera-simulations/files/data_files/results/pos_communication_congestion_8_60_16.txt\n",
      "/home/somz/Projects/Hierarchies_to_scale/khepera-simulations/files/data_files/results/pos_communication_congestion_8_60_16.txt\n",
      "/home/somz/Projects/Hierarchies_to_scale/khepera-simulations/files/data_files/results/pos_communication_congestion_12_60_16.txt\n",
      "/home/somz/Projects/Hierarchies_to_scale/khepera-simulations/files/data_files/results/pos_communication_congestion_12_60_16.txt\n",
      "/home/somz/Projects/Hierarchies_to_scale/khepera-simulations/files/data_files/results/pos_communication_congestion_4_60_17.txt\n",
      "/home/somz/Projects/Hierarchies_to_scale/khepera-simulations/files/data_files/results/pos_communication_congestion_4_60_17.txt\n",
      "/home/somz/Projects/Hierarchies_to_scale/khepera-simulations/files/data_files/results/pos_communication_congestion_8_60_17.txt\n",
      "/home/somz/Projects/Hierarchies_to_scale/khepera-simulations/files/data_files/results/pos_communication_congestion_8_60_17.txt\n",
      "/home/somz/Projects/Hierarchies_to_scale/khepera-simulations/files/data_files/results/pos_communication_congestion_12_60_17.txt\n",
      "/home/somz/Projects/Hierarchies_to_scale/khepera-simulations/files/data_files/results/pos_communication_congestion_12_60_17.txt\n",
      "/home/somz/Projects/Hierarchies_to_scale/khepera-simulations/files/data_files/results/pos_communication_congestion_4_60_18.txt\n",
      "/home/somz/Projects/Hierarchies_to_scale/khepera-simulations/files/data_files/results/pos_communication_congestion_4_60_18.txt\n",
      "/home/somz/Projects/Hierarchies_to_scale/khepera-simulations/files/data_files/results/pos_communication_congestion_8_60_18.txt\n",
      "/home/somz/Projects/Hierarchies_to_scale/khepera-simulations/files/data_files/results/pos_communication_congestion_8_60_18.txt\n",
      "/home/somz/Projects/Hierarchies_to_scale/khepera-simulations/files/data_files/results/pos_communication_congestion_12_60_18.txt\n",
      "/home/somz/Projects/Hierarchies_to_scale/khepera-simulations/files/data_files/results/pos_communication_congestion_12_60_18.txt\n",
      "/home/somz/Projects/Hierarchies_to_scale/khepera-simulations/files/data_files/results/pos_communication_congestion_4_60_19.txt\n",
      "/home/somz/Projects/Hierarchies_to_scale/khepera-simulations/files/data_files/results/pos_communication_congestion_4_60_19.txt\n",
      "/home/somz/Projects/Hierarchies_to_scale/khepera-simulations/files/data_files/results/pos_communication_congestion_8_60_19.txt\n",
      "/home/somz/Projects/Hierarchies_to_scale/khepera-simulations/files/data_files/results/pos_communication_congestion_8_60_19.txt\n",
      "/home/somz/Projects/Hierarchies_to_scale/khepera-simulations/files/data_files/results/pos_communication_congestion_12_60_19.txt\n",
      "/home/somz/Projects/Hierarchies_to_scale/khepera-simulations/files/data_files/results/pos_communication_congestion_12_60_19.txt\n",
      "/home/somz/Projects/Hierarchies_to_scale/khepera-simulations/files/data_files/results/pos_communication_congestion_4_60_20.txt\n",
      "/home/somz/Projects/Hierarchies_to_scale/khepera-simulations/files/data_files/results/pos_communication_congestion_4_60_20.txt\n",
      "/home/somz/Projects/Hierarchies_to_scale/khepera-simulations/files/data_files/results/pos_communication_congestion_8_60_20.txt\n",
      "/home/somz/Projects/Hierarchies_to_scale/khepera-simulations/files/data_files/results/pos_communication_congestion_8_60_20.txt\n",
      "/home/somz/Projects/Hierarchies_to_scale/khepera-simulations/files/data_files/results/pos_communication_congestion_12_60_20.txt\n",
      "/home/somz/Projects/Hierarchies_to_scale/khepera-simulations/files/data_files/results/pos_communication_congestion_12_60_20.txt\n",
      "/home/somz/Projects/Hierarchies_to_scale/khepera-simulations/files/data_files/results/pos_communication_congestion_4_60_21.txt\n",
      "/home/somz/Projects/Hierarchies_to_scale/khepera-simulations/files/data_files/results/pos_communication_congestion_4_60_21.txt\n",
      "/home/somz/Projects/Hierarchies_to_scale/khepera-simulations/files/data_files/results/pos_communication_congestion_8_60_21.txt\n",
      "/home/somz/Projects/Hierarchies_to_scale/khepera-simulations/files/data_files/results/pos_communication_congestion_8_60_21.txt\n",
      "/home/somz/Projects/Hierarchies_to_scale/khepera-simulations/files/data_files/results/pos_communication_congestion_12_60_21.txt\n",
      "/home/somz/Projects/Hierarchies_to_scale/khepera-simulations/files/data_files/results/pos_communication_congestion_12_60_21.txt\n",
      "/home/somz/Projects/Hierarchies_to_scale/khepera-simulations/files/data_files/results/pos_communication_congestion_4_60_22.txt\n",
      "/home/somz/Projects/Hierarchies_to_scale/khepera-simulations/files/data_files/results/pos_communication_congestion_4_60_22.txt\n",
      "/home/somz/Projects/Hierarchies_to_scale/khepera-simulations/files/data_files/results/pos_communication_congestion_8_60_22.txt\n",
      "/home/somz/Projects/Hierarchies_to_scale/khepera-simulations/files/data_files/results/pos_communication_congestion_8_60_22.txt\n",
      "/home/somz/Projects/Hierarchies_to_scale/khepera-simulations/files/data_files/results/pos_communication_congestion_12_60_22.txt\n",
      "/home/somz/Projects/Hierarchies_to_scale/khepera-simulations/files/data_files/results/pos_communication_congestion_12_60_22.txt\n",
      "/home/somz/Projects/Hierarchies_to_scale/khepera-simulations/files/data_files/results/pos_communication_congestion_4_60_23.txt\n",
      "/home/somz/Projects/Hierarchies_to_scale/khepera-simulations/files/data_files/results/pos_communication_congestion_4_60_23.txt\n",
      "/home/somz/Projects/Hierarchies_to_scale/khepera-simulations/files/data_files/results/pos_communication_congestion_8_60_23.txt\n",
      "/home/somz/Projects/Hierarchies_to_scale/khepera-simulations/files/data_files/results/pos_communication_congestion_8_60_23.txt\n",
      "/home/somz/Projects/Hierarchies_to_scale/khepera-simulations/files/data_files/results/pos_communication_congestion_12_60_23.txt\n",
      "/home/somz/Projects/Hierarchies_to_scale/khepera-simulations/files/data_files/results/pos_communication_congestion_12_60_23.txt\n",
      "/home/somz/Projects/Hierarchies_to_scale/khepera-simulations/files/data_files/results/pos_communication_congestion_4_60_24.txt\n",
      "/home/somz/Projects/Hierarchies_to_scale/khepera-simulations/files/data_files/results/pos_communication_congestion_4_60_24.txt\n",
      "/home/somz/Projects/Hierarchies_to_scale/khepera-simulations/files/data_files/results/pos_communication_congestion_8_60_24.txt\n",
      "/home/somz/Projects/Hierarchies_to_scale/khepera-simulations/files/data_files/results/pos_communication_congestion_8_60_24.txt\n",
      "/home/somz/Projects/Hierarchies_to_scale/khepera-simulations/files/data_files/results/pos_communication_congestion_12_60_24.txt\n",
      "/home/somz/Projects/Hierarchies_to_scale/khepera-simulations/files/data_files/results/pos_communication_congestion_12_60_24.txt\n",
      "/home/somz/Projects/Hierarchies_to_scale/khepera-simulations/files/data_files/results/pos_communication_congestion_4_60_25.txt\n",
      "/home/somz/Projects/Hierarchies_to_scale/khepera-simulations/files/data_files/results/pos_communication_congestion_4_60_25.txt\n",
      "/home/somz/Projects/Hierarchies_to_scale/khepera-simulations/files/data_files/results/pos_communication_congestion_8_60_25.txt\n",
      "/home/somz/Projects/Hierarchies_to_scale/khepera-simulations/files/data_files/results/pos_communication_congestion_8_60_25.txt\n",
      "/home/somz/Projects/Hierarchies_to_scale/khepera-simulations/files/data_files/results/pos_communication_congestion_12_60_25.txt\n",
      "/home/somz/Projects/Hierarchies_to_scale/khepera-simulations/files/data_files/results/pos_communication_congestion_12_60_25.txt\n",
      "/home/somz/Projects/Hierarchies_to_scale/khepera-simulations/files/data_files/results/pos_communication_congestion_4_60_26.txt\n",
      "/home/somz/Projects/Hierarchies_to_scale/khepera-simulations/files/data_files/results/pos_communication_congestion_4_60_26.txt\n",
      "/home/somz/Projects/Hierarchies_to_scale/khepera-simulations/files/data_files/results/pos_communication_congestion_8_60_26.txt\n",
      "/home/somz/Projects/Hierarchies_to_scale/khepera-simulations/files/data_files/results/pos_communication_congestion_8_60_26.txt\n",
      "/home/somz/Projects/Hierarchies_to_scale/khepera-simulations/files/data_files/results/pos_communication_congestion_12_60_26.txt\n",
      "/home/somz/Projects/Hierarchies_to_scale/khepera-simulations/files/data_files/results/pos_communication_congestion_12_60_26.txt\n",
      "/home/somz/Projects/Hierarchies_to_scale/khepera-simulations/files/data_files/results/pos_communication_congestion_4_60_27.txt\n",
      "/home/somz/Projects/Hierarchies_to_scale/khepera-simulations/files/data_files/results/pos_communication_congestion_4_60_27.txt\n",
      "/home/somz/Projects/Hierarchies_to_scale/khepera-simulations/files/data_files/results/pos_communication_congestion_8_60_27.txt\n",
      "/home/somz/Projects/Hierarchies_to_scale/khepera-simulations/files/data_files/results/pos_communication_congestion_8_60_27.txt\n",
      "/home/somz/Projects/Hierarchies_to_scale/khepera-simulations/files/data_files/results/pos_communication_congestion_12_60_27.txt\n",
      "/home/somz/Projects/Hierarchies_to_scale/khepera-simulations/files/data_files/results/pos_communication_congestion_12_60_27.txt\n",
      "/home/somz/Projects/Hierarchies_to_scale/khepera-simulations/files/data_files/results/pos_communication_congestion_4_60_28.txt\n",
      "/home/somz/Projects/Hierarchies_to_scale/khepera-simulations/files/data_files/results/pos_communication_congestion_4_60_28.txt\n",
      "/home/somz/Projects/Hierarchies_to_scale/khepera-simulations/files/data_files/results/pos_communication_congestion_8_60_28.txt\n",
      "/home/somz/Projects/Hierarchies_to_scale/khepera-simulations/files/data_files/results/pos_communication_congestion_8_60_28.txt\n",
      "/home/somz/Projects/Hierarchies_to_scale/khepera-simulations/files/data_files/results/pos_communication_congestion_12_60_28.txt\n",
      "/home/somz/Projects/Hierarchies_to_scale/khepera-simulations/files/data_files/results/pos_communication_congestion_12_60_28.txt\n",
      "/home/somz/Projects/Hierarchies_to_scale/khepera-simulations/files/data_files/results/pos_communication_congestion_4_60_29.txt\n",
      "/home/somz/Projects/Hierarchies_to_scale/khepera-simulations/files/data_files/results/pos_communication_congestion_4_60_29.txt\n",
      "/home/somz/Projects/Hierarchies_to_scale/khepera-simulations/files/data_files/results/pos_communication_congestion_8_60_29.txt\n",
      "/home/somz/Projects/Hierarchies_to_scale/khepera-simulations/files/data_files/results/pos_communication_congestion_8_60_29.txt\n",
      "/home/somz/Projects/Hierarchies_to_scale/khepera-simulations/files/data_files/results/pos_communication_congestion_12_60_29.txt\n",
      "/home/somz/Projects/Hierarchies_to_scale/khepera-simulations/files/data_files/results/pos_communication_congestion_12_60_29.txt\n",
      "/home/somz/Projects/Hierarchies_to_scale/khepera-simulations/files/data_files/results/pos_communication_congestion_4_80_0.txt\n",
      "/home/somz/Projects/Hierarchies_to_scale/khepera-simulations/files/data_files/results/pos_communication_congestion_4_80_0.txt\n",
      "/home/somz/Projects/Hierarchies_to_scale/khepera-simulations/files/data_files/results/pos_communication_congestion_8_80_0.txt\n",
      "/home/somz/Projects/Hierarchies_to_scale/khepera-simulations/files/data_files/results/pos_communication_congestion_8_80_0.txt\n",
      "/home/somz/Projects/Hierarchies_to_scale/khepera-simulations/files/data_files/results/pos_communication_congestion_12_80_0.txt\n",
      "/home/somz/Projects/Hierarchies_to_scale/khepera-simulations/files/data_files/results/pos_communication_congestion_12_80_0.txt\n",
      "/home/somz/Projects/Hierarchies_to_scale/khepera-simulations/files/data_files/results/pos_communication_congestion_4_80_1.txt\n",
      "/home/somz/Projects/Hierarchies_to_scale/khepera-simulations/files/data_files/results/pos_communication_congestion_4_80_1.txt\n",
      "/home/somz/Projects/Hierarchies_to_scale/khepera-simulations/files/data_files/results/pos_communication_congestion_8_80_1.txt\n",
      "/home/somz/Projects/Hierarchies_to_scale/khepera-simulations/files/data_files/results/pos_communication_congestion_8_80_1.txt\n",
      "/home/somz/Projects/Hierarchies_to_scale/khepera-simulations/files/data_files/results/pos_communication_congestion_12_80_1.txt\n",
      "/home/somz/Projects/Hierarchies_to_scale/khepera-simulations/files/data_files/results/pos_communication_congestion_12_80_1.txt\n",
      "/home/somz/Projects/Hierarchies_to_scale/khepera-simulations/files/data_files/results/pos_communication_congestion_4_80_2.txt\n",
      "/home/somz/Projects/Hierarchies_to_scale/khepera-simulations/files/data_files/results/pos_communication_congestion_4_80_2.txt\n",
      "/home/somz/Projects/Hierarchies_to_scale/khepera-simulations/files/data_files/results/pos_communication_congestion_8_80_2.txt\n",
      "/home/somz/Projects/Hierarchies_to_scale/khepera-simulations/files/data_files/results/pos_communication_congestion_8_80_2.txt\n",
      "/home/somz/Projects/Hierarchies_to_scale/khepera-simulations/files/data_files/results/pos_communication_congestion_12_80_2.txt\n",
      "/home/somz/Projects/Hierarchies_to_scale/khepera-simulations/files/data_files/results/pos_communication_congestion_12_80_2.txt\n",
      "/home/somz/Projects/Hierarchies_to_scale/khepera-simulations/files/data_files/results/pos_communication_congestion_4_80_3.txt\n",
      "/home/somz/Projects/Hierarchies_to_scale/khepera-simulations/files/data_files/results/pos_communication_congestion_4_80_3.txt\n",
      "/home/somz/Projects/Hierarchies_to_scale/khepera-simulations/files/data_files/results/pos_communication_congestion_8_80_3.txt\n",
      "/home/somz/Projects/Hierarchies_to_scale/khepera-simulations/files/data_files/results/pos_communication_congestion_8_80_3.txt\n",
      "/home/somz/Projects/Hierarchies_to_scale/khepera-simulations/files/data_files/results/pos_communication_congestion_12_80_3.txt\n",
      "/home/somz/Projects/Hierarchies_to_scale/khepera-simulations/files/data_files/results/pos_communication_congestion_12_80_3.txt\n",
      "/home/somz/Projects/Hierarchies_to_scale/khepera-simulations/files/data_files/results/pos_communication_congestion_4_80_4.txt\n",
      "/home/somz/Projects/Hierarchies_to_scale/khepera-simulations/files/data_files/results/pos_communication_congestion_4_80_4.txt\n",
      "/home/somz/Projects/Hierarchies_to_scale/khepera-simulations/files/data_files/results/pos_communication_congestion_8_80_4.txt\n",
      "/home/somz/Projects/Hierarchies_to_scale/khepera-simulations/files/data_files/results/pos_communication_congestion_8_80_4.txt\n",
      "/home/somz/Projects/Hierarchies_to_scale/khepera-simulations/files/data_files/results/pos_communication_congestion_12_80_4.txt\n",
      "/home/somz/Projects/Hierarchies_to_scale/khepera-simulations/files/data_files/results/pos_communication_congestion_12_80_4.txt\n",
      "/home/somz/Projects/Hierarchies_to_scale/khepera-simulations/files/data_files/results/pos_communication_congestion_4_80_5.txt\n",
      "/home/somz/Projects/Hierarchies_to_scale/khepera-simulations/files/data_files/results/pos_communication_congestion_4_80_5.txt\n",
      "/home/somz/Projects/Hierarchies_to_scale/khepera-simulations/files/data_files/results/pos_communication_congestion_8_80_5.txt\n",
      "/home/somz/Projects/Hierarchies_to_scale/khepera-simulations/files/data_files/results/pos_communication_congestion_8_80_5.txt\n",
      "/home/somz/Projects/Hierarchies_to_scale/khepera-simulations/files/data_files/results/pos_communication_congestion_12_80_5.txt\n",
      "/home/somz/Projects/Hierarchies_to_scale/khepera-simulations/files/data_files/results/pos_communication_congestion_12_80_5.txt\n",
      "/home/somz/Projects/Hierarchies_to_scale/khepera-simulations/files/data_files/results/pos_communication_congestion_4_80_6.txt\n",
      "/home/somz/Projects/Hierarchies_to_scale/khepera-simulations/files/data_files/results/pos_communication_congestion_4_80_6.txt\n",
      "/home/somz/Projects/Hierarchies_to_scale/khepera-simulations/files/data_files/results/pos_communication_congestion_8_80_6.txt\n",
      "/home/somz/Projects/Hierarchies_to_scale/khepera-simulations/files/data_files/results/pos_communication_congestion_8_80_6.txt\n",
      "/home/somz/Projects/Hierarchies_to_scale/khepera-simulations/files/data_files/results/pos_communication_congestion_12_80_6.txt\n",
      "/home/somz/Projects/Hierarchies_to_scale/khepera-simulations/files/data_files/results/pos_communication_congestion_12_80_6.txt\n",
      "/home/somz/Projects/Hierarchies_to_scale/khepera-simulations/files/data_files/results/pos_communication_congestion_4_80_7.txt\n",
      "/home/somz/Projects/Hierarchies_to_scale/khepera-simulations/files/data_files/results/pos_communication_congestion_4_80_7.txt\n",
      "/home/somz/Projects/Hierarchies_to_scale/khepera-simulations/files/data_files/results/pos_communication_congestion_8_80_7.txt\n",
      "/home/somz/Projects/Hierarchies_to_scale/khepera-simulations/files/data_files/results/pos_communication_congestion_8_80_7.txt\n",
      "/home/somz/Projects/Hierarchies_to_scale/khepera-simulations/files/data_files/results/pos_communication_congestion_12_80_7.txt\n",
      "/home/somz/Projects/Hierarchies_to_scale/khepera-simulations/files/data_files/results/pos_communication_congestion_12_80_7.txt\n",
      "/home/somz/Projects/Hierarchies_to_scale/khepera-simulations/files/data_files/results/pos_communication_congestion_4_80_8.txt\n",
      "/home/somz/Projects/Hierarchies_to_scale/khepera-simulations/files/data_files/results/pos_communication_congestion_4_80_8.txt\n",
      "/home/somz/Projects/Hierarchies_to_scale/khepera-simulations/files/data_files/results/pos_communication_congestion_8_80_8.txt\n",
      "/home/somz/Projects/Hierarchies_to_scale/khepera-simulations/files/data_files/results/pos_communication_congestion_8_80_8.txt\n",
      "/home/somz/Projects/Hierarchies_to_scale/khepera-simulations/files/data_files/results/pos_communication_congestion_12_80_8.txt\n",
      "/home/somz/Projects/Hierarchies_to_scale/khepera-simulations/files/data_files/results/pos_communication_congestion_12_80_8.txt\n",
      "/home/somz/Projects/Hierarchies_to_scale/khepera-simulations/files/data_files/results/pos_communication_congestion_4_80_9.txt\n",
      "/home/somz/Projects/Hierarchies_to_scale/khepera-simulations/files/data_files/results/pos_communication_congestion_4_80_9.txt\n",
      "/home/somz/Projects/Hierarchies_to_scale/khepera-simulations/files/data_files/results/pos_communication_congestion_8_80_9.txt\n",
      "/home/somz/Projects/Hierarchies_to_scale/khepera-simulations/files/data_files/results/pos_communication_congestion_8_80_9.txt\n",
      "/home/somz/Projects/Hierarchies_to_scale/khepera-simulations/files/data_files/results/pos_communication_congestion_12_80_9.txt\n",
      "/home/somz/Projects/Hierarchies_to_scale/khepera-simulations/files/data_files/results/pos_communication_congestion_12_80_9.txt\n",
      "/home/somz/Projects/Hierarchies_to_scale/khepera-simulations/files/data_files/results/pos_communication_congestion_4_80_10.txt\n",
      "/home/somz/Projects/Hierarchies_to_scale/khepera-simulations/files/data_files/results/pos_communication_congestion_4_80_10.txt\n",
      "/home/somz/Projects/Hierarchies_to_scale/khepera-simulations/files/data_files/results/pos_communication_congestion_8_80_10.txt\n",
      "/home/somz/Projects/Hierarchies_to_scale/khepera-simulations/files/data_files/results/pos_communication_congestion_8_80_10.txt\n",
      "/home/somz/Projects/Hierarchies_to_scale/khepera-simulations/files/data_files/results/pos_communication_congestion_12_80_10.txt\n",
      "/home/somz/Projects/Hierarchies_to_scale/khepera-simulations/files/data_files/results/pos_communication_congestion_12_80_10.txt\n",
      "/home/somz/Projects/Hierarchies_to_scale/khepera-simulations/files/data_files/results/pos_communication_congestion_4_80_11.txt\n",
      "/home/somz/Projects/Hierarchies_to_scale/khepera-simulations/files/data_files/results/pos_communication_congestion_4_80_11.txt\n",
      "/home/somz/Projects/Hierarchies_to_scale/khepera-simulations/files/data_files/results/pos_communication_congestion_8_80_11.txt\n",
      "/home/somz/Projects/Hierarchies_to_scale/khepera-simulations/files/data_files/results/pos_communication_congestion_8_80_11.txt\n",
      "/home/somz/Projects/Hierarchies_to_scale/khepera-simulations/files/data_files/results/pos_communication_congestion_12_80_11.txt\n",
      "/home/somz/Projects/Hierarchies_to_scale/khepera-simulations/files/data_files/results/pos_communication_congestion_12_80_11.txt\n",
      "/home/somz/Projects/Hierarchies_to_scale/khepera-simulations/files/data_files/results/pos_communication_congestion_4_80_12.txt\n",
      "/home/somz/Projects/Hierarchies_to_scale/khepera-simulations/files/data_files/results/pos_communication_congestion_4_80_12.txt\n",
      "/home/somz/Projects/Hierarchies_to_scale/khepera-simulations/files/data_files/results/pos_communication_congestion_8_80_12.txt\n",
      "/home/somz/Projects/Hierarchies_to_scale/khepera-simulations/files/data_files/results/pos_communication_congestion_8_80_12.txt\n",
      "/home/somz/Projects/Hierarchies_to_scale/khepera-simulations/files/data_files/results/pos_communication_congestion_12_80_12.txt\n",
      "/home/somz/Projects/Hierarchies_to_scale/khepera-simulations/files/data_files/results/pos_communication_congestion_12_80_12.txt\n",
      "/home/somz/Projects/Hierarchies_to_scale/khepera-simulations/files/data_files/results/pos_communication_congestion_4_80_13.txt\n",
      "/home/somz/Projects/Hierarchies_to_scale/khepera-simulations/files/data_files/results/pos_communication_congestion_4_80_13.txt\n",
      "/home/somz/Projects/Hierarchies_to_scale/khepera-simulations/files/data_files/results/pos_communication_congestion_8_80_13.txt\n",
      "/home/somz/Projects/Hierarchies_to_scale/khepera-simulations/files/data_files/results/pos_communication_congestion_8_80_13.txt\n",
      "/home/somz/Projects/Hierarchies_to_scale/khepera-simulations/files/data_files/results/pos_communication_congestion_12_80_13.txt\n",
      "/home/somz/Projects/Hierarchies_to_scale/khepera-simulations/files/data_files/results/pos_communication_congestion_12_80_13.txt\n",
      "/home/somz/Projects/Hierarchies_to_scale/khepera-simulations/files/data_files/results/pos_communication_congestion_4_80_14.txt\n",
      "/home/somz/Projects/Hierarchies_to_scale/khepera-simulations/files/data_files/results/pos_communication_congestion_4_80_14.txt\n",
      "/home/somz/Projects/Hierarchies_to_scale/khepera-simulations/files/data_files/results/pos_communication_congestion_8_80_14.txt\n",
      "/home/somz/Projects/Hierarchies_to_scale/khepera-simulations/files/data_files/results/pos_communication_congestion_8_80_14.txt\n",
      "/home/somz/Projects/Hierarchies_to_scale/khepera-simulations/files/data_files/results/pos_communication_congestion_12_80_14.txt\n",
      "/home/somz/Projects/Hierarchies_to_scale/khepera-simulations/files/data_files/results/pos_communication_congestion_12_80_14.txt\n",
      "/home/somz/Projects/Hierarchies_to_scale/khepera-simulations/files/data_files/results/pos_communication_congestion_4_80_15.txt\n",
      "/home/somz/Projects/Hierarchies_to_scale/khepera-simulations/files/data_files/results/pos_communication_congestion_4_80_15.txt\n",
      "/home/somz/Projects/Hierarchies_to_scale/khepera-simulations/files/data_files/results/pos_communication_congestion_8_80_15.txt\n",
      "/home/somz/Projects/Hierarchies_to_scale/khepera-simulations/files/data_files/results/pos_communication_congestion_8_80_15.txt\n",
      "/home/somz/Projects/Hierarchies_to_scale/khepera-simulations/files/data_files/results/pos_communication_congestion_12_80_15.txt\n",
      "/home/somz/Projects/Hierarchies_to_scale/khepera-simulations/files/data_files/results/pos_communication_congestion_12_80_15.txt\n",
      "/home/somz/Projects/Hierarchies_to_scale/khepera-simulations/files/data_files/results/pos_communication_congestion_4_80_16.txt\n",
      "/home/somz/Projects/Hierarchies_to_scale/khepera-simulations/files/data_files/results/pos_communication_congestion_4_80_16.txt\n",
      "/home/somz/Projects/Hierarchies_to_scale/khepera-simulations/files/data_files/results/pos_communication_congestion_8_80_16.txt\n",
      "/home/somz/Projects/Hierarchies_to_scale/khepera-simulations/files/data_files/results/pos_communication_congestion_8_80_16.txt\n",
      "/home/somz/Projects/Hierarchies_to_scale/khepera-simulations/files/data_files/results/pos_communication_congestion_12_80_16.txt\n",
      "/home/somz/Projects/Hierarchies_to_scale/khepera-simulations/files/data_files/results/pos_communication_congestion_12_80_16.txt\n",
      "/home/somz/Projects/Hierarchies_to_scale/khepera-simulations/files/data_files/results/pos_communication_congestion_4_80_17.txt\n",
      "/home/somz/Projects/Hierarchies_to_scale/khepera-simulations/files/data_files/results/pos_communication_congestion_4_80_17.txt\n",
      "/home/somz/Projects/Hierarchies_to_scale/khepera-simulations/files/data_files/results/pos_communication_congestion_8_80_17.txt\n",
      "/home/somz/Projects/Hierarchies_to_scale/khepera-simulations/files/data_files/results/pos_communication_congestion_8_80_17.txt\n",
      "/home/somz/Projects/Hierarchies_to_scale/khepera-simulations/files/data_files/results/pos_communication_congestion_12_80_17.txt\n",
      "/home/somz/Projects/Hierarchies_to_scale/khepera-simulations/files/data_files/results/pos_communication_congestion_12_80_17.txt\n",
      "/home/somz/Projects/Hierarchies_to_scale/khepera-simulations/files/data_files/results/pos_communication_congestion_4_80_18.txt\n",
      "/home/somz/Projects/Hierarchies_to_scale/khepera-simulations/files/data_files/results/pos_communication_congestion_4_80_18.txt\n",
      "/home/somz/Projects/Hierarchies_to_scale/khepera-simulations/files/data_files/results/pos_communication_congestion_8_80_18.txt\n",
      "/home/somz/Projects/Hierarchies_to_scale/khepera-simulations/files/data_files/results/pos_communication_congestion_8_80_18.txt\n",
      "/home/somz/Projects/Hierarchies_to_scale/khepera-simulations/files/data_files/results/pos_communication_congestion_12_80_18.txt\n",
      "/home/somz/Projects/Hierarchies_to_scale/khepera-simulations/files/data_files/results/pos_communication_congestion_12_80_18.txt\n",
      "/home/somz/Projects/Hierarchies_to_scale/khepera-simulations/files/data_files/results/pos_communication_congestion_4_80_19.txt\n",
      "/home/somz/Projects/Hierarchies_to_scale/khepera-simulations/files/data_files/results/pos_communication_congestion_4_80_19.txt\n",
      "/home/somz/Projects/Hierarchies_to_scale/khepera-simulations/files/data_files/results/pos_communication_congestion_8_80_19.txt\n",
      "/home/somz/Projects/Hierarchies_to_scale/khepera-simulations/files/data_files/results/pos_communication_congestion_8_80_19.txt\n",
      "/home/somz/Projects/Hierarchies_to_scale/khepera-simulations/files/data_files/results/pos_communication_congestion_12_80_19.txt\n",
      "/home/somz/Projects/Hierarchies_to_scale/khepera-simulations/files/data_files/results/pos_communication_congestion_12_80_19.txt\n",
      "/home/somz/Projects/Hierarchies_to_scale/khepera-simulations/files/data_files/results/pos_communication_congestion_4_80_20.txt\n",
      "/home/somz/Projects/Hierarchies_to_scale/khepera-simulations/files/data_files/results/pos_communication_congestion_4_80_20.txt\n",
      "/home/somz/Projects/Hierarchies_to_scale/khepera-simulations/files/data_files/results/pos_communication_congestion_8_80_20.txt\n",
      "/home/somz/Projects/Hierarchies_to_scale/khepera-simulations/files/data_files/results/pos_communication_congestion_8_80_20.txt\n",
      "/home/somz/Projects/Hierarchies_to_scale/khepera-simulations/files/data_files/results/pos_communication_congestion_12_80_20.txt\n",
      "/home/somz/Projects/Hierarchies_to_scale/khepera-simulations/files/data_files/results/pos_communication_congestion_12_80_20.txt\n",
      "/home/somz/Projects/Hierarchies_to_scale/khepera-simulations/files/data_files/results/pos_communication_congestion_4_80_21.txt\n",
      "/home/somz/Projects/Hierarchies_to_scale/khepera-simulations/files/data_files/results/pos_communication_congestion_4_80_21.txt\n",
      "/home/somz/Projects/Hierarchies_to_scale/khepera-simulations/files/data_files/results/pos_communication_congestion_8_80_21.txt\n",
      "/home/somz/Projects/Hierarchies_to_scale/khepera-simulations/files/data_files/results/pos_communication_congestion_8_80_21.txt\n",
      "/home/somz/Projects/Hierarchies_to_scale/khepera-simulations/files/data_files/results/pos_communication_congestion_12_80_21.txt\n",
      "/home/somz/Projects/Hierarchies_to_scale/khepera-simulations/files/data_files/results/pos_communication_congestion_12_80_21.txt\n",
      "/home/somz/Projects/Hierarchies_to_scale/khepera-simulations/files/data_files/results/pos_communication_congestion_4_80_22.txt\n",
      "/home/somz/Projects/Hierarchies_to_scale/khepera-simulations/files/data_files/results/pos_communication_congestion_4_80_22.txt\n",
      "/home/somz/Projects/Hierarchies_to_scale/khepera-simulations/files/data_files/results/pos_communication_congestion_8_80_22.txt\n",
      "/home/somz/Projects/Hierarchies_to_scale/khepera-simulations/files/data_files/results/pos_communication_congestion_8_80_22.txt\n",
      "/home/somz/Projects/Hierarchies_to_scale/khepera-simulations/files/data_files/results/pos_communication_congestion_12_80_22.txt\n",
      "/home/somz/Projects/Hierarchies_to_scale/khepera-simulations/files/data_files/results/pos_communication_congestion_12_80_22.txt\n",
      "/home/somz/Projects/Hierarchies_to_scale/khepera-simulations/files/data_files/results/pos_communication_congestion_4_80_23.txt\n",
      "/home/somz/Projects/Hierarchies_to_scale/khepera-simulations/files/data_files/results/pos_communication_congestion_4_80_23.txt\n",
      "/home/somz/Projects/Hierarchies_to_scale/khepera-simulations/files/data_files/results/pos_communication_congestion_8_80_23.txt\n",
      "/home/somz/Projects/Hierarchies_to_scale/khepera-simulations/files/data_files/results/pos_communication_congestion_8_80_23.txt\n",
      "/home/somz/Projects/Hierarchies_to_scale/khepera-simulations/files/data_files/results/pos_communication_congestion_12_80_23.txt\n",
      "/home/somz/Projects/Hierarchies_to_scale/khepera-simulations/files/data_files/results/pos_communication_congestion_12_80_23.txt\n",
      "/home/somz/Projects/Hierarchies_to_scale/khepera-simulations/files/data_files/results/pos_communication_congestion_4_80_24.txt\n",
      "/home/somz/Projects/Hierarchies_to_scale/khepera-simulations/files/data_files/results/pos_communication_congestion_4_80_24.txt\n",
      "/home/somz/Projects/Hierarchies_to_scale/khepera-simulations/files/data_files/results/pos_communication_congestion_8_80_24.txt\n",
      "/home/somz/Projects/Hierarchies_to_scale/khepera-simulations/files/data_files/results/pos_communication_congestion_8_80_24.txt\n",
      "/home/somz/Projects/Hierarchies_to_scale/khepera-simulations/files/data_files/results/pos_communication_congestion_12_80_24.txt\n",
      "/home/somz/Projects/Hierarchies_to_scale/khepera-simulations/files/data_files/results/pos_communication_congestion_12_80_24.txt\n",
      "/home/somz/Projects/Hierarchies_to_scale/khepera-simulations/files/data_files/results/pos_communication_congestion_4_80_25.txt\n",
      "/home/somz/Projects/Hierarchies_to_scale/khepera-simulations/files/data_files/results/pos_communication_congestion_4_80_25.txt\n",
      "/home/somz/Projects/Hierarchies_to_scale/khepera-simulations/files/data_files/results/pos_communication_congestion_8_80_25.txt\n",
      "/home/somz/Projects/Hierarchies_to_scale/khepera-simulations/files/data_files/results/pos_communication_congestion_8_80_25.txt\n",
      "/home/somz/Projects/Hierarchies_to_scale/khepera-simulations/files/data_files/results/pos_communication_congestion_12_80_25.txt\n",
      "/home/somz/Projects/Hierarchies_to_scale/khepera-simulations/files/data_files/results/pos_communication_congestion_12_80_25.txt\n",
      "/home/somz/Projects/Hierarchies_to_scale/khepera-simulations/files/data_files/results/pos_communication_congestion_4_80_26.txt\n",
      "/home/somz/Projects/Hierarchies_to_scale/khepera-simulations/files/data_files/results/pos_communication_congestion_4_80_26.txt\n",
      "/home/somz/Projects/Hierarchies_to_scale/khepera-simulations/files/data_files/results/pos_communication_congestion_8_80_26.txt\n",
      "/home/somz/Projects/Hierarchies_to_scale/khepera-simulations/files/data_files/results/pos_communication_congestion_8_80_26.txt\n",
      "/home/somz/Projects/Hierarchies_to_scale/khepera-simulations/files/data_files/results/pos_communication_congestion_12_80_26.txt\n",
      "/home/somz/Projects/Hierarchies_to_scale/khepera-simulations/files/data_files/results/pos_communication_congestion_12_80_26.txt\n",
      "/home/somz/Projects/Hierarchies_to_scale/khepera-simulations/files/data_files/results/pos_communication_congestion_4_80_27.txt\n",
      "/home/somz/Projects/Hierarchies_to_scale/khepera-simulations/files/data_files/results/pos_communication_congestion_4_80_27.txt\n",
      "/home/somz/Projects/Hierarchies_to_scale/khepera-simulations/files/data_files/results/pos_communication_congestion_8_80_27.txt\n",
      "/home/somz/Projects/Hierarchies_to_scale/khepera-simulations/files/data_files/results/pos_communication_congestion_8_80_27.txt\n",
      "/home/somz/Projects/Hierarchies_to_scale/khepera-simulations/files/data_files/results/pos_communication_congestion_12_80_27.txt\n",
      "/home/somz/Projects/Hierarchies_to_scale/khepera-simulations/files/data_files/results/pos_communication_congestion_12_80_27.txt\n",
      "/home/somz/Projects/Hierarchies_to_scale/khepera-simulations/files/data_files/results/pos_communication_congestion_4_80_28.txt\n",
      "/home/somz/Projects/Hierarchies_to_scale/khepera-simulations/files/data_files/results/pos_communication_congestion_4_80_28.txt\n",
      "/home/somz/Projects/Hierarchies_to_scale/khepera-simulations/files/data_files/results/pos_communication_congestion_8_80_28.txt\n",
      "/home/somz/Projects/Hierarchies_to_scale/khepera-simulations/files/data_files/results/pos_communication_congestion_8_80_28.txt\n",
      "/home/somz/Projects/Hierarchies_to_scale/khepera-simulations/files/data_files/results/pos_communication_congestion_12_80_28.txt\n",
      "/home/somz/Projects/Hierarchies_to_scale/khepera-simulations/files/data_files/results/pos_communication_congestion_12_80_28.txt\n",
      "/home/somz/Projects/Hierarchies_to_scale/khepera-simulations/files/data_files/results/pos_communication_congestion_4_80_29.txt\n",
      "/home/somz/Projects/Hierarchies_to_scale/khepera-simulations/files/data_files/results/pos_communication_congestion_4_80_29.txt\n",
      "/home/somz/Projects/Hierarchies_to_scale/khepera-simulations/files/data_files/results/pos_communication_congestion_8_80_29.txt\n",
      "/home/somz/Projects/Hierarchies_to_scale/khepera-simulations/files/data_files/results/pos_communication_congestion_8_80_29.txt\n",
      "/home/somz/Projects/Hierarchies_to_scale/khepera-simulations/files/data_files/results/pos_communication_congestion_12_80_29.txt\n",
      "/home/somz/Projects/Hierarchies_to_scale/khepera-simulations/files/data_files/results/pos_communication_congestion_12_80_29.txt\n",
      "/home/somz/Projects/Hierarchies_to_scale/khepera-simulations/files/data_files/results/pos_communication_congestion_4_100_0.txt\n",
      "/home/somz/Projects/Hierarchies_to_scale/khepera-simulations/files/data_files/results/pos_communication_congestion_4_100_0.txt\n",
      "/home/somz/Projects/Hierarchies_to_scale/khepera-simulations/files/data_files/results/pos_communication_congestion_8_100_0.txt\n",
      "/home/somz/Projects/Hierarchies_to_scale/khepera-simulations/files/data_files/results/pos_communication_congestion_8_100_0.txt\n",
      "/home/somz/Projects/Hierarchies_to_scale/khepera-simulations/files/data_files/results/pos_communication_congestion_12_100_0.txt\n",
      "/home/somz/Projects/Hierarchies_to_scale/khepera-simulations/files/data_files/results/pos_communication_congestion_12_100_0.txt\n",
      "/home/somz/Projects/Hierarchies_to_scale/khepera-simulations/files/data_files/results/pos_communication_congestion_4_100_1.txt\n",
      "/home/somz/Projects/Hierarchies_to_scale/khepera-simulations/files/data_files/results/pos_communication_congestion_4_100_1.txt\n",
      "/home/somz/Projects/Hierarchies_to_scale/khepera-simulations/files/data_files/results/pos_communication_congestion_8_100_1.txt\n",
      "/home/somz/Projects/Hierarchies_to_scale/khepera-simulations/files/data_files/results/pos_communication_congestion_8_100_1.txt\n",
      "/home/somz/Projects/Hierarchies_to_scale/khepera-simulations/files/data_files/results/pos_communication_congestion_12_100_1.txt\n",
      "/home/somz/Projects/Hierarchies_to_scale/khepera-simulations/files/data_files/results/pos_communication_congestion_12_100_1.txt\n",
      "/home/somz/Projects/Hierarchies_to_scale/khepera-simulations/files/data_files/results/pos_communication_congestion_4_100_2.txt\n",
      "/home/somz/Projects/Hierarchies_to_scale/khepera-simulations/files/data_files/results/pos_communication_congestion_4_100_2.txt\n",
      "/home/somz/Projects/Hierarchies_to_scale/khepera-simulations/files/data_files/results/pos_communication_congestion_8_100_2.txt\n",
      "/home/somz/Projects/Hierarchies_to_scale/khepera-simulations/files/data_files/results/pos_communication_congestion_8_100_2.txt\n",
      "/home/somz/Projects/Hierarchies_to_scale/khepera-simulations/files/data_files/results/pos_communication_congestion_12_100_2.txt\n",
      "/home/somz/Projects/Hierarchies_to_scale/khepera-simulations/files/data_files/results/pos_communication_congestion_12_100_2.txt\n",
      "/home/somz/Projects/Hierarchies_to_scale/khepera-simulations/files/data_files/results/pos_communication_congestion_4_100_3.txt\n",
      "/home/somz/Projects/Hierarchies_to_scale/khepera-simulations/files/data_files/results/pos_communication_congestion_4_100_3.txt\n",
      "/home/somz/Projects/Hierarchies_to_scale/khepera-simulations/files/data_files/results/pos_communication_congestion_8_100_3.txt\n",
      "/home/somz/Projects/Hierarchies_to_scale/khepera-simulations/files/data_files/results/pos_communication_congestion_8_100_3.txt\n",
      "/home/somz/Projects/Hierarchies_to_scale/khepera-simulations/files/data_files/results/pos_communication_congestion_12_100_3.txt\n",
      "/home/somz/Projects/Hierarchies_to_scale/khepera-simulations/files/data_files/results/pos_communication_congestion_12_100_3.txt\n",
      "/home/somz/Projects/Hierarchies_to_scale/khepera-simulations/files/data_files/results/pos_communication_congestion_4_100_4.txt\n",
      "/home/somz/Projects/Hierarchies_to_scale/khepera-simulations/files/data_files/results/pos_communication_congestion_4_100_4.txt\n",
      "/home/somz/Projects/Hierarchies_to_scale/khepera-simulations/files/data_files/results/pos_communication_congestion_8_100_4.txt\n",
      "/home/somz/Projects/Hierarchies_to_scale/khepera-simulations/files/data_files/results/pos_communication_congestion_8_100_4.txt\n",
      "/home/somz/Projects/Hierarchies_to_scale/khepera-simulations/files/data_files/results/pos_communication_congestion_12_100_4.txt\n",
      "/home/somz/Projects/Hierarchies_to_scale/khepera-simulations/files/data_files/results/pos_communication_congestion_12_100_4.txt\n",
      "/home/somz/Projects/Hierarchies_to_scale/khepera-simulations/files/data_files/results/pos_communication_congestion_4_100_5.txt\n",
      "/home/somz/Projects/Hierarchies_to_scale/khepera-simulations/files/data_files/results/pos_communication_congestion_4_100_5.txt\n",
      "/home/somz/Projects/Hierarchies_to_scale/khepera-simulations/files/data_files/results/pos_communication_congestion_8_100_5.txt\n",
      "/home/somz/Projects/Hierarchies_to_scale/khepera-simulations/files/data_files/results/pos_communication_congestion_8_100_5.txt\n",
      "/home/somz/Projects/Hierarchies_to_scale/khepera-simulations/files/data_files/results/pos_communication_congestion_12_100_5.txt\n",
      "/home/somz/Projects/Hierarchies_to_scale/khepera-simulations/files/data_files/results/pos_communication_congestion_12_100_5.txt\n",
      "/home/somz/Projects/Hierarchies_to_scale/khepera-simulations/files/data_files/results/pos_communication_congestion_4_100_6.txt\n",
      "/home/somz/Projects/Hierarchies_to_scale/khepera-simulations/files/data_files/results/pos_communication_congestion_4_100_6.txt\n",
      "/home/somz/Projects/Hierarchies_to_scale/khepera-simulations/files/data_files/results/pos_communication_congestion_8_100_6.txt\n",
      "/home/somz/Projects/Hierarchies_to_scale/khepera-simulations/files/data_files/results/pos_communication_congestion_8_100_6.txt\n",
      "/home/somz/Projects/Hierarchies_to_scale/khepera-simulations/files/data_files/results/pos_communication_congestion_12_100_6.txt\n",
      "/home/somz/Projects/Hierarchies_to_scale/khepera-simulations/files/data_files/results/pos_communication_congestion_12_100_6.txt\n",
      "/home/somz/Projects/Hierarchies_to_scale/khepera-simulations/files/data_files/results/pos_communication_congestion_4_100_7.txt\n",
      "/home/somz/Projects/Hierarchies_to_scale/khepera-simulations/files/data_files/results/pos_communication_congestion_4_100_7.txt\n",
      "/home/somz/Projects/Hierarchies_to_scale/khepera-simulations/files/data_files/results/pos_communication_congestion_8_100_7.txt\n",
      "/home/somz/Projects/Hierarchies_to_scale/khepera-simulations/files/data_files/results/pos_communication_congestion_8_100_7.txt\n",
      "/home/somz/Projects/Hierarchies_to_scale/khepera-simulations/files/data_files/results/pos_communication_congestion_12_100_7.txt\n",
      "/home/somz/Projects/Hierarchies_to_scale/khepera-simulations/files/data_files/results/pos_communication_congestion_12_100_7.txt\n",
      "/home/somz/Projects/Hierarchies_to_scale/khepera-simulations/files/data_files/results/pos_communication_congestion_4_100_8.txt\n",
      "/home/somz/Projects/Hierarchies_to_scale/khepera-simulations/files/data_files/results/pos_communication_congestion_4_100_8.txt\n",
      "/home/somz/Projects/Hierarchies_to_scale/khepera-simulations/files/data_files/results/pos_communication_congestion_8_100_8.txt\n",
      "/home/somz/Projects/Hierarchies_to_scale/khepera-simulations/files/data_files/results/pos_communication_congestion_8_100_8.txt\n",
      "/home/somz/Projects/Hierarchies_to_scale/khepera-simulations/files/data_files/results/pos_communication_congestion_12_100_8.txt\n",
      "/home/somz/Projects/Hierarchies_to_scale/khepera-simulations/files/data_files/results/pos_communication_congestion_12_100_8.txt\n",
      "/home/somz/Projects/Hierarchies_to_scale/khepera-simulations/files/data_files/results/pos_communication_congestion_4_100_9.txt\n",
      "/home/somz/Projects/Hierarchies_to_scale/khepera-simulations/files/data_files/results/pos_communication_congestion_4_100_9.txt\n",
      "/home/somz/Projects/Hierarchies_to_scale/khepera-simulations/files/data_files/results/pos_communication_congestion_8_100_9.txt\n",
      "/home/somz/Projects/Hierarchies_to_scale/khepera-simulations/files/data_files/results/pos_communication_congestion_8_100_9.txt\n",
      "/home/somz/Projects/Hierarchies_to_scale/khepera-simulations/files/data_files/results/pos_communication_congestion_12_100_9.txt\n",
      "/home/somz/Projects/Hierarchies_to_scale/khepera-simulations/files/data_files/results/pos_communication_congestion_12_100_9.txt\n",
      "/home/somz/Projects/Hierarchies_to_scale/khepera-simulations/files/data_files/results/pos_communication_congestion_4_100_10.txt\n",
      "/home/somz/Projects/Hierarchies_to_scale/khepera-simulations/files/data_files/results/pos_communication_congestion_4_100_10.txt\n",
      "/home/somz/Projects/Hierarchies_to_scale/khepera-simulations/files/data_files/results/pos_communication_congestion_8_100_10.txt\n",
      "/home/somz/Projects/Hierarchies_to_scale/khepera-simulations/files/data_files/results/pos_communication_congestion_8_100_10.txt\n",
      "/home/somz/Projects/Hierarchies_to_scale/khepera-simulations/files/data_files/results/pos_communication_congestion_12_100_10.txt\n",
      "/home/somz/Projects/Hierarchies_to_scale/khepera-simulations/files/data_files/results/pos_communication_congestion_12_100_10.txt\n",
      "/home/somz/Projects/Hierarchies_to_scale/khepera-simulations/files/data_files/results/pos_communication_congestion_4_100_11.txt\n",
      "/home/somz/Projects/Hierarchies_to_scale/khepera-simulations/files/data_files/results/pos_communication_congestion_4_100_11.txt\n",
      "/home/somz/Projects/Hierarchies_to_scale/khepera-simulations/files/data_files/results/pos_communication_congestion_8_100_11.txt\n",
      "/home/somz/Projects/Hierarchies_to_scale/khepera-simulations/files/data_files/results/pos_communication_congestion_8_100_11.txt\n",
      "/home/somz/Projects/Hierarchies_to_scale/khepera-simulations/files/data_files/results/pos_communication_congestion_12_100_11.txt\n",
      "/home/somz/Projects/Hierarchies_to_scale/khepera-simulations/files/data_files/results/pos_communication_congestion_12_100_11.txt\n",
      "/home/somz/Projects/Hierarchies_to_scale/khepera-simulations/files/data_files/results/pos_communication_congestion_4_100_12.txt\n",
      "/home/somz/Projects/Hierarchies_to_scale/khepera-simulations/files/data_files/results/pos_communication_congestion_4_100_12.txt\n",
      "/home/somz/Projects/Hierarchies_to_scale/khepera-simulations/files/data_files/results/pos_communication_congestion_8_100_12.txt\n",
      "/home/somz/Projects/Hierarchies_to_scale/khepera-simulations/files/data_files/results/pos_communication_congestion_8_100_12.txt\n",
      "/home/somz/Projects/Hierarchies_to_scale/khepera-simulations/files/data_files/results/pos_communication_congestion_12_100_12.txt\n",
      "/home/somz/Projects/Hierarchies_to_scale/khepera-simulations/files/data_files/results/pos_communication_congestion_12_100_12.txt\n",
      "/home/somz/Projects/Hierarchies_to_scale/khepera-simulations/files/data_files/results/pos_communication_congestion_4_100_13.txt\n",
      "/home/somz/Projects/Hierarchies_to_scale/khepera-simulations/files/data_files/results/pos_communication_congestion_4_100_13.txt\n",
      "/home/somz/Projects/Hierarchies_to_scale/khepera-simulations/files/data_files/results/pos_communication_congestion_8_100_13.txt\n",
      "/home/somz/Projects/Hierarchies_to_scale/khepera-simulations/files/data_files/results/pos_communication_congestion_8_100_13.txt\n",
      "/home/somz/Projects/Hierarchies_to_scale/khepera-simulations/files/data_files/results/pos_communication_congestion_12_100_13.txt\n",
      "/home/somz/Projects/Hierarchies_to_scale/khepera-simulations/files/data_files/results/pos_communication_congestion_12_100_13.txt\n",
      "/home/somz/Projects/Hierarchies_to_scale/khepera-simulations/files/data_files/results/pos_communication_congestion_4_100_14.txt\n",
      "/home/somz/Projects/Hierarchies_to_scale/khepera-simulations/files/data_files/results/pos_communication_congestion_4_100_14.txt\n",
      "/home/somz/Projects/Hierarchies_to_scale/khepera-simulations/files/data_files/results/pos_communication_congestion_8_100_14.txt\n",
      "/home/somz/Projects/Hierarchies_to_scale/khepera-simulations/files/data_files/results/pos_communication_congestion_8_100_14.txt\n",
      "/home/somz/Projects/Hierarchies_to_scale/khepera-simulations/files/data_files/results/pos_communication_congestion_12_100_14.txt\n",
      "/home/somz/Projects/Hierarchies_to_scale/khepera-simulations/files/data_files/results/pos_communication_congestion_12_100_14.txt\n",
      "/home/somz/Projects/Hierarchies_to_scale/khepera-simulations/files/data_files/results/pos_communication_congestion_4_100_15.txt\n",
      "/home/somz/Projects/Hierarchies_to_scale/khepera-simulations/files/data_files/results/pos_communication_congestion_4_100_15.txt\n",
      "/home/somz/Projects/Hierarchies_to_scale/khepera-simulations/files/data_files/results/pos_communication_congestion_8_100_15.txt\n",
      "/home/somz/Projects/Hierarchies_to_scale/khepera-simulations/files/data_files/results/pos_communication_congestion_8_100_15.txt\n",
      "/home/somz/Projects/Hierarchies_to_scale/khepera-simulations/files/data_files/results/pos_communication_congestion_12_100_15.txt\n",
      "/home/somz/Projects/Hierarchies_to_scale/khepera-simulations/files/data_files/results/pos_communication_congestion_12_100_15.txt\n",
      "/home/somz/Projects/Hierarchies_to_scale/khepera-simulations/files/data_files/results/pos_communication_congestion_4_100_16.txt\n",
      "/home/somz/Projects/Hierarchies_to_scale/khepera-simulations/files/data_files/results/pos_communication_congestion_4_100_16.txt\n",
      "/home/somz/Projects/Hierarchies_to_scale/khepera-simulations/files/data_files/results/pos_communication_congestion_8_100_16.txt\n",
      "/home/somz/Projects/Hierarchies_to_scale/khepera-simulations/files/data_files/results/pos_communication_congestion_8_100_16.txt\n",
      "/home/somz/Projects/Hierarchies_to_scale/khepera-simulations/files/data_files/results/pos_communication_congestion_12_100_16.txt\n",
      "/home/somz/Projects/Hierarchies_to_scale/khepera-simulations/files/data_files/results/pos_communication_congestion_12_100_16.txt\n",
      "/home/somz/Projects/Hierarchies_to_scale/khepera-simulations/files/data_files/results/pos_communication_congestion_4_100_17.txt\n",
      "/home/somz/Projects/Hierarchies_to_scale/khepera-simulations/files/data_files/results/pos_communication_congestion_4_100_17.txt\n",
      "/home/somz/Projects/Hierarchies_to_scale/khepera-simulations/files/data_files/results/pos_communication_congestion_8_100_17.txt\n",
      "/home/somz/Projects/Hierarchies_to_scale/khepera-simulations/files/data_files/results/pos_communication_congestion_8_100_17.txt\n",
      "/home/somz/Projects/Hierarchies_to_scale/khepera-simulations/files/data_files/results/pos_communication_congestion_12_100_17.txt\n",
      "/home/somz/Projects/Hierarchies_to_scale/khepera-simulations/files/data_files/results/pos_communication_congestion_12_100_17.txt\n",
      "/home/somz/Projects/Hierarchies_to_scale/khepera-simulations/files/data_files/results/pos_communication_congestion_4_100_18.txt\n",
      "/home/somz/Projects/Hierarchies_to_scale/khepera-simulations/files/data_files/results/pos_communication_congestion_4_100_18.txt\n",
      "/home/somz/Projects/Hierarchies_to_scale/khepera-simulations/files/data_files/results/pos_communication_congestion_8_100_18.txt\n",
      "/home/somz/Projects/Hierarchies_to_scale/khepera-simulations/files/data_files/results/pos_communication_congestion_8_100_18.txt\n",
      "/home/somz/Projects/Hierarchies_to_scale/khepera-simulations/files/data_files/results/pos_communication_congestion_12_100_18.txt\n",
      "/home/somz/Projects/Hierarchies_to_scale/khepera-simulations/files/data_files/results/pos_communication_congestion_12_100_18.txt\n",
      "/home/somz/Projects/Hierarchies_to_scale/khepera-simulations/files/data_files/results/pos_communication_congestion_4_100_19.txt\n",
      "/home/somz/Projects/Hierarchies_to_scale/khepera-simulations/files/data_files/results/pos_communication_congestion_4_100_19.txt\n",
      "/home/somz/Projects/Hierarchies_to_scale/khepera-simulations/files/data_files/results/pos_communication_congestion_8_100_19.txt\n",
      "/home/somz/Projects/Hierarchies_to_scale/khepera-simulations/files/data_files/results/pos_communication_congestion_8_100_19.txt\n",
      "/home/somz/Projects/Hierarchies_to_scale/khepera-simulations/files/data_files/results/pos_communication_congestion_12_100_19.txt\n",
      "/home/somz/Projects/Hierarchies_to_scale/khepera-simulations/files/data_files/results/pos_communication_congestion_12_100_19.txt\n",
      "/home/somz/Projects/Hierarchies_to_scale/khepera-simulations/files/data_files/results/pos_communication_congestion_4_100_20.txt\n",
      "/home/somz/Projects/Hierarchies_to_scale/khepera-simulations/files/data_files/results/pos_communication_congestion_4_100_20.txt\n",
      "/home/somz/Projects/Hierarchies_to_scale/khepera-simulations/files/data_files/results/pos_communication_congestion_8_100_20.txt\n",
      "/home/somz/Projects/Hierarchies_to_scale/khepera-simulations/files/data_files/results/pos_communication_congestion_8_100_20.txt\n",
      "/home/somz/Projects/Hierarchies_to_scale/khepera-simulations/files/data_files/results/pos_communication_congestion_12_100_20.txt\n",
      "/home/somz/Projects/Hierarchies_to_scale/khepera-simulations/files/data_files/results/pos_communication_congestion_12_100_20.txt\n",
      "/home/somz/Projects/Hierarchies_to_scale/khepera-simulations/files/data_files/results/pos_communication_congestion_4_100_21.txt\n",
      "/home/somz/Projects/Hierarchies_to_scale/khepera-simulations/files/data_files/results/pos_communication_congestion_4_100_21.txt\n",
      "/home/somz/Projects/Hierarchies_to_scale/khepera-simulations/files/data_files/results/pos_communication_congestion_8_100_21.txt\n",
      "/home/somz/Projects/Hierarchies_to_scale/khepera-simulations/files/data_files/results/pos_communication_congestion_8_100_21.txt\n",
      "/home/somz/Projects/Hierarchies_to_scale/khepera-simulations/files/data_files/results/pos_communication_congestion_12_100_21.txt\n",
      "/home/somz/Projects/Hierarchies_to_scale/khepera-simulations/files/data_files/results/pos_communication_congestion_12_100_21.txt\n",
      "/home/somz/Projects/Hierarchies_to_scale/khepera-simulations/files/data_files/results/pos_communication_congestion_4_100_22.txt\n",
      "/home/somz/Projects/Hierarchies_to_scale/khepera-simulations/files/data_files/results/pos_communication_congestion_4_100_22.txt\n",
      "/home/somz/Projects/Hierarchies_to_scale/khepera-simulations/files/data_files/results/pos_communication_congestion_8_100_22.txt\n",
      "/home/somz/Projects/Hierarchies_to_scale/khepera-simulations/files/data_files/results/pos_communication_congestion_8_100_22.txt\n",
      "/home/somz/Projects/Hierarchies_to_scale/khepera-simulations/files/data_files/results/pos_communication_congestion_12_100_22.txt\n",
      "/home/somz/Projects/Hierarchies_to_scale/khepera-simulations/files/data_files/results/pos_communication_congestion_12_100_22.txt\n",
      "/home/somz/Projects/Hierarchies_to_scale/khepera-simulations/files/data_files/results/pos_communication_congestion_4_100_23.txt\n",
      "/home/somz/Projects/Hierarchies_to_scale/khepera-simulations/files/data_files/results/pos_communication_congestion_4_100_23.txt\n",
      "/home/somz/Projects/Hierarchies_to_scale/khepera-simulations/files/data_files/results/pos_communication_congestion_8_100_23.txt\n",
      "/home/somz/Projects/Hierarchies_to_scale/khepera-simulations/files/data_files/results/pos_communication_congestion_8_100_23.txt\n",
      "/home/somz/Projects/Hierarchies_to_scale/khepera-simulations/files/data_files/results/pos_communication_congestion_12_100_23.txt\n",
      "/home/somz/Projects/Hierarchies_to_scale/khepera-simulations/files/data_files/results/pos_communication_congestion_12_100_23.txt\n",
      "/home/somz/Projects/Hierarchies_to_scale/khepera-simulations/files/data_files/results/pos_communication_congestion_4_100_24.txt\n",
      "/home/somz/Projects/Hierarchies_to_scale/khepera-simulations/files/data_files/results/pos_communication_congestion_4_100_24.txt\n",
      "/home/somz/Projects/Hierarchies_to_scale/khepera-simulations/files/data_files/results/pos_communication_congestion_8_100_24.txt\n",
      "/home/somz/Projects/Hierarchies_to_scale/khepera-simulations/files/data_files/results/pos_communication_congestion_8_100_24.txt\n",
      "/home/somz/Projects/Hierarchies_to_scale/khepera-simulations/files/data_files/results/pos_communication_congestion_12_100_24.txt\n",
      "/home/somz/Projects/Hierarchies_to_scale/khepera-simulations/files/data_files/results/pos_communication_congestion_12_100_24.txt\n",
      "/home/somz/Projects/Hierarchies_to_scale/khepera-simulations/files/data_files/results/pos_communication_congestion_4_100_25.txt\n",
      "/home/somz/Projects/Hierarchies_to_scale/khepera-simulations/files/data_files/results/pos_communication_congestion_4_100_25.txt\n",
      "/home/somz/Projects/Hierarchies_to_scale/khepera-simulations/files/data_files/results/pos_communication_congestion_8_100_25.txt\n",
      "/home/somz/Projects/Hierarchies_to_scale/khepera-simulations/files/data_files/results/pos_communication_congestion_8_100_25.txt\n",
      "/home/somz/Projects/Hierarchies_to_scale/khepera-simulations/files/data_files/results/pos_communication_congestion_12_100_25.txt\n",
      "/home/somz/Projects/Hierarchies_to_scale/khepera-simulations/files/data_files/results/pos_communication_congestion_12_100_25.txt\n",
      "/home/somz/Projects/Hierarchies_to_scale/khepera-simulations/files/data_files/results/pos_communication_congestion_4_100_26.txt\n",
      "/home/somz/Projects/Hierarchies_to_scale/khepera-simulations/files/data_files/results/pos_communication_congestion_4_100_26.txt\n",
      "/home/somz/Projects/Hierarchies_to_scale/khepera-simulations/files/data_files/results/pos_communication_congestion_8_100_26.txt\n",
      "/home/somz/Projects/Hierarchies_to_scale/khepera-simulations/files/data_files/results/pos_communication_congestion_8_100_26.txt\n",
      "/home/somz/Projects/Hierarchies_to_scale/khepera-simulations/files/data_files/results/pos_communication_congestion_12_100_26.txt\n",
      "/home/somz/Projects/Hierarchies_to_scale/khepera-simulations/files/data_files/results/pos_communication_congestion_12_100_26.txt\n",
      "/home/somz/Projects/Hierarchies_to_scale/khepera-simulations/files/data_files/results/pos_communication_congestion_4_100_27.txt\n",
      "/home/somz/Projects/Hierarchies_to_scale/khepera-simulations/files/data_files/results/pos_communication_congestion_4_100_27.txt\n",
      "/home/somz/Projects/Hierarchies_to_scale/khepera-simulations/files/data_files/results/pos_communication_congestion_8_100_27.txt\n",
      "/home/somz/Projects/Hierarchies_to_scale/khepera-simulations/files/data_files/results/pos_communication_congestion_8_100_27.txt\n",
      "/home/somz/Projects/Hierarchies_to_scale/khepera-simulations/files/data_files/results/pos_communication_congestion_12_100_27.txt\n",
      "/home/somz/Projects/Hierarchies_to_scale/khepera-simulations/files/data_files/results/pos_communication_congestion_12_100_27.txt\n",
      "/home/somz/Projects/Hierarchies_to_scale/khepera-simulations/files/data_files/results/pos_communication_congestion_4_100_28.txt\n",
      "/home/somz/Projects/Hierarchies_to_scale/khepera-simulations/files/data_files/results/pos_communication_congestion_4_100_28.txt\n",
      "/home/somz/Projects/Hierarchies_to_scale/khepera-simulations/files/data_files/results/pos_communication_congestion_8_100_28.txt\n",
      "/home/somz/Projects/Hierarchies_to_scale/khepera-simulations/files/data_files/results/pos_communication_congestion_8_100_28.txt\n",
      "/home/somz/Projects/Hierarchies_to_scale/khepera-simulations/files/data_files/results/pos_communication_congestion_12_100_28.txt\n",
      "/home/somz/Projects/Hierarchies_to_scale/khepera-simulations/files/data_files/results/pos_communication_congestion_12_100_28.txt\n",
      "/home/somz/Projects/Hierarchies_to_scale/khepera-simulations/files/data_files/results/pos_communication_congestion_4_100_29.txt\n",
      "/home/somz/Projects/Hierarchies_to_scale/khepera-simulations/files/data_files/results/pos_communication_congestion_4_100_29.txt\n",
      "/home/somz/Projects/Hierarchies_to_scale/khepera-simulations/files/data_files/results/pos_communication_congestion_8_100_29.txt\n",
      "/home/somz/Projects/Hierarchies_to_scale/khepera-simulations/files/data_files/results/pos_communication_congestion_8_100_29.txt\n",
      "/home/somz/Projects/Hierarchies_to_scale/khepera-simulations/files/data_files/results/pos_communication_congestion_12_100_29.txt\n",
      "/home/somz/Projects/Hierarchies_to_scale/khepera-simulations/files/data_files/results/pos_communication_congestion_12_100_29.txt\n"
     ]
    },
    {
     "data": {
      "text/plain": [
       "<Figure size 396x342 with 0 Axes>"
      ]
     },
     "metadata": {},
     "output_type": "display_data"
    },
    {
     "data": {
      "text/plain": [
       "<Figure size 396x342 with 0 Axes>"
      ]
     },
     "metadata": {},
     "output_type": "display_data"
    },
    {
     "data": {
      "text/plain": [
       "<Figure size 396x342 with 0 Axes>"
      ]
     },
     "metadata": {},
     "output_type": "display_data"
    },
    {
     "data": {
      "text/plain": [
       "<Figure size 396x342 with 0 Axes>"
      ]
     },
     "metadata": {},
     "output_type": "display_data"
    },
    {
     "data": {
      "text/plain": [
       "<Figure size 396x342 with 0 Axes>"
      ]
     },
     "metadata": {},
     "output_type": "display_data"
    },
    {
     "data": {
      "text/plain": [
       "<Figure size 396x342 with 0 Axes>"
      ]
     },
     "metadata": {},
     "output_type": "display_data"
    },
    {
     "data": {
      "text/plain": [
       "<Figure size 396x342 with 0 Axes>"
      ]
     },
     "metadata": {},
     "output_type": "display_data"
    },
    {
     "data": {
      "text/plain": [
       "<Figure size 396x342 with 0 Axes>"
      ]
     },
     "metadata": {},
     "output_type": "display_data"
    },
    {
     "data": {
      "text/plain": [
       "<Figure size 396x342 with 0 Axes>"
      ]
     },
     "metadata": {},
     "output_type": "display_data"
    },
    {
     "data": {
      "text/plain": [
       "<Figure size 396x342 with 0 Axes>"
      ]
     },
     "metadata": {},
     "output_type": "display_data"
    },
    {
     "data": {
      "text/plain": [
       "<Figure size 396x342 with 0 Axes>"
      ]
     },
     "metadata": {},
     "output_type": "display_data"
    },
    {
     "data": {
      "text/plain": [
       "<Figure size 396x342 with 0 Axes>"
      ]
     },
     "metadata": {},
     "output_type": "display_data"
    },
    {
     "data": {
      "text/plain": [
       "<Figure size 396x342 with 0 Axes>"
      ]
     },
     "metadata": {},
     "output_type": "display_data"
    },
    {
     "data": {
      "text/plain": [
       "<Figure size 396x342 with 0 Axes>"
      ]
     },
     "metadata": {},
     "output_type": "display_data"
    },
    {
     "data": {
      "text/plain": [
       "<Figure size 396x342 with 0 Axes>"
      ]
     },
     "metadata": {},
     "output_type": "display_data"
    },
    {
     "data": {
      "text/plain": [
       "<Figure size 396x342 with 0 Axes>"
      ]
     },
     "metadata": {},
     "output_type": "display_data"
    },
    {
     "data": {
      "text/plain": [
       "<Figure size 396x342 with 0 Axes>"
      ]
     },
     "metadata": {},
     "output_type": "display_data"
    },
    {
     "data": {
      "text/plain": [
       "<Figure size 396x342 with 0 Axes>"
      ]
     },
     "metadata": {},
     "output_type": "display_data"
    },
    {
     "data": {
      "text/plain": [
       "<Figure size 396x342 with 0 Axes>"
      ]
     },
     "metadata": {},
     "output_type": "display_data"
    },
    {
     "data": {
      "text/plain": [
       "<Figure size 396x342 with 0 Axes>"
      ]
     },
     "metadata": {},
     "output_type": "display_data"
    },
    {
     "data": {
      "text/plain": [
       "<Figure size 396x342 with 0 Axes>"
      ]
     },
     "metadata": {},
     "output_type": "display_data"
    },
    {
     "data": {
      "text/plain": [
       "<Figure size 396x342 with 0 Axes>"
      ]
     },
     "metadata": {},
     "output_type": "display_data"
    },
    {
     "data": {
      "text/plain": [
       "<Figure size 396x342 with 0 Axes>"
      ]
     },
     "metadata": {},
     "output_type": "display_data"
    },
    {
     "data": {
      "text/plain": [
       "<Figure size 396x342 with 0 Axes>"
      ]
     },
     "metadata": {},
     "output_type": "display_data"
    },
    {
     "data": {
      "text/plain": [
       "<Figure size 396x342 with 0 Axes>"
      ]
     },
     "metadata": {},
     "output_type": "display_data"
    },
    {
     "data": {
      "text/plain": [
       "<Figure size 396x342 with 0 Axes>"
      ]
     },
     "metadata": {},
     "output_type": "display_data"
    },
    {
     "data": {
      "text/plain": [
       "<Figure size 396x342 with 0 Axes>"
      ]
     },
     "metadata": {},
     "output_type": "display_data"
    },
    {
     "data": {
      "text/plain": [
       "<Figure size 396x342 with 0 Axes>"
      ]
     },
     "metadata": {},
     "output_type": "display_data"
    },
    {
     "data": {
      "text/plain": [
       "<Figure size 396x342 with 0 Axes>"
      ]
     },
     "metadata": {},
     "output_type": "display_data"
    },
    {
     "data": {
      "text/plain": [
       "<Figure size 396x342 with 0 Axes>"
      ]
     },
     "metadata": {},
     "output_type": "display_data"
    },
    {
     "data": {
      "text/plain": [
       "<Figure size 396x342 with 0 Axes>"
      ]
     },
     "metadata": {},
     "output_type": "display_data"
    },
    {
     "data": {
      "text/plain": [
       "<Figure size 396x342 with 0 Axes>"
      ]
     },
     "metadata": {},
     "output_type": "display_data"
    },
    {
     "data": {
      "text/plain": [
       "<Figure size 396x342 with 0 Axes>"
      ]
     },
     "metadata": {},
     "output_type": "display_data"
    },
    {
     "data": {
      "text/plain": [
       "<Figure size 396x342 with 0 Axes>"
      ]
     },
     "metadata": {},
     "output_type": "display_data"
    },
    {
     "data": {
      "text/plain": [
       "<Figure size 396x342 with 0 Axes>"
      ]
     },
     "metadata": {},
     "output_type": "display_data"
    },
    {
     "data": {
      "text/plain": [
       "<Figure size 396x342 with 0 Axes>"
      ]
     },
     "metadata": {},
     "output_type": "display_data"
    },
    {
     "data": {
      "text/plain": [
       "<Figure size 396x342 with 0 Axes>"
      ]
     },
     "metadata": {},
     "output_type": "display_data"
    },
    {
     "data": {
      "text/plain": [
       "<Figure size 396x342 with 0 Axes>"
      ]
     },
     "metadata": {},
     "output_type": "display_data"
    },
    {
     "data": {
      "text/plain": [
       "<Figure size 396x342 with 0 Axes>"
      ]
     },
     "metadata": {},
     "output_type": "display_data"
    },
    {
     "data": {
      "text/plain": [
       "<Figure size 396x342 with 0 Axes>"
      ]
     },
     "metadata": {},
     "output_type": "display_data"
    },
    {
     "data": {
      "text/plain": [
       "<Figure size 396x342 with 0 Axes>"
      ]
     },
     "metadata": {},
     "output_type": "display_data"
    },
    {
     "data": {
      "text/plain": [
       "<Figure size 396x342 with 0 Axes>"
      ]
     },
     "metadata": {},
     "output_type": "display_data"
    },
    {
     "data": {
      "text/plain": [
       "<Figure size 396x342 with 0 Axes>"
      ]
     },
     "metadata": {},
     "output_type": "display_data"
    },
    {
     "data": {
      "text/plain": [
       "<Figure size 396x342 with 0 Axes>"
      ]
     },
     "metadata": {},
     "output_type": "display_data"
    },
    {
     "data": {
      "text/plain": [
       "<Figure size 396x342 with 0 Axes>"
      ]
     },
     "metadata": {},
     "output_type": "display_data"
    },
    {
     "data": {
      "text/plain": [
       "<Figure size 396x342 with 0 Axes>"
      ]
     },
     "metadata": {},
     "output_type": "display_data"
    },
    {
     "data": {
      "text/plain": [
       "<Figure size 396x342 with 0 Axes>"
      ]
     },
     "metadata": {},
     "output_type": "display_data"
    },
    {
     "data": {
      "text/plain": [
       "<Figure size 396x342 with 0 Axes>"
      ]
     },
     "metadata": {},
     "output_type": "display_data"
    },
    {
     "data": {
      "text/plain": [
       "<Figure size 396x342 with 0 Axes>"
      ]
     },
     "metadata": {},
     "output_type": "display_data"
    },
    {
     "data": {
      "text/plain": [
       "<Figure size 396x342 with 0 Axes>"
      ]
     },
     "metadata": {},
     "output_type": "display_data"
    },
    {
     "data": {
      "text/plain": [
       "<Figure size 396x342 with 0 Axes>"
      ]
     },
     "metadata": {},
     "output_type": "display_data"
    },
    {
     "data": {
      "text/plain": [
       "<Figure size 396x342 with 0 Axes>"
      ]
     },
     "metadata": {},
     "output_type": "display_data"
    },
    {
     "data": {
      "text/plain": [
       "<Figure size 396x342 with 0 Axes>"
      ]
     },
     "metadata": {},
     "output_type": "display_data"
    },
    {
     "data": {
      "text/plain": [
       "<Figure size 396x342 with 0 Axes>"
      ]
     },
     "metadata": {},
     "output_type": "display_data"
    },
    {
     "data": {
      "text/plain": [
       "<Figure size 396x342 with 0 Axes>"
      ]
     },
     "metadata": {},
     "output_type": "display_data"
    },
    {
     "data": {
      "text/plain": [
       "<Figure size 396x342 with 0 Axes>"
      ]
     },
     "metadata": {},
     "output_type": "display_data"
    },
    {
     "data": {
      "text/plain": [
       "<Figure size 396x342 with 0 Axes>"
      ]
     },
     "metadata": {},
     "output_type": "display_data"
    },
    {
     "data": {
      "text/plain": [
       "<Figure size 396x342 with 0 Axes>"
      ]
     },
     "metadata": {},
     "output_type": "display_data"
    },
    {
     "data": {
      "text/plain": [
       "<Figure size 396x342 with 0 Axes>"
      ]
     },
     "metadata": {},
     "output_type": "display_data"
    },
    {
     "data": {
      "text/plain": [
       "<Figure size 396x342 with 0 Axes>"
      ]
     },
     "metadata": {},
     "output_type": "display_data"
    },
    {
     "data": {
      "text/plain": [
       "<Figure size 396x342 with 0 Axes>"
      ]
     },
     "metadata": {},
     "output_type": "display_data"
    },
    {
     "data": {
      "text/plain": [
       "<Figure size 396x342 with 0 Axes>"
      ]
     },
     "metadata": {},
     "output_type": "display_data"
    },
    {
     "data": {
      "text/plain": [
       "<Figure size 396x342 with 0 Axes>"
      ]
     },
     "metadata": {},
     "output_type": "display_data"
    },
    {
     "data": {
      "text/plain": [
       "<Figure size 396x342 with 0 Axes>"
      ]
     },
     "metadata": {},
     "output_type": "display_data"
    },
    {
     "data": {
      "text/plain": [
       "<Figure size 396x342 with 0 Axes>"
      ]
     },
     "metadata": {},
     "output_type": "display_data"
    },
    {
     "data": {
      "text/plain": [
       "<Figure size 396x342 with 0 Axes>"
      ]
     },
     "metadata": {},
     "output_type": "display_data"
    },
    {
     "data": {
      "text/plain": [
       "<Figure size 396x342 with 0 Axes>"
      ]
     },
     "metadata": {},
     "output_type": "display_data"
    },
    {
     "data": {
      "text/plain": [
       "<Figure size 396x342 with 0 Axes>"
      ]
     },
     "metadata": {},
     "output_type": "display_data"
    },
    {
     "data": {
      "text/plain": [
       "<Figure size 396x342 with 0 Axes>"
      ]
     },
     "metadata": {},
     "output_type": "display_data"
    },
    {
     "data": {
      "text/plain": [
       "<Figure size 396x342 with 0 Axes>"
      ]
     },
     "metadata": {},
     "output_type": "display_data"
    },
    {
     "data": {
      "text/plain": [
       "<Figure size 396x342 with 0 Axes>"
      ]
     },
     "metadata": {},
     "output_type": "display_data"
    },
    {
     "data": {
      "text/plain": [
       "<Figure size 396x342 with 0 Axes>"
      ]
     },
     "metadata": {},
     "output_type": "display_data"
    },
    {
     "data": {
      "text/plain": [
       "<Figure size 396x342 with 0 Axes>"
      ]
     },
     "metadata": {},
     "output_type": "display_data"
    },
    {
     "data": {
      "text/plain": [
       "<Figure size 396x342 with 0 Axes>"
      ]
     },
     "metadata": {},
     "output_type": "display_data"
    },
    {
     "data": {
      "text/plain": [
       "<Figure size 396x342 with 0 Axes>"
      ]
     },
     "metadata": {},
     "output_type": "display_data"
    },
    {
     "data": {
      "text/plain": [
       "<Figure size 396x342 with 0 Axes>"
      ]
     },
     "metadata": {},
     "output_type": "display_data"
    },
    {
     "data": {
      "text/plain": [
       "<Figure size 396x342 with 0 Axes>"
      ]
     },
     "metadata": {},
     "output_type": "display_data"
    },
    {
     "data": {
      "text/plain": [
       "<Figure size 396x342 with 0 Axes>"
      ]
     },
     "metadata": {},
     "output_type": "display_data"
    },
    {
     "data": {
      "text/plain": [
       "<Figure size 396x342 with 0 Axes>"
      ]
     },
     "metadata": {},
     "output_type": "display_data"
    },
    {
     "data": {
      "text/plain": [
       "<Figure size 396x342 with 0 Axes>"
      ]
     },
     "metadata": {},
     "output_type": "display_data"
    },
    {
     "data": {
      "text/plain": [
       "<Figure size 396x342 with 0 Axes>"
      ]
     },
     "metadata": {},
     "output_type": "display_data"
    },
    {
     "data": {
      "text/plain": [
       "<Figure size 396x342 with 0 Axes>"
      ]
     },
     "metadata": {},
     "output_type": "display_data"
    },
    {
     "data": {
      "text/plain": [
       "<Figure size 396x342 with 0 Axes>"
      ]
     },
     "metadata": {},
     "output_type": "display_data"
    },
    {
     "data": {
      "text/plain": [
       "<Figure size 396x342 with 0 Axes>"
      ]
     },
     "metadata": {},
     "output_type": "display_data"
    },
    {
     "data": {
      "text/plain": [
       "<Figure size 396x342 with 0 Axes>"
      ]
     },
     "metadata": {},
     "output_type": "display_data"
    },
    {
     "data": {
      "text/plain": [
       "<Figure size 396x342 with 0 Axes>"
      ]
     },
     "metadata": {},
     "output_type": "display_data"
    },
    {
     "data": {
      "text/plain": [
       "<Figure size 396x342 with 0 Axes>"
      ]
     },
     "metadata": {},
     "output_type": "display_data"
    },
    {
     "data": {
      "text/plain": [
       "<Figure size 396x342 with 0 Axes>"
      ]
     },
     "metadata": {},
     "output_type": "display_data"
    },
    {
     "data": {
      "text/plain": [
       "<Figure size 396x342 with 0 Axes>"
      ]
     },
     "metadata": {},
     "output_type": "display_data"
    },
    {
     "data": {
      "text/plain": [
       "<Figure size 396x342 with 0 Axes>"
      ]
     },
     "metadata": {},
     "output_type": "display_data"
    },
    {
     "data": {
      "text/plain": [
       "<Figure size 396x342 with 0 Axes>"
      ]
     },
     "metadata": {},
     "output_type": "display_data"
    },
    {
     "data": {
      "text/plain": [
       "<Figure size 396x342 with 0 Axes>"
      ]
     },
     "metadata": {},
     "output_type": "display_data"
    },
    {
     "data": {
      "text/plain": [
       "<Figure size 396x342 with 0 Axes>"
      ]
     },
     "metadata": {},
     "output_type": "display_data"
    },
    {
     "data": {
      "text/plain": [
       "<Figure size 396x342 with 0 Axes>"
      ]
     },
     "metadata": {},
     "output_type": "display_data"
    },
    {
     "data": {
      "text/plain": [
       "<Figure size 396x342 with 0 Axes>"
      ]
     },
     "metadata": {},
     "output_type": "display_data"
    },
    {
     "data": {
      "text/plain": [
       "<Figure size 396x342 with 0 Axes>"
      ]
     },
     "metadata": {},
     "output_type": "display_data"
    },
    {
     "data": {
      "text/plain": [
       "<Figure size 396x342 with 0 Axes>"
      ]
     },
     "metadata": {},
     "output_type": "display_data"
    },
    {
     "data": {
      "text/plain": [
       "<Figure size 396x342 with 0 Axes>"
      ]
     },
     "metadata": {},
     "output_type": "display_data"
    },
    {
     "data": {
      "text/plain": [
       "<Figure size 396x342 with 0 Axes>"
      ]
     },
     "metadata": {},
     "output_type": "display_data"
    },
    {
     "data": {
      "text/plain": [
       "<Figure size 396x342 with 0 Axes>"
      ]
     },
     "metadata": {},
     "output_type": "display_data"
    },
    {
     "data": {
      "text/plain": [
       "<Figure size 396x342 with 0 Axes>"
      ]
     },
     "metadata": {},
     "output_type": "display_data"
    },
    {
     "data": {
      "text/plain": [
       "<Figure size 396x342 with 0 Axes>"
      ]
     },
     "metadata": {},
     "output_type": "display_data"
    },
    {
     "data": {
      "text/plain": [
       "<Figure size 396x342 with 0 Axes>"
      ]
     },
     "metadata": {},
     "output_type": "display_data"
    },
    {
     "data": {
      "text/plain": [
       "<Figure size 396x342 with 0 Axes>"
      ]
     },
     "metadata": {},
     "output_type": "display_data"
    },
    {
     "data": {
      "text/plain": [
       "<Figure size 396x342 with 0 Axes>"
      ]
     },
     "metadata": {},
     "output_type": "display_data"
    },
    {
     "data": {
      "text/plain": [
       "<Figure size 396x342 with 0 Axes>"
      ]
     },
     "metadata": {},
     "output_type": "display_data"
    },
    {
     "data": {
      "text/plain": [
       "<Figure size 396x342 with 0 Axes>"
      ]
     },
     "metadata": {},
     "output_type": "display_data"
    },
    {
     "data": {
      "text/plain": [
       "<Figure size 396x342 with 0 Axes>"
      ]
     },
     "metadata": {},
     "output_type": "display_data"
    },
    {
     "data": {
      "text/plain": [
       "<Figure size 396x342 with 0 Axes>"
      ]
     },
     "metadata": {},
     "output_type": "display_data"
    },
    {
     "data": {
      "text/plain": [
       "<Figure size 396x342 with 0 Axes>"
      ]
     },
     "metadata": {},
     "output_type": "display_data"
    },
    {
     "data": {
      "text/plain": [
       "<Figure size 396x342 with 0 Axes>"
      ]
     },
     "metadata": {},
     "output_type": "display_data"
    },
    {
     "data": {
      "text/plain": [
       "<Figure size 396x342 with 0 Axes>"
      ]
     },
     "metadata": {},
     "output_type": "display_data"
    },
    {
     "data": {
      "text/plain": [
       "<Figure size 396x342 with 0 Axes>"
      ]
     },
     "metadata": {},
     "output_type": "display_data"
    },
    {
     "data": {
      "text/plain": [
       "<Figure size 396x342 with 0 Axes>"
      ]
     },
     "metadata": {},
     "output_type": "display_data"
    },
    {
     "data": {
      "text/plain": [
       "<Figure size 396x342 with 0 Axes>"
      ]
     },
     "metadata": {},
     "output_type": "display_data"
    },
    {
     "data": {
      "text/plain": [
       "<Figure size 396x342 with 0 Axes>"
      ]
     },
     "metadata": {},
     "output_type": "display_data"
    },
    {
     "data": {
      "text/plain": [
       "<Figure size 396x342 with 0 Axes>"
      ]
     },
     "metadata": {},
     "output_type": "display_data"
    },
    {
     "data": {
      "text/plain": [
       "<Figure size 396x342 with 0 Axes>"
      ]
     },
     "metadata": {},
     "output_type": "display_data"
    },
    {
     "data": {
      "text/plain": [
       "<Figure size 396x342 with 0 Axes>"
      ]
     },
     "metadata": {},
     "output_type": "display_data"
    },
    {
     "data": {
      "text/plain": [
       "<Figure size 396x342 with 0 Axes>"
      ]
     },
     "metadata": {},
     "output_type": "display_data"
    },
    {
     "data": {
      "text/plain": [
       "<Figure size 396x342 with 0 Axes>"
      ]
     },
     "metadata": {},
     "output_type": "display_data"
    },
    {
     "data": {
      "text/plain": [
       "<Figure size 396x342 with 0 Axes>"
      ]
     },
     "metadata": {},
     "output_type": "display_data"
    },
    {
     "data": {
      "text/plain": [
       "<Figure size 396x342 with 0 Axes>"
      ]
     },
     "metadata": {},
     "output_type": "display_data"
    },
    {
     "data": {
      "text/plain": [
       "<Figure size 396x342 with 0 Axes>"
      ]
     },
     "metadata": {},
     "output_type": "display_data"
    },
    {
     "data": {
      "text/plain": [
       "<Figure size 396x342 with 0 Axes>"
      ]
     },
     "metadata": {},
     "output_type": "display_data"
    },
    {
     "data": {
      "text/plain": [
       "<Figure size 396x342 with 0 Axes>"
      ]
     },
     "metadata": {},
     "output_type": "display_data"
    },
    {
     "data": {
      "text/plain": [
       "<Figure size 396x342 with 0 Axes>"
      ]
     },
     "metadata": {},
     "output_type": "display_data"
    },
    {
     "data": {
      "text/plain": [
       "<Figure size 396x342 with 0 Axes>"
      ]
     },
     "metadata": {},
     "output_type": "display_data"
    },
    {
     "data": {
      "text/plain": [
       "<Figure size 396x342 with 0 Axes>"
      ]
     },
     "metadata": {},
     "output_type": "display_data"
    },
    {
     "data": {
      "text/plain": [
       "<Figure size 396x342 with 0 Axes>"
      ]
     },
     "metadata": {},
     "output_type": "display_data"
    },
    {
     "data": {
      "text/plain": [
       "<Figure size 396x342 with 0 Axes>"
      ]
     },
     "metadata": {},
     "output_type": "display_data"
    },
    {
     "data": {
      "text/plain": [
       "<Figure size 396x342 with 0 Axes>"
      ]
     },
     "metadata": {},
     "output_type": "display_data"
    },
    {
     "data": {
      "text/plain": [
       "<Figure size 396x342 with 0 Axes>"
      ]
     },
     "metadata": {},
     "output_type": "display_data"
    },
    {
     "data": {
      "text/plain": [
       "<Figure size 396x342 with 0 Axes>"
      ]
     },
     "metadata": {},
     "output_type": "display_data"
    },
    {
     "data": {
      "text/plain": [
       "<Figure size 396x342 with 0 Axes>"
      ]
     },
     "metadata": {},
     "output_type": "display_data"
    },
    {
     "data": {
      "text/plain": [
       "<Figure size 396x342 with 0 Axes>"
      ]
     },
     "metadata": {},
     "output_type": "display_data"
    },
    {
     "data": {
      "text/plain": [
       "<Figure size 396x342 with 0 Axes>"
      ]
     },
     "metadata": {},
     "output_type": "display_data"
    },
    {
     "data": {
      "text/plain": [
       "<Figure size 396x342 with 0 Axes>"
      ]
     },
     "metadata": {},
     "output_type": "display_data"
    },
    {
     "data": {
      "text/plain": [
       "<Figure size 396x342 with 0 Axes>"
      ]
     },
     "metadata": {},
     "output_type": "display_data"
    },
    {
     "data": {
      "text/plain": [
       "<Figure size 396x342 with 0 Axes>"
      ]
     },
     "metadata": {},
     "output_type": "display_data"
    },
    {
     "data": {
      "text/plain": [
       "<Figure size 396x342 with 0 Axes>"
      ]
     },
     "metadata": {},
     "output_type": "display_data"
    },
    {
     "data": {
      "text/plain": [
       "<Figure size 396x342 with 0 Axes>"
      ]
     },
     "metadata": {},
     "output_type": "display_data"
    },
    {
     "data": {
      "text/plain": [
       "<Figure size 396x342 with 0 Axes>"
      ]
     },
     "metadata": {},
     "output_type": "display_data"
    },
    {
     "data": {
      "text/plain": [
       "<Figure size 396x342 with 0 Axes>"
      ]
     },
     "metadata": {},
     "output_type": "display_data"
    },
    {
     "data": {
      "text/plain": [
       "<Figure size 396x342 with 0 Axes>"
      ]
     },
     "metadata": {},
     "output_type": "display_data"
    },
    {
     "data": {
      "text/plain": [
       "<Figure size 396x342 with 0 Axes>"
      ]
     },
     "metadata": {},
     "output_type": "display_data"
    },
    {
     "data": {
      "text/plain": [
       "<Figure size 396x342 with 0 Axes>"
      ]
     },
     "metadata": {},
     "output_type": "display_data"
    },
    {
     "data": {
      "text/plain": [
       "<Figure size 396x342 with 0 Axes>"
      ]
     },
     "metadata": {},
     "output_type": "display_data"
    },
    {
     "data": {
      "text/plain": [
       "<Figure size 396x342 with 0 Axes>"
      ]
     },
     "metadata": {},
     "output_type": "display_data"
    },
    {
     "data": {
      "text/plain": [
       "<Figure size 396x342 with 0 Axes>"
      ]
     },
     "metadata": {},
     "output_type": "display_data"
    },
    {
     "data": {
      "text/plain": [
       "<Figure size 396x342 with 0 Axes>"
      ]
     },
     "metadata": {},
     "output_type": "display_data"
    },
    {
     "data": {
      "text/plain": [
       "<Figure size 396x342 with 0 Axes>"
      ]
     },
     "metadata": {},
     "output_type": "display_data"
    },
    {
     "data": {
      "text/plain": [
       "<Figure size 396x342 with 0 Axes>"
      ]
     },
     "metadata": {},
     "output_type": "display_data"
    },
    {
     "data": {
      "text/plain": [
       "<Figure size 396x342 with 0 Axes>"
      ]
     },
     "metadata": {},
     "output_type": "display_data"
    },
    {
     "data": {
      "text/plain": [
       "<Figure size 396x342 with 0 Axes>"
      ]
     },
     "metadata": {},
     "output_type": "display_data"
    },
    {
     "data": {
      "text/plain": [
       "<Figure size 396x342 with 0 Axes>"
      ]
     },
     "metadata": {},
     "output_type": "display_data"
    },
    {
     "data": {
      "text/plain": [
       "<Figure size 396x342 with 0 Axes>"
      ]
     },
     "metadata": {},
     "output_type": "display_data"
    },
    {
     "data": {
      "text/plain": [
       "<Figure size 396x342 with 0 Axes>"
      ]
     },
     "metadata": {},
     "output_type": "display_data"
    },
    {
     "data": {
      "text/plain": [
       "<Figure size 396x342 with 0 Axes>"
      ]
     },
     "metadata": {},
     "output_type": "display_data"
    },
    {
     "data": {
      "text/plain": [
       "<Figure size 396x342 with 0 Axes>"
      ]
     },
     "metadata": {},
     "output_type": "display_data"
    },
    {
     "data": {
      "text/plain": [
       "<Figure size 396x342 with 0 Axes>"
      ]
     },
     "metadata": {},
     "output_type": "display_data"
    },
    {
     "data": {
      "text/plain": [
       "<Figure size 396x342 with 0 Axes>"
      ]
     },
     "metadata": {},
     "output_type": "display_data"
    },
    {
     "data": {
      "text/plain": [
       "<Figure size 396x342 with 0 Axes>"
      ]
     },
     "metadata": {},
     "output_type": "display_data"
    },
    {
     "data": {
      "text/plain": [
       "<Figure size 396x342 with 0 Axes>"
      ]
     },
     "metadata": {},
     "output_type": "display_data"
    },
    {
     "data": {
      "text/plain": [
       "<Figure size 396x342 with 0 Axes>"
      ]
     },
     "metadata": {},
     "output_type": "display_data"
    },
    {
     "data": {
      "text/plain": [
       "<Figure size 396x342 with 0 Axes>"
      ]
     },
     "metadata": {},
     "output_type": "display_data"
    },
    {
     "data": {
      "text/plain": [
       "<Figure size 396x342 with 0 Axes>"
      ]
     },
     "metadata": {},
     "output_type": "display_data"
    },
    {
     "data": {
      "text/plain": [
       "<Figure size 396x342 with 0 Axes>"
      ]
     },
     "metadata": {},
     "output_type": "display_data"
    },
    {
     "data": {
      "text/plain": [
       "<Figure size 396x342 with 0 Axes>"
      ]
     },
     "metadata": {},
     "output_type": "display_data"
    },
    {
     "data": {
      "text/plain": [
       "<Figure size 396x342 with 0 Axes>"
      ]
     },
     "metadata": {},
     "output_type": "display_data"
    },
    {
     "data": {
      "text/plain": [
       "<Figure size 396x342 with 0 Axes>"
      ]
     },
     "metadata": {},
     "output_type": "display_data"
    },
    {
     "data": {
      "text/plain": [
       "<Figure size 396x342 with 0 Axes>"
      ]
     },
     "metadata": {},
     "output_type": "display_data"
    },
    {
     "data": {
      "text/plain": [
       "<Figure size 396x342 with 0 Axes>"
      ]
     },
     "metadata": {},
     "output_type": "display_data"
    },
    {
     "data": {
      "text/plain": [
       "<Figure size 396x342 with 0 Axes>"
      ]
     },
     "metadata": {},
     "output_type": "display_data"
    },
    {
     "data": {
      "text/plain": [
       "<Figure size 396x342 with 0 Axes>"
      ]
     },
     "metadata": {},
     "output_type": "display_data"
    },
    {
     "data": {
      "text/plain": [
       "<Figure size 396x342 with 0 Axes>"
      ]
     },
     "metadata": {},
     "output_type": "display_data"
    },
    {
     "data": {
      "text/plain": [
       "<Figure size 396x342 with 0 Axes>"
      ]
     },
     "metadata": {},
     "output_type": "display_data"
    },
    {
     "data": {
      "text/plain": [
       "<Figure size 396x342 with 0 Axes>"
      ]
     },
     "metadata": {},
     "output_type": "display_data"
    },
    {
     "data": {
      "text/plain": [
       "<Figure size 396x342 with 0 Axes>"
      ]
     },
     "metadata": {},
     "output_type": "display_data"
    },
    {
     "data": {
      "text/plain": [
       "<Figure size 396x342 with 0 Axes>"
      ]
     },
     "metadata": {},
     "output_type": "display_data"
    },
    {
     "data": {
      "text/plain": [
       "<Figure size 396x342 with 0 Axes>"
      ]
     },
     "metadata": {},
     "output_type": "display_data"
    },
    {
     "data": {
      "text/plain": [
       "<Figure size 396x342 with 0 Axes>"
      ]
     },
     "metadata": {},
     "output_type": "display_data"
    },
    {
     "data": {
      "text/plain": [
       "<Figure size 396x342 with 0 Axes>"
      ]
     },
     "metadata": {},
     "output_type": "display_data"
    },
    {
     "data": {
      "text/plain": [
       "<Figure size 396x342 with 0 Axes>"
      ]
     },
     "metadata": {},
     "output_type": "display_data"
    },
    {
     "data": {
      "text/plain": [
       "<Figure size 396x342 with 0 Axes>"
      ]
     },
     "metadata": {},
     "output_type": "display_data"
    },
    {
     "data": {
      "text/plain": [
       "<Figure size 396x342 with 0 Axes>"
      ]
     },
     "metadata": {},
     "output_type": "display_data"
    },
    {
     "data": {
      "text/plain": [
       "<Figure size 396x342 with 0 Axes>"
      ]
     },
     "metadata": {},
     "output_type": "display_data"
    },
    {
     "data": {
      "text/plain": [
       "<Figure size 396x342 with 0 Axes>"
      ]
     },
     "metadata": {},
     "output_type": "display_data"
    },
    {
     "data": {
      "text/plain": [
       "<Figure size 396x342 with 0 Axes>"
      ]
     },
     "metadata": {},
     "output_type": "display_data"
    },
    {
     "data": {
      "text/plain": [
       "<Figure size 396x342 with 0 Axes>"
      ]
     },
     "metadata": {},
     "output_type": "display_data"
    },
    {
     "data": {
      "text/plain": [
       "<Figure size 396x342 with 0 Axes>"
      ]
     },
     "metadata": {},
     "output_type": "display_data"
    },
    {
     "data": {
      "text/plain": [
       "<Figure size 396x342 with 0 Axes>"
      ]
     },
     "metadata": {},
     "output_type": "display_data"
    },
    {
     "data": {
      "text/plain": [
       "<Figure size 396x342 with 0 Axes>"
      ]
     },
     "metadata": {},
     "output_type": "display_data"
    },
    {
     "data": {
      "text/plain": [
       "<Figure size 396x342 with 0 Axes>"
      ]
     },
     "metadata": {},
     "output_type": "display_data"
    },
    {
     "data": {
      "text/plain": [
       "<Figure size 396x342 with 0 Axes>"
      ]
     },
     "metadata": {},
     "output_type": "display_data"
    },
    {
     "data": {
      "text/plain": [
       "<Figure size 396x342 with 0 Axes>"
      ]
     },
     "metadata": {},
     "output_type": "display_data"
    },
    {
     "data": {
      "text/plain": [
       "<Figure size 396x342 with 0 Axes>"
      ]
     },
     "metadata": {},
     "output_type": "display_data"
    },
    {
     "data": {
      "text/plain": [
       "<Figure size 396x342 with 0 Axes>"
      ]
     },
     "metadata": {},
     "output_type": "display_data"
    },
    {
     "data": {
      "text/plain": [
       "<Figure size 396x342 with 0 Axes>"
      ]
     },
     "metadata": {},
     "output_type": "display_data"
    },
    {
     "data": {
      "text/plain": [
       "<Figure size 396x342 with 0 Axes>"
      ]
     },
     "metadata": {},
     "output_type": "display_data"
    },
    {
     "data": {
      "text/plain": [
       "<Figure size 396x342 with 0 Axes>"
      ]
     },
     "metadata": {},
     "output_type": "display_data"
    },
    {
     "data": {
      "text/plain": [
       "<Figure size 396x342 with 0 Axes>"
      ]
     },
     "metadata": {},
     "output_type": "display_data"
    },
    {
     "data": {
      "text/plain": [
       "<Figure size 396x342 with 0 Axes>"
      ]
     },
     "metadata": {},
     "output_type": "display_data"
    },
    {
     "data": {
      "text/plain": [
       "<Figure size 396x342 with 0 Axes>"
      ]
     },
     "metadata": {},
     "output_type": "display_data"
    },
    {
     "data": {
      "text/plain": [
       "<Figure size 396x342 with 0 Axes>"
      ]
     },
     "metadata": {},
     "output_type": "display_data"
    },
    {
     "data": {
      "text/plain": [
       "<Figure size 396x342 with 0 Axes>"
      ]
     },
     "metadata": {},
     "output_type": "display_data"
    },
    {
     "data": {
      "text/plain": [
       "<Figure size 396x342 with 0 Axes>"
      ]
     },
     "metadata": {},
     "output_type": "display_data"
    },
    {
     "data": {
      "text/plain": [
       "<Figure size 396x342 with 0 Axes>"
      ]
     },
     "metadata": {},
     "output_type": "display_data"
    },
    {
     "data": {
      "text/plain": [
       "<Figure size 396x342 with 0 Axes>"
      ]
     },
     "metadata": {},
     "output_type": "display_data"
    },
    {
     "data": {
      "text/plain": [
       "<Figure size 396x342 with 0 Axes>"
      ]
     },
     "metadata": {},
     "output_type": "display_data"
    },
    {
     "data": {
      "text/plain": [
       "<Figure size 396x342 with 0 Axes>"
      ]
     },
     "metadata": {},
     "output_type": "display_data"
    },
    {
     "data": {
      "text/plain": [
       "<Figure size 396x342 with 0 Axes>"
      ]
     },
     "metadata": {},
     "output_type": "display_data"
    },
    {
     "data": {
      "text/plain": [
       "<Figure size 396x342 with 0 Axes>"
      ]
     },
     "metadata": {},
     "output_type": "display_data"
    },
    {
     "data": {
      "text/plain": [
       "<Figure size 396x342 with 0 Axes>"
      ]
     },
     "metadata": {},
     "output_type": "display_data"
    },
    {
     "data": {
      "text/plain": [
       "<Figure size 396x342 with 0 Axes>"
      ]
     },
     "metadata": {},
     "output_type": "display_data"
    },
    {
     "data": {
      "text/plain": [
       "<Figure size 396x342 with 0 Axes>"
      ]
     },
     "metadata": {},
     "output_type": "display_data"
    },
    {
     "data": {
      "text/plain": [
       "<Figure size 396x342 with 0 Axes>"
      ]
     },
     "metadata": {},
     "output_type": "display_data"
    },
    {
     "data": {
      "text/plain": [
       "<Figure size 396x342 with 0 Axes>"
      ]
     },
     "metadata": {},
     "output_type": "display_data"
    },
    {
     "data": {
      "text/plain": [
       "<Figure size 396x342 with 0 Axes>"
      ]
     },
     "metadata": {},
     "output_type": "display_data"
    },
    {
     "data": {
      "text/plain": [
       "<Figure size 396x342 with 0 Axes>"
      ]
     },
     "metadata": {},
     "output_type": "display_data"
    },
    {
     "data": {
      "text/plain": [
       "<Figure size 396x342 with 0 Axes>"
      ]
     },
     "metadata": {},
     "output_type": "display_data"
    },
    {
     "data": {
      "text/plain": [
       "<Figure size 396x342 with 0 Axes>"
      ]
     },
     "metadata": {},
     "output_type": "display_data"
    },
    {
     "data": {
      "text/plain": [
       "<Figure size 396x342 with 0 Axes>"
      ]
     },
     "metadata": {},
     "output_type": "display_data"
    },
    {
     "data": {
      "text/plain": [
       "<Figure size 396x342 with 0 Axes>"
      ]
     },
     "metadata": {},
     "output_type": "display_data"
    },
    {
     "data": {
      "text/plain": [
       "<Figure size 396x342 with 0 Axes>"
      ]
     },
     "metadata": {},
     "output_type": "display_data"
    },
    {
     "data": {
      "text/plain": [
       "<Figure size 396x342 with 0 Axes>"
      ]
     },
     "metadata": {},
     "output_type": "display_data"
    },
    {
     "data": {
      "text/plain": [
       "<Figure size 396x342 with 0 Axes>"
      ]
     },
     "metadata": {},
     "output_type": "display_data"
    },
    {
     "data": {
      "text/plain": [
       "<Figure size 396x342 with 0 Axes>"
      ]
     },
     "metadata": {},
     "output_type": "display_data"
    },
    {
     "data": {
      "text/plain": [
       "<Figure size 396x342 with 0 Axes>"
      ]
     },
     "metadata": {},
     "output_type": "display_data"
    },
    {
     "data": {
      "text/plain": [
       "<Figure size 396x342 with 0 Axes>"
      ]
     },
     "metadata": {},
     "output_type": "display_data"
    },
    {
     "data": {
      "text/plain": [
       "<Figure size 396x342 with 0 Axes>"
      ]
     },
     "metadata": {},
     "output_type": "display_data"
    },
    {
     "data": {
      "text/plain": [
       "<Figure size 396x342 with 0 Axes>"
      ]
     },
     "metadata": {},
     "output_type": "display_data"
    },
    {
     "data": {
      "text/plain": [
       "<Figure size 396x342 with 0 Axes>"
      ]
     },
     "metadata": {},
     "output_type": "display_data"
    },
    {
     "data": {
      "text/plain": [
       "<Figure size 396x342 with 0 Axes>"
      ]
     },
     "metadata": {},
     "output_type": "display_data"
    },
    {
     "data": {
      "text/plain": [
       "<Figure size 396x342 with 0 Axes>"
      ]
     },
     "metadata": {},
     "output_type": "display_data"
    },
    {
     "data": {
      "text/plain": [
       "<Figure size 396x342 with 0 Axes>"
      ]
     },
     "metadata": {},
     "output_type": "display_data"
    },
    {
     "data": {
      "text/plain": [
       "<Figure size 396x342 with 0 Axes>"
      ]
     },
     "metadata": {},
     "output_type": "display_data"
    },
    {
     "data": {
      "text/plain": [
       "<Figure size 396x342 with 0 Axes>"
      ]
     },
     "metadata": {},
     "output_type": "display_data"
    },
    {
     "data": {
      "text/plain": [
       "<Figure size 396x342 with 0 Axes>"
      ]
     },
     "metadata": {},
     "output_type": "display_data"
    },
    {
     "data": {
      "text/plain": [
       "<Figure size 396x342 with 0 Axes>"
      ]
     },
     "metadata": {},
     "output_type": "display_data"
    },
    {
     "data": {
      "text/plain": [
       "<Figure size 396x342 with 0 Axes>"
      ]
     },
     "metadata": {},
     "output_type": "display_data"
    },
    {
     "data": {
      "text/plain": [
       "<Figure size 396x342 with 0 Axes>"
      ]
     },
     "metadata": {},
     "output_type": "display_data"
    },
    {
     "data": {
      "text/plain": [
       "<Figure size 396x342 with 0 Axes>"
      ]
     },
     "metadata": {},
     "output_type": "display_data"
    },
    {
     "data": {
      "text/plain": [
       "<Figure size 396x342 with 0 Axes>"
      ]
     },
     "metadata": {},
     "output_type": "display_data"
    },
    {
     "data": {
      "text/plain": [
       "<Figure size 396x342 with 0 Axes>"
      ]
     },
     "metadata": {},
     "output_type": "display_data"
    },
    {
     "data": {
      "text/plain": [
       "<Figure size 396x342 with 0 Axes>"
      ]
     },
     "metadata": {},
     "output_type": "display_data"
    },
    {
     "data": {
      "text/plain": [
       "<Figure size 396x342 with 0 Axes>"
      ]
     },
     "metadata": {},
     "output_type": "display_data"
    },
    {
     "data": {
      "text/plain": [
       "<Figure size 396x342 with 0 Axes>"
      ]
     },
     "metadata": {},
     "output_type": "display_data"
    },
    {
     "data": {
      "text/plain": [
       "<Figure size 396x342 with 0 Axes>"
      ]
     },
     "metadata": {},
     "output_type": "display_data"
    },
    {
     "data": {
      "text/plain": [
       "<Figure size 396x342 with 0 Axes>"
      ]
     },
     "metadata": {},
     "output_type": "display_data"
    },
    {
     "data": {
      "text/plain": [
       "<Figure size 396x342 with 0 Axes>"
      ]
     },
     "metadata": {},
     "output_type": "display_data"
    },
    {
     "data": {
      "text/plain": [
       "<Figure size 396x342 with 0 Axes>"
      ]
     },
     "metadata": {},
     "output_type": "display_data"
    },
    {
     "data": {
      "text/plain": [
       "<Figure size 396x342 with 0 Axes>"
      ]
     },
     "metadata": {},
     "output_type": "display_data"
    },
    {
     "data": {
      "text/plain": [
       "<Figure size 396x342 with 0 Axes>"
      ]
     },
     "metadata": {},
     "output_type": "display_data"
    },
    {
     "data": {
      "text/plain": [
       "<Figure size 396x342 with 0 Axes>"
      ]
     },
     "metadata": {},
     "output_type": "display_data"
    },
    {
     "data": {
      "text/plain": [
       "<Figure size 396x342 with 0 Axes>"
      ]
     },
     "metadata": {},
     "output_type": "display_data"
    },
    {
     "data": {
      "text/plain": [
       "<Figure size 396x342 with 0 Axes>"
      ]
     },
     "metadata": {},
     "output_type": "display_data"
    },
    {
     "data": {
      "text/plain": [
       "<Figure size 396x342 with 0 Axes>"
      ]
     },
     "metadata": {},
     "output_type": "display_data"
    },
    {
     "data": {
      "text/plain": [
       "<Figure size 396x342 with 0 Axes>"
      ]
     },
     "metadata": {},
     "output_type": "display_data"
    },
    {
     "data": {
      "text/plain": [
       "<Figure size 396x342 with 0 Axes>"
      ]
     },
     "metadata": {},
     "output_type": "display_data"
    },
    {
     "data": {
      "text/plain": [
       "<Figure size 396x342 with 0 Axes>"
      ]
     },
     "metadata": {},
     "output_type": "display_data"
    },
    {
     "data": {
      "text/plain": [
       "<Figure size 396x342 with 0 Axes>"
      ]
     },
     "metadata": {},
     "output_type": "display_data"
    },
    {
     "data": {
      "text/plain": [
       "<Figure size 396x342 with 0 Axes>"
      ]
     },
     "metadata": {},
     "output_type": "display_data"
    },
    {
     "data": {
      "text/plain": [
       "<Figure size 396x342 with 0 Axes>"
      ]
     },
     "metadata": {},
     "output_type": "display_data"
    },
    {
     "data": {
      "text/plain": [
       "<Figure size 396x342 with 0 Axes>"
      ]
     },
     "metadata": {},
     "output_type": "display_data"
    },
    {
     "data": {
      "text/plain": [
       "<Figure size 396x342 with 0 Axes>"
      ]
     },
     "metadata": {},
     "output_type": "display_data"
    },
    {
     "data": {
      "text/plain": [
       "<Figure size 396x342 with 0 Axes>"
      ]
     },
     "metadata": {},
     "output_type": "display_data"
    },
    {
     "data": {
      "text/plain": [
       "<Figure size 396x342 with 0 Axes>"
      ]
     },
     "metadata": {},
     "output_type": "display_data"
    },
    {
     "data": {
      "text/plain": [
       "<Figure size 396x342 with 0 Axes>"
      ]
     },
     "metadata": {},
     "output_type": "display_data"
    },
    {
     "data": {
      "text/plain": [
       "<Figure size 396x342 with 0 Axes>"
      ]
     },
     "metadata": {},
     "output_type": "display_data"
    },
    {
     "data": {
      "text/plain": [
       "<Figure size 396x342 with 0 Axes>"
      ]
     },
     "metadata": {},
     "output_type": "display_data"
    },
    {
     "data": {
      "text/plain": [
       "<Figure size 396x342 with 0 Axes>"
      ]
     },
     "metadata": {},
     "output_type": "display_data"
    },
    {
     "data": {
      "text/plain": [
       "<Figure size 396x342 with 0 Axes>"
      ]
     },
     "metadata": {},
     "output_type": "display_data"
    },
    {
     "data": {
      "text/plain": [
       "<Figure size 396x342 with 0 Axes>"
      ]
     },
     "metadata": {},
     "output_type": "display_data"
    },
    {
     "data": {
      "text/plain": [
       "<Figure size 396x342 with 0 Axes>"
      ]
     },
     "metadata": {},
     "output_type": "display_data"
    },
    {
     "data": {
      "text/plain": [
       "<Figure size 396x342 with 0 Axes>"
      ]
     },
     "metadata": {},
     "output_type": "display_data"
    },
    {
     "data": {
      "text/plain": [
       "<Figure size 396x342 with 0 Axes>"
      ]
     },
     "metadata": {},
     "output_type": "display_data"
    },
    {
     "data": {
      "text/plain": [
       "<Figure size 396x342 with 0 Axes>"
      ]
     },
     "metadata": {},
     "output_type": "display_data"
    },
    {
     "data": {
      "text/plain": [
       "<Figure size 396x342 with 0 Axes>"
      ]
     },
     "metadata": {},
     "output_type": "display_data"
    },
    {
     "data": {
      "text/plain": [
       "<Figure size 396x342 with 0 Axes>"
      ]
     },
     "metadata": {},
     "output_type": "display_data"
    },
    {
     "data": {
      "text/plain": [
       "<Figure size 396x342 with 0 Axes>"
      ]
     },
     "metadata": {},
     "output_type": "display_data"
    },
    {
     "data": {
      "text/plain": [
       "<Figure size 396x342 with 0 Axes>"
      ]
     },
     "metadata": {},
     "output_type": "display_data"
    },
    {
     "data": {
      "text/plain": [
       "<Figure size 396x342 with 0 Axes>"
      ]
     },
     "metadata": {},
     "output_type": "display_data"
    },
    {
     "data": {
      "text/plain": [
       "<Figure size 396x342 with 0 Axes>"
      ]
     },
     "metadata": {},
     "output_type": "display_data"
    },
    {
     "data": {
      "text/plain": [
       "<Figure size 396x342 with 0 Axes>"
      ]
     },
     "metadata": {},
     "output_type": "display_data"
    },
    {
     "data": {
      "text/plain": [
       "<Figure size 396x342 with 0 Axes>"
      ]
     },
     "metadata": {},
     "output_type": "display_data"
    },
    {
     "data": {
      "text/plain": [
       "<Figure size 396x342 with 0 Axes>"
      ]
     },
     "metadata": {},
     "output_type": "display_data"
    },
    {
     "data": {
      "text/plain": [
       "<Figure size 396x342 with 0 Axes>"
      ]
     },
     "metadata": {},
     "output_type": "display_data"
    },
    {
     "data": {
      "text/plain": [
       "<Figure size 396x342 with 0 Axes>"
      ]
     },
     "metadata": {},
     "output_type": "display_data"
    },
    {
     "data": {
      "text/plain": [
       "<Figure size 396x342 with 0 Axes>"
      ]
     },
     "metadata": {},
     "output_type": "display_data"
    },
    {
     "data": {
      "text/plain": [
       "<Figure size 396x342 with 0 Axes>"
      ]
     },
     "metadata": {},
     "output_type": "display_data"
    },
    {
     "data": {
      "text/plain": [
       "<Figure size 396x342 with 0 Axes>"
      ]
     },
     "metadata": {},
     "output_type": "display_data"
    },
    {
     "data": {
      "text/plain": [
       "<Figure size 396x342 with 0 Axes>"
      ]
     },
     "metadata": {},
     "output_type": "display_data"
    },
    {
     "data": {
      "text/plain": [
       "<Figure size 396x342 with 0 Axes>"
      ]
     },
     "metadata": {},
     "output_type": "display_data"
    },
    {
     "data": {
      "text/plain": [
       "<Figure size 396x342 with 0 Axes>"
      ]
     },
     "metadata": {},
     "output_type": "display_data"
    },
    {
     "data": {
      "text/plain": [
       "<Figure size 396x342 with 0 Axes>"
      ]
     },
     "metadata": {},
     "output_type": "display_data"
    },
    {
     "data": {
      "text/plain": [
       "<Figure size 396x342 with 0 Axes>"
      ]
     },
     "metadata": {},
     "output_type": "display_data"
    },
    {
     "data": {
      "text/plain": [
       "<Figure size 396x342 with 0 Axes>"
      ]
     },
     "metadata": {},
     "output_type": "display_data"
    },
    {
     "data": {
      "text/plain": [
       "<Figure size 396x342 with 0 Axes>"
      ]
     },
     "metadata": {},
     "output_type": "display_data"
    },
    {
     "data": {
      "text/plain": [
       "<Figure size 396x342 with 0 Axes>"
      ]
     },
     "metadata": {},
     "output_type": "display_data"
    },
    {
     "data": {
      "text/plain": [
       "<Figure size 396x342 with 0 Axes>"
      ]
     },
     "metadata": {},
     "output_type": "display_data"
    },
    {
     "data": {
      "text/plain": [
       "<Figure size 396x342 with 0 Axes>"
      ]
     },
     "metadata": {},
     "output_type": "display_data"
    },
    {
     "data": {
      "text/plain": [
       "<Figure size 396x342 with 0 Axes>"
      ]
     },
     "metadata": {},
     "output_type": "display_data"
    },
    {
     "data": {
      "text/plain": [
       "<Figure size 396x342 with 0 Axes>"
      ]
     },
     "metadata": {},
     "output_type": "display_data"
    },
    {
     "data": {
      "text/plain": [
       "<Figure size 396x342 with 0 Axes>"
      ]
     },
     "metadata": {},
     "output_type": "display_data"
    },
    {
     "data": {
      "text/plain": [
       "<Figure size 396x342 with 0 Axes>"
      ]
     },
     "metadata": {},
     "output_type": "display_data"
    },
    {
     "data": {
      "text/plain": [
       "<Figure size 396x342 with 0 Axes>"
      ]
     },
     "metadata": {},
     "output_type": "display_data"
    },
    {
     "data": {
      "text/plain": [
       "<Figure size 396x342 with 0 Axes>"
      ]
     },
     "metadata": {},
     "output_type": "display_data"
    },
    {
     "data": {
      "text/plain": [
       "<Figure size 396x342 with 0 Axes>"
      ]
     },
     "metadata": {},
     "output_type": "display_data"
    },
    {
     "data": {
      "text/plain": [
       "<Figure size 396x342 with 0 Axes>"
      ]
     },
     "metadata": {},
     "output_type": "display_data"
    },
    {
     "data": {
      "text/plain": [
       "<Figure size 396x342 with 0 Axes>"
      ]
     },
     "metadata": {},
     "output_type": "display_data"
    },
    {
     "data": {
      "text/plain": [
       "<Figure size 396x342 with 0 Axes>"
      ]
     },
     "metadata": {},
     "output_type": "display_data"
    },
    {
     "data": {
      "text/plain": [
       "<Figure size 396x342 with 0 Axes>"
      ]
     },
     "metadata": {},
     "output_type": "display_data"
    },
    {
     "data": {
      "text/plain": [
       "<Figure size 396x342 with 0 Axes>"
      ]
     },
     "metadata": {},
     "output_type": "display_data"
    },
    {
     "data": {
      "text/plain": [
       "<Figure size 396x342 with 0 Axes>"
      ]
     },
     "metadata": {},
     "output_type": "display_data"
    },
    {
     "data": {
      "text/plain": [
       "<Figure size 396x342 with 0 Axes>"
      ]
     },
     "metadata": {},
     "output_type": "display_data"
    },
    {
     "data": {
      "text/plain": [
       "<Figure size 396x342 with 0 Axes>"
      ]
     },
     "metadata": {},
     "output_type": "display_data"
    },
    {
     "data": {
      "text/plain": [
       "<Figure size 396x342 with 0 Axes>"
      ]
     },
     "metadata": {},
     "output_type": "display_data"
    },
    {
     "data": {
      "text/plain": [
       "<Figure size 396x342 with 0 Axes>"
      ]
     },
     "metadata": {},
     "output_type": "display_data"
    },
    {
     "data": {
      "text/plain": [
       "<Figure size 396x342 with 0 Axes>"
      ]
     },
     "metadata": {},
     "output_type": "display_data"
    },
    {
     "data": {
      "text/plain": [
       "<Figure size 396x342 with 0 Axes>"
      ]
     },
     "metadata": {},
     "output_type": "display_data"
    },
    {
     "data": {
      "text/plain": [
       "<Figure size 396x342 with 0 Axes>"
      ]
     },
     "metadata": {},
     "output_type": "display_data"
    },
    {
     "data": {
      "text/plain": [
       "<Figure size 396x342 with 0 Axes>"
      ]
     },
     "metadata": {},
     "output_type": "display_data"
    },
    {
     "data": {
      "text/plain": [
       "<Figure size 396x342 with 0 Axes>"
      ]
     },
     "metadata": {},
     "output_type": "display_data"
    },
    {
     "data": {
      "text/plain": [
       "<Figure size 396x342 with 0 Axes>"
      ]
     },
     "metadata": {},
     "output_type": "display_data"
    },
    {
     "data": {
      "text/plain": [
       "<Figure size 396x342 with 0 Axes>"
      ]
     },
     "metadata": {},
     "output_type": "display_data"
    },
    {
     "data": {
      "text/plain": [
       "<Figure size 396x342 with 0 Axes>"
      ]
     },
     "metadata": {},
     "output_type": "display_data"
    },
    {
     "data": {
      "text/plain": [
       "<Figure size 396x342 with 0 Axes>"
      ]
     },
     "metadata": {},
     "output_type": "display_data"
    },
    {
     "data": {
      "text/plain": [
       "<Figure size 396x342 with 0 Axes>"
      ]
     },
     "metadata": {},
     "output_type": "display_data"
    },
    {
     "data": {
      "text/plain": [
       "<Figure size 396x342 with 0 Axes>"
      ]
     },
     "metadata": {},
     "output_type": "display_data"
    },
    {
     "data": {
      "text/plain": [
       "<Figure size 396x342 with 0 Axes>"
      ]
     },
     "metadata": {},
     "output_type": "display_data"
    },
    {
     "data": {
      "text/plain": [
       "<Figure size 396x342 with 0 Axes>"
      ]
     },
     "metadata": {},
     "output_type": "display_data"
    },
    {
     "data": {
      "text/plain": [
       "<Figure size 396x342 with 0 Axes>"
      ]
     },
     "metadata": {},
     "output_type": "display_data"
    },
    {
     "data": {
      "text/plain": [
       "<Figure size 396x342 with 0 Axes>"
      ]
     },
     "metadata": {},
     "output_type": "display_data"
    },
    {
     "data": {
      "text/plain": [
       "<Figure size 396x342 with 0 Axes>"
      ]
     },
     "metadata": {},
     "output_type": "display_data"
    },
    {
     "data": {
      "text/plain": [
       "<Figure size 396x342 with 0 Axes>"
      ]
     },
     "metadata": {},
     "output_type": "display_data"
    },
    {
     "data": {
      "text/plain": [
       "<Figure size 396x342 with 0 Axes>"
      ]
     },
     "metadata": {},
     "output_type": "display_data"
    },
    {
     "data": {
      "text/plain": [
       "<Figure size 396x342 with 0 Axes>"
      ]
     },
     "metadata": {},
     "output_type": "display_data"
    },
    {
     "data": {
      "text/plain": [
       "<Figure size 396x342 with 0 Axes>"
      ]
     },
     "metadata": {},
     "output_type": "display_data"
    },
    {
     "data": {
      "text/plain": [
       "<Figure size 396x342 with 0 Axes>"
      ]
     },
     "metadata": {},
     "output_type": "display_data"
    },
    {
     "data": {
      "text/plain": [
       "<Figure size 396x342 with 0 Axes>"
      ]
     },
     "metadata": {},
     "output_type": "display_data"
    },
    {
     "data": {
      "text/plain": [
       "<Figure size 396x342 with 0 Axes>"
      ]
     },
     "metadata": {},
     "output_type": "display_data"
    },
    {
     "data": {
      "text/plain": [
       "<Figure size 396x342 with 0 Axes>"
      ]
     },
     "metadata": {},
     "output_type": "display_data"
    },
    {
     "data": {
      "text/plain": [
       "<Figure size 396x342 with 0 Axes>"
      ]
     },
     "metadata": {},
     "output_type": "display_data"
    },
    {
     "data": {
      "text/plain": [
       "<Figure size 396x342 with 0 Axes>"
      ]
     },
     "metadata": {},
     "output_type": "display_data"
    },
    {
     "data": {
      "text/plain": [
       "<Figure size 396x342 with 0 Axes>"
      ]
     },
     "metadata": {},
     "output_type": "display_data"
    },
    {
     "data": {
      "text/plain": [
       "<Figure size 396x342 with 0 Axes>"
      ]
     },
     "metadata": {},
     "output_type": "display_data"
    },
    {
     "data": {
      "text/plain": [
       "<Figure size 396x342 with 0 Axes>"
      ]
     },
     "metadata": {},
     "output_type": "display_data"
    },
    {
     "data": {
      "text/plain": [
       "<Figure size 396x342 with 0 Axes>"
      ]
     },
     "metadata": {},
     "output_type": "display_data"
    },
    {
     "data": {
      "text/plain": [
       "<Figure size 396x342 with 0 Axes>"
      ]
     },
     "metadata": {},
     "output_type": "display_data"
    },
    {
     "data": {
      "text/plain": [
       "<Figure size 396x342 with 0 Axes>"
      ]
     },
     "metadata": {},
     "output_type": "display_data"
    },
    {
     "data": {
      "text/plain": [
       "<Figure size 396x342 with 0 Axes>"
      ]
     },
     "metadata": {},
     "output_type": "display_data"
    },
    {
     "data": {
      "text/plain": [
       "<Figure size 396x342 with 0 Axes>"
      ]
     },
     "metadata": {},
     "output_type": "display_data"
    },
    {
     "data": {
      "text/plain": [
       "<Figure size 396x342 with 0 Axes>"
      ]
     },
     "metadata": {},
     "output_type": "display_data"
    },
    {
     "data": {
      "text/plain": [
       "<Figure size 396x342 with 0 Axes>"
      ]
     },
     "metadata": {},
     "output_type": "display_data"
    },
    {
     "data": {
      "text/plain": [
       "<Figure size 396x342 with 0 Axes>"
      ]
     },
     "metadata": {},
     "output_type": "display_data"
    },
    {
     "data": {
      "text/plain": [
       "<Figure size 396x342 with 0 Axes>"
      ]
     },
     "metadata": {},
     "output_type": "display_data"
    },
    {
     "data": {
      "text/plain": [
       "<Figure size 396x342 with 0 Axes>"
      ]
     },
     "metadata": {},
     "output_type": "display_data"
    },
    {
     "data": {
      "text/plain": [
       "<Figure size 396x342 with 0 Axes>"
      ]
     },
     "metadata": {},
     "output_type": "display_data"
    },
    {
     "data": {
      "text/plain": [
       "<Figure size 396x342 with 0 Axes>"
      ]
     },
     "metadata": {},
     "output_type": "display_data"
    },
    {
     "data": {
      "text/plain": [
       "<Figure size 396x342 with 0 Axes>"
      ]
     },
     "metadata": {},
     "output_type": "display_data"
    },
    {
     "data": {
      "text/plain": [
       "<Figure size 396x342 with 0 Axes>"
      ]
     },
     "metadata": {},
     "output_type": "display_data"
    },
    {
     "data": {
      "text/plain": [
       "<Figure size 396x342 with 0 Axes>"
      ]
     },
     "metadata": {},
     "output_type": "display_data"
    },
    {
     "data": {
      "text/plain": [
       "<Figure size 396x342 with 0 Axes>"
      ]
     },
     "metadata": {},
     "output_type": "display_data"
    },
    {
     "data": {
      "text/plain": [
       "<Figure size 396x342 with 0 Axes>"
      ]
     },
     "metadata": {},
     "output_type": "display_data"
    },
    {
     "data": {
      "text/plain": [
       "<Figure size 396x342 with 0 Axes>"
      ]
     },
     "metadata": {},
     "output_type": "display_data"
    },
    {
     "data": {
      "text/plain": [
       "<Figure size 396x342 with 0 Axes>"
      ]
     },
     "metadata": {},
     "output_type": "display_data"
    },
    {
     "data": {
      "text/plain": [
       "<Figure size 396x342 with 0 Axes>"
      ]
     },
     "metadata": {},
     "output_type": "display_data"
    },
    {
     "data": {
      "text/plain": [
       "<Figure size 396x342 with 0 Axes>"
      ]
     },
     "metadata": {},
     "output_type": "display_data"
    },
    {
     "data": {
      "text/plain": [
       "<Figure size 396x342 with 0 Axes>"
      ]
     },
     "metadata": {},
     "output_type": "display_data"
    },
    {
     "data": {
      "text/plain": [
       "<Figure size 396x342 with 0 Axes>"
      ]
     },
     "metadata": {},
     "output_type": "display_data"
    },
    {
     "data": {
      "text/plain": [
       "<Figure size 396x342 with 0 Axes>"
      ]
     },
     "metadata": {},
     "output_type": "display_data"
    },
    {
     "data": {
      "text/plain": [
       "<Figure size 396x342 with 0 Axes>"
      ]
     },
     "metadata": {},
     "output_type": "display_data"
    },
    {
     "data": {
      "text/plain": [
       "<Figure size 396x342 with 0 Axes>"
      ]
     },
     "metadata": {},
     "output_type": "display_data"
    },
    {
     "data": {
      "text/plain": [
       "<Figure size 396x342 with 0 Axes>"
      ]
     },
     "metadata": {},
     "output_type": "display_data"
    },
    {
     "data": {
      "text/plain": [
       "<Figure size 396x342 with 0 Axes>"
      ]
     },
     "metadata": {},
     "output_type": "display_data"
    },
    {
     "data": {
      "text/plain": [
       "<Figure size 396x342 with 0 Axes>"
      ]
     },
     "metadata": {},
     "output_type": "display_data"
    },
    {
     "data": {
      "text/plain": [
       "<Figure size 396x342 with 0 Axes>"
      ]
     },
     "metadata": {},
     "output_type": "display_data"
    },
    {
     "data": {
      "text/plain": [
       "<Figure size 396x342 with 0 Axes>"
      ]
     },
     "metadata": {},
     "output_type": "display_data"
    },
    {
     "data": {
      "text/plain": [
       "<Figure size 396x342 with 0 Axes>"
      ]
     },
     "metadata": {},
     "output_type": "display_data"
    },
    {
     "data": {
      "text/plain": [
       "<Figure size 396x342 with 0 Axes>"
      ]
     },
     "metadata": {},
     "output_type": "display_data"
    },
    {
     "data": {
      "text/plain": [
       "<Figure size 396x342 with 0 Axes>"
      ]
     },
     "metadata": {},
     "output_type": "display_data"
    },
    {
     "data": {
      "text/plain": [
       "<Figure size 396x342 with 0 Axes>"
      ]
     },
     "metadata": {},
     "output_type": "display_data"
    },
    {
     "data": {
      "text/plain": [
       "<Figure size 396x342 with 0 Axes>"
      ]
     },
     "metadata": {},
     "output_type": "display_data"
    },
    {
     "data": {
      "text/plain": [
       "<Figure size 396x342 with 0 Axes>"
      ]
     },
     "metadata": {},
     "output_type": "display_data"
    },
    {
     "data": {
      "text/plain": [
       "<Figure size 396x342 with 0 Axes>"
      ]
     },
     "metadata": {},
     "output_type": "display_data"
    },
    {
     "data": {
      "text/plain": [
       "<Figure size 396x342 with 0 Axes>"
      ]
     },
     "metadata": {},
     "output_type": "display_data"
    },
    {
     "data": {
      "text/plain": [
       "<Figure size 396x342 with 0 Axes>"
      ]
     },
     "metadata": {},
     "output_type": "display_data"
    },
    {
     "data": {
      "text/plain": [
       "<Figure size 396x342 with 0 Axes>"
      ]
     },
     "metadata": {},
     "output_type": "display_data"
    },
    {
     "data": {
      "text/plain": [
       "<Figure size 396x342 with 0 Axes>"
      ]
     },
     "metadata": {},
     "output_type": "display_data"
    },
    {
     "data": {
      "text/plain": [
       "<Figure size 396x342 with 0 Axes>"
      ]
     },
     "metadata": {},
     "output_type": "display_data"
    },
    {
     "data": {
      "text/plain": [
       "<Figure size 396x342 with 0 Axes>"
      ]
     },
     "metadata": {},
     "output_type": "display_data"
    },
    {
     "data": {
      "text/plain": [
       "<Figure size 396x342 with 0 Axes>"
      ]
     },
     "metadata": {},
     "output_type": "display_data"
    },
    {
     "data": {
      "text/plain": [
       "<Figure size 396x342 with 0 Axes>"
      ]
     },
     "metadata": {},
     "output_type": "display_data"
    },
    {
     "data": {
      "text/plain": [
       "<Figure size 396x342 with 0 Axes>"
      ]
     },
     "metadata": {},
     "output_type": "display_data"
    },
    {
     "data": {
      "text/plain": [
       "<Figure size 396x342 with 0 Axes>"
      ]
     },
     "metadata": {},
     "output_type": "display_data"
    },
    {
     "data": {
      "text/plain": [
       "<Figure size 396x342 with 0 Axes>"
      ]
     },
     "metadata": {},
     "output_type": "display_data"
    },
    {
     "data": {
      "text/plain": [
       "<Figure size 396x342 with 0 Axes>"
      ]
     },
     "metadata": {},
     "output_type": "display_data"
    },
    {
     "data": {
      "text/plain": [
       "<Figure size 396x342 with 0 Axes>"
      ]
     },
     "metadata": {},
     "output_type": "display_data"
    },
    {
     "data": {
      "text/plain": [
       "<Figure size 396x342 with 0 Axes>"
      ]
     },
     "metadata": {},
     "output_type": "display_data"
    },
    {
     "data": {
      "text/plain": [
       "<Figure size 396x342 with 0 Axes>"
      ]
     },
     "metadata": {},
     "output_type": "display_data"
    },
    {
     "data": {
      "text/plain": [
       "<Figure size 396x342 with 0 Axes>"
      ]
     },
     "metadata": {},
     "output_type": "display_data"
    },
    {
     "data": {
      "text/plain": [
       "<Figure size 396x342 with 0 Axes>"
      ]
     },
     "metadata": {},
     "output_type": "display_data"
    },
    {
     "data": {
      "text/plain": [
       "<Figure size 396x342 with 0 Axes>"
      ]
     },
     "metadata": {},
     "output_type": "display_data"
    },
    {
     "data": {
      "text/plain": [
       "<Figure size 396x342 with 0 Axes>"
      ]
     },
     "metadata": {},
     "output_type": "display_data"
    },
    {
     "data": {
      "text/plain": [
       "<Figure size 396x342 with 0 Axes>"
      ]
     },
     "metadata": {},
     "output_type": "display_data"
    },
    {
     "data": {
      "text/plain": [
       "<Figure size 396x342 with 0 Axes>"
      ]
     },
     "metadata": {},
     "output_type": "display_data"
    },
    {
     "data": {
      "text/plain": [
       "<Figure size 396x342 with 0 Axes>"
      ]
     },
     "metadata": {},
     "output_type": "display_data"
    },
    {
     "data": {
      "text/plain": [
       "<Figure size 396x342 with 0 Axes>"
      ]
     },
     "metadata": {},
     "output_type": "display_data"
    },
    {
     "data": {
      "text/plain": [
       "<Figure size 396x342 with 0 Axes>"
      ]
     },
     "metadata": {},
     "output_type": "display_data"
    },
    {
     "data": {
      "text/plain": [
       "<Figure size 396x342 with 0 Axes>"
      ]
     },
     "metadata": {},
     "output_type": "display_data"
    },
    {
     "data": {
      "text/plain": [
       "<Figure size 396x342 with 0 Axes>"
      ]
     },
     "metadata": {},
     "output_type": "display_data"
    },
    {
     "data": {
      "text/plain": [
       "<Figure size 396x342 with 0 Axes>"
      ]
     },
     "metadata": {},
     "output_type": "display_data"
    },
    {
     "data": {
      "text/plain": [
       "<Figure size 396x342 with 0 Axes>"
      ]
     },
     "metadata": {},
     "output_type": "display_data"
    },
    {
     "data": {
      "text/plain": [
       "<Figure size 396x342 with 0 Axes>"
      ]
     },
     "metadata": {},
     "output_type": "display_data"
    },
    {
     "data": {
      "text/plain": [
       "<Figure size 396x342 with 0 Axes>"
      ]
     },
     "metadata": {},
     "output_type": "display_data"
    },
    {
     "data": {
      "text/plain": [
       "<Figure size 396x342 with 0 Axes>"
      ]
     },
     "metadata": {},
     "output_type": "display_data"
    },
    {
     "data": {
      "text/plain": [
       "<Figure size 396x342 with 0 Axes>"
      ]
     },
     "metadata": {},
     "output_type": "display_data"
    },
    {
     "data": {
      "text/plain": [
       "<Figure size 396x342 with 0 Axes>"
      ]
     },
     "metadata": {},
     "output_type": "display_data"
    },
    {
     "data": {
      "text/plain": [
       "<Figure size 396x342 with 0 Axes>"
      ]
     },
     "metadata": {},
     "output_type": "display_data"
    },
    {
     "data": {
      "text/plain": [
       "<Figure size 396x342 with 0 Axes>"
      ]
     },
     "metadata": {},
     "output_type": "display_data"
    },
    {
     "data": {
      "text/plain": [
       "<Figure size 396x342 with 0 Axes>"
      ]
     },
     "metadata": {},
     "output_type": "display_data"
    },
    {
     "data": {
      "text/plain": [
       "<Figure size 396x342 with 0 Axes>"
      ]
     },
     "metadata": {},
     "output_type": "display_data"
    },
    {
     "data": {
      "text/plain": [
       "<Figure size 396x342 with 0 Axes>"
      ]
     },
     "metadata": {},
     "output_type": "display_data"
    },
    {
     "data": {
      "text/plain": [
       "<Figure size 396x342 with 0 Axes>"
      ]
     },
     "metadata": {},
     "output_type": "display_data"
    },
    {
     "data": {
      "text/plain": [
       "<Figure size 396x342 with 0 Axes>"
      ]
     },
     "metadata": {},
     "output_type": "display_data"
    },
    {
     "data": {
      "text/plain": [
       "<Figure size 396x342 with 0 Axes>"
      ]
     },
     "metadata": {},
     "output_type": "display_data"
    },
    {
     "data": {
      "text/plain": [
       "<Figure size 396x342 with 0 Axes>"
      ]
     },
     "metadata": {},
     "output_type": "display_data"
    },
    {
     "data": {
      "text/plain": [
       "<Figure size 396x342 with 0 Axes>"
      ]
     },
     "metadata": {},
     "output_type": "display_data"
    },
    {
     "data": {
      "text/plain": [
       "<Figure size 396x342 with 0 Axes>"
      ]
     },
     "metadata": {},
     "output_type": "display_data"
    },
    {
     "data": {
      "text/plain": [
       "<Figure size 396x342 with 0 Axes>"
      ]
     },
     "metadata": {},
     "output_type": "display_data"
    },
    {
     "data": {
      "text/plain": [
       "<Figure size 396x342 with 0 Axes>"
      ]
     },
     "metadata": {},
     "output_type": "display_data"
    },
    {
     "data": {
      "text/plain": [
       "<Figure size 396x342 with 0 Axes>"
      ]
     },
     "metadata": {},
     "output_type": "display_data"
    },
    {
     "data": {
      "text/plain": [
       "<Figure size 396x342 with 0 Axes>"
      ]
     },
     "metadata": {},
     "output_type": "display_data"
    },
    {
     "data": {
      "text/plain": [
       "<Figure size 396x342 with 0 Axes>"
      ]
     },
     "metadata": {},
     "output_type": "display_data"
    },
    {
     "data": {
      "text/plain": [
       "<Figure size 396x342 with 0 Axes>"
      ]
     },
     "metadata": {},
     "output_type": "display_data"
    },
    {
     "data": {
      "text/plain": [
       "<Figure size 396x342 with 0 Axes>"
      ]
     },
     "metadata": {},
     "output_type": "display_data"
    },
    {
     "data": {
      "text/plain": [
       "<Figure size 396x342 with 0 Axes>"
      ]
     },
     "metadata": {},
     "output_type": "display_data"
    },
    {
     "data": {
      "text/plain": [
       "<Figure size 396x342 with 0 Axes>"
      ]
     },
     "metadata": {},
     "output_type": "display_data"
    },
    {
     "data": {
      "text/plain": [
       "<Figure size 396x342 with 0 Axes>"
      ]
     },
     "metadata": {},
     "output_type": "display_data"
    },
    {
     "data": {
      "text/plain": [
       "<Figure size 396x342 with 0 Axes>"
      ]
     },
     "metadata": {},
     "output_type": "display_data"
    },
    {
     "data": {
      "text/plain": [
       "<Figure size 396x342 with 0 Axes>"
      ]
     },
     "metadata": {},
     "output_type": "display_data"
    },
    {
     "data": {
      "text/plain": [
       "<Figure size 396x342 with 0 Axes>"
      ]
     },
     "metadata": {},
     "output_type": "display_data"
    },
    {
     "data": {
      "text/plain": [
       "<Figure size 396x342 with 0 Axes>"
      ]
     },
     "metadata": {},
     "output_type": "display_data"
    },
    {
     "data": {
      "text/plain": [
       "<Figure size 396x342 with 0 Axes>"
      ]
     },
     "metadata": {},
     "output_type": "display_data"
    },
    {
     "data": {
      "text/plain": [
       "<Figure size 396x342 with 0 Axes>"
      ]
     },
     "metadata": {},
     "output_type": "display_data"
    },
    {
     "data": {
      "text/plain": [
       "<Figure size 396x342 with 0 Axes>"
      ]
     },
     "metadata": {},
     "output_type": "display_data"
    },
    {
     "data": {
      "text/plain": [
       "<Figure size 396x342 with 0 Axes>"
      ]
     },
     "metadata": {},
     "output_type": "display_data"
    },
    {
     "data": {
      "text/plain": [
       "<Figure size 396x342 with 0 Axes>"
      ]
     },
     "metadata": {},
     "output_type": "display_data"
    },
    {
     "data": {
      "text/plain": [
       "<Figure size 396x342 with 0 Axes>"
      ]
     },
     "metadata": {},
     "output_type": "display_data"
    },
    {
     "data": {
      "text/plain": [
       "<Figure size 396x342 with 0 Axes>"
      ]
     },
     "metadata": {},
     "output_type": "display_data"
    },
    {
     "data": {
      "text/plain": [
       "<Figure size 396x342 with 0 Axes>"
      ]
     },
     "metadata": {},
     "output_type": "display_data"
    },
    {
     "data": {
      "text/plain": [
       "<Figure size 396x342 with 0 Axes>"
      ]
     },
     "metadata": {},
     "output_type": "display_data"
    },
    {
     "data": {
      "text/plain": [
       "<Figure size 396x342 with 0 Axes>"
      ]
     },
     "metadata": {},
     "output_type": "display_data"
    },
    {
     "data": {
      "text/plain": [
       "<Figure size 396x342 with 0 Axes>"
      ]
     },
     "metadata": {},
     "output_type": "display_data"
    },
    {
     "data": {
      "text/plain": [
       "<Figure size 396x342 with 0 Axes>"
      ]
     },
     "metadata": {},
     "output_type": "display_data"
    },
    {
     "data": {
      "text/plain": [
       "<Figure size 396x342 with 0 Axes>"
      ]
     },
     "metadata": {},
     "output_type": "display_data"
    },
    {
     "data": {
      "text/plain": [
       "<Figure size 396x342 with 0 Axes>"
      ]
     },
     "metadata": {},
     "output_type": "display_data"
    },
    {
     "data": {
      "text/plain": [
       "<Figure size 396x342 with 0 Axes>"
      ]
     },
     "metadata": {},
     "output_type": "display_data"
    },
    {
     "data": {
      "text/plain": [
       "<Figure size 396x342 with 0 Axes>"
      ]
     },
     "metadata": {},
     "output_type": "display_data"
    },
    {
     "data": {
      "text/plain": [
       "<Figure size 396x342 with 0 Axes>"
      ]
     },
     "metadata": {},
     "output_type": "display_data"
    },
    {
     "data": {
      "text/plain": [
       "<Figure size 396x342 with 0 Axes>"
      ]
     },
     "metadata": {},
     "output_type": "display_data"
    },
    {
     "data": {
      "text/plain": [
       "<Figure size 396x342 with 0 Axes>"
      ]
     },
     "metadata": {},
     "output_type": "display_data"
    },
    {
     "data": {
      "text/plain": [
       "<Figure size 396x342 with 0 Axes>"
      ]
     },
     "metadata": {},
     "output_type": "display_data"
    },
    {
     "data": {
      "text/plain": [
       "<Figure size 396x342 with 0 Axes>"
      ]
     },
     "metadata": {},
     "output_type": "display_data"
    },
    {
     "data": {
      "text/plain": [
       "<Figure size 396x342 with 0 Axes>"
      ]
     },
     "metadata": {},
     "output_type": "display_data"
    },
    {
     "data": {
      "text/plain": [
       "<Figure size 396x342 with 0 Axes>"
      ]
     },
     "metadata": {},
     "output_type": "display_data"
    },
    {
     "data": {
      "text/plain": [
       "<Figure size 396x342 with 0 Axes>"
      ]
     },
     "metadata": {},
     "output_type": "display_data"
    },
    {
     "data": {
      "text/plain": [
       "<Figure size 396x342 with 0 Axes>"
      ]
     },
     "metadata": {},
     "output_type": "display_data"
    },
    {
     "data": {
      "text/plain": [
       "<Figure size 396x342 with 0 Axes>"
      ]
     },
     "metadata": {},
     "output_type": "display_data"
    },
    {
     "data": {
      "text/plain": [
       "<Figure size 396x342 with 0 Axes>"
      ]
     },
     "metadata": {},
     "output_type": "display_data"
    },
    {
     "data": {
      "text/plain": [
       "<Figure size 396x342 with 0 Axes>"
      ]
     },
     "metadata": {},
     "output_type": "display_data"
    },
    {
     "data": {
      "text/plain": [
       "<Figure size 396x342 with 0 Axes>"
      ]
     },
     "metadata": {},
     "output_type": "display_data"
    },
    {
     "data": {
      "text/plain": [
       "<Figure size 396x342 with 0 Axes>"
      ]
     },
     "metadata": {},
     "output_type": "display_data"
    },
    {
     "data": {
      "text/plain": [
       "<Figure size 396x342 with 0 Axes>"
      ]
     },
     "metadata": {},
     "output_type": "display_data"
    },
    {
     "data": {
      "text/plain": [
       "<Figure size 396x342 with 0 Axes>"
      ]
     },
     "metadata": {},
     "output_type": "display_data"
    },
    {
     "data": {
      "text/plain": [
       "<Figure size 396x342 with 0 Axes>"
      ]
     },
     "metadata": {},
     "output_type": "display_data"
    },
    {
     "data": {
      "text/plain": [
       "<Figure size 396x342 with 0 Axes>"
      ]
     },
     "metadata": {},
     "output_type": "display_data"
    },
    {
     "data": {
      "text/plain": [
       "<Figure size 396x342 with 0 Axes>"
      ]
     },
     "metadata": {},
     "output_type": "display_data"
    },
    {
     "data": {
      "text/plain": [
       "<Figure size 396x342 with 0 Axes>"
      ]
     },
     "metadata": {},
     "output_type": "display_data"
    },
    {
     "data": {
      "text/plain": [
       "<Figure size 396x342 with 0 Axes>"
      ]
     },
     "metadata": {},
     "output_type": "display_data"
    },
    {
     "data": {
      "text/plain": [
       "<Figure size 396x342 with 0 Axes>"
      ]
     },
     "metadata": {},
     "output_type": "display_data"
    },
    {
     "data": {
      "text/plain": [
       "<Figure size 396x342 with 0 Axes>"
      ]
     },
     "metadata": {},
     "output_type": "display_data"
    },
    {
     "data": {
      "text/plain": [
       "<Figure size 396x342 with 0 Axes>"
      ]
     },
     "metadata": {},
     "output_type": "display_data"
    },
    {
     "data": {
      "text/plain": [
       "<Figure size 396x342 with 0 Axes>"
      ]
     },
     "metadata": {},
     "output_type": "display_data"
    },
    {
     "data": {
      "text/plain": [
       "<Figure size 396x342 with 0 Axes>"
      ]
     },
     "metadata": {},
     "output_type": "display_data"
    },
    {
     "data": {
      "text/plain": [
       "<Figure size 396x342 with 0 Axes>"
      ]
     },
     "metadata": {},
     "output_type": "display_data"
    },
    {
     "data": {
      "text/plain": [
       "<Figure size 396x342 with 0 Axes>"
      ]
     },
     "metadata": {},
     "output_type": "display_data"
    },
    {
     "data": {
      "text/plain": [
       "<Figure size 396x342 with 0 Axes>"
      ]
     },
     "metadata": {},
     "output_type": "display_data"
    },
    {
     "data": {
      "text/plain": [
       "<Figure size 396x342 with 0 Axes>"
      ]
     },
     "metadata": {},
     "output_type": "display_data"
    },
    {
     "data": {
      "text/plain": [
       "<Figure size 396x342 with 0 Axes>"
      ]
     },
     "metadata": {},
     "output_type": "display_data"
    },
    {
     "data": {
      "text/plain": [
       "<Figure size 396x342 with 0 Axes>"
      ]
     },
     "metadata": {},
     "output_type": "display_data"
    },
    {
     "data": {
      "text/plain": [
       "<Figure size 396x342 with 0 Axes>"
      ]
     },
     "metadata": {},
     "output_type": "display_data"
    },
    {
     "data": {
      "text/plain": [
       "<Figure size 396x342 with 0 Axes>"
      ]
     },
     "metadata": {},
     "output_type": "display_data"
    },
    {
     "data": {
      "text/plain": [
       "<Figure size 396x342 with 0 Axes>"
      ]
     },
     "metadata": {},
     "output_type": "display_data"
    },
    {
     "data": {
      "text/plain": [
       "<Figure size 396x342 with 0 Axes>"
      ]
     },
     "metadata": {},
     "output_type": "display_data"
    },
    {
     "data": {
      "text/plain": [
       "<Figure size 396x342 with 0 Axes>"
      ]
     },
     "metadata": {},
     "output_type": "display_data"
    },
    {
     "data": {
      "text/plain": [
       "<Figure size 396x342 with 0 Axes>"
      ]
     },
     "metadata": {},
     "output_type": "display_data"
    },
    {
     "data": {
      "text/plain": [
       "<Figure size 396x342 with 0 Axes>"
      ]
     },
     "metadata": {},
     "output_type": "display_data"
    },
    {
     "data": {
      "text/plain": [
       "<Figure size 396x342 with 0 Axes>"
      ]
     },
     "metadata": {},
     "output_type": "display_data"
    },
    {
     "data": {
      "text/plain": [
       "<Figure size 396x342 with 0 Axes>"
      ]
     },
     "metadata": {},
     "output_type": "display_data"
    },
    {
     "data": {
      "text/plain": [
       "<Figure size 396x342 with 0 Axes>"
      ]
     },
     "metadata": {},
     "output_type": "display_data"
    },
    {
     "data": {
      "text/plain": [
       "<Figure size 396x342 with 0 Axes>"
      ]
     },
     "metadata": {},
     "output_type": "display_data"
    },
    {
     "data": {
      "text/plain": [
       "<Figure size 396x342 with 0 Axes>"
      ]
     },
     "metadata": {},
     "output_type": "display_data"
    },
    {
     "data": {
      "text/plain": [
       "<Figure size 396x342 with 0 Axes>"
      ]
     },
     "metadata": {},
     "output_type": "display_data"
    },
    {
     "data": {
      "text/plain": [
       "<Figure size 396x342 with 0 Axes>"
      ]
     },
     "metadata": {},
     "output_type": "display_data"
    },
    {
     "data": {
      "text/plain": [
       "<Figure size 396x342 with 0 Axes>"
      ]
     },
     "metadata": {},
     "output_type": "display_data"
    },
    {
     "data": {
      "text/plain": [
       "<Figure size 396x342 with 0 Axes>"
      ]
     },
     "metadata": {},
     "output_type": "display_data"
    },
    {
     "data": {
      "text/plain": [
       "<Figure size 396x342 with 0 Axes>"
      ]
     },
     "metadata": {},
     "output_type": "display_data"
    },
    {
     "data": {
      "text/plain": [
       "<Figure size 396x342 with 0 Axes>"
      ]
     },
     "metadata": {},
     "output_type": "display_data"
    },
    {
     "data": {
      "text/plain": [
       "<Figure size 396x342 with 0 Axes>"
      ]
     },
     "metadata": {},
     "output_type": "display_data"
    },
    {
     "data": {
      "text/plain": [
       "<Figure size 396x342 with 0 Axes>"
      ]
     },
     "metadata": {},
     "output_type": "display_data"
    },
    {
     "data": {
      "text/plain": [
       "<Figure size 396x342 with 0 Axes>"
      ]
     },
     "metadata": {},
     "output_type": "display_data"
    },
    {
     "data": {
      "text/plain": [
       "<Figure size 396x342 with 0 Axes>"
      ]
     },
     "metadata": {},
     "output_type": "display_data"
    },
    {
     "data": {
      "text/plain": [
       "<Figure size 396x342 with 0 Axes>"
      ]
     },
     "metadata": {},
     "output_type": "display_data"
    },
    {
     "data": {
      "text/plain": [
       "<Figure size 396x342 with 0 Axes>"
      ]
     },
     "metadata": {},
     "output_type": "display_data"
    },
    {
     "data": {
      "text/plain": [
       "<Figure size 396x342 with 0 Axes>"
      ]
     },
     "metadata": {},
     "output_type": "display_data"
    },
    {
     "data": {
      "text/plain": [
       "<Figure size 396x342 with 0 Axes>"
      ]
     },
     "metadata": {},
     "output_type": "display_data"
    },
    {
     "data": {
      "text/plain": [
       "<Figure size 396x342 with 0 Axes>"
      ]
     },
     "metadata": {},
     "output_type": "display_data"
    },
    {
     "data": {
      "text/plain": [
       "<Figure size 396x342 with 0 Axes>"
      ]
     },
     "metadata": {},
     "output_type": "display_data"
    },
    {
     "data": {
      "text/plain": [
       "<Figure size 396x342 with 0 Axes>"
      ]
     },
     "metadata": {},
     "output_type": "display_data"
    },
    {
     "data": {
      "text/plain": [
       "<Figure size 396x342 with 0 Axes>"
      ]
     },
     "metadata": {},
     "output_type": "display_data"
    },
    {
     "data": {
      "text/plain": [
       "<Figure size 396x342 with 0 Axes>"
      ]
     },
     "metadata": {},
     "output_type": "display_data"
    },
    {
     "data": {
      "text/plain": [
       "<Figure size 396x342 with 0 Axes>"
      ]
     },
     "metadata": {},
     "output_type": "display_data"
    },
    {
     "data": {
      "text/plain": [
       "<Figure size 396x342 with 0 Axes>"
      ]
     },
     "metadata": {},
     "output_type": "display_data"
    },
    {
     "data": {
      "text/plain": [
       "<Figure size 396x342 with 0 Axes>"
      ]
     },
     "metadata": {},
     "output_type": "display_data"
    },
    {
     "data": {
      "text/plain": [
       "<Figure size 396x342 with 0 Axes>"
      ]
     },
     "metadata": {},
     "output_type": "display_data"
    },
    {
     "data": {
      "text/plain": [
       "<Figure size 396x342 with 0 Axes>"
      ]
     },
     "metadata": {},
     "output_type": "display_data"
    },
    {
     "data": {
      "text/plain": [
       "<Figure size 396x342 with 0 Axes>"
      ]
     },
     "metadata": {},
     "output_type": "display_data"
    },
    {
     "data": {
      "text/plain": [
       "<Figure size 396x342 with 0 Axes>"
      ]
     },
     "metadata": {},
     "output_type": "display_data"
    },
    {
     "data": {
      "text/plain": [
       "<Figure size 396x342 with 0 Axes>"
      ]
     },
     "metadata": {},
     "output_type": "display_data"
    },
    {
     "data": {
      "text/plain": [
       "<Figure size 396x342 with 0 Axes>"
      ]
     },
     "metadata": {},
     "output_type": "display_data"
    },
    {
     "data": {
      "text/plain": [
       "<Figure size 396x342 with 0 Axes>"
      ]
     },
     "metadata": {},
     "output_type": "display_data"
    },
    {
     "data": {
      "text/plain": [
       "<Figure size 396x342 with 0 Axes>"
      ]
     },
     "metadata": {},
     "output_type": "display_data"
    },
    {
     "data": {
      "text/plain": [
       "<Figure size 396x342 with 0 Axes>"
      ]
     },
     "metadata": {},
     "output_type": "display_data"
    },
    {
     "data": {
      "text/plain": [
       "<Figure size 396x342 with 0 Axes>"
      ]
     },
     "metadata": {},
     "output_type": "display_data"
    },
    {
     "data": {
      "text/plain": [
       "<Figure size 396x342 with 0 Axes>"
      ]
     },
     "metadata": {},
     "output_type": "display_data"
    },
    {
     "data": {
      "text/plain": [
       "<Figure size 396x342 with 0 Axes>"
      ]
     },
     "metadata": {},
     "output_type": "display_data"
    },
    {
     "data": {
      "text/plain": [
       "<Figure size 396x342 with 0 Axes>"
      ]
     },
     "metadata": {},
     "output_type": "display_data"
    },
    {
     "data": {
      "text/plain": [
       "<Figure size 396x342 with 0 Axes>"
      ]
     },
     "metadata": {},
     "output_type": "display_data"
    },
    {
     "data": {
      "text/plain": [
       "<Figure size 396x342 with 0 Axes>"
      ]
     },
     "metadata": {},
     "output_type": "display_data"
    },
    {
     "data": {
      "text/plain": [
       "<Figure size 396x342 with 0 Axes>"
      ]
     },
     "metadata": {},
     "output_type": "display_data"
    },
    {
     "data": {
      "text/plain": [
       "<Figure size 396x342 with 0 Axes>"
      ]
     },
     "metadata": {},
     "output_type": "display_data"
    },
    {
     "data": {
      "text/plain": [
       "<Figure size 396x342 with 0 Axes>"
      ]
     },
     "metadata": {},
     "output_type": "display_data"
    },
    {
     "data": {
      "text/plain": [
       "<Figure size 396x342 with 0 Axes>"
      ]
     },
     "metadata": {},
     "output_type": "display_data"
    },
    {
     "data": {
      "text/plain": [
       "<Figure size 396x342 with 0 Axes>"
      ]
     },
     "metadata": {},
     "output_type": "display_data"
    },
    {
     "data": {
      "text/plain": [
       "<Figure size 396x342 with 0 Axes>"
      ]
     },
     "metadata": {},
     "output_type": "display_data"
    },
    {
     "data": {
      "text/plain": [
       "<Figure size 396x342 with 0 Axes>"
      ]
     },
     "metadata": {},
     "output_type": "display_data"
    },
    {
     "data": {
      "text/plain": [
       "<Figure size 396x342 with 0 Axes>"
      ]
     },
     "metadata": {},
     "output_type": "display_data"
    },
    {
     "data": {
      "text/plain": [
       "<Figure size 396x342 with 0 Axes>"
      ]
     },
     "metadata": {},
     "output_type": "display_data"
    },
    {
     "data": {
      "text/plain": [
       "<Figure size 396x342 with 0 Axes>"
      ]
     },
     "metadata": {},
     "output_type": "display_data"
    },
    {
     "data": {
      "text/plain": [
       "<Figure size 396x342 with 0 Axes>"
      ]
     },
     "metadata": {},
     "output_type": "display_data"
    },
    {
     "data": {
      "text/plain": [
       "<Figure size 396x342 with 0 Axes>"
      ]
     },
     "metadata": {},
     "output_type": "display_data"
    },
    {
     "data": {
      "text/plain": [
       "<Figure size 396x342 with 0 Axes>"
      ]
     },
     "metadata": {},
     "output_type": "display_data"
    },
    {
     "data": {
      "text/plain": [
       "<Figure size 396x342 with 0 Axes>"
      ]
     },
     "metadata": {},
     "output_type": "display_data"
    },
    {
     "data": {
      "text/plain": [
       "<Figure size 396x342 with 0 Axes>"
      ]
     },
     "metadata": {},
     "output_type": "display_data"
    },
    {
     "data": {
      "text/plain": [
       "<Figure size 396x342 with 0 Axes>"
      ]
     },
     "metadata": {},
     "output_type": "display_data"
    },
    {
     "data": {
      "text/plain": [
       "<Figure size 396x342 with 0 Axes>"
      ]
     },
     "metadata": {},
     "output_type": "display_data"
    },
    {
     "data": {
      "text/plain": [
       "<Figure size 396x342 with 0 Axes>"
      ]
     },
     "metadata": {},
     "output_type": "display_data"
    },
    {
     "data": {
      "text/plain": [
       "<Figure size 396x342 with 0 Axes>"
      ]
     },
     "metadata": {},
     "output_type": "display_data"
    },
    {
     "data": {
      "text/plain": [
       "<Figure size 396x342 with 0 Axes>"
      ]
     },
     "metadata": {},
     "output_type": "display_data"
    },
    {
     "data": {
      "text/plain": [
       "<Figure size 396x342 with 0 Axes>"
      ]
     },
     "metadata": {},
     "output_type": "display_data"
    },
    {
     "data": {
      "text/plain": [
       "<Figure size 396x342 with 0 Axes>"
      ]
     },
     "metadata": {},
     "output_type": "display_data"
    },
    {
     "data": {
      "text/plain": [
       "<Figure size 396x342 with 0 Axes>"
      ]
     },
     "metadata": {},
     "output_type": "display_data"
    },
    {
     "data": {
      "text/plain": [
       "<Figure size 396x342 with 0 Axes>"
      ]
     },
     "metadata": {},
     "output_type": "display_data"
    },
    {
     "data": {
      "text/plain": [
       "<Figure size 396x342 with 0 Axes>"
      ]
     },
     "metadata": {},
     "output_type": "display_data"
    },
    {
     "data": {
      "text/plain": [
       "<Figure size 396x342 with 0 Axes>"
      ]
     },
     "metadata": {},
     "output_type": "display_data"
    },
    {
     "data": {
      "text/plain": [
       "<Figure size 396x342 with 0 Axes>"
      ]
     },
     "metadata": {},
     "output_type": "display_data"
    },
    {
     "data": {
      "text/plain": [
       "<Figure size 396x342 with 0 Axes>"
      ]
     },
     "metadata": {},
     "output_type": "display_data"
    },
    {
     "data": {
      "text/plain": [
       "<Figure size 396x342 with 0 Axes>"
      ]
     },
     "metadata": {},
     "output_type": "display_data"
    },
    {
     "data": {
      "text/plain": [
       "<Figure size 396x342 with 0 Axes>"
      ]
     },
     "metadata": {},
     "output_type": "display_data"
    },
    {
     "data": {
      "text/plain": [
       "<Figure size 396x342 with 0 Axes>"
      ]
     },
     "metadata": {},
     "output_type": "display_data"
    },
    {
     "data": {
      "text/plain": [
       "<Figure size 396x342 with 0 Axes>"
      ]
     },
     "metadata": {},
     "output_type": "display_data"
    },
    {
     "data": {
      "text/plain": [
       "<Figure size 396x342 with 0 Axes>"
      ]
     },
     "metadata": {},
     "output_type": "display_data"
    },
    {
     "data": {
      "text/plain": [
       "<Figure size 396x342 with 0 Axes>"
      ]
     },
     "metadata": {},
     "output_type": "display_data"
    },
    {
     "data": {
      "text/plain": [
       "<Figure size 396x342 with 0 Axes>"
      ]
     },
     "metadata": {},
     "output_type": "display_data"
    },
    {
     "data": {
      "text/plain": [
       "<Figure size 396x342 with 0 Axes>"
      ]
     },
     "metadata": {},
     "output_type": "display_data"
    },
    {
     "data": {
      "text/plain": [
       "<Figure size 396x342 with 0 Axes>"
      ]
     },
     "metadata": {},
     "output_type": "display_data"
    },
    {
     "data": {
      "text/plain": [
       "<Figure size 396x342 with 0 Axes>"
      ]
     },
     "metadata": {},
     "output_type": "display_data"
    },
    {
     "data": {
      "text/plain": [
       "<Figure size 396x342 with 0 Axes>"
      ]
     },
     "metadata": {},
     "output_type": "display_data"
    },
    {
     "data": {
      "text/plain": [
       "<Figure size 396x342 with 0 Axes>"
      ]
     },
     "metadata": {},
     "output_type": "display_data"
    },
    {
     "data": {
      "text/plain": [
       "<Figure size 396x342 with 0 Axes>"
      ]
     },
     "metadata": {},
     "output_type": "display_data"
    },
    {
     "data": {
      "text/plain": [
       "<Figure size 396x342 with 0 Axes>"
      ]
     },
     "metadata": {},
     "output_type": "display_data"
    },
    {
     "data": {
      "text/plain": [
       "<Figure size 396x342 with 0 Axes>"
      ]
     },
     "metadata": {},
     "output_type": "display_data"
    },
    {
     "data": {
      "text/plain": [
       "<Figure size 396x342 with 0 Axes>"
      ]
     },
     "metadata": {},
     "output_type": "display_data"
    },
    {
     "data": {
      "text/plain": [
       "<Figure size 396x342 with 0 Axes>"
      ]
     },
     "metadata": {},
     "output_type": "display_data"
    },
    {
     "data": {
      "text/plain": [
       "<Figure size 396x342 with 0 Axes>"
      ]
     },
     "metadata": {},
     "output_type": "display_data"
    },
    {
     "data": {
      "text/plain": [
       "<Figure size 396x342 with 0 Axes>"
      ]
     },
     "metadata": {},
     "output_type": "display_data"
    },
    {
     "data": {
      "text/plain": [
       "<Figure size 396x342 with 0 Axes>"
      ]
     },
     "metadata": {},
     "output_type": "display_data"
    },
    {
     "data": {
      "text/plain": [
       "<Figure size 396x342 with 0 Axes>"
      ]
     },
     "metadata": {},
     "output_type": "display_data"
    },
    {
     "data": {
      "text/plain": [
       "<Figure size 396x342 with 0 Axes>"
      ]
     },
     "metadata": {},
     "output_type": "display_data"
    },
    {
     "data": {
      "text/plain": [
       "<Figure size 396x342 with 0 Axes>"
      ]
     },
     "metadata": {},
     "output_type": "display_data"
    },
    {
     "data": {
      "text/plain": [
       "<Figure size 396x342 with 0 Axes>"
      ]
     },
     "metadata": {},
     "output_type": "display_data"
    },
    {
     "data": {
      "text/plain": [
       "<Figure size 396x342 with 0 Axes>"
      ]
     },
     "metadata": {},
     "output_type": "display_data"
    },
    {
     "data": {
      "text/plain": [
       "<Figure size 396x342 with 0 Axes>"
      ]
     },
     "metadata": {},
     "output_type": "display_data"
    },
    {
     "data": {
      "text/plain": [
       "<Figure size 396x342 with 0 Axes>"
      ]
     },
     "metadata": {},
     "output_type": "display_data"
    },
    {
     "data": {
      "text/plain": [
       "<Figure size 396x342 with 0 Axes>"
      ]
     },
     "metadata": {},
     "output_type": "display_data"
    },
    {
     "data": {
      "text/plain": [
       "<Figure size 396x342 with 0 Axes>"
      ]
     },
     "metadata": {},
     "output_type": "display_data"
    },
    {
     "data": {
      "text/plain": [
       "<Figure size 396x342 with 0 Axes>"
      ]
     },
     "metadata": {},
     "output_type": "display_data"
    },
    {
     "data": {
      "text/plain": [
       "<Figure size 396x342 with 0 Axes>"
      ]
     },
     "metadata": {},
     "output_type": "display_data"
    },
    {
     "data": {
      "text/plain": [
       "<Figure size 396x342 with 0 Axes>"
      ]
     },
     "metadata": {},
     "output_type": "display_data"
    },
    {
     "data": {
      "text/plain": [
       "<Figure size 396x342 with 0 Axes>"
      ]
     },
     "metadata": {},
     "output_type": "display_data"
    },
    {
     "data": {
      "text/plain": [
       "<Figure size 396x342 with 0 Axes>"
      ]
     },
     "metadata": {},
     "output_type": "display_data"
    },
    {
     "data": {
      "text/plain": [
       "<Figure size 396x342 with 0 Axes>"
      ]
     },
     "metadata": {},
     "output_type": "display_data"
    },
    {
     "data": {
      "text/plain": [
       "<Figure size 396x342 with 0 Axes>"
      ]
     },
     "metadata": {},
     "output_type": "display_data"
    },
    {
     "data": {
      "text/plain": [
       "<Figure size 396x342 with 0 Axes>"
      ]
     },
     "metadata": {},
     "output_type": "display_data"
    },
    {
     "data": {
      "text/plain": [
       "<Figure size 396x342 with 0 Axes>"
      ]
     },
     "metadata": {},
     "output_type": "display_data"
    },
    {
     "data": {
      "text/plain": [
       "<Figure size 396x342 with 0 Axes>"
      ]
     },
     "metadata": {},
     "output_type": "display_data"
    },
    {
     "data": {
      "text/plain": [
       "<Figure size 396x342 with 0 Axes>"
      ]
     },
     "metadata": {},
     "output_type": "display_data"
    },
    {
     "data": {
      "text/plain": [
       "<Figure size 396x342 with 0 Axes>"
      ]
     },
     "metadata": {},
     "output_type": "display_data"
    },
    {
     "data": {
      "text/plain": [
       "<Figure size 396x342 with 0 Axes>"
      ]
     },
     "metadata": {},
     "output_type": "display_data"
    },
    {
     "data": {
      "text/plain": [
       "<Figure size 396x342 with 0 Axes>"
      ]
     },
     "metadata": {},
     "output_type": "display_data"
    },
    {
     "data": {
      "text/plain": [
       "<Figure size 396x342 with 0 Axes>"
      ]
     },
     "metadata": {},
     "output_type": "display_data"
    },
    {
     "data": {
      "text/plain": [
       "<Figure size 396x342 with 0 Axes>"
      ]
     },
     "metadata": {},
     "output_type": "display_data"
    },
    {
     "data": {
      "text/plain": [
       "<Figure size 396x342 with 0 Axes>"
      ]
     },
     "metadata": {},
     "output_type": "display_data"
    },
    {
     "data": {
      "text/plain": [
       "<Figure size 396x342 with 0 Axes>"
      ]
     },
     "metadata": {},
     "output_type": "display_data"
    },
    {
     "data": {
      "text/plain": [
       "<Figure size 396x342 with 0 Axes>"
      ]
     },
     "metadata": {},
     "output_type": "display_data"
    },
    {
     "data": {
      "text/plain": [
       "<Figure size 396x342 with 0 Axes>"
      ]
     },
     "metadata": {},
     "output_type": "display_data"
    },
    {
     "data": {
      "text/plain": [
       "<Figure size 396x342 with 0 Axes>"
      ]
     },
     "metadata": {},
     "output_type": "display_data"
    },
    {
     "data": {
      "text/plain": [
       "<Figure size 396x342 with 0 Axes>"
      ]
     },
     "metadata": {},
     "output_type": "display_data"
    },
    {
     "data": {
      "text/plain": [
       "<Figure size 396x342 with 0 Axes>"
      ]
     },
     "metadata": {},
     "output_type": "display_data"
    },
    {
     "data": {
      "text/plain": [
       "<Figure size 396x342 with 0 Axes>"
      ]
     },
     "metadata": {},
     "output_type": "display_data"
    },
    {
     "data": {
      "text/plain": [
       "<Figure size 396x342 with 0 Axes>"
      ]
     },
     "metadata": {},
     "output_type": "display_data"
    },
    {
     "data": {
      "text/plain": [
       "<Figure size 396x342 with 0 Axes>"
      ]
     },
     "metadata": {},
     "output_type": "display_data"
    },
    {
     "data": {
      "text/plain": [
       "<Figure size 396x342 with 0 Axes>"
      ]
     },
     "metadata": {},
     "output_type": "display_data"
    },
    {
     "data": {
      "text/plain": [
       "<Figure size 396x342 with 0 Axes>"
      ]
     },
     "metadata": {},
     "output_type": "display_data"
    },
    {
     "data": {
      "text/plain": [
       "<Figure size 396x342 with 0 Axes>"
      ]
     },
     "metadata": {},
     "output_type": "display_data"
    },
    {
     "data": {
      "text/plain": [
       "<Figure size 396x342 with 0 Axes>"
      ]
     },
     "metadata": {},
     "output_type": "display_data"
    },
    {
     "data": {
      "text/plain": [
       "<Figure size 396x342 with 0 Axes>"
      ]
     },
     "metadata": {},
     "output_type": "display_data"
    },
    {
     "data": {
      "text/plain": [
       "<Figure size 396x342 with 0 Axes>"
      ]
     },
     "metadata": {},
     "output_type": "display_data"
    },
    {
     "data": {
      "text/plain": [
       "<Figure size 396x342 with 0 Axes>"
      ]
     },
     "metadata": {},
     "output_type": "display_data"
    },
    {
     "data": {
      "text/plain": [
       "<Figure size 396x342 with 0 Axes>"
      ]
     },
     "metadata": {},
     "output_type": "display_data"
    },
    {
     "data": {
      "text/plain": [
       "<Figure size 396x342 with 0 Axes>"
      ]
     },
     "metadata": {},
     "output_type": "display_data"
    },
    {
     "data": {
      "text/plain": [
       "<Figure size 396x342 with 0 Axes>"
      ]
     },
     "metadata": {},
     "output_type": "display_data"
    },
    {
     "data": {
      "text/plain": [
       "<Figure size 396x342 with 0 Axes>"
      ]
     },
     "metadata": {},
     "output_type": "display_data"
    },
    {
     "data": {
      "text/plain": [
       "<Figure size 396x342 with 0 Axes>"
      ]
     },
     "metadata": {},
     "output_type": "display_data"
    },
    {
     "data": {
      "text/plain": [
       "<Figure size 396x342 with 0 Axes>"
      ]
     },
     "metadata": {},
     "output_type": "display_data"
    },
    {
     "data": {
      "text/plain": [
       "<Figure size 396x342 with 0 Axes>"
      ]
     },
     "metadata": {},
     "output_type": "display_data"
    },
    {
     "data": {
      "text/plain": [
       "<Figure size 396x342 with 0 Axes>"
      ]
     },
     "metadata": {},
     "output_type": "display_data"
    },
    {
     "data": {
      "text/plain": [
       "<Figure size 396x342 with 0 Axes>"
      ]
     },
     "metadata": {},
     "output_type": "display_data"
    },
    {
     "data": {
      "text/plain": [
       "<Figure size 396x342 with 0 Axes>"
      ]
     },
     "metadata": {},
     "output_type": "display_data"
    },
    {
     "data": {
      "text/plain": [
       "<Figure size 396x342 with 0 Axes>"
      ]
     },
     "metadata": {},
     "output_type": "display_data"
    },
    {
     "data": {
      "text/plain": [
       "<Figure size 396x342 with 0 Axes>"
      ]
     },
     "metadata": {},
     "output_type": "display_data"
    },
    {
     "data": {
      "text/plain": [
       "<Figure size 396x342 with 0 Axes>"
      ]
     },
     "metadata": {},
     "output_type": "display_data"
    },
    {
     "data": {
      "text/plain": [
       "<Figure size 396x342 with 0 Axes>"
      ]
     },
     "metadata": {},
     "output_type": "display_data"
    },
    {
     "data": {
      "text/plain": [
       "<Figure size 396x342 with 0 Axes>"
      ]
     },
     "metadata": {},
     "output_type": "display_data"
    },
    {
     "data": {
      "text/plain": [
       "<Figure size 396x342 with 0 Axes>"
      ]
     },
     "metadata": {},
     "output_type": "display_data"
    },
    {
     "data": {
      "text/plain": [
       "<Figure size 396x342 with 0 Axes>"
      ]
     },
     "metadata": {},
     "output_type": "display_data"
    },
    {
     "data": {
      "text/plain": [
       "<Figure size 396x342 with 0 Axes>"
      ]
     },
     "metadata": {},
     "output_type": "display_data"
    },
    {
     "data": {
      "text/plain": [
       "<Figure size 396x342 with 0 Axes>"
      ]
     },
     "metadata": {},
     "output_type": "display_data"
    },
    {
     "data": {
      "text/plain": [
       "<Figure size 396x342 with 0 Axes>"
      ]
     },
     "metadata": {},
     "output_type": "display_data"
    },
    {
     "data": {
      "text/plain": [
       "<Figure size 396x342 with 0 Axes>"
      ]
     },
     "metadata": {},
     "output_type": "display_data"
    },
    {
     "data": {
      "text/plain": [
       "<Figure size 396x342 with 0 Axes>"
      ]
     },
     "metadata": {},
     "output_type": "display_data"
    },
    {
     "data": {
      "text/plain": [
       "<Figure size 396x342 with 0 Axes>"
      ]
     },
     "metadata": {},
     "output_type": "display_data"
    },
    {
     "data": {
      "text/plain": [
       "<Figure size 396x342 with 0 Axes>"
      ]
     },
     "metadata": {},
     "output_type": "display_data"
    },
    {
     "data": {
      "text/plain": [
       "<Figure size 396x342 with 0 Axes>"
      ]
     },
     "metadata": {},
     "output_type": "display_data"
    },
    {
     "data": {
      "text/plain": [
       "<Figure size 396x342 with 0 Axes>"
      ]
     },
     "metadata": {},
     "output_type": "display_data"
    },
    {
     "data": {
      "text/plain": [
       "<Figure size 396x342 with 0 Axes>"
      ]
     },
     "metadata": {},
     "output_type": "display_data"
    },
    {
     "data": {
      "text/plain": [
       "<Figure size 396x342 with 0 Axes>"
      ]
     },
     "metadata": {},
     "output_type": "display_data"
    },
    {
     "data": {
      "text/plain": [
       "<Figure size 396x342 with 0 Axes>"
      ]
     },
     "metadata": {},
     "output_type": "display_data"
    },
    {
     "data": {
      "text/plain": [
       "<Figure size 396x342 with 0 Axes>"
      ]
     },
     "metadata": {},
     "output_type": "display_data"
    },
    {
     "data": {
      "text/plain": [
       "<Figure size 396x342 with 0 Axes>"
      ]
     },
     "metadata": {},
     "output_type": "display_data"
    },
    {
     "data": {
      "text/plain": [
       "<Figure size 396x342 with 0 Axes>"
      ]
     },
     "metadata": {},
     "output_type": "display_data"
    },
    {
     "data": {
      "text/plain": [
       "<Figure size 396x342 with 0 Axes>"
      ]
     },
     "metadata": {},
     "output_type": "display_data"
    },
    {
     "data": {
      "text/plain": [
       "<Figure size 396x342 with 0 Axes>"
      ]
     },
     "metadata": {},
     "output_type": "display_data"
    },
    {
     "data": {
      "text/plain": [
       "<Figure size 396x342 with 0 Axes>"
      ]
     },
     "metadata": {},
     "output_type": "display_data"
    },
    {
     "data": {
      "text/plain": [
       "<Figure size 396x342 with 0 Axes>"
      ]
     },
     "metadata": {},
     "output_type": "display_data"
    },
    {
     "data": {
      "text/plain": [
       "<Figure size 396x342 with 0 Axes>"
      ]
     },
     "metadata": {},
     "output_type": "display_data"
    },
    {
     "data": {
      "text/plain": [
       "<Figure size 396x342 with 0 Axes>"
      ]
     },
     "metadata": {},
     "output_type": "display_data"
    },
    {
     "data": {
      "text/plain": [
       "<Figure size 396x342 with 0 Axes>"
      ]
     },
     "metadata": {},
     "output_type": "display_data"
    },
    {
     "data": {
      "text/plain": [
       "<Figure size 396x342 with 0 Axes>"
      ]
     },
     "metadata": {},
     "output_type": "display_data"
    },
    {
     "data": {
      "text/plain": [
       "<Figure size 396x342 with 0 Axes>"
      ]
     },
     "metadata": {},
     "output_type": "display_data"
    },
    {
     "data": {
      "text/plain": [
       "<Figure size 396x342 with 0 Axes>"
      ]
     },
     "metadata": {},
     "output_type": "display_data"
    },
    {
     "data": {
      "text/plain": [
       "<Figure size 396x342 with 0 Axes>"
      ]
     },
     "metadata": {},
     "output_type": "display_data"
    },
    {
     "data": {
      "text/plain": [
       "<Figure size 396x342 with 0 Axes>"
      ]
     },
     "metadata": {},
     "output_type": "display_data"
    },
    {
     "data": {
      "text/plain": [
       "<Figure size 396x342 with 0 Axes>"
      ]
     },
     "metadata": {},
     "output_type": "display_data"
    },
    {
     "data": {
      "text/plain": [
       "<Figure size 396x342 with 0 Axes>"
      ]
     },
     "metadata": {},
     "output_type": "display_data"
    },
    {
     "data": {
      "text/plain": [
       "<Figure size 396x342 with 0 Axes>"
      ]
     },
     "metadata": {},
     "output_type": "display_data"
    },
    {
     "data": {
      "text/plain": [
       "<Figure size 396x342 with 0 Axes>"
      ]
     },
     "metadata": {},
     "output_type": "display_data"
    },
    {
     "data": {
      "text/plain": [
       "<Figure size 396x342 with 0 Axes>"
      ]
     },
     "metadata": {},
     "output_type": "display_data"
    },
    {
     "data": {
      "text/plain": [
       "<Figure size 396x342 with 0 Axes>"
      ]
     },
     "metadata": {},
     "output_type": "display_data"
    },
    {
     "data": {
      "text/plain": [
       "<Figure size 396x342 with 0 Axes>"
      ]
     },
     "metadata": {},
     "output_type": "display_data"
    },
    {
     "data": {
      "text/plain": [
       "<Figure size 396x342 with 0 Axes>"
      ]
     },
     "metadata": {},
     "output_type": "display_data"
    },
    {
     "data": {
      "text/plain": [
       "<Figure size 396x342 with 0 Axes>"
      ]
     },
     "metadata": {},
     "output_type": "display_data"
    },
    {
     "data": {
      "text/plain": [
       "<Figure size 396x342 with 0 Axes>"
      ]
     },
     "metadata": {},
     "output_type": "display_data"
    },
    {
     "data": {
      "text/plain": [
       "<Figure size 396x342 with 0 Axes>"
      ]
     },
     "metadata": {},
     "output_type": "display_data"
    },
    {
     "data": {
      "text/plain": [
       "<Figure size 396x342 with 0 Axes>"
      ]
     },
     "metadata": {},
     "output_type": "display_data"
    },
    {
     "data": {
      "text/plain": [
       "<Figure size 396x342 with 0 Axes>"
      ]
     },
     "metadata": {},
     "output_type": "display_data"
    },
    {
     "data": {
      "text/plain": [
       "<Figure size 396x342 with 0 Axes>"
      ]
     },
     "metadata": {},
     "output_type": "display_data"
    },
    {
     "data": {
      "text/plain": [
       "<Figure size 396x342 with 0 Axes>"
      ]
     },
     "metadata": {},
     "output_type": "display_data"
    },
    {
     "data": {
      "text/plain": [
       "<Figure size 396x342 with 0 Axes>"
      ]
     },
     "metadata": {},
     "output_type": "display_data"
    },
    {
     "data": {
      "text/plain": [
       "<Figure size 396x342 with 0 Axes>"
      ]
     },
     "metadata": {},
     "output_type": "display_data"
    },
    {
     "data": {
      "text/plain": [
       "<Figure size 396x342 with 0 Axes>"
      ]
     },
     "metadata": {},
     "output_type": "display_data"
    },
    {
     "data": {
      "text/plain": [
       "<Figure size 396x342 with 0 Axes>"
      ]
     },
     "metadata": {},
     "output_type": "display_data"
    },
    {
     "data": {
      "text/plain": [
       "<Figure size 396x342 with 0 Axes>"
      ]
     },
     "metadata": {},
     "output_type": "display_data"
    },
    {
     "data": {
      "text/plain": [
       "<Figure size 396x342 with 0 Axes>"
      ]
     },
     "metadata": {},
     "output_type": "display_data"
    },
    {
     "data": {
      "text/plain": [
       "<Figure size 396x342 with 0 Axes>"
      ]
     },
     "metadata": {},
     "output_type": "display_data"
    },
    {
     "data": {
      "text/plain": [
       "<Figure size 396x342 with 0 Axes>"
      ]
     },
     "metadata": {},
     "output_type": "display_data"
    },
    {
     "data": {
      "text/plain": [
       "<Figure size 396x342 with 0 Axes>"
      ]
     },
     "metadata": {},
     "output_type": "display_data"
    },
    {
     "data": {
      "text/plain": [
       "<Figure size 396x342 with 0 Axes>"
      ]
     },
     "metadata": {},
     "output_type": "display_data"
    },
    {
     "data": {
      "text/plain": [
       "<Figure size 396x342 with 0 Axes>"
      ]
     },
     "metadata": {},
     "output_type": "display_data"
    },
    {
     "data": {
      "text/plain": [
       "<Figure size 396x342 with 0 Axes>"
      ]
     },
     "metadata": {},
     "output_type": "display_data"
    },
    {
     "data": {
      "text/plain": [
       "<Figure size 396x342 with 0 Axes>"
      ]
     },
     "metadata": {},
     "output_type": "display_data"
    },
    {
     "data": {
      "text/plain": [
       "<Figure size 396x342 with 0 Axes>"
      ]
     },
     "metadata": {},
     "output_type": "display_data"
    },
    {
     "data": {
      "text/plain": [
       "<Figure size 396x342 with 0 Axes>"
      ]
     },
     "metadata": {},
     "output_type": "display_data"
    },
    {
     "data": {
      "text/plain": [
       "<Figure size 396x342 with 0 Axes>"
      ]
     },
     "metadata": {},
     "output_type": "display_data"
    },
    {
     "data": {
      "text/plain": [
       "<Figure size 396x342 with 0 Axes>"
      ]
     },
     "metadata": {},
     "output_type": "display_data"
    },
    {
     "data": {
      "text/plain": [
       "<Figure size 396x342 with 0 Axes>"
      ]
     },
     "metadata": {},
     "output_type": "display_data"
    },
    {
     "data": {
      "text/plain": [
       "<Figure size 396x342 with 0 Axes>"
      ]
     },
     "metadata": {},
     "output_type": "display_data"
    },
    {
     "data": {
      "text/plain": [
       "<Figure size 396x342 with 0 Axes>"
      ]
     },
     "metadata": {},
     "output_type": "display_data"
    },
    {
     "data": {
      "text/plain": [
       "<Figure size 396x342 with 0 Axes>"
      ]
     },
     "metadata": {},
     "output_type": "display_data"
    },
    {
     "data": {
      "text/plain": [
       "<Figure size 396x342 with 0 Axes>"
      ]
     },
     "metadata": {},
     "output_type": "display_data"
    },
    {
     "data": {
      "text/plain": [
       "<Figure size 396x342 with 0 Axes>"
      ]
     },
     "metadata": {},
     "output_type": "display_data"
    },
    {
     "data": {
      "text/plain": [
       "<Figure size 396x342 with 0 Axes>"
      ]
     },
     "metadata": {},
     "output_type": "display_data"
    },
    {
     "data": {
      "text/plain": [
       "<Figure size 396x342 with 0 Axes>"
      ]
     },
     "metadata": {},
     "output_type": "display_data"
    },
    {
     "data": {
      "text/plain": [
       "<Figure size 396x342 with 0 Axes>"
      ]
     },
     "metadata": {},
     "output_type": "display_data"
    },
    {
     "data": {
      "text/plain": [
       "<Figure size 396x342 with 0 Axes>"
      ]
     },
     "metadata": {},
     "output_type": "display_data"
    },
    {
     "data": {
      "text/plain": [
       "<Figure size 396x342 with 0 Axes>"
      ]
     },
     "metadata": {},
     "output_type": "display_data"
    },
    {
     "data": {
      "text/plain": [
       "<Figure size 396x342 with 0 Axes>"
      ]
     },
     "metadata": {},
     "output_type": "display_data"
    },
    {
     "data": {
      "text/plain": [
       "<Figure size 396x342 with 0 Axes>"
      ]
     },
     "metadata": {},
     "output_type": "display_data"
    },
    {
     "data": {
      "text/plain": [
       "<Figure size 396x342 with 0 Axes>"
      ]
     },
     "metadata": {},
     "output_type": "display_data"
    },
    {
     "data": {
      "text/plain": [
       "<Figure size 396x342 with 0 Axes>"
      ]
     },
     "metadata": {},
     "output_type": "display_data"
    },
    {
     "data": {
      "text/plain": [
       "<Figure size 396x342 with 0 Axes>"
      ]
     },
     "metadata": {},
     "output_type": "display_data"
    },
    {
     "data": {
      "text/plain": [
       "<Figure size 396x342 with 0 Axes>"
      ]
     },
     "metadata": {},
     "output_type": "display_data"
    },
    {
     "data": {
      "text/plain": [
       "<Figure size 396x342 with 0 Axes>"
      ]
     },
     "metadata": {},
     "output_type": "display_data"
    },
    {
     "data": {
      "text/plain": [
       "<Figure size 396x342 with 0 Axes>"
      ]
     },
     "metadata": {},
     "output_type": "display_data"
    },
    {
     "data": {
      "text/plain": [
       "<Figure size 396x342 with 0 Axes>"
      ]
     },
     "metadata": {},
     "output_type": "display_data"
    },
    {
     "data": {
      "text/plain": [
       "<Figure size 396x342 with 0 Axes>"
      ]
     },
     "metadata": {},
     "output_type": "display_data"
    },
    {
     "data": {
      "text/plain": [
       "<Figure size 396x342 with 0 Axes>"
      ]
     },
     "metadata": {},
     "output_type": "display_data"
    },
    {
     "data": {
      "text/plain": [
       "<Figure size 396x342 with 0 Axes>"
      ]
     },
     "metadata": {},
     "output_type": "display_data"
    },
    {
     "data": {
      "text/plain": [
       "<Figure size 396x342 with 0 Axes>"
      ]
     },
     "metadata": {},
     "output_type": "display_data"
    },
    {
     "data": {
      "text/plain": [
       "<Figure size 396x342 with 0 Axes>"
      ]
     },
     "metadata": {},
     "output_type": "display_data"
    },
    {
     "data": {
      "text/plain": [
       "<Figure size 396x342 with 0 Axes>"
      ]
     },
     "metadata": {},
     "output_type": "display_data"
    },
    {
     "data": {
      "text/plain": [
       "<Figure size 396x342 with 0 Axes>"
      ]
     },
     "metadata": {},
     "output_type": "display_data"
    },
    {
     "data": {
      "text/plain": [
       "<Figure size 396x342 with 0 Axes>"
      ]
     },
     "metadata": {},
     "output_type": "display_data"
    },
    {
     "data": {
      "text/plain": [
       "<Figure size 396x342 with 0 Axes>"
      ]
     },
     "metadata": {},
     "output_type": "display_data"
    },
    {
     "data": {
      "text/plain": [
       "<Figure size 396x342 with 0 Axes>"
      ]
     },
     "metadata": {},
     "output_type": "display_data"
    },
    {
     "data": {
      "text/plain": [
       "<Figure size 396x342 with 0 Axes>"
      ]
     },
     "metadata": {},
     "output_type": "display_data"
    },
    {
     "data": {
      "text/plain": [
       "<Figure size 396x342 with 0 Axes>"
      ]
     },
     "metadata": {},
     "output_type": "display_data"
    },
    {
     "data": {
      "text/plain": [
       "<Figure size 396x342 with 0 Axes>"
      ]
     },
     "metadata": {},
     "output_type": "display_data"
    },
    {
     "data": {
      "text/plain": [
       "<Figure size 396x342 with 0 Axes>"
      ]
     },
     "metadata": {},
     "output_type": "display_data"
    },
    {
     "data": {
      "text/plain": [
       "<Figure size 396x342 with 0 Axes>"
      ]
     },
     "metadata": {},
     "output_type": "display_data"
    },
    {
     "data": {
      "text/plain": [
       "<Figure size 396x342 with 0 Axes>"
      ]
     },
     "metadata": {},
     "output_type": "display_data"
    },
    {
     "data": {
      "text/plain": [
       "<Figure size 396x342 with 0 Axes>"
      ]
     },
     "metadata": {},
     "output_type": "display_data"
    },
    {
     "data": {
      "text/plain": [
       "<Figure size 396x342 with 0 Axes>"
      ]
     },
     "metadata": {},
     "output_type": "display_data"
    },
    {
     "data": {
      "text/plain": [
       "<Figure size 396x342 with 0 Axes>"
      ]
     },
     "metadata": {},
     "output_type": "display_data"
    },
    {
     "data": {
      "text/plain": [
       "<Figure size 396x342 with 0 Axes>"
      ]
     },
     "metadata": {},
     "output_type": "display_data"
    },
    {
     "data": {
      "text/plain": [
       "<Figure size 396x342 with 0 Axes>"
      ]
     },
     "metadata": {},
     "output_type": "display_data"
    },
    {
     "data": {
      "text/plain": [
       "<Figure size 396x342 with 0 Axes>"
      ]
     },
     "metadata": {},
     "output_type": "display_data"
    },
    {
     "data": {
      "text/plain": [
       "<Figure size 396x342 with 0 Axes>"
      ]
     },
     "metadata": {},
     "output_type": "display_data"
    },
    {
     "data": {
      "text/plain": [
       "<Figure size 396x342 with 0 Axes>"
      ]
     },
     "metadata": {},
     "output_type": "display_data"
    },
    {
     "data": {
      "text/plain": [
       "<Figure size 396x342 with 0 Axes>"
      ]
     },
     "metadata": {},
     "output_type": "display_data"
    },
    {
     "data": {
      "text/plain": [
       "<Figure size 396x342 with 0 Axes>"
      ]
     },
     "metadata": {},
     "output_type": "display_data"
    },
    {
     "data": {
      "text/plain": [
       "<Figure size 396x342 with 0 Axes>"
      ]
     },
     "metadata": {},
     "output_type": "display_data"
    },
    {
     "data": {
      "text/plain": [
       "<Figure size 396x342 with 0 Axes>"
      ]
     },
     "metadata": {},
     "output_type": "display_data"
    },
    {
     "data": {
      "text/plain": [
       "<Figure size 396x342 with 0 Axes>"
      ]
     },
     "metadata": {},
     "output_type": "display_data"
    },
    {
     "data": {
      "text/plain": [
       "<Figure size 396x342 with 0 Axes>"
      ]
     },
     "metadata": {},
     "output_type": "display_data"
    },
    {
     "data": {
      "text/plain": [
       "<Figure size 396x342 with 0 Axes>"
      ]
     },
     "metadata": {},
     "output_type": "display_data"
    },
    {
     "data": {
      "text/plain": [
       "<Figure size 396x342 with 0 Axes>"
      ]
     },
     "metadata": {},
     "output_type": "display_data"
    },
    {
     "data": {
      "text/plain": [
       "<Figure size 396x342 with 0 Axes>"
      ]
     },
     "metadata": {},
     "output_type": "display_data"
    },
    {
     "data": {
      "text/plain": [
       "<Figure size 396x342 with 0 Axes>"
      ]
     },
     "metadata": {},
     "output_type": "display_data"
    },
    {
     "data": {
      "text/plain": [
       "<Figure size 396x342 with 0 Axes>"
      ]
     },
     "metadata": {},
     "output_type": "display_data"
    },
    {
     "data": {
      "text/plain": [
       "<Figure size 396x342 with 0 Axes>"
      ]
     },
     "metadata": {},
     "output_type": "display_data"
    },
    {
     "data": {
      "text/plain": [
       "<Figure size 396x342 with 0 Axes>"
      ]
     },
     "metadata": {},
     "output_type": "display_data"
    },
    {
     "data": {
      "text/plain": [
       "<Figure size 396x342 with 0 Axes>"
      ]
     },
     "metadata": {},
     "output_type": "display_data"
    },
    {
     "data": {
      "text/plain": [
       "<Figure size 396x342 with 0 Axes>"
      ]
     },
     "metadata": {},
     "output_type": "display_data"
    },
    {
     "data": {
      "text/plain": [
       "<Figure size 396x342 with 0 Axes>"
      ]
     },
     "metadata": {},
     "output_type": "display_data"
    },
    {
     "data": {
      "text/plain": [
       "<Figure size 396x342 with 0 Axes>"
      ]
     },
     "metadata": {},
     "output_type": "display_data"
    },
    {
     "data": {
      "text/plain": [
       "<Figure size 396x342 with 0 Axes>"
      ]
     },
     "metadata": {},
     "output_type": "display_data"
    },
    {
     "data": {
      "text/plain": [
       "<Figure size 396x342 with 0 Axes>"
      ]
     },
     "metadata": {},
     "output_type": "display_data"
    },
    {
     "data": {
      "text/plain": [
       "<Figure size 396x342 with 0 Axes>"
      ]
     },
     "metadata": {},
     "output_type": "display_data"
    },
    {
     "data": {
      "text/plain": [
       "<Figure size 396x342 with 0 Axes>"
      ]
     },
     "metadata": {},
     "output_type": "display_data"
    },
    {
     "data": {
      "text/plain": [
       "<Figure size 396x342 with 0 Axes>"
      ]
     },
     "metadata": {},
     "output_type": "display_data"
    },
    {
     "data": {
      "text/plain": [
       "<Figure size 396x342 with 0 Axes>"
      ]
     },
     "metadata": {},
     "output_type": "display_data"
    },
    {
     "data": {
      "text/plain": [
       "<Figure size 396x342 with 0 Axes>"
      ]
     },
     "metadata": {},
     "output_type": "display_data"
    },
    {
     "data": {
      "text/plain": [
       "<Figure size 396x342 with 0 Axes>"
      ]
     },
     "metadata": {},
     "output_type": "display_data"
    },
    {
     "data": {
      "text/plain": [
       "<Figure size 396x342 with 0 Axes>"
      ]
     },
     "metadata": {},
     "output_type": "display_data"
    },
    {
     "data": {
      "text/plain": [
       "<Figure size 396x342 with 0 Axes>"
      ]
     },
     "metadata": {},
     "output_type": "display_data"
    },
    {
     "data": {
      "text/plain": [
       "<Figure size 396x342 with 0 Axes>"
      ]
     },
     "metadata": {},
     "output_type": "display_data"
    },
    {
     "data": {
      "text/plain": [
       "<Figure size 396x342 with 0 Axes>"
      ]
     },
     "metadata": {},
     "output_type": "display_data"
    },
    {
     "data": {
      "text/plain": [
       "<Figure size 396x342 with 0 Axes>"
      ]
     },
     "metadata": {},
     "output_type": "display_data"
    },
    {
     "data": {
      "text/plain": [
       "<Figure size 396x342 with 0 Axes>"
      ]
     },
     "metadata": {},
     "output_type": "display_data"
    },
    {
     "data": {
      "text/plain": [
       "<Figure size 396x342 with 0 Axes>"
      ]
     },
     "metadata": {},
     "output_type": "display_data"
    },
    {
     "data": {
      "text/plain": [
       "<Figure size 396x342 with 0 Axes>"
      ]
     },
     "metadata": {},
     "output_type": "display_data"
    },
    {
     "data": {
      "text/plain": [
       "<Figure size 396x342 with 0 Axes>"
      ]
     },
     "metadata": {},
     "output_type": "display_data"
    },
    {
     "data": {
      "text/plain": [
       "<Figure size 396x342 with 0 Axes>"
      ]
     },
     "metadata": {},
     "output_type": "display_data"
    },
    {
     "data": {
      "text/plain": [
       "<Figure size 396x342 with 0 Axes>"
      ]
     },
     "metadata": {},
     "output_type": "display_data"
    },
    {
     "data": {
      "text/plain": [
       "<Figure size 396x342 with 0 Axes>"
      ]
     },
     "metadata": {},
     "output_type": "display_data"
    },
    {
     "data": {
      "text/plain": [
       "<Figure size 396x342 with 0 Axes>"
      ]
     },
     "metadata": {},
     "output_type": "display_data"
    },
    {
     "data": {
      "text/plain": [
       "<Figure size 396x342 with 0 Axes>"
      ]
     },
     "metadata": {},
     "output_type": "display_data"
    },
    {
     "data": {
      "text/plain": [
       "<Figure size 396x342 with 0 Axes>"
      ]
     },
     "metadata": {},
     "output_type": "display_data"
    },
    {
     "data": {
      "text/plain": [
       "<Figure size 396x342 with 0 Axes>"
      ]
     },
     "metadata": {},
     "output_type": "display_data"
    },
    {
     "data": {
      "text/plain": [
       "<Figure size 396x342 with 0 Axes>"
      ]
     },
     "metadata": {},
     "output_type": "display_data"
    },
    {
     "data": {
      "text/plain": [
       "<Figure size 396x342 with 0 Axes>"
      ]
     },
     "metadata": {},
     "output_type": "display_data"
    },
    {
     "data": {
      "text/plain": [
       "<Figure size 396x342 with 0 Axes>"
      ]
     },
     "metadata": {},
     "output_type": "display_data"
    },
    {
     "data": {
      "text/plain": [
       "<Figure size 396x342 with 0 Axes>"
      ]
     },
     "metadata": {},
     "output_type": "display_data"
    },
    {
     "data": {
      "text/plain": [
       "<Figure size 396x342 with 0 Axes>"
      ]
     },
     "metadata": {},
     "output_type": "display_data"
    },
    {
     "data": {
      "text/plain": [
       "<Figure size 396x342 with 0 Axes>"
      ]
     },
     "metadata": {},
     "output_type": "display_data"
    },
    {
     "data": {
      "text/plain": [
       "<Figure size 396x342 with 0 Axes>"
      ]
     },
     "metadata": {},
     "output_type": "display_data"
    },
    {
     "data": {
      "text/plain": [
       "<Figure size 396x342 with 0 Axes>"
      ]
     },
     "metadata": {},
     "output_type": "display_data"
    },
    {
     "data": {
      "text/plain": [
       "<Figure size 396x342 with 0 Axes>"
      ]
     },
     "metadata": {},
     "output_type": "display_data"
    },
    {
     "data": {
      "text/plain": [
       "<Figure size 396x342 with 0 Axes>"
      ]
     },
     "metadata": {},
     "output_type": "display_data"
    },
    {
     "data": {
      "text/plain": [
       "<Figure size 396x342 with 0 Axes>"
      ]
     },
     "metadata": {},
     "output_type": "display_data"
    },
    {
     "data": {
      "text/plain": [
       "<Figure size 396x342 with 0 Axes>"
      ]
     },
     "metadata": {},
     "output_type": "display_data"
    },
    {
     "data": {
      "text/plain": [
       "<Figure size 396x342 with 0 Axes>"
      ]
     },
     "metadata": {},
     "output_type": "display_data"
    },
    {
     "data": {
      "text/plain": [
       "<Figure size 396x342 with 0 Axes>"
      ]
     },
     "metadata": {},
     "output_type": "display_data"
    },
    {
     "data": {
      "text/plain": [
       "<Figure size 396x342 with 0 Axes>"
      ]
     },
     "metadata": {},
     "output_type": "display_data"
    },
    {
     "data": {
      "text/plain": [
       "<Figure size 396x342 with 0 Axes>"
      ]
     },
     "metadata": {},
     "output_type": "display_data"
    },
    {
     "data": {
      "text/plain": [
       "<Figure size 396x342 with 0 Axes>"
      ]
     },
     "metadata": {},
     "output_type": "display_data"
    },
    {
     "data": {
      "text/plain": [
       "<Figure size 396x342 with 0 Axes>"
      ]
     },
     "metadata": {},
     "output_type": "display_data"
    },
    {
     "data": {
      "text/plain": [
       "<Figure size 396x342 with 0 Axes>"
      ]
     },
     "metadata": {},
     "output_type": "display_data"
    },
    {
     "data": {
      "text/plain": [
       "<Figure size 396x342 with 0 Axes>"
      ]
     },
     "metadata": {},
     "output_type": "display_data"
    },
    {
     "data": {
      "text/plain": [
       "<Figure size 396x342 with 0 Axes>"
      ]
     },
     "metadata": {},
     "output_type": "display_data"
    },
    {
     "data": {
      "text/plain": [
       "<Figure size 396x342 with 0 Axes>"
      ]
     },
     "metadata": {},
     "output_type": "display_data"
    },
    {
     "data": {
      "text/plain": [
       "<Figure size 396x342 with 0 Axes>"
      ]
     },
     "metadata": {},
     "output_type": "display_data"
    },
    {
     "data": {
      "text/plain": [
       "<Figure size 396x342 with 0 Axes>"
      ]
     },
     "metadata": {},
     "output_type": "display_data"
    },
    {
     "data": {
      "text/plain": [
       "<Figure size 396x342 with 0 Axes>"
      ]
     },
     "metadata": {},
     "output_type": "display_data"
    },
    {
     "data": {
      "text/plain": [
       "<Figure size 396x342 with 0 Axes>"
      ]
     },
     "metadata": {},
     "output_type": "display_data"
    },
    {
     "data": {
      "text/plain": [
       "<Figure size 396x342 with 0 Axes>"
      ]
     },
     "metadata": {},
     "output_type": "display_data"
    },
    {
     "data": {
      "text/plain": [
       "<Figure size 396x342 with 0 Axes>"
      ]
     },
     "metadata": {},
     "output_type": "display_data"
    },
    {
     "data": {
      "text/plain": [
       "<Figure size 396x342 with 0 Axes>"
      ]
     },
     "metadata": {},
     "output_type": "display_data"
    },
    {
     "data": {
      "text/plain": [
       "<Figure size 396x342 with 0 Axes>"
      ]
     },
     "metadata": {},
     "output_type": "display_data"
    },
    {
     "data": {
      "text/plain": [
       "<Figure size 396x342 with 0 Axes>"
      ]
     },
     "metadata": {},
     "output_type": "display_data"
    },
    {
     "data": {
      "text/plain": [
       "<Figure size 396x342 with 0 Axes>"
      ]
     },
     "metadata": {},
     "output_type": "display_data"
    },
    {
     "data": {
      "text/plain": [
       "<Figure size 396x342 with 0 Axes>"
      ]
     },
     "metadata": {},
     "output_type": "display_data"
    },
    {
     "data": {
      "text/plain": [
       "<Figure size 396x342 with 0 Axes>"
      ]
     },
     "metadata": {},
     "output_type": "display_data"
    },
    {
     "data": {
      "text/plain": [
       "<Figure size 396x342 with 0 Axes>"
      ]
     },
     "metadata": {},
     "output_type": "display_data"
    },
    {
     "data": {
      "text/plain": [
       "<Figure size 396x342 with 0 Axes>"
      ]
     },
     "metadata": {},
     "output_type": "display_data"
    },
    {
     "data": {
      "text/plain": [
       "<Figure size 396x342 with 0 Axes>"
      ]
     },
     "metadata": {},
     "output_type": "display_data"
    },
    {
     "data": {
      "text/plain": [
       "<Figure size 396x342 with 0 Axes>"
      ]
     },
     "metadata": {},
     "output_type": "display_data"
    },
    {
     "data": {
      "text/plain": [
       "<Figure size 396x342 with 0 Axes>"
      ]
     },
     "metadata": {},
     "output_type": "display_data"
    },
    {
     "data": {
      "text/plain": [
       "<Figure size 396x342 with 0 Axes>"
      ]
     },
     "metadata": {},
     "output_type": "display_data"
    },
    {
     "data": {
      "text/plain": [
       "<Figure size 396x342 with 0 Axes>"
      ]
     },
     "metadata": {},
     "output_type": "display_data"
    },
    {
     "data": {
      "text/plain": [
       "<Figure size 396x342 with 0 Axes>"
      ]
     },
     "metadata": {},
     "output_type": "display_data"
    },
    {
     "data": {
      "text/plain": [
       "<Figure size 396x342 with 0 Axes>"
      ]
     },
     "metadata": {},
     "output_type": "display_data"
    },
    {
     "data": {
      "text/plain": [
       "<Figure size 396x342 with 0 Axes>"
      ]
     },
     "metadata": {},
     "output_type": "display_data"
    },
    {
     "data": {
      "text/plain": [
       "<Figure size 396x342 with 0 Axes>"
      ]
     },
     "metadata": {},
     "output_type": "display_data"
    },
    {
     "data": {
      "text/plain": [
       "<Figure size 396x342 with 0 Axes>"
      ]
     },
     "metadata": {},
     "output_type": "display_data"
    },
    {
     "data": {
      "text/plain": [
       "<Figure size 396x342 with 0 Axes>"
      ]
     },
     "metadata": {},
     "output_type": "display_data"
    },
    {
     "data": {
      "text/plain": [
       "<Figure size 396x342 with 0 Axes>"
      ]
     },
     "metadata": {},
     "output_type": "display_data"
    },
    {
     "data": {
      "text/plain": [
       "<Figure size 396x342 with 0 Axes>"
      ]
     },
     "metadata": {},
     "output_type": "display_data"
    },
    {
     "data": {
      "text/plain": [
       "<Figure size 396x342 with 0 Axes>"
      ]
     },
     "metadata": {},
     "output_type": "display_data"
    },
    {
     "data": {
      "text/plain": [
       "<Figure size 396x342 with 0 Axes>"
      ]
     },
     "metadata": {},
     "output_type": "display_data"
    },
    {
     "data": {
      "text/plain": [
       "<Figure size 396x342 with 0 Axes>"
      ]
     },
     "metadata": {},
     "output_type": "display_data"
    },
    {
     "data": {
      "text/plain": [
       "<Figure size 396x342 with 0 Axes>"
      ]
     },
     "metadata": {},
     "output_type": "display_data"
    },
    {
     "data": {
      "text/plain": [
       "<Figure size 396x342 with 0 Axes>"
      ]
     },
     "metadata": {},
     "output_type": "display_data"
    },
    {
     "data": {
      "text/plain": [
       "<Figure size 396x342 with 0 Axes>"
      ]
     },
     "metadata": {},
     "output_type": "display_data"
    },
    {
     "data": {
      "text/plain": [
       "<Figure size 396x342 with 0 Axes>"
      ]
     },
     "metadata": {},
     "output_type": "display_data"
    },
    {
     "data": {
      "text/plain": [
       "<Figure size 396x342 with 0 Axes>"
      ]
     },
     "metadata": {},
     "output_type": "display_data"
    },
    {
     "data": {
      "text/plain": [
       "<Figure size 396x342 with 0 Axes>"
      ]
     },
     "metadata": {},
     "output_type": "display_data"
    },
    {
     "data": {
      "text/plain": [
       "<Figure size 396x342 with 0 Axes>"
      ]
     },
     "metadata": {},
     "output_type": "display_data"
    },
    {
     "data": {
      "text/plain": [
       "<Figure size 396x342 with 0 Axes>"
      ]
     },
     "metadata": {},
     "output_type": "display_data"
    },
    {
     "data": {
      "text/plain": [
       "<Figure size 396x342 with 0 Axes>"
      ]
     },
     "metadata": {},
     "output_type": "display_data"
    },
    {
     "data": {
      "text/plain": [
       "<Figure size 396x342 with 0 Axes>"
      ]
     },
     "metadata": {},
     "output_type": "display_data"
    },
    {
     "data": {
      "text/plain": [
       "<Figure size 396x342 with 0 Axes>"
      ]
     },
     "metadata": {},
     "output_type": "display_data"
    },
    {
     "data": {
      "text/plain": [
       "<Figure size 396x342 with 0 Axes>"
      ]
     },
     "metadata": {},
     "output_type": "display_data"
    },
    {
     "data": {
      "text/plain": [
       "<Figure size 396x342 with 0 Axes>"
      ]
     },
     "metadata": {},
     "output_type": "display_data"
    },
    {
     "data": {
      "text/plain": [
       "<Figure size 396x342 with 0 Axes>"
      ]
     },
     "metadata": {},
     "output_type": "display_data"
    },
    {
     "data": {
      "text/plain": [
       "<Figure size 396x342 with 0 Axes>"
      ]
     },
     "metadata": {},
     "output_type": "display_data"
    },
    {
     "data": {
      "text/plain": [
       "<Figure size 396x342 with 0 Axes>"
      ]
     },
     "metadata": {},
     "output_type": "display_data"
    },
    {
     "data": {
      "text/plain": [
       "<Figure size 396x342 with 0 Axes>"
      ]
     },
     "metadata": {},
     "output_type": "display_data"
    },
    {
     "data": {
      "text/plain": [
       "<Figure size 396x342 with 0 Axes>"
      ]
     },
     "metadata": {},
     "output_type": "display_data"
    },
    {
     "data": {
      "text/plain": [
       "<Figure size 396x342 with 0 Axes>"
      ]
     },
     "metadata": {},
     "output_type": "display_data"
    },
    {
     "data": {
      "text/plain": [
       "<Figure size 396x342 with 0 Axes>"
      ]
     },
     "metadata": {},
     "output_type": "display_data"
    },
    {
     "data": {
      "text/plain": [
       "<Figure size 396x342 with 0 Axes>"
      ]
     },
     "metadata": {},
     "output_type": "display_data"
    },
    {
     "data": {
      "text/plain": [
       "<Figure size 396x342 with 0 Axes>"
      ]
     },
     "metadata": {},
     "output_type": "display_data"
    },
    {
     "data": {
      "text/plain": [
       "<Figure size 396x342 with 0 Axes>"
      ]
     },
     "metadata": {},
     "output_type": "display_data"
    },
    {
     "data": {
      "text/plain": [
       "<Figure size 396x342 with 0 Axes>"
      ]
     },
     "metadata": {},
     "output_type": "display_data"
    },
    {
     "data": {
      "text/plain": [
       "<Figure size 396x342 with 0 Axes>"
      ]
     },
     "metadata": {},
     "output_type": "display_data"
    },
    {
     "data": {
      "text/plain": [
       "<Figure size 396x342 with 0 Axes>"
      ]
     },
     "metadata": {},
     "output_type": "display_data"
    },
    {
     "data": {
      "text/plain": [
       "<Figure size 396x342 with 0 Axes>"
      ]
     },
     "metadata": {},
     "output_type": "display_data"
    },
    {
     "data": {
      "text/plain": [
       "<Figure size 396x342 with 0 Axes>"
      ]
     },
     "metadata": {},
     "output_type": "display_data"
    },
    {
     "data": {
      "text/plain": [
       "<Figure size 396x342 with 0 Axes>"
      ]
     },
     "metadata": {},
     "output_type": "display_data"
    },
    {
     "data": {
      "text/plain": [
       "<Figure size 396x342 with 0 Axes>"
      ]
     },
     "metadata": {},
     "output_type": "display_data"
    },
    {
     "data": {
      "text/plain": [
       "<Figure size 396x342 with 0 Axes>"
      ]
     },
     "metadata": {},
     "output_type": "display_data"
    },
    {
     "data": {
      "text/plain": [
       "<Figure size 396x342 with 0 Axes>"
      ]
     },
     "metadata": {},
     "output_type": "display_data"
    },
    {
     "data": {
      "text/plain": [
       "<Figure size 396x342 with 0 Axes>"
      ]
     },
     "metadata": {},
     "output_type": "display_data"
    },
    {
     "data": {
      "text/plain": [
       "<Figure size 396x342 with 0 Axes>"
      ]
     },
     "metadata": {},
     "output_type": "display_data"
    },
    {
     "data": {
      "text/plain": [
       "<Figure size 396x342 with 0 Axes>"
      ]
     },
     "metadata": {},
     "output_type": "display_data"
    },
    {
     "data": {
      "text/plain": [
       "<Figure size 396x342 with 0 Axes>"
      ]
     },
     "metadata": {},
     "output_type": "display_data"
    },
    {
     "data": {
      "text/plain": [
       "<Figure size 396x342 with 0 Axes>"
      ]
     },
     "metadata": {},
     "output_type": "display_data"
    },
    {
     "data": {
      "text/plain": [
       "<Figure size 396x342 with 0 Axes>"
      ]
     },
     "metadata": {},
     "output_type": "display_data"
    },
    {
     "data": {
      "text/plain": [
       "<Figure size 396x342 with 0 Axes>"
      ]
     },
     "metadata": {},
     "output_type": "display_data"
    },
    {
     "data": {
      "text/plain": [
       "<Figure size 396x342 with 0 Axes>"
      ]
     },
     "metadata": {},
     "output_type": "display_data"
    },
    {
     "data": {
      "text/plain": [
       "<Figure size 396x342 with 0 Axes>"
      ]
     },
     "metadata": {},
     "output_type": "display_data"
    },
    {
     "data": {
      "text/plain": [
       "<Figure size 396x342 with 0 Axes>"
      ]
     },
     "metadata": {},
     "output_type": "display_data"
    },
    {
     "data": {
      "text/plain": [
       "<Figure size 396x342 with 0 Axes>"
      ]
     },
     "metadata": {},
     "output_type": "display_data"
    },
    {
     "data": {
      "text/plain": [
       "<Figure size 396x342 with 0 Axes>"
      ]
     },
     "metadata": {},
     "output_type": "display_data"
    },
    {
     "data": {
      "text/plain": [
       "<Figure size 396x342 with 0 Axes>"
      ]
     },
     "metadata": {},
     "output_type": "display_data"
    },
    {
     "data": {
      "text/plain": [
       "<Figure size 396x342 with 0 Axes>"
      ]
     },
     "metadata": {},
     "output_type": "display_data"
    },
    {
     "data": {
      "text/plain": [
       "<Figure size 396x342 with 0 Axes>"
      ]
     },
     "metadata": {},
     "output_type": "display_data"
    },
    {
     "data": {
      "text/plain": [
       "<Figure size 396x342 with 0 Axes>"
      ]
     },
     "metadata": {},
     "output_type": "display_data"
    },
    {
     "data": {
      "text/plain": [
       "<Figure size 396x342 with 0 Axes>"
      ]
     },
     "metadata": {},
     "output_type": "display_data"
    },
    {
     "data": {
      "text/plain": [
       "<Figure size 396x342 with 0 Axes>"
      ]
     },
     "metadata": {},
     "output_type": "display_data"
    },
    {
     "data": {
      "text/plain": [
       "<Figure size 396x342 with 0 Axes>"
      ]
     },
     "metadata": {},
     "output_type": "display_data"
    },
    {
     "data": {
      "text/plain": [
       "<Figure size 396x342 with 0 Axes>"
      ]
     },
     "metadata": {},
     "output_type": "display_data"
    },
    {
     "data": {
      "text/plain": [
       "<Figure size 396x342 with 0 Axes>"
      ]
     },
     "metadata": {},
     "output_type": "display_data"
    },
    {
     "data": {
      "text/plain": [
       "<Figure size 396x342 with 0 Axes>"
      ]
     },
     "metadata": {},
     "output_type": "display_data"
    },
    {
     "data": {
      "text/plain": [
       "<Figure size 396x342 with 0 Axes>"
      ]
     },
     "metadata": {},
     "output_type": "display_data"
    },
    {
     "data": {
      "text/plain": [
       "<Figure size 396x342 with 0 Axes>"
      ]
     },
     "metadata": {},
     "output_type": "display_data"
    },
    {
     "data": {
      "text/plain": [
       "<Figure size 396x342 with 0 Axes>"
      ]
     },
     "metadata": {},
     "output_type": "display_data"
    },
    {
     "data": {
      "text/plain": [
       "<Figure size 396x342 with 0 Axes>"
      ]
     },
     "metadata": {},
     "output_type": "display_data"
    },
    {
     "data": {
      "text/plain": [
       "<Figure size 396x342 with 0 Axes>"
      ]
     },
     "metadata": {},
     "output_type": "display_data"
    },
    {
     "data": {
      "text/plain": [
       "<Figure size 396x342 with 0 Axes>"
      ]
     },
     "metadata": {},
     "output_type": "display_data"
    },
    {
     "data": {
      "text/plain": [
       "<Figure size 396x342 with 0 Axes>"
      ]
     },
     "metadata": {},
     "output_type": "display_data"
    },
    {
     "data": {
      "text/plain": [
       "<Figure size 396x342 with 0 Axes>"
      ]
     },
     "metadata": {},
     "output_type": "display_data"
    },
    {
     "data": {
      "text/plain": [
       "<Figure size 396x342 with 0 Axes>"
      ]
     },
     "metadata": {},
     "output_type": "display_data"
    },
    {
     "data": {
      "text/plain": [
       "<Figure size 396x342 with 0 Axes>"
      ]
     },
     "metadata": {},
     "output_type": "display_data"
    },
    {
     "data": {
      "text/plain": [
       "<Figure size 396x342 with 0 Axes>"
      ]
     },
     "metadata": {},
     "output_type": "display_data"
    },
    {
     "data": {
      "text/plain": [
       "<Figure size 396x342 with 0 Axes>"
      ]
     },
     "metadata": {},
     "output_type": "display_data"
    },
    {
     "data": {
      "text/plain": [
       "<Figure size 396x342 with 0 Axes>"
      ]
     },
     "metadata": {},
     "output_type": "display_data"
    },
    {
     "data": {
      "text/plain": [
       "<Figure size 396x342 with 0 Axes>"
      ]
     },
     "metadata": {},
     "output_type": "display_data"
    },
    {
     "data": {
      "text/plain": [
       "<Figure size 396x342 with 0 Axes>"
      ]
     },
     "metadata": {},
     "output_type": "display_data"
    },
    {
     "data": {
      "text/plain": [
       "<Figure size 396x342 with 0 Axes>"
      ]
     },
     "metadata": {},
     "output_type": "display_data"
    },
    {
     "data": {
      "text/plain": [
       "<Figure size 396x342 with 0 Axes>"
      ]
     },
     "metadata": {},
     "output_type": "display_data"
    },
    {
     "data": {
      "text/plain": [
       "<Figure size 396x342 with 0 Axes>"
      ]
     },
     "metadata": {},
     "output_type": "display_data"
    },
    {
     "data": {
      "text/plain": [
       "<Figure size 396x342 with 0 Axes>"
      ]
     },
     "metadata": {},
     "output_type": "display_data"
    },
    {
     "data": {
      "text/plain": [
       "<Figure size 396x342 with 0 Axes>"
      ]
     },
     "metadata": {},
     "output_type": "display_data"
    },
    {
     "data": {
      "text/plain": [
       "<Figure size 396x342 with 0 Axes>"
      ]
     },
     "metadata": {},
     "output_type": "display_data"
    },
    {
     "data": {
      "text/plain": [
       "<Figure size 396x342 with 0 Axes>"
      ]
     },
     "metadata": {},
     "output_type": "display_data"
    },
    {
     "data": {
      "text/plain": [
       "<Figure size 396x342 with 0 Axes>"
      ]
     },
     "metadata": {},
     "output_type": "display_data"
    },
    {
     "data": {
      "text/plain": [
       "<Figure size 396x342 with 0 Axes>"
      ]
     },
     "metadata": {},
     "output_type": "display_data"
    },
    {
     "data": {
      "text/plain": [
       "<Figure size 396x342 with 0 Axes>"
      ]
     },
     "metadata": {},
     "output_type": "display_data"
    },
    {
     "data": {
      "text/plain": [
       "<Figure size 396x342 with 0 Axes>"
      ]
     },
     "metadata": {},
     "output_type": "display_data"
    },
    {
     "data": {
      "text/plain": [
       "<Figure size 396x342 with 0 Axes>"
      ]
     },
     "metadata": {},
     "output_type": "display_data"
    },
    {
     "data": {
      "text/plain": [
       "<Figure size 396x342 with 0 Axes>"
      ]
     },
     "metadata": {},
     "output_type": "display_data"
    },
    {
     "data": {
      "text/plain": [
       "<Figure size 396x342 with 0 Axes>"
      ]
     },
     "metadata": {},
     "output_type": "display_data"
    },
    {
     "data": {
      "text/plain": [
       "<Figure size 396x342 with 0 Axes>"
      ]
     },
     "metadata": {},
     "output_type": "display_data"
    },
    {
     "data": {
      "text/plain": [
       "<Figure size 396x342 with 0 Axes>"
      ]
     },
     "metadata": {},
     "output_type": "display_data"
    },
    {
     "data": {
      "text/plain": [
       "<Figure size 396x342 with 0 Axes>"
      ]
     },
     "metadata": {},
     "output_type": "display_data"
    },
    {
     "data": {
      "text/plain": [
       "<Figure size 396x342 with 0 Axes>"
      ]
     },
     "metadata": {},
     "output_type": "display_data"
    },
    {
     "data": {
      "text/plain": [
       "<Figure size 396x342 with 0 Axes>"
      ]
     },
     "metadata": {},
     "output_type": "display_data"
    },
    {
     "data": {
      "text/plain": [
       "<Figure size 396x342 with 0 Axes>"
      ]
     },
     "metadata": {},
     "output_type": "display_data"
    },
    {
     "data": {
      "text/plain": [
       "<Figure size 396x342 with 0 Axes>"
      ]
     },
     "metadata": {},
     "output_type": "display_data"
    },
    {
     "data": {
      "text/plain": [
       "<Figure size 396x342 with 0 Axes>"
      ]
     },
     "metadata": {},
     "output_type": "display_data"
    },
    {
     "data": {
      "text/plain": [
       "<Figure size 396x342 with 0 Axes>"
      ]
     },
     "metadata": {},
     "output_type": "display_data"
    },
    {
     "data": {
      "text/plain": [
       "<Figure size 396x342 with 0 Axes>"
      ]
     },
     "metadata": {},
     "output_type": "display_data"
    },
    {
     "data": {
      "text/plain": [
       "<Figure size 396x342 with 0 Axes>"
      ]
     },
     "metadata": {},
     "output_type": "display_data"
    },
    {
     "data": {
      "text/plain": [
       "<Figure size 396x342 with 0 Axes>"
      ]
     },
     "metadata": {},
     "output_type": "display_data"
    },
    {
     "data": {
      "text/plain": [
       "<Figure size 396x342 with 0 Axes>"
      ]
     },
     "metadata": {},
     "output_type": "display_data"
    },
    {
     "data": {
      "text/plain": [
       "<Figure size 396x342 with 0 Axes>"
      ]
     },
     "metadata": {},
     "output_type": "display_data"
    },
    {
     "data": {
      "text/plain": [
       "<Figure size 396x342 with 0 Axes>"
      ]
     },
     "metadata": {},
     "output_type": "display_data"
    },
    {
     "data": {
      "text/plain": [
       "<Figure size 396x342 with 0 Axes>"
      ]
     },
     "metadata": {},
     "output_type": "display_data"
    },
    {
     "data": {
      "text/plain": [
       "<Figure size 396x342 with 0 Axes>"
      ]
     },
     "metadata": {},
     "output_type": "display_data"
    },
    {
     "data": {
      "text/plain": [
       "<Figure size 396x342 with 0 Axes>"
      ]
     },
     "metadata": {},
     "output_type": "display_data"
    },
    {
     "data": {
      "text/plain": [
       "<Figure size 396x342 with 0 Axes>"
      ]
     },
     "metadata": {},
     "output_type": "display_data"
    },
    {
     "data": {
      "text/plain": [
       "<Figure size 396x342 with 0 Axes>"
      ]
     },
     "metadata": {},
     "output_type": "display_data"
    },
    {
     "data": {
      "text/plain": [
       "<Figure size 396x342 with 0 Axes>"
      ]
     },
     "metadata": {},
     "output_type": "display_data"
    },
    {
     "data": {
      "text/plain": [
       "<Figure size 396x342 with 0 Axes>"
      ]
     },
     "metadata": {},
     "output_type": "display_data"
    },
    {
     "data": {
      "text/plain": [
       "<Figure size 396x342 with 0 Axes>"
      ]
     },
     "metadata": {},
     "output_type": "display_data"
    },
    {
     "data": {
      "text/plain": [
       "<Figure size 396x342 with 0 Axes>"
      ]
     },
     "metadata": {},
     "output_type": "display_data"
    },
    {
     "data": {
      "text/plain": [
       "<Figure size 396x342 with 0 Axes>"
      ]
     },
     "metadata": {},
     "output_type": "display_data"
    },
    {
     "data": {
      "text/plain": [
       "<Figure size 396x342 with 0 Axes>"
      ]
     },
     "metadata": {},
     "output_type": "display_data"
    },
    {
     "data": {
      "text/plain": [
       "<Figure size 396x342 with 0 Axes>"
      ]
     },
     "metadata": {},
     "output_type": "display_data"
    },
    {
     "data": {
      "text/plain": [
       "<Figure size 396x342 with 0 Axes>"
      ]
     },
     "metadata": {},
     "output_type": "display_data"
    },
    {
     "data": {
      "text/plain": [
       "<Figure size 396x342 with 0 Axes>"
      ]
     },
     "metadata": {},
     "output_type": "display_data"
    },
    {
     "data": {
      "text/plain": [
       "<Figure size 396x342 with 0 Axes>"
      ]
     },
     "metadata": {},
     "output_type": "display_data"
    },
    {
     "data": {
      "text/plain": [
       "<Figure size 396x342 with 0 Axes>"
      ]
     },
     "metadata": {},
     "output_type": "display_data"
    },
    {
     "data": {
      "text/plain": [
       "<Figure size 396x342 with 0 Axes>"
      ]
     },
     "metadata": {},
     "output_type": "display_data"
    },
    {
     "data": {
      "text/plain": [
       "<Figure size 396x342 with 0 Axes>"
      ]
     },
     "metadata": {},
     "output_type": "display_data"
    },
    {
     "data": {
      "text/plain": [
       "<Figure size 396x342 with 0 Axes>"
      ]
     },
     "metadata": {},
     "output_type": "display_data"
    },
    {
     "data": {
      "text/plain": [
       "<Figure size 396x342 with 0 Axes>"
      ]
     },
     "metadata": {},
     "output_type": "display_data"
    },
    {
     "data": {
      "text/plain": [
       "<Figure size 396x342 with 0 Axes>"
      ]
     },
     "metadata": {},
     "output_type": "display_data"
    },
    {
     "data": {
      "text/plain": [
       "<Figure size 396x342 with 0 Axes>"
      ]
     },
     "metadata": {},
     "output_type": "display_data"
    },
    {
     "data": {
      "text/plain": [
       "<Figure size 396x342 with 0 Axes>"
      ]
     },
     "metadata": {},
     "output_type": "display_data"
    },
    {
     "data": {
      "text/plain": [
       "<Figure size 396x342 with 0 Axes>"
      ]
     },
     "metadata": {},
     "output_type": "display_data"
    },
    {
     "data": {
      "text/plain": [
       "<Figure size 396x342 with 0 Axes>"
      ]
     },
     "metadata": {},
     "output_type": "display_data"
    },
    {
     "data": {
      "text/plain": [
       "<Figure size 396x342 with 0 Axes>"
      ]
     },
     "metadata": {},
     "output_type": "display_data"
    },
    {
     "data": {
      "text/plain": [
       "<Figure size 396x342 with 0 Axes>"
      ]
     },
     "metadata": {},
     "output_type": "display_data"
    },
    {
     "data": {
      "text/plain": [
       "<Figure size 396x342 with 0 Axes>"
      ]
     },
     "metadata": {},
     "output_type": "display_data"
    },
    {
     "data": {
      "text/plain": [
       "<Figure size 396x342 with 0 Axes>"
      ]
     },
     "metadata": {},
     "output_type": "display_data"
    },
    {
     "data": {
      "text/plain": [
       "<Figure size 396x342 with 0 Axes>"
      ]
     },
     "metadata": {},
     "output_type": "display_data"
    },
    {
     "data": {
      "text/plain": [
       "<Figure size 396x342 with 0 Axes>"
      ]
     },
     "metadata": {},
     "output_type": "display_data"
    },
    {
     "data": {
      "text/plain": [
       "<Figure size 396x342 with 0 Axes>"
      ]
     },
     "metadata": {},
     "output_type": "display_data"
    },
    {
     "data": {
      "text/plain": [
       "<Figure size 396x342 with 0 Axes>"
      ]
     },
     "metadata": {},
     "output_type": "display_data"
    },
    {
     "data": {
      "text/plain": [
       "<Figure size 396x342 with 0 Axes>"
      ]
     },
     "metadata": {},
     "output_type": "display_data"
    },
    {
     "data": {
      "text/plain": [
       "<Figure size 396x342 with 0 Axes>"
      ]
     },
     "metadata": {},
     "output_type": "display_data"
    },
    {
     "data": {
      "text/plain": [
       "<Figure size 396x342 with 0 Axes>"
      ]
     },
     "metadata": {},
     "output_type": "display_data"
    },
    {
     "data": {
      "text/plain": [
       "<Figure size 396x342 with 0 Axes>"
      ]
     },
     "metadata": {},
     "output_type": "display_data"
    },
    {
     "data": {
      "text/plain": [
       "<Figure size 396x342 with 0 Axes>"
      ]
     },
     "metadata": {},
     "output_type": "display_data"
    },
    {
     "data": {
      "text/plain": [
       "<Figure size 396x342 with 0 Axes>"
      ]
     },
     "metadata": {},
     "output_type": "display_data"
    },
    {
     "data": {
      "text/plain": [
       "<Figure size 396x342 with 0 Axes>"
      ]
     },
     "metadata": {},
     "output_type": "display_data"
    },
    {
     "data": {
      "text/plain": [
       "<Figure size 396x342 with 0 Axes>"
      ]
     },
     "metadata": {},
     "output_type": "display_data"
    },
    {
     "data": {
      "text/plain": [
       "<Figure size 396x342 with 0 Axes>"
      ]
     },
     "metadata": {},
     "output_type": "display_data"
    },
    {
     "data": {
      "text/plain": [
       "<Figure size 396x342 with 0 Axes>"
      ]
     },
     "metadata": {},
     "output_type": "display_data"
    },
    {
     "data": {
      "text/plain": [
       "<Figure size 396x342 with 0 Axes>"
      ]
     },
     "metadata": {},
     "output_type": "display_data"
    },
    {
     "data": {
      "text/plain": [
       "<Figure size 396x342 with 0 Axes>"
      ]
     },
     "metadata": {},
     "output_type": "display_data"
    },
    {
     "data": {
      "text/plain": [
       "<Figure size 396x342 with 0 Axes>"
      ]
     },
     "metadata": {},
     "output_type": "display_data"
    },
    {
     "data": {
      "text/plain": [
       "<Figure size 396x342 with 0 Axes>"
      ]
     },
     "metadata": {},
     "output_type": "display_data"
    },
    {
     "data": {
      "text/plain": [
       "<Figure size 396x342 with 0 Axes>"
      ]
     },
     "metadata": {},
     "output_type": "display_data"
    },
    {
     "data": {
      "text/plain": [
       "<Figure size 396x342 with 0 Axes>"
      ]
     },
     "metadata": {},
     "output_type": "display_data"
    },
    {
     "data": {
      "text/plain": [
       "<Figure size 396x342 with 0 Axes>"
      ]
     },
     "metadata": {},
     "output_type": "display_data"
    },
    {
     "data": {
      "text/plain": [
       "<Figure size 396x342 with 0 Axes>"
      ]
     },
     "metadata": {},
     "output_type": "display_data"
    },
    {
     "data": {
      "text/plain": [
       "<Figure size 396x342 with 0 Axes>"
      ]
     },
     "metadata": {},
     "output_type": "display_data"
    },
    {
     "data": {
      "text/plain": [
       "<Figure size 396x342 with 0 Axes>"
      ]
     },
     "metadata": {},
     "output_type": "display_data"
    },
    {
     "data": {
      "text/plain": [
       "<Figure size 396x342 with 0 Axes>"
      ]
     },
     "metadata": {},
     "output_type": "display_data"
    },
    {
     "data": {
      "text/plain": [
       "<Figure size 396x342 with 0 Axes>"
      ]
     },
     "metadata": {},
     "output_type": "display_data"
    },
    {
     "data": {
      "text/plain": [
       "<Figure size 396x342 with 0 Axes>"
      ]
     },
     "metadata": {},
     "output_type": "display_data"
    },
    {
     "data": {
      "text/plain": [
       "<Figure size 396x342 with 0 Axes>"
      ]
     },
     "metadata": {},
     "output_type": "display_data"
    },
    {
     "data": {
      "text/plain": [
       "<Figure size 396x342 with 0 Axes>"
      ]
     },
     "metadata": {},
     "output_type": "display_data"
    },
    {
     "data": {
      "text/plain": [
       "<Figure size 396x342 with 0 Axes>"
      ]
     },
     "metadata": {},
     "output_type": "display_data"
    },
    {
     "data": {
      "text/plain": [
       "<Figure size 396x342 with 0 Axes>"
      ]
     },
     "metadata": {},
     "output_type": "display_data"
    },
    {
     "data": {
      "text/plain": [
       "<Figure size 396x342 with 0 Axes>"
      ]
     },
     "metadata": {},
     "output_type": "display_data"
    },
    {
     "data": {
      "text/plain": [
       "<Figure size 396x342 with 0 Axes>"
      ]
     },
     "metadata": {},
     "output_type": "display_data"
    },
    {
     "data": {
      "text/plain": [
       "<Figure size 396x342 with 0 Axes>"
      ]
     },
     "metadata": {},
     "output_type": "display_data"
    },
    {
     "data": {
      "text/plain": [
       "<Figure size 396x342 with 0 Axes>"
      ]
     },
     "metadata": {},
     "output_type": "display_data"
    },
    {
     "data": {
      "text/plain": [
       "<Figure size 396x342 with 0 Axes>"
      ]
     },
     "metadata": {},
     "output_type": "display_data"
    },
    {
     "data": {
      "text/plain": [
       "<Figure size 396x342 with 0 Axes>"
      ]
     },
     "metadata": {},
     "output_type": "display_data"
    },
    {
     "data": {
      "text/plain": [
       "<Figure size 396x342 with 0 Axes>"
      ]
     },
     "metadata": {},
     "output_type": "display_data"
    },
    {
     "data": {
      "text/plain": [
       "<Figure size 396x342 with 0 Axes>"
      ]
     },
     "metadata": {},
     "output_type": "display_data"
    },
    {
     "data": {
      "text/plain": [
       "<Figure size 396x342 with 0 Axes>"
      ]
     },
     "metadata": {},
     "output_type": "display_data"
    },
    {
     "data": {
      "text/plain": [
       "<Figure size 396x342 with 0 Axes>"
      ]
     },
     "metadata": {},
     "output_type": "display_data"
    },
    {
     "data": {
      "text/plain": [
       "<Figure size 396x342 with 0 Axes>"
      ]
     },
     "metadata": {},
     "output_type": "display_data"
    },
    {
     "data": {
      "text/plain": [
       "<Figure size 396x342 with 0 Axes>"
      ]
     },
     "metadata": {},
     "output_type": "display_data"
    },
    {
     "data": {
      "text/plain": [
       "<Figure size 396x342 with 0 Axes>"
      ]
     },
     "metadata": {},
     "output_type": "display_data"
    },
    {
     "data": {
      "text/plain": [
       "<Figure size 396x342 with 0 Axes>"
      ]
     },
     "metadata": {},
     "output_type": "display_data"
    },
    {
     "data": {
      "text/plain": [
       "<Figure size 396x342 with 0 Axes>"
      ]
     },
     "metadata": {},
     "output_type": "display_data"
    },
    {
     "data": {
      "text/plain": [
       "<Figure size 396x342 with 0 Axes>"
      ]
     },
     "metadata": {},
     "output_type": "display_data"
    },
    {
     "data": {
      "text/plain": [
       "<Figure size 396x342 with 0 Axes>"
      ]
     },
     "metadata": {},
     "output_type": "display_data"
    },
    {
     "data": {
      "text/plain": [
       "<Figure size 396x342 with 0 Axes>"
      ]
     },
     "metadata": {},
     "output_type": "display_data"
    },
    {
     "data": {
      "text/plain": [
       "<Figure size 396x342 with 0 Axes>"
      ]
     },
     "metadata": {},
     "output_type": "display_data"
    },
    {
     "data": {
      "text/plain": [
       "<Figure size 396x342 with 0 Axes>"
      ]
     },
     "metadata": {},
     "output_type": "display_data"
    },
    {
     "data": {
      "text/plain": [
       "<Figure size 396x342 with 0 Axes>"
      ]
     },
     "metadata": {},
     "output_type": "display_data"
    },
    {
     "data": {
      "text/plain": [
       "<Figure size 396x342 with 0 Axes>"
      ]
     },
     "metadata": {},
     "output_type": "display_data"
    },
    {
     "data": {
      "text/plain": [
       "<Figure size 396x342 with 0 Axes>"
      ]
     },
     "metadata": {},
     "output_type": "display_data"
    },
    {
     "data": {
      "text/plain": [
       "<Figure size 396x342 with 0 Axes>"
      ]
     },
     "metadata": {},
     "output_type": "display_data"
    },
    {
     "data": {
      "text/plain": [
       "<Figure size 396x342 with 0 Axes>"
      ]
     },
     "metadata": {},
     "output_type": "display_data"
    },
    {
     "data": {
      "text/plain": [
       "<Figure size 396x342 with 0 Axes>"
      ]
     },
     "metadata": {},
     "output_type": "display_data"
    },
    {
     "data": {
      "text/plain": [
       "<Figure size 396x342 with 0 Axes>"
      ]
     },
     "metadata": {},
     "output_type": "display_data"
    },
    {
     "data": {
      "text/plain": [
       "<Figure size 396x342 with 0 Axes>"
      ]
     },
     "metadata": {},
     "output_type": "display_data"
    },
    {
     "data": {
      "text/plain": [
       "<Figure size 396x342 with 0 Axes>"
      ]
     },
     "metadata": {},
     "output_type": "display_data"
    },
    {
     "data": {
      "text/plain": [
       "<Figure size 396x342 with 0 Axes>"
      ]
     },
     "metadata": {},
     "output_type": "display_data"
    },
    {
     "data": {
      "text/plain": [
       "<Figure size 396x342 with 0 Axes>"
      ]
     },
     "metadata": {},
     "output_type": "display_data"
    },
    {
     "data": {
      "text/plain": [
       "<Figure size 396x342 with 0 Axes>"
      ]
     },
     "metadata": {},
     "output_type": "display_data"
    },
    {
     "data": {
      "text/plain": [
       "<Figure size 396x342 with 0 Axes>"
      ]
     },
     "metadata": {},
     "output_type": "display_data"
    },
    {
     "data": {
      "text/plain": [
       "<Figure size 396x342 with 0 Axes>"
      ]
     },
     "metadata": {},
     "output_type": "display_data"
    },
    {
     "data": {
      "text/plain": [
       "<Figure size 396x342 with 0 Axes>"
      ]
     },
     "metadata": {},
     "output_type": "display_data"
    },
    {
     "data": {
      "text/plain": [
       "<Figure size 396x342 with 0 Axes>"
      ]
     },
     "metadata": {},
     "output_type": "display_data"
    },
    {
     "data": {
      "text/plain": [
       "<Figure size 396x342 with 0 Axes>"
      ]
     },
     "metadata": {},
     "output_type": "display_data"
    },
    {
     "data": {
      "text/plain": [
       "<Figure size 396x342 with 0 Axes>"
      ]
     },
     "metadata": {},
     "output_type": "display_data"
    },
    {
     "data": {
      "text/plain": [
       "<Figure size 396x342 with 0 Axes>"
      ]
     },
     "metadata": {},
     "output_type": "display_data"
    },
    {
     "data": {
      "text/plain": [
       "<Figure size 396x342 with 0 Axes>"
      ]
     },
     "metadata": {},
     "output_type": "display_data"
    },
    {
     "data": {
      "text/plain": [
       "<Figure size 396x342 with 0 Axes>"
      ]
     },
     "metadata": {},
     "output_type": "display_data"
    },
    {
     "data": {
      "text/plain": [
       "<Figure size 396x342 with 0 Axes>"
      ]
     },
     "metadata": {},
     "output_type": "display_data"
    },
    {
     "data": {
      "text/plain": [
       "<Figure size 396x342 with 0 Axes>"
      ]
     },
     "metadata": {},
     "output_type": "display_data"
    },
    {
     "data": {
      "text/plain": [
       "<Figure size 396x342 with 0 Axes>"
      ]
     },
     "metadata": {},
     "output_type": "display_data"
    },
    {
     "data": {
      "text/plain": [
       "<Figure size 396x342 with 0 Axes>"
      ]
     },
     "metadata": {},
     "output_type": "display_data"
    },
    {
     "data": {
      "text/plain": [
       "<Figure size 396x342 with 0 Axes>"
      ]
     },
     "metadata": {},
     "output_type": "display_data"
    },
    {
     "data": {
      "text/plain": [
       "<Figure size 396x342 with 0 Axes>"
      ]
     },
     "metadata": {},
     "output_type": "display_data"
    },
    {
     "data": {
      "text/plain": [
       "<Figure size 396x342 with 0 Axes>"
      ]
     },
     "metadata": {},
     "output_type": "display_data"
    },
    {
     "data": {
      "text/plain": [
       "<Figure size 396x342 with 0 Axes>"
      ]
     },
     "metadata": {},
     "output_type": "display_data"
    },
    {
     "data": {
      "text/plain": [
       "<Figure size 396x342 with 0 Axes>"
      ]
     },
     "metadata": {},
     "output_type": "display_data"
    },
    {
     "data": {
      "text/plain": [
       "<Figure size 396x342 with 0 Axes>"
      ]
     },
     "metadata": {},
     "output_type": "display_data"
    },
    {
     "data": {
      "text/plain": [
       "<Figure size 396x342 with 0 Axes>"
      ]
     },
     "metadata": {},
     "output_type": "display_data"
    },
    {
     "data": {
      "text/plain": [
       "<Figure size 396x342 with 0 Axes>"
      ]
     },
     "metadata": {},
     "output_type": "display_data"
    },
    {
     "data": {
      "text/plain": [
       "<Figure size 396x342 with 0 Axes>"
      ]
     },
     "metadata": {},
     "output_type": "display_data"
    },
    {
     "data": {
      "text/plain": [
       "<Figure size 396x342 with 0 Axes>"
      ]
     },
     "metadata": {},
     "output_type": "display_data"
    },
    {
     "data": {
      "text/plain": [
       "<Figure size 396x342 with 0 Axes>"
      ]
     },
     "metadata": {},
     "output_type": "display_data"
    },
    {
     "data": {
      "text/plain": [
       "<Figure size 396x342 with 0 Axes>"
      ]
     },
     "metadata": {},
     "output_type": "display_data"
    },
    {
     "data": {
      "text/plain": [
       "<Figure size 396x342 with 0 Axes>"
      ]
     },
     "metadata": {},
     "output_type": "display_data"
    },
    {
     "data": {
      "text/plain": [
       "<Figure size 396x342 with 0 Axes>"
      ]
     },
     "metadata": {},
     "output_type": "display_data"
    },
    {
     "data": {
      "text/plain": [
       "<Figure size 396x342 with 0 Axes>"
      ]
     },
     "metadata": {},
     "output_type": "display_data"
    },
    {
     "data": {
      "text/plain": [
       "<Figure size 396x342 with 0 Axes>"
      ]
     },
     "metadata": {},
     "output_type": "display_data"
    },
    {
     "data": {
      "text/plain": [
       "<Figure size 396x342 with 0 Axes>"
      ]
     },
     "metadata": {},
     "output_type": "display_data"
    },
    {
     "data": {
      "text/plain": [
       "<Figure size 396x342 with 0 Axes>"
      ]
     },
     "metadata": {},
     "output_type": "display_data"
    },
    {
     "data": {
      "text/plain": [
       "<Figure size 396x342 with 0 Axes>"
      ]
     },
     "metadata": {},
     "output_type": "display_data"
    },
    {
     "data": {
      "text/plain": [
       "<Figure size 396x342 with 0 Axes>"
      ]
     },
     "metadata": {},
     "output_type": "display_data"
    },
    {
     "data": {
      "text/plain": [
       "<Figure size 396x342 with 0 Axes>"
      ]
     },
     "metadata": {},
     "output_type": "display_data"
    },
    {
     "data": {
      "text/plain": [
       "<Figure size 396x342 with 0 Axes>"
      ]
     },
     "metadata": {},
     "output_type": "display_data"
    },
    {
     "data": {
      "text/plain": [
       "<Figure size 396x342 with 0 Axes>"
      ]
     },
     "metadata": {},
     "output_type": "display_data"
    },
    {
     "data": {
      "text/plain": [
       "<Figure size 396x342 with 0 Axes>"
      ]
     },
     "metadata": {},
     "output_type": "display_data"
    },
    {
     "data": {
      "text/plain": [
       "<Figure size 396x342 with 0 Axes>"
      ]
     },
     "metadata": {},
     "output_type": "display_data"
    },
    {
     "data": {
      "text/plain": [
       "<Figure size 396x342 with 0 Axes>"
      ]
     },
     "metadata": {},
     "output_type": "display_data"
    },
    {
     "data": {
      "text/plain": [
       "<Figure size 396x342 with 0 Axes>"
      ]
     },
     "metadata": {},
     "output_type": "display_data"
    },
    {
     "data": {
      "text/plain": [
       "<Figure size 396x342 with 0 Axes>"
      ]
     },
     "metadata": {},
     "output_type": "display_data"
    },
    {
     "data": {
      "text/plain": [
       "<Figure size 396x342 with 0 Axes>"
      ]
     },
     "metadata": {},
     "output_type": "display_data"
    },
    {
     "data": {
      "text/plain": [
       "<Figure size 396x342 with 0 Axes>"
      ]
     },
     "metadata": {},
     "output_type": "display_data"
    },
    {
     "data": {
      "text/plain": [
       "<Figure size 396x342 with 0 Axes>"
      ]
     },
     "metadata": {},
     "output_type": "display_data"
    },
    {
     "data": {
      "text/plain": [
       "<Figure size 396x342 with 0 Axes>"
      ]
     },
     "metadata": {},
     "output_type": "display_data"
    },
    {
     "data": {
      "text/plain": [
       "<Figure size 396x342 with 0 Axes>"
      ]
     },
     "metadata": {},
     "output_type": "display_data"
    },
    {
     "data": {
      "text/plain": [
       "<Figure size 396x342 with 0 Axes>"
      ]
     },
     "metadata": {},
     "output_type": "display_data"
    },
    {
     "data": {
      "text/plain": [
       "<Figure size 396x342 with 0 Axes>"
      ]
     },
     "metadata": {},
     "output_type": "display_data"
    },
    {
     "data": {
      "text/plain": [
       "<Figure size 396x342 with 0 Axes>"
      ]
     },
     "metadata": {},
     "output_type": "display_data"
    },
    {
     "data": {
      "text/plain": [
       "<Figure size 396x342 with 0 Axes>"
      ]
     },
     "metadata": {},
     "output_type": "display_data"
    },
    {
     "data": {
      "text/plain": [
       "<Figure size 396x342 with 0 Axes>"
      ]
     },
     "metadata": {},
     "output_type": "display_data"
    },
    {
     "data": {
      "text/plain": [
       "<Figure size 396x342 with 0 Axes>"
      ]
     },
     "metadata": {},
     "output_type": "display_data"
    },
    {
     "data": {
      "text/plain": [
       "<Figure size 396x342 with 0 Axes>"
      ]
     },
     "metadata": {},
     "output_type": "display_data"
    },
    {
     "data": {
      "text/plain": [
       "<Figure size 396x342 with 0 Axes>"
      ]
     },
     "metadata": {},
     "output_type": "display_data"
    },
    {
     "data": {
      "text/plain": [
       "<Figure size 396x342 with 0 Axes>"
      ]
     },
     "metadata": {},
     "output_type": "display_data"
    },
    {
     "data": {
      "text/plain": [
       "<Figure size 396x342 with 0 Axes>"
      ]
     },
     "metadata": {},
     "output_type": "display_data"
    },
    {
     "data": {
      "text/plain": [
       "<Figure size 396x342 with 0 Axes>"
      ]
     },
     "metadata": {},
     "output_type": "display_data"
    },
    {
     "data": {
      "text/plain": [
       "<Figure size 396x342 with 0 Axes>"
      ]
     },
     "metadata": {},
     "output_type": "display_data"
    },
    {
     "data": {
      "text/plain": [
       "<Figure size 396x342 with 0 Axes>"
      ]
     },
     "metadata": {},
     "output_type": "display_data"
    },
    {
     "data": {
      "text/plain": [
       "<Figure size 396x342 with 0 Axes>"
      ]
     },
     "metadata": {},
     "output_type": "display_data"
    },
    {
     "data": {
      "text/plain": [
       "<Figure size 396x342 with 0 Axes>"
      ]
     },
     "metadata": {},
     "output_type": "display_data"
    },
    {
     "data": {
      "text/plain": [
       "<Figure size 396x342 with 0 Axes>"
      ]
     },
     "metadata": {},
     "output_type": "display_data"
    },
    {
     "data": {
      "text/plain": [
       "<Figure size 396x342 with 0 Axes>"
      ]
     },
     "metadata": {},
     "output_type": "display_data"
    },
    {
     "data": {
      "text/plain": [
       "<Figure size 396x342 with 0 Axes>"
      ]
     },
     "metadata": {},
     "output_type": "display_data"
    },
    {
     "data": {
      "text/plain": [
       "<Figure size 396x342 with 0 Axes>"
      ]
     },
     "metadata": {},
     "output_type": "display_data"
    },
    {
     "data": {
      "text/plain": [
       "<Figure size 396x342 with 0 Axes>"
      ]
     },
     "metadata": {},
     "output_type": "display_data"
    },
    {
     "data": {
      "text/plain": [
       "<Figure size 396x342 with 0 Axes>"
      ]
     },
     "metadata": {},
     "output_type": "display_data"
    },
    {
     "data": {
      "text/plain": [
       "<Figure size 396x342 with 0 Axes>"
      ]
     },
     "metadata": {},
     "output_type": "display_data"
    },
    {
     "data": {
      "text/plain": [
       "<Figure size 396x342 with 0 Axes>"
      ]
     },
     "metadata": {},
     "output_type": "display_data"
    },
    {
     "data": {
      "text/plain": [
       "<Figure size 396x342 with 0 Axes>"
      ]
     },
     "metadata": {},
     "output_type": "display_data"
    },
    {
     "data": {
      "text/plain": [
       "<Figure size 396x342 with 0 Axes>"
      ]
     },
     "metadata": {},
     "output_type": "display_data"
    },
    {
     "data": {
      "text/plain": [
       "<Figure size 396x342 with 0 Axes>"
      ]
     },
     "metadata": {},
     "output_type": "display_data"
    },
    {
     "data": {
      "text/plain": [
       "<Figure size 396x342 with 0 Axes>"
      ]
     },
     "metadata": {},
     "output_type": "display_data"
    },
    {
     "data": {
      "text/plain": [
       "<Figure size 396x342 with 0 Axes>"
      ]
     },
     "metadata": {},
     "output_type": "display_data"
    },
    {
     "data": {
      "text/plain": [
       "<Figure size 396x342 with 0 Axes>"
      ]
     },
     "metadata": {},
     "output_type": "display_data"
    },
    {
     "data": {
      "text/plain": [
       "<Figure size 396x342 with 0 Axes>"
      ]
     },
     "metadata": {},
     "output_type": "display_data"
    },
    {
     "data": {
      "text/plain": [
       "<Figure size 396x342 with 0 Axes>"
      ]
     },
     "metadata": {},
     "output_type": "display_data"
    },
    {
     "data": {
      "text/plain": [
       "<Figure size 396x342 with 0 Axes>"
      ]
     },
     "metadata": {},
     "output_type": "display_data"
    },
    {
     "data": {
      "text/plain": [
       "<Figure size 396x342 with 0 Axes>"
      ]
     },
     "metadata": {},
     "output_type": "display_data"
    },
    {
     "data": {
      "text/plain": [
       "<Figure size 396x342 with 0 Axes>"
      ]
     },
     "metadata": {},
     "output_type": "display_data"
    },
    {
     "data": {
      "text/plain": [
       "<Figure size 396x342 with 0 Axes>"
      ]
     },
     "metadata": {},
     "output_type": "display_data"
    },
    {
     "data": {
      "text/plain": [
       "<Figure size 396x342 with 0 Axes>"
      ]
     },
     "metadata": {},
     "output_type": "display_data"
    },
    {
     "data": {
      "text/plain": [
       "<Figure size 396x342 with 0 Axes>"
      ]
     },
     "metadata": {},
     "output_type": "display_data"
    },
    {
     "data": {
      "text/plain": [
       "<Figure size 396x342 with 0 Axes>"
      ]
     },
     "metadata": {},
     "output_type": "display_data"
    },
    {
     "data": {
      "text/plain": [
       "<Figure size 396x342 with 0 Axes>"
      ]
     },
     "metadata": {},
     "output_type": "display_data"
    },
    {
     "data": {
      "text/plain": [
       "<Figure size 396x342 with 0 Axes>"
      ]
     },
     "metadata": {},
     "output_type": "display_data"
    },
    {
     "data": {
      "text/plain": [
       "<Figure size 396x342 with 0 Axes>"
      ]
     },
     "metadata": {},
     "output_type": "display_data"
    },
    {
     "data": {
      "text/plain": [
       "<Figure size 396x342 with 0 Axes>"
      ]
     },
     "metadata": {},
     "output_type": "display_data"
    },
    {
     "data": {
      "text/plain": [
       "<Figure size 396x342 with 0 Axes>"
      ]
     },
     "metadata": {},
     "output_type": "display_data"
    },
    {
     "data": {
      "text/plain": [
       "<Figure size 396x342 with 0 Axes>"
      ]
     },
     "metadata": {},
     "output_type": "display_data"
    },
    {
     "data": {
      "text/plain": [
       "<Figure size 396x342 with 0 Axes>"
      ]
     },
     "metadata": {},
     "output_type": "display_data"
    },
    {
     "data": {
      "text/plain": [
       "<Figure size 396x342 with 0 Axes>"
      ]
     },
     "metadata": {},
     "output_type": "display_data"
    },
    {
     "data": {
      "text/plain": [
       "<Figure size 396x342 with 0 Axes>"
      ]
     },
     "metadata": {},
     "output_type": "display_data"
    },
    {
     "data": {
      "text/plain": [
       "<Figure size 396x342 with 0 Axes>"
      ]
     },
     "metadata": {},
     "output_type": "display_data"
    },
    {
     "data": {
      "text/plain": [
       "<Figure size 396x342 with 0 Axes>"
      ]
     },
     "metadata": {},
     "output_type": "display_data"
    },
    {
     "data": {
      "text/plain": [
       "<Figure size 396x342 with 0 Axes>"
      ]
     },
     "metadata": {},
     "output_type": "display_data"
    },
    {
     "data": {
      "text/plain": [
       "<Figure size 396x342 with 0 Axes>"
      ]
     },
     "metadata": {},
     "output_type": "display_data"
    },
    {
     "data": {
      "text/plain": [
       "<Figure size 396x342 with 0 Axes>"
      ]
     },
     "metadata": {},
     "output_type": "display_data"
    },
    {
     "data": {
      "text/plain": [
       "<Figure size 396x342 with 0 Axes>"
      ]
     },
     "metadata": {},
     "output_type": "display_data"
    },
    {
     "data": {
      "text/plain": [
       "<Figure size 396x342 with 0 Axes>"
      ]
     },
     "metadata": {},
     "output_type": "display_data"
    },
    {
     "data": {
      "text/plain": [
       "<Figure size 396x342 with 0 Axes>"
      ]
     },
     "metadata": {},
     "output_type": "display_data"
    },
    {
     "data": {
      "text/plain": [
       "<Figure size 396x342 with 0 Axes>"
      ]
     },
     "metadata": {},
     "output_type": "display_data"
    },
    {
     "data": {
      "text/plain": [
       "<Figure size 396x342 with 0 Axes>"
      ]
     },
     "metadata": {},
     "output_type": "display_data"
    },
    {
     "data": {
      "text/plain": [
       "<Figure size 396x342 with 0 Axes>"
      ]
     },
     "metadata": {},
     "output_type": "display_data"
    },
    {
     "data": {
      "text/plain": [
       "<Figure size 396x342 with 0 Axes>"
      ]
     },
     "metadata": {},
     "output_type": "display_data"
    },
    {
     "data": {
      "text/plain": [
       "<Figure size 396x342 with 0 Axes>"
      ]
     },
     "metadata": {},
     "output_type": "display_data"
    },
    {
     "data": {
      "text/plain": [
       "<Figure size 396x342 with 0 Axes>"
      ]
     },
     "metadata": {},
     "output_type": "display_data"
    },
    {
     "data": {
      "text/plain": [
       "<Figure size 396x342 with 0 Axes>"
      ]
     },
     "metadata": {},
     "output_type": "display_data"
    },
    {
     "data": {
      "text/plain": [
       "<Figure size 396x342 with 0 Axes>"
      ]
     },
     "metadata": {},
     "output_type": "display_data"
    },
    {
     "data": {
      "text/plain": [
       "<Figure size 396x342 with 0 Axes>"
      ]
     },
     "metadata": {},
     "output_type": "display_data"
    },
    {
     "data": {
      "text/plain": [
       "<Figure size 396x342 with 0 Axes>"
      ]
     },
     "metadata": {},
     "output_type": "display_data"
    },
    {
     "data": {
      "text/plain": [
       "<Figure size 396x342 with 0 Axes>"
      ]
     },
     "metadata": {},
     "output_type": "display_data"
    },
    {
     "data": {
      "text/plain": [
       "<Figure size 396x342 with 0 Axes>"
      ]
     },
     "metadata": {},
     "output_type": "display_data"
    },
    {
     "data": {
      "text/plain": [
       "<Figure size 396x342 with 0 Axes>"
      ]
     },
     "metadata": {},
     "output_type": "display_data"
    },
    {
     "data": {
      "text/plain": [
       "<Figure size 396x342 with 0 Axes>"
      ]
     },
     "metadata": {},
     "output_type": "display_data"
    },
    {
     "data": {
      "text/plain": [
       "<Figure size 396x342 with 0 Axes>"
      ]
     },
     "metadata": {},
     "output_type": "display_data"
    },
    {
     "data": {
      "text/plain": [
       "<Figure size 396x342 with 0 Axes>"
      ]
     },
     "metadata": {},
     "output_type": "display_data"
    },
    {
     "data": {
      "text/plain": [
       "<Figure size 396x342 with 0 Axes>"
      ]
     },
     "metadata": {},
     "output_type": "display_data"
    },
    {
     "data": {
      "text/plain": [
       "<Figure size 396x342 with 0 Axes>"
      ]
     },
     "metadata": {},
     "output_type": "display_data"
    },
    {
     "data": {
      "text/plain": [
       "<Figure size 396x342 with 0 Axes>"
      ]
     },
     "metadata": {},
     "output_type": "display_data"
    },
    {
     "data": {
      "text/plain": [
       "<Figure size 396x342 with 0 Axes>"
      ]
     },
     "metadata": {},
     "output_type": "display_data"
    },
    {
     "data": {
      "text/plain": [
       "<Figure size 396x342 with 0 Axes>"
      ]
     },
     "metadata": {},
     "output_type": "display_data"
    },
    {
     "data": {
      "text/plain": [
       "<Figure size 396x342 with 0 Axes>"
      ]
     },
     "metadata": {},
     "output_type": "display_data"
    },
    {
     "data": {
      "text/plain": [
       "<Figure size 396x342 with 0 Axes>"
      ]
     },
     "metadata": {},
     "output_type": "display_data"
    },
    {
     "data": {
      "text/plain": [
       "<Figure size 396x342 with 0 Axes>"
      ]
     },
     "metadata": {},
     "output_type": "display_data"
    },
    {
     "data": {
      "text/plain": [
       "<Figure size 396x342 with 0 Axes>"
      ]
     },
     "metadata": {},
     "output_type": "display_data"
    },
    {
     "data": {
      "text/plain": [
       "<Figure size 396x342 with 0 Axes>"
      ]
     },
     "metadata": {},
     "output_type": "display_data"
    },
    {
     "data": {
      "text/plain": [
       "<Figure size 396x342 with 0 Axes>"
      ]
     },
     "metadata": {},
     "output_type": "display_data"
    },
    {
     "data": {
      "text/plain": [
       "<Figure size 396x342 with 0 Axes>"
      ]
     },
     "metadata": {},
     "output_type": "display_data"
    },
    {
     "data": {
      "text/plain": [
       "<Figure size 396x342 with 0 Axes>"
      ]
     },
     "metadata": {},
     "output_type": "display_data"
    },
    {
     "data": {
      "text/plain": [
       "<Figure size 396x342 with 0 Axes>"
      ]
     },
     "metadata": {},
     "output_type": "display_data"
    },
    {
     "data": {
      "text/plain": [
       "<Figure size 396x342 with 0 Axes>"
      ]
     },
     "metadata": {},
     "output_type": "display_data"
    },
    {
     "data": {
      "text/plain": [
       "<Figure size 396x342 with 0 Axes>"
      ]
     },
     "metadata": {},
     "output_type": "display_data"
    },
    {
     "data": {
      "text/plain": [
       "<Figure size 396x342 with 0 Axes>"
      ]
     },
     "metadata": {},
     "output_type": "display_data"
    },
    {
     "data": {
      "text/plain": [
       "<Figure size 396x342 with 0 Axes>"
      ]
     },
     "metadata": {},
     "output_type": "display_data"
    },
    {
     "data": {
      "text/plain": [
       "<Figure size 396x342 with 0 Axes>"
      ]
     },
     "metadata": {},
     "output_type": "display_data"
    },
    {
     "data": {
      "text/plain": [
       "<Figure size 396x342 with 0 Axes>"
      ]
     },
     "metadata": {},
     "output_type": "display_data"
    },
    {
     "data": {
      "text/plain": [
       "<Figure size 396x342 with 0 Axes>"
      ]
     },
     "metadata": {},
     "output_type": "display_data"
    },
    {
     "data": {
      "text/plain": [
       "<Figure size 396x342 with 0 Axes>"
      ]
     },
     "metadata": {},
     "output_type": "display_data"
    },
    {
     "data": {
      "text/plain": [
       "<Figure size 396x342 with 0 Axes>"
      ]
     },
     "metadata": {},
     "output_type": "display_data"
    },
    {
     "data": {
      "text/plain": [
       "<Figure size 396x342 with 0 Axes>"
      ]
     },
     "metadata": {},
     "output_type": "display_data"
    },
    {
     "data": {
      "text/plain": [
       "<Figure size 396x342 with 0 Axes>"
      ]
     },
     "metadata": {},
     "output_type": "display_data"
    },
    {
     "data": {
      "text/plain": [
       "<Figure size 396x342 with 0 Axes>"
      ]
     },
     "metadata": {},
     "output_type": "display_data"
    },
    {
     "data": {
      "text/plain": [
       "<Figure size 396x342 with 0 Axes>"
      ]
     },
     "metadata": {},
     "output_type": "display_data"
    },
    {
     "data": {
      "text/plain": [
       "<Figure size 396x342 with 0 Axes>"
      ]
     },
     "metadata": {},
     "output_type": "display_data"
    },
    {
     "data": {
      "text/plain": [
       "<Figure size 396x342 with 0 Axes>"
      ]
     },
     "metadata": {},
     "output_type": "display_data"
    },
    {
     "data": {
      "text/plain": [
       "<Figure size 396x342 with 0 Axes>"
      ]
     },
     "metadata": {},
     "output_type": "display_data"
    },
    {
     "data": {
      "text/plain": [
       "<Figure size 396x342 with 0 Axes>"
      ]
     },
     "metadata": {},
     "output_type": "display_data"
    },
    {
     "data": {
      "text/plain": [
       "<Figure size 396x342 with 0 Axes>"
      ]
     },
     "metadata": {},
     "output_type": "display_data"
    },
    {
     "data": {
      "text/plain": [
       "<Figure size 396x342 with 0 Axes>"
      ]
     },
     "metadata": {},
     "output_type": "display_data"
    },
    {
     "data": {
      "text/plain": [
       "<Figure size 396x342 with 0 Axes>"
      ]
     },
     "metadata": {},
     "output_type": "display_data"
    },
    {
     "data": {
      "text/plain": [
       "<Figure size 396x342 with 0 Axes>"
      ]
     },
     "metadata": {},
     "output_type": "display_data"
    },
    {
     "data": {
      "text/plain": [
       "<Figure size 396x342 with 0 Axes>"
      ]
     },
     "metadata": {},
     "output_type": "display_data"
    },
    {
     "data": {
      "text/plain": [
       "<Figure size 396x342 with 0 Axes>"
      ]
     },
     "metadata": {},
     "output_type": "display_data"
    },
    {
     "data": {
      "text/plain": [
       "<Figure size 396x342 with 0 Axes>"
      ]
     },
     "metadata": {},
     "output_type": "display_data"
    },
    {
     "data": {
      "text/plain": [
       "<Figure size 396x342 with 0 Axes>"
      ]
     },
     "metadata": {},
     "output_type": "display_data"
    },
    {
     "data": {
      "text/plain": [
       "<Figure size 396x342 with 0 Axes>"
      ]
     },
     "metadata": {},
     "output_type": "display_data"
    },
    {
     "data": {
      "text/plain": [
       "<Figure size 396x342 with 0 Axes>"
      ]
     },
     "metadata": {},
     "output_type": "display_data"
    },
    {
     "data": {
      "text/plain": [
       "<Figure size 396x342 with 0 Axes>"
      ]
     },
     "metadata": {},
     "output_type": "display_data"
    },
    {
     "data": {
      "text/plain": [
       "<Figure size 396x342 with 0 Axes>"
      ]
     },
     "metadata": {},
     "output_type": "display_data"
    },
    {
     "data": {
      "text/plain": [
       "<Figure size 396x342 with 0 Axes>"
      ]
     },
     "metadata": {},
     "output_type": "display_data"
    },
    {
     "data": {
      "text/plain": [
       "<Figure size 396x342 with 0 Axes>"
      ]
     },
     "metadata": {},
     "output_type": "display_data"
    },
    {
     "data": {
      "text/plain": [
       "<Figure size 396x342 with 0 Axes>"
      ]
     },
     "metadata": {},
     "output_type": "display_data"
    },
    {
     "data": {
      "text/plain": [
       "<Figure size 396x342 with 0 Axes>"
      ]
     },
     "metadata": {},
     "output_type": "display_data"
    },
    {
     "data": {
      "text/plain": [
       "<Figure size 396x342 with 0 Axes>"
      ]
     },
     "metadata": {},
     "output_type": "display_data"
    },
    {
     "data": {
      "text/plain": [
       "<Figure size 396x342 with 0 Axes>"
      ]
     },
     "metadata": {},
     "output_type": "display_data"
    },
    {
     "data": {
      "text/plain": [
       "<Figure size 396x342 with 0 Axes>"
      ]
     },
     "metadata": {},
     "output_type": "display_data"
    },
    {
     "data": {
      "text/plain": [
       "<Figure size 396x342 with 0 Axes>"
      ]
     },
     "metadata": {},
     "output_type": "display_data"
    },
    {
     "data": {
      "text/plain": [
       "<Figure size 396x342 with 0 Axes>"
      ]
     },
     "metadata": {},
     "output_type": "display_data"
    },
    {
     "data": {
      "text/plain": [
       "<Figure size 396x342 with 0 Axes>"
      ]
     },
     "metadata": {},
     "output_type": "display_data"
    },
    {
     "data": {
      "text/plain": [
       "<Figure size 396x342 with 0 Axes>"
      ]
     },
     "metadata": {},
     "output_type": "display_data"
    },
    {
     "data": {
      "text/plain": [
       "<Figure size 396x342 with 0 Axes>"
      ]
     },
     "metadata": {},
     "output_type": "display_data"
    },
    {
     "data": {
      "text/plain": [
       "<Figure size 396x342 with 0 Axes>"
      ]
     },
     "metadata": {},
     "output_type": "display_data"
    },
    {
     "data": {
      "text/plain": [
       "<Figure size 396x342 with 0 Axes>"
      ]
     },
     "metadata": {},
     "output_type": "display_data"
    },
    {
     "data": {
      "text/plain": [
       "<Figure size 396x342 with 0 Axes>"
      ]
     },
     "metadata": {},
     "output_type": "display_data"
    },
    {
     "data": {
      "text/plain": [
       "<Figure size 396x342 with 0 Axes>"
      ]
     },
     "metadata": {},
     "output_type": "display_data"
    },
    {
     "data": {
      "text/plain": [
       "<Figure size 396x342 with 0 Axes>"
      ]
     },
     "metadata": {},
     "output_type": "display_data"
    },
    {
     "data": {
      "text/plain": [
       "<Figure size 396x342 with 0 Axes>"
      ]
     },
     "metadata": {},
     "output_type": "display_data"
    },
    {
     "data": {
      "text/plain": [
       "<Figure size 396x342 with 0 Axes>"
      ]
     },
     "metadata": {},
     "output_type": "display_data"
    },
    {
     "data": {
      "text/plain": [
       "<Figure size 396x342 with 0 Axes>"
      ]
     },
     "metadata": {},
     "output_type": "display_data"
    },
    {
     "data": {
      "text/plain": [
       "<Figure size 396x342 with 0 Axes>"
      ]
     },
     "metadata": {},
     "output_type": "display_data"
    },
    {
     "data": {
      "text/plain": [
       "<Figure size 396x342 with 0 Axes>"
      ]
     },
     "metadata": {},
     "output_type": "display_data"
    },
    {
     "data": {
      "text/plain": [
       "<Figure size 396x342 with 0 Axes>"
      ]
     },
     "metadata": {},
     "output_type": "display_data"
    },
    {
     "data": {
      "text/plain": [
       "<Figure size 396x342 with 0 Axes>"
      ]
     },
     "metadata": {},
     "output_type": "display_data"
    },
    {
     "data": {
      "text/plain": [
       "<Figure size 396x342 with 0 Axes>"
      ]
     },
     "metadata": {},
     "output_type": "display_data"
    },
    {
     "data": {
      "text/plain": [
       "<Figure size 396x342 with 0 Axes>"
      ]
     },
     "metadata": {},
     "output_type": "display_data"
    },
    {
     "data": {
      "text/plain": [
       "<Figure size 396x342 with 0 Axes>"
      ]
     },
     "metadata": {},
     "output_type": "display_data"
    },
    {
     "data": {
      "text/plain": [
       "<Figure size 396x342 with 0 Axes>"
      ]
     },
     "metadata": {},
     "output_type": "display_data"
    },
    {
     "data": {
      "text/plain": [
       "<Figure size 396x342 with 0 Axes>"
      ]
     },
     "metadata": {},
     "output_type": "display_data"
    },
    {
     "data": {
      "text/plain": [
       "<Figure size 396x342 with 0 Axes>"
      ]
     },
     "metadata": {},
     "output_type": "display_data"
    },
    {
     "data": {
      "text/plain": [
       "<Figure size 396x342 with 0 Axes>"
      ]
     },
     "metadata": {},
     "output_type": "display_data"
    },
    {
     "data": {
      "text/plain": [
       "<Figure size 396x342 with 0 Axes>"
      ]
     },
     "metadata": {},
     "output_type": "display_data"
    },
    {
     "data": {
      "text/plain": [
       "<Figure size 396x342 with 0 Axes>"
      ]
     },
     "metadata": {},
     "output_type": "display_data"
    },
    {
     "data": {
      "text/plain": [
       "<Figure size 396x342 with 0 Axes>"
      ]
     },
     "metadata": {},
     "output_type": "display_data"
    },
    {
     "data": {
      "text/plain": [
       "<Figure size 396x342 with 0 Axes>"
      ]
     },
     "metadata": {},
     "output_type": "display_data"
    },
    {
     "data": {
      "text/plain": [
       "<Figure size 396x342 with 0 Axes>"
      ]
     },
     "metadata": {},
     "output_type": "display_data"
    },
    {
     "data": {
      "text/plain": [
       "<Figure size 396x342 with 0 Axes>"
      ]
     },
     "metadata": {},
     "output_type": "display_data"
    },
    {
     "data": {
      "text/plain": [
       "<Figure size 396x342 with 0 Axes>"
      ]
     },
     "metadata": {},
     "output_type": "display_data"
    },
    {
     "data": {
      "text/plain": [
       "<Figure size 396x342 with 0 Axes>"
      ]
     },
     "metadata": {},
     "output_type": "display_data"
    },
    {
     "data": {
      "text/plain": [
       "<Figure size 396x342 with 0 Axes>"
      ]
     },
     "metadata": {},
     "output_type": "display_data"
    },
    {
     "data": {
      "text/plain": [
       "<Figure size 396x342 with 0 Axes>"
      ]
     },
     "metadata": {},
     "output_type": "display_data"
    },
    {
     "data": {
      "text/plain": [
       "<Figure size 396x342 with 0 Axes>"
      ]
     },
     "metadata": {},
     "output_type": "display_data"
    },
    {
     "data": {
      "text/plain": [
       "<Figure size 396x342 with 0 Axes>"
      ]
     },
     "metadata": {},
     "output_type": "display_data"
    },
    {
     "data": {
      "text/plain": [
       "<Figure size 396x342 with 0 Axes>"
      ]
     },
     "metadata": {},
     "output_type": "display_data"
    },
    {
     "data": {
      "text/plain": [
       "<Figure size 396x342 with 0 Axes>"
      ]
     },
     "metadata": {},
     "output_type": "display_data"
    },
    {
     "data": {
      "text/plain": [
       "<Figure size 396x342 with 0 Axes>"
      ]
     },
     "metadata": {},
     "output_type": "display_data"
    },
    {
     "data": {
      "text/plain": [
       "<Figure size 396x342 with 0 Axes>"
      ]
     },
     "metadata": {},
     "output_type": "display_data"
    },
    {
     "data": {
      "text/plain": [
       "<Figure size 396x342 with 0 Axes>"
      ]
     },
     "metadata": {},
     "output_type": "display_data"
    },
    {
     "data": {
      "text/plain": [
       "<Figure size 396x342 with 0 Axes>"
      ]
     },
     "metadata": {},
     "output_type": "display_data"
    },
    {
     "data": {
      "text/plain": [
       "<Figure size 396x342 with 0 Axes>"
      ]
     },
     "metadata": {},
     "output_type": "display_data"
    },
    {
     "data": {
      "text/plain": [
       "<Figure size 396x342 with 0 Axes>"
      ]
     },
     "metadata": {},
     "output_type": "display_data"
    },
    {
     "data": {
      "text/plain": [
       "<Figure size 396x342 with 0 Axes>"
      ]
     },
     "metadata": {},
     "output_type": "display_data"
    },
    {
     "data": {
      "text/plain": [
       "<Figure size 396x342 with 0 Axes>"
      ]
     },
     "metadata": {},
     "output_type": "display_data"
    },
    {
     "data": {
      "text/plain": [
       "<Figure size 396x342 with 0 Axes>"
      ]
     },
     "metadata": {},
     "output_type": "display_data"
    },
    {
     "data": {
      "text/plain": [
       "<Figure size 396x342 with 0 Axes>"
      ]
     },
     "metadata": {},
     "output_type": "display_data"
    },
    {
     "data": {
      "text/plain": [
       "<Figure size 396x342 with 0 Axes>"
      ]
     },
     "metadata": {},
     "output_type": "display_data"
    },
    {
     "data": {
      "text/plain": [
       "<Figure size 396x342 with 0 Axes>"
      ]
     },
     "metadata": {},
     "output_type": "display_data"
    },
    {
     "data": {
      "text/plain": [
       "<Figure size 396x342 with 0 Axes>"
      ]
     },
     "metadata": {},
     "output_type": "display_data"
    },
    {
     "data": {
      "text/plain": [
       "<Figure size 396x342 with 0 Axes>"
      ]
     },
     "metadata": {},
     "output_type": "display_data"
    },
    {
     "data": {
      "text/plain": [
       "<Figure size 396x342 with 0 Axes>"
      ]
     },
     "metadata": {},
     "output_type": "display_data"
    },
    {
     "data": {
      "text/plain": [
       "<Figure size 396x342 with 0 Axes>"
      ]
     },
     "metadata": {},
     "output_type": "display_data"
    },
    {
     "data": {
      "text/plain": [
       "<Figure size 396x342 with 0 Axes>"
      ]
     },
     "metadata": {},
     "output_type": "display_data"
    },
    {
     "data": {
      "text/plain": [
       "<Figure size 396x342 with 0 Axes>"
      ]
     },
     "metadata": {},
     "output_type": "display_data"
    },
    {
     "data": {
      "text/plain": [
       "<Figure size 396x342 with 0 Axes>"
      ]
     },
     "metadata": {},
     "output_type": "display_data"
    },
    {
     "data": {
      "text/plain": [
       "<Figure size 396x342 with 0 Axes>"
      ]
     },
     "metadata": {},
     "output_type": "display_data"
    },
    {
     "data": {
      "text/plain": [
       "<Figure size 396x342 with 0 Axes>"
      ]
     },
     "metadata": {},
     "output_type": "display_data"
    },
    {
     "data": {
      "text/plain": [
       "<Figure size 396x342 with 0 Axes>"
      ]
     },
     "metadata": {},
     "output_type": "display_data"
    },
    {
     "data": {
      "text/plain": [
       "<Figure size 396x342 with 0 Axes>"
      ]
     },
     "metadata": {},
     "output_type": "display_data"
    },
    {
     "data": {
      "text/plain": [
       "<Figure size 396x342 with 0 Axes>"
      ]
     },
     "metadata": {},
     "output_type": "display_data"
    },
    {
     "data": {
      "text/plain": [
       "<Figure size 396x342 with 0 Axes>"
      ]
     },
     "metadata": {},
     "output_type": "display_data"
    },
    {
     "data": {
      "text/plain": [
       "<Figure size 396x342 with 0 Axes>"
      ]
     },
     "metadata": {},
     "output_type": "display_data"
    },
    {
     "data": {
      "text/plain": [
       "<Figure size 396x342 with 0 Axes>"
      ]
     },
     "metadata": {},
     "output_type": "display_data"
    },
    {
     "data": {
      "text/plain": [
       "<Figure size 396x342 with 0 Axes>"
      ]
     },
     "metadata": {},
     "output_type": "display_data"
    },
    {
     "data": {
      "text/plain": [
       "<Figure size 396x342 with 0 Axes>"
      ]
     },
     "metadata": {},
     "output_type": "display_data"
    },
    {
     "data": {
      "text/plain": [
       "<Figure size 396x342 with 0 Axes>"
      ]
     },
     "metadata": {},
     "output_type": "display_data"
    },
    {
     "data": {
      "text/plain": [
       "<Figure size 396x342 with 0 Axes>"
      ]
     },
     "metadata": {},
     "output_type": "display_data"
    },
    {
     "data": {
      "text/plain": [
       "<Figure size 396x342 with 0 Axes>"
      ]
     },
     "metadata": {},
     "output_type": "display_data"
    },
    {
     "data": {
      "text/plain": [
       "<Figure size 396x342 with 0 Axes>"
      ]
     },
     "metadata": {},
     "output_type": "display_data"
    },
    {
     "data": {
      "text/plain": [
       "<Figure size 396x342 with 0 Axes>"
      ]
     },
     "metadata": {},
     "output_type": "display_data"
    },
    {
     "data": {
      "text/plain": [
       "<Figure size 396x342 with 0 Axes>"
      ]
     },
     "metadata": {},
     "output_type": "display_data"
    },
    {
     "data": {
      "text/plain": [
       "<Figure size 396x342 with 0 Axes>"
      ]
     },
     "metadata": {},
     "output_type": "display_data"
    },
    {
     "data": {
      "text/plain": [
       "<Figure size 396x342 with 0 Axes>"
      ]
     },
     "metadata": {},
     "output_type": "display_data"
    },
    {
     "data": {
      "text/plain": [
       "<Figure size 396x342 with 0 Axes>"
      ]
     },
     "metadata": {},
     "output_type": "display_data"
    },
    {
     "data": {
      "text/plain": [
       "<Figure size 396x342 with 0 Axes>"
      ]
     },
     "metadata": {},
     "output_type": "display_data"
    },
    {
     "data": {
      "text/plain": [
       "<Figure size 396x342 with 0 Axes>"
      ]
     },
     "metadata": {},
     "output_type": "display_data"
    },
    {
     "data": {
      "text/plain": [
       "<Figure size 396x342 with 0 Axes>"
      ]
     },
     "metadata": {},
     "output_type": "display_data"
    },
    {
     "data": {
      "text/plain": [
       "<Figure size 396x342 with 0 Axes>"
      ]
     },
     "metadata": {},
     "output_type": "display_data"
    },
    {
     "data": {
      "text/plain": [
       "<Figure size 396x342 with 0 Axes>"
      ]
     },
     "metadata": {},
     "output_type": "display_data"
    },
    {
     "data": {
      "text/plain": [
       "<Figure size 396x342 with 0 Axes>"
      ]
     },
     "metadata": {},
     "output_type": "display_data"
    },
    {
     "data": {
      "text/plain": [
       "<Figure size 396x342 with 0 Axes>"
      ]
     },
     "metadata": {},
     "output_type": "display_data"
    },
    {
     "data": {
      "text/plain": [
       "<Figure size 396x342 with 0 Axes>"
      ]
     },
     "metadata": {},
     "output_type": "display_data"
    },
    {
     "data": {
      "text/plain": [
       "<Figure size 396x342 with 0 Axes>"
      ]
     },
     "metadata": {},
     "output_type": "display_data"
    },
    {
     "data": {
      "text/plain": [
       "<Figure size 396x342 with 0 Axes>"
      ]
     },
     "metadata": {},
     "output_type": "display_data"
    },
    {
     "data": {
      "text/plain": [
       "<Figure size 396x342 with 0 Axes>"
      ]
     },
     "metadata": {},
     "output_type": "display_data"
    },
    {
     "data": {
      "text/plain": [
       "<Figure size 396x342 with 0 Axes>"
      ]
     },
     "metadata": {},
     "output_type": "display_data"
    },
    {
     "data": {
      "text/plain": [
       "<Figure size 396x342 with 0 Axes>"
      ]
     },
     "metadata": {},
     "output_type": "display_data"
    },
    {
     "data": {
      "text/plain": [
       "<Figure size 396x342 with 0 Axes>"
      ]
     },
     "metadata": {},
     "output_type": "display_data"
    },
    {
     "data": {
      "text/plain": [
       "<Figure size 396x342 with 0 Axes>"
      ]
     },
     "metadata": {},
     "output_type": "display_data"
    },
    {
     "data": {
      "text/plain": [
       "<Figure size 396x342 with 0 Axes>"
      ]
     },
     "metadata": {},
     "output_type": "display_data"
    },
    {
     "data": {
      "text/plain": [
       "<Figure size 396x342 with 0 Axes>"
      ]
     },
     "metadata": {},
     "output_type": "display_data"
    },
    {
     "data": {
      "text/plain": [
       "<Figure size 396x342 with 0 Axes>"
      ]
     },
     "metadata": {},
     "output_type": "display_data"
    },
    {
     "data": {
      "text/plain": [
       "<Figure size 396x342 with 0 Axes>"
      ]
     },
     "metadata": {},
     "output_type": "display_data"
    },
    {
     "data": {
      "text/plain": [
       "<Figure size 396x342 with 0 Axes>"
      ]
     },
     "metadata": {},
     "output_type": "display_data"
    },
    {
     "data": {
      "text/plain": [
       "<Figure size 396x342 with 0 Axes>"
      ]
     },
     "metadata": {},
     "output_type": "display_data"
    },
    {
     "data": {
      "text/plain": [
       "<Figure size 396x342 with 0 Axes>"
      ]
     },
     "metadata": {},
     "output_type": "display_data"
    },
    {
     "data": {
      "text/plain": [
       "<Figure size 396x342 with 0 Axes>"
      ]
     },
     "metadata": {},
     "output_type": "display_data"
    },
    {
     "data": {
      "text/plain": [
       "<Figure size 396x342 with 0 Axes>"
      ]
     },
     "metadata": {},
     "output_type": "display_data"
    },
    {
     "data": {
      "text/plain": [
       "<Figure size 396x342 with 0 Axes>"
      ]
     },
     "metadata": {},
     "output_type": "display_data"
    },
    {
     "data": {
      "text/plain": [
       "<Figure size 396x342 with 0 Axes>"
      ]
     },
     "metadata": {},
     "output_type": "display_data"
    },
    {
     "data": {
      "text/plain": [
       "<Figure size 396x342 with 0 Axes>"
      ]
     },
     "metadata": {},
     "output_type": "display_data"
    },
    {
     "data": {
      "text/plain": [
       "<Figure size 396x342 with 0 Axes>"
      ]
     },
     "metadata": {},
     "output_type": "display_data"
    },
    {
     "data": {
      "text/plain": [
       "<Figure size 396x342 with 0 Axes>"
      ]
     },
     "metadata": {},
     "output_type": "display_data"
    },
    {
     "data": {
      "text/plain": [
       "<Figure size 396x342 with 0 Axes>"
      ]
     },
     "metadata": {},
     "output_type": "display_data"
    },
    {
     "data": {
      "text/plain": [
       "<Figure size 396x342 with 0 Axes>"
      ]
     },
     "metadata": {},
     "output_type": "display_data"
    },
    {
     "data": {
      "text/plain": [
       "<Figure size 396x342 with 0 Axes>"
      ]
     },
     "metadata": {},
     "output_type": "display_data"
    },
    {
     "data": {
      "text/plain": [
       "<Figure size 396x342 with 0 Axes>"
      ]
     },
     "metadata": {},
     "output_type": "display_data"
    },
    {
     "data": {
      "text/plain": [
       "<Figure size 396x342 with 0 Axes>"
      ]
     },
     "metadata": {},
     "output_type": "display_data"
    },
    {
     "data": {
      "text/plain": [
       "<Figure size 396x342 with 0 Axes>"
      ]
     },
     "metadata": {},
     "output_type": "display_data"
    },
    {
     "data": {
      "text/plain": [
       "<Figure size 396x342 with 0 Axes>"
      ]
     },
     "metadata": {},
     "output_type": "display_data"
    },
    {
     "data": {
      "text/plain": [
       "<Figure size 396x342 with 0 Axes>"
      ]
     },
     "metadata": {},
     "output_type": "display_data"
    },
    {
     "data": {
      "text/plain": [
       "<Figure size 396x342 with 0 Axes>"
      ]
     },
     "metadata": {},
     "output_type": "display_data"
    },
    {
     "data": {
      "text/plain": [
       "<Figure size 396x342 with 0 Axes>"
      ]
     },
     "metadata": {},
     "output_type": "display_data"
    },
    {
     "data": {
      "text/plain": [
       "<Figure size 396x342 with 0 Axes>"
      ]
     },
     "metadata": {},
     "output_type": "display_data"
    },
    {
     "data": {
      "text/plain": [
       "<Figure size 396x342 with 0 Axes>"
      ]
     },
     "metadata": {},
     "output_type": "display_data"
    },
    {
     "data": {
      "text/plain": [
       "<Figure size 396x342 with 0 Axes>"
      ]
     },
     "metadata": {},
     "output_type": "display_data"
    },
    {
     "data": {
      "text/plain": [
       "<Figure size 396x342 with 0 Axes>"
      ]
     },
     "metadata": {},
     "output_type": "display_data"
    },
    {
     "data": {
      "text/plain": [
       "<Figure size 396x342 with 0 Axes>"
      ]
     },
     "metadata": {},
     "output_type": "display_data"
    },
    {
     "data": {
      "text/plain": [
       "<Figure size 396x342 with 0 Axes>"
      ]
     },
     "metadata": {},
     "output_type": "display_data"
    },
    {
     "data": {
      "text/plain": [
       "<Figure size 396x342 with 0 Axes>"
      ]
     },
     "metadata": {},
     "output_type": "display_data"
    },
    {
     "data": {
      "text/plain": [
       "<Figure size 396x342 with 0 Axes>"
      ]
     },
     "metadata": {},
     "output_type": "display_data"
    },
    {
     "data": {
      "text/plain": [
       "<Figure size 396x342 with 0 Axes>"
      ]
     },
     "metadata": {},
     "output_type": "display_data"
    },
    {
     "data": {
      "text/plain": [
       "<Figure size 396x342 with 0 Axes>"
      ]
     },
     "metadata": {},
     "output_type": "display_data"
    },
    {
     "data": {
      "text/plain": [
       "<Figure size 396x342 with 0 Axes>"
      ]
     },
     "metadata": {},
     "output_type": "display_data"
    },
    {
     "data": {
      "text/plain": [
       "<Figure size 396x342 with 0 Axes>"
      ]
     },
     "metadata": {},
     "output_type": "display_data"
    },
    {
     "data": {
      "text/plain": [
       "<Figure size 396x342 with 0 Axes>"
      ]
     },
     "metadata": {},
     "output_type": "display_data"
    },
    {
     "data": {
      "text/plain": [
       "<Figure size 396x342 with 0 Axes>"
      ]
     },
     "metadata": {},
     "output_type": "display_data"
    },
    {
     "data": {
      "text/plain": [
       "<Figure size 396x342 with 0 Axes>"
      ]
     },
     "metadata": {},
     "output_type": "display_data"
    },
    {
     "data": {
      "text/plain": [
       "<Figure size 396x342 with 0 Axes>"
      ]
     },
     "metadata": {},
     "output_type": "display_data"
    },
    {
     "data": {
      "text/plain": [
       "<Figure size 396x342 with 0 Axes>"
      ]
     },
     "metadata": {},
     "output_type": "display_data"
    },
    {
     "data": {
      "text/plain": [
       "<Figure size 396x342 with 0 Axes>"
      ]
     },
     "metadata": {},
     "output_type": "display_data"
    },
    {
     "data": {
      "text/plain": [
       "<Figure size 396x342 with 0 Axes>"
      ]
     },
     "metadata": {},
     "output_type": "display_data"
    },
    {
     "data": {
      "text/plain": [
       "<Figure size 396x342 with 0 Axes>"
      ]
     },
     "metadata": {},
     "output_type": "display_data"
    },
    {
     "data": {
      "text/plain": [
       "<Figure size 396x342 with 0 Axes>"
      ]
     },
     "metadata": {},
     "output_type": "display_data"
    },
    {
     "data": {
      "text/plain": [
       "<Figure size 396x342 with 0 Axes>"
      ]
     },
     "metadata": {},
     "output_type": "display_data"
    },
    {
     "data": {
      "text/plain": [
       "<Figure size 396x342 with 0 Axes>"
      ]
     },
     "metadata": {},
     "output_type": "display_data"
    },
    {
     "data": {
      "text/plain": [
       "<Figure size 396x342 with 0 Axes>"
      ]
     },
     "metadata": {},
     "output_type": "display_data"
    },
    {
     "data": {
      "text/plain": [
       "<Figure size 396x342 with 0 Axes>"
      ]
     },
     "metadata": {},
     "output_type": "display_data"
    },
    {
     "data": {
      "text/plain": [
       "<Figure size 396x342 with 0 Axes>"
      ]
     },
     "metadata": {},
     "output_type": "display_data"
    },
    {
     "data": {
      "text/plain": [
       "<Figure size 396x342 with 0 Axes>"
      ]
     },
     "metadata": {},
     "output_type": "display_data"
    },
    {
     "data": {
      "text/plain": [
       "<Figure size 396x342 with 0 Axes>"
      ]
     },
     "metadata": {},
     "output_type": "display_data"
    },
    {
     "data": {
      "text/plain": [
       "<Figure size 396x342 with 0 Axes>"
      ]
     },
     "metadata": {},
     "output_type": "display_data"
    },
    {
     "data": {
      "text/plain": [
       "<Figure size 396x342 with 0 Axes>"
      ]
     },
     "metadata": {},
     "output_type": "display_data"
    },
    {
     "data": {
      "text/plain": [
       "<Figure size 396x342 with 0 Axes>"
      ]
     },
     "metadata": {},
     "output_type": "display_data"
    },
    {
     "data": {
      "text/plain": [
       "<Figure size 396x342 with 0 Axes>"
      ]
     },
     "metadata": {},
     "output_type": "display_data"
    },
    {
     "data": {
      "text/plain": [
       "<Figure size 396x342 with 0 Axes>"
      ]
     },
     "metadata": {},
     "output_type": "display_data"
    },
    {
     "data": {
      "text/plain": [
       "<Figure size 396x342 with 0 Axes>"
      ]
     },
     "metadata": {},
     "output_type": "display_data"
    },
    {
     "data": {
      "text/plain": [
       "<Figure size 396x342 with 0 Axes>"
      ]
     },
     "metadata": {},
     "output_type": "display_data"
    },
    {
     "data": {
      "text/plain": [
       "<Figure size 396x342 with 0 Axes>"
      ]
     },
     "metadata": {},
     "output_type": "display_data"
    },
    {
     "data": {
      "text/plain": [
       "<Figure size 396x342 with 0 Axes>"
      ]
     },
     "metadata": {},
     "output_type": "display_data"
    },
    {
     "data": {
      "text/plain": [
       "<Figure size 396x342 with 0 Axes>"
      ]
     },
     "metadata": {},
     "output_type": "display_data"
    },
    {
     "data": {
      "text/plain": [
       "<Figure size 396x342 with 0 Axes>"
      ]
     },
     "metadata": {},
     "output_type": "display_data"
    },
    {
     "data": {
      "text/plain": [
       "<Figure size 396x342 with 0 Axes>"
      ]
     },
     "metadata": {},
     "output_type": "display_data"
    },
    {
     "data": {
      "text/plain": [
       "<Figure size 396x342 with 0 Axes>"
      ]
     },
     "metadata": {},
     "output_type": "display_data"
    },
    {
     "data": {
      "text/plain": [
       "<Figure size 396x342 with 0 Axes>"
      ]
     },
     "metadata": {},
     "output_type": "display_data"
    },
    {
     "data": {
      "text/plain": [
       "<Figure size 396x342 with 0 Axes>"
      ]
     },
     "metadata": {},
     "output_type": "display_data"
    },
    {
     "data": {
      "text/plain": [
       "<Figure size 396x342 with 0 Axes>"
      ]
     },
     "metadata": {},
     "output_type": "display_data"
    },
    {
     "data": {
      "text/plain": [
       "<Figure size 396x342 with 0 Axes>"
      ]
     },
     "metadata": {},
     "output_type": "display_data"
    },
    {
     "data": {
      "text/plain": [
       "<Figure size 396x342 with 0 Axes>"
      ]
     },
     "metadata": {},
     "output_type": "display_data"
    },
    {
     "data": {
      "text/plain": [
       "<Figure size 396x342 with 0 Axes>"
      ]
     },
     "metadata": {},
     "output_type": "display_data"
    },
    {
     "data": {
      "text/plain": [
       "<Figure size 396x342 with 0 Axes>"
      ]
     },
     "metadata": {},
     "output_type": "display_data"
    },
    {
     "data": {
      "text/plain": [
       "<Figure size 396x342 with 0 Axes>"
      ]
     },
     "metadata": {},
     "output_type": "display_data"
    },
    {
     "data": {
      "text/plain": [
       "<Figure size 396x342 with 0 Axes>"
      ]
     },
     "metadata": {},
     "output_type": "display_data"
    },
    {
     "data": {
      "text/plain": [
       "<Figure size 396x342 with 0 Axes>"
      ]
     },
     "metadata": {},
     "output_type": "display_data"
    },
    {
     "data": {
      "text/plain": [
       "<Figure size 396x342 with 0 Axes>"
      ]
     },
     "metadata": {},
     "output_type": "display_data"
    },
    {
     "data": {
      "text/plain": [
       "<Figure size 396x342 with 0 Axes>"
      ]
     },
     "metadata": {},
     "output_type": "display_data"
    },
    {
     "data": {
      "text/plain": [
       "<Figure size 396x342 with 0 Axes>"
      ]
     },
     "metadata": {},
     "output_type": "display_data"
    },
    {
     "data": {
      "text/plain": [
       "<Figure size 396x342 with 0 Axes>"
      ]
     },
     "metadata": {},
     "output_type": "display_data"
    },
    {
     "data": {
      "text/plain": [
       "<Figure size 396x342 with 0 Axes>"
      ]
     },
     "metadata": {},
     "output_type": "display_data"
    },
    {
     "data": {
      "text/plain": [
       "<Figure size 396x342 with 0 Axes>"
      ]
     },
     "metadata": {},
     "output_type": "display_data"
    },
    {
     "data": {
      "text/plain": [
       "<Figure size 396x342 with 0 Axes>"
      ]
     },
     "metadata": {},
     "output_type": "display_data"
    },
    {
     "data": {
      "text/plain": [
       "<Figure size 396x342 with 0 Axes>"
      ]
     },
     "metadata": {},
     "output_type": "display_data"
    },
    {
     "data": {
      "text/plain": [
       "<Figure size 396x342 with 0 Axes>"
      ]
     },
     "metadata": {},
     "output_type": "display_data"
    },
    {
     "data": {
      "text/plain": [
       "<Figure size 396x342 with 0 Axes>"
      ]
     },
     "metadata": {},
     "output_type": "display_data"
    },
    {
     "data": {
      "text/plain": [
       "<Figure size 396x342 with 0 Axes>"
      ]
     },
     "metadata": {},
     "output_type": "display_data"
    },
    {
     "data": {
      "text/plain": [
       "<Figure size 396x342 with 0 Axes>"
      ]
     },
     "metadata": {},
     "output_type": "display_data"
    },
    {
     "data": {
      "text/plain": [
       "<Figure size 396x342 with 0 Axes>"
      ]
     },
     "metadata": {},
     "output_type": "display_data"
    },
    {
     "data": {
      "text/plain": [
       "<Figure size 396x342 with 0 Axes>"
      ]
     },
     "metadata": {},
     "output_type": "display_data"
    },
    {
     "data": {
      "text/plain": [
       "<Figure size 396x342 with 0 Axes>"
      ]
     },
     "metadata": {},
     "output_type": "display_data"
    },
    {
     "data": {
      "text/plain": [
       "<Figure size 396x342 with 0 Axes>"
      ]
     },
     "metadata": {},
     "output_type": "display_data"
    },
    {
     "data": {
      "text/plain": [
       "<Figure size 396x342 with 0 Axes>"
      ]
     },
     "metadata": {},
     "output_type": "display_data"
    },
    {
     "data": {
      "text/plain": [
       "<Figure size 396x342 with 0 Axes>"
      ]
     },
     "metadata": {},
     "output_type": "display_data"
    },
    {
     "data": {
      "text/plain": [
       "<Figure size 396x342 with 0 Axes>"
      ]
     },
     "metadata": {},
     "output_type": "display_data"
    },
    {
     "data": {
      "text/plain": [
       "<Figure size 396x342 with 0 Axes>"
      ]
     },
     "metadata": {},
     "output_type": "display_data"
    },
    {
     "data": {
      "text/plain": [
       "<Figure size 396x342 with 0 Axes>"
      ]
     },
     "metadata": {},
     "output_type": "display_data"
    },
    {
     "data": {
      "text/plain": [
       "<Figure size 396x342 with 0 Axes>"
      ]
     },
     "metadata": {},
     "output_type": "display_data"
    },
    {
     "data": {
      "text/plain": [
       "<Figure size 396x342 with 0 Axes>"
      ]
     },
     "metadata": {},
     "output_type": "display_data"
    },
    {
     "data": {
      "text/plain": [
       "<Figure size 396x342 with 0 Axes>"
      ]
     },
     "metadata": {},
     "output_type": "display_data"
    },
    {
     "data": {
      "text/plain": [
       "<Figure size 396x342 with 0 Axes>"
      ]
     },
     "metadata": {},
     "output_type": "display_data"
    },
    {
     "data": {
      "text/plain": [
       "<Figure size 396x342 with 0 Axes>"
      ]
     },
     "metadata": {},
     "output_type": "display_data"
    },
    {
     "data": {
      "text/plain": [
       "<Figure size 396x342 with 0 Axes>"
      ]
     },
     "metadata": {},
     "output_type": "display_data"
    },
    {
     "data": {
      "text/plain": [
       "<Figure size 396x342 with 0 Axes>"
      ]
     },
     "metadata": {},
     "output_type": "display_data"
    },
    {
     "data": {
      "text/plain": [
       "<Figure size 396x342 with 0 Axes>"
      ]
     },
     "metadata": {},
     "output_type": "display_data"
    },
    {
     "data": {
      "text/plain": [
       "<Figure size 396x342 with 0 Axes>"
      ]
     },
     "metadata": {},
     "output_type": "display_data"
    },
    {
     "data": {
      "text/plain": [
       "<Figure size 396x342 with 0 Axes>"
      ]
     },
     "metadata": {},
     "output_type": "display_data"
    },
    {
     "data": {
      "text/plain": [
       "<Figure size 396x342 with 0 Axes>"
      ]
     },
     "metadata": {},
     "output_type": "display_data"
    },
    {
     "data": {
      "text/plain": [
       "<Figure size 396x342 with 0 Axes>"
      ]
     },
     "metadata": {},
     "output_type": "display_data"
    },
    {
     "data": {
      "text/plain": [
       "<Figure size 396x342 with 0 Axes>"
      ]
     },
     "metadata": {},
     "output_type": "display_data"
    },
    {
     "data": {
      "text/plain": [
       "<Figure size 396x342 with 0 Axes>"
      ]
     },
     "metadata": {},
     "output_type": "display_data"
    },
    {
     "data": {
      "text/plain": [
       "<Figure size 396x342 with 0 Axes>"
      ]
     },
     "metadata": {},
     "output_type": "display_data"
    },
    {
     "data": {
      "text/plain": [
       "<Figure size 396x342 with 0 Axes>"
      ]
     },
     "metadata": {},
     "output_type": "display_data"
    },
    {
     "data": {
      "text/plain": [
       "<Figure size 396x342 with 0 Axes>"
      ]
     },
     "metadata": {},
     "output_type": "display_data"
    },
    {
     "data": {
      "text/plain": [
       "<Figure size 396x342 with 0 Axes>"
      ]
     },
     "metadata": {},
     "output_type": "display_data"
    },
    {
     "data": {
      "text/plain": [
       "<Figure size 396x342 with 0 Axes>"
      ]
     },
     "metadata": {},
     "output_type": "display_data"
    },
    {
     "data": {
      "text/plain": [
       "<Figure size 396x342 with 0 Axes>"
      ]
     },
     "metadata": {},
     "output_type": "display_data"
    },
    {
     "data": {
      "text/plain": [
       "<Figure size 396x342 with 0 Axes>"
      ]
     },
     "metadata": {},
     "output_type": "display_data"
    },
    {
     "data": {
      "text/plain": [
       "<Figure size 396x342 with 0 Axes>"
      ]
     },
     "metadata": {},
     "output_type": "display_data"
    },
    {
     "data": {
      "text/plain": [
       "<Figure size 396x342 with 0 Axes>"
      ]
     },
     "metadata": {},
     "output_type": "display_data"
    },
    {
     "data": {
      "text/plain": [
       "<Figure size 396x342 with 0 Axes>"
      ]
     },
     "metadata": {},
     "output_type": "display_data"
    },
    {
     "data": {
      "text/plain": [
       "<Figure size 396x342 with 0 Axes>"
      ]
     },
     "metadata": {},
     "output_type": "display_data"
    },
    {
     "data": {
      "text/plain": [
       "<Figure size 396x342 with 0 Axes>"
      ]
     },
     "metadata": {},
     "output_type": "display_data"
    },
    {
     "data": {
      "text/plain": [
       "<Figure size 396x342 with 0 Axes>"
      ]
     },
     "metadata": {},
     "output_type": "display_data"
    },
    {
     "data": {
      "text/plain": [
       "<Figure size 396x342 with 0 Axes>"
      ]
     },
     "metadata": {},
     "output_type": "display_data"
    },
    {
     "data": {
      "text/plain": [
       "<Figure size 396x342 with 0 Axes>"
      ]
     },
     "metadata": {},
     "output_type": "display_data"
    },
    {
     "data": {
      "text/plain": [
       "<Figure size 396x342 with 0 Axes>"
      ]
     },
     "metadata": {},
     "output_type": "display_data"
    },
    {
     "data": {
      "text/plain": [
       "<Figure size 396x342 with 0 Axes>"
      ]
     },
     "metadata": {},
     "output_type": "display_data"
    },
    {
     "data": {
      "text/plain": [
       "<Figure size 396x342 with 0 Axes>"
      ]
     },
     "metadata": {},
     "output_type": "display_data"
    },
    {
     "data": {
      "text/plain": [
       "<Figure size 396x342 with 0 Axes>"
      ]
     },
     "metadata": {},
     "output_type": "display_data"
    },
    {
     "data": {
      "text/plain": [
       "<Figure size 396x342 with 0 Axes>"
      ]
     },
     "metadata": {},
     "output_type": "display_data"
    },
    {
     "data": {
      "text/plain": [
       "<Figure size 396x342 with 0 Axes>"
      ]
     },
     "metadata": {},
     "output_type": "display_data"
    },
    {
     "data": {
      "text/plain": [
       "<Figure size 396x342 with 0 Axes>"
      ]
     },
     "metadata": {},
     "output_type": "display_data"
    },
    {
     "data": {
      "text/plain": [
       "<Figure size 396x342 with 0 Axes>"
      ]
     },
     "metadata": {},
     "output_type": "display_data"
    },
    {
     "data": {
      "text/plain": [
       "<Figure size 396x342 with 0 Axes>"
      ]
     },
     "metadata": {},
     "output_type": "display_data"
    },
    {
     "data": {
      "text/plain": [
       "<Figure size 396x342 with 0 Axes>"
      ]
     },
     "metadata": {},
     "output_type": "display_data"
    },
    {
     "data": {
      "text/plain": [
       "<Figure size 396x342 with 0 Axes>"
      ]
     },
     "metadata": {},
     "output_type": "display_data"
    },
    {
     "data": {
      "text/plain": [
       "<Figure size 396x342 with 0 Axes>"
      ]
     },
     "metadata": {},
     "output_type": "display_data"
    },
    {
     "data": {
      "text/plain": [
       "<Figure size 396x342 with 0 Axes>"
      ]
     },
     "metadata": {},
     "output_type": "display_data"
    },
    {
     "data": {
      "text/plain": [
       "<Figure size 396x342 with 0 Axes>"
      ]
     },
     "metadata": {},
     "output_type": "display_data"
    },
    {
     "data": {
      "text/plain": [
       "<Figure size 396x342 with 0 Axes>"
      ]
     },
     "metadata": {},
     "output_type": "display_data"
    },
    {
     "data": {
      "text/plain": [
       "<Figure size 396x342 with 0 Axes>"
      ]
     },
     "metadata": {},
     "output_type": "display_data"
    },
    {
     "data": {
      "text/plain": [
       "<Figure size 396x342 with 0 Axes>"
      ]
     },
     "metadata": {},
     "output_type": "display_data"
    },
    {
     "data": {
      "text/plain": [
       "<Figure size 396x342 with 0 Axes>"
      ]
     },
     "metadata": {},
     "output_type": "display_data"
    },
    {
     "data": {
      "text/plain": [
       "<Figure size 396x342 with 0 Axes>"
      ]
     },
     "metadata": {},
     "output_type": "display_data"
    },
    {
     "data": {
      "text/plain": [
       "<Figure size 396x342 with 0 Axes>"
      ]
     },
     "metadata": {},
     "output_type": "display_data"
    },
    {
     "data": {
      "text/plain": [
       "<Figure size 396x342 with 0 Axes>"
      ]
     },
     "metadata": {},
     "output_type": "display_data"
    },
    {
     "data": {
      "text/plain": [
       "<Figure size 396x342 with 0 Axes>"
      ]
     },
     "metadata": {},
     "output_type": "display_data"
    },
    {
     "data": {
      "text/plain": [
       "<Figure size 396x342 with 0 Axes>"
      ]
     },
     "metadata": {},
     "output_type": "display_data"
    },
    {
     "data": {
      "text/plain": [
       "<Figure size 396x342 with 0 Axes>"
      ]
     },
     "metadata": {},
     "output_type": "display_data"
    },
    {
     "data": {
      "text/plain": [
       "<Figure size 396x342 with 0 Axes>"
      ]
     },
     "metadata": {},
     "output_type": "display_data"
    },
    {
     "data": {
      "text/plain": [
       "<Figure size 396x342 with 0 Axes>"
      ]
     },
     "metadata": {},
     "output_type": "display_data"
    },
    {
     "data": {
      "text/plain": [
       "<Figure size 396x342 with 0 Axes>"
      ]
     },
     "metadata": {},
     "output_type": "display_data"
    },
    {
     "data": {
      "text/plain": [
       "<Figure size 396x342 with 0 Axes>"
      ]
     },
     "metadata": {},
     "output_type": "display_data"
    },
    {
     "data": {
      "text/plain": [
       "<Figure size 396x342 with 0 Axes>"
      ]
     },
     "metadata": {},
     "output_type": "display_data"
    },
    {
     "data": {
      "text/plain": [
       "<Figure size 396x342 with 0 Axes>"
      ]
     },
     "metadata": {},
     "output_type": "display_data"
    },
    {
     "data": {
      "text/plain": [
       "<Figure size 396x342 with 0 Axes>"
      ]
     },
     "metadata": {},
     "output_type": "display_data"
    },
    {
     "data": {
      "text/plain": [
       "<Figure size 396x342 with 0 Axes>"
      ]
     },
     "metadata": {},
     "output_type": "display_data"
    },
    {
     "data": {
      "text/plain": [
       "<Figure size 396x342 with 0 Axes>"
      ]
     },
     "metadata": {},
     "output_type": "display_data"
    },
    {
     "data": {
      "text/plain": [
       "<Figure size 396x342 with 0 Axes>"
      ]
     },
     "metadata": {},
     "output_type": "display_data"
    },
    {
     "data": {
      "text/plain": [
       "<Figure size 396x342 with 0 Axes>"
      ]
     },
     "metadata": {},
     "output_type": "display_data"
    },
    {
     "data": {
      "text/plain": [
       "<Figure size 396x342 with 0 Axes>"
      ]
     },
     "metadata": {},
     "output_type": "display_data"
    },
    {
     "data": {
      "text/plain": [
       "<Figure size 396x342 with 0 Axes>"
      ]
     },
     "metadata": {},
     "output_type": "display_data"
    },
    {
     "data": {
      "text/plain": [
       "<Figure size 396x342 with 0 Axes>"
      ]
     },
     "metadata": {},
     "output_type": "display_data"
    },
    {
     "data": {
      "text/plain": [
       "<Figure size 396x342 with 0 Axes>"
      ]
     },
     "metadata": {},
     "output_type": "display_data"
    },
    {
     "data": {
      "text/plain": [
       "<Figure size 396x342 with 0 Axes>"
      ]
     },
     "metadata": {},
     "output_type": "display_data"
    },
    {
     "data": {
      "text/plain": [
       "<Figure size 396x342 with 0 Axes>"
      ]
     },
     "metadata": {},
     "output_type": "display_data"
    },
    {
     "data": {
      "text/plain": [
       "<Figure size 396x342 with 0 Axes>"
      ]
     },
     "metadata": {},
     "output_type": "display_data"
    },
    {
     "data": {
      "text/plain": [
       "<Figure size 396x342 with 0 Axes>"
      ]
     },
     "metadata": {},
     "output_type": "display_data"
    },
    {
     "data": {
      "text/plain": [
       "<Figure size 396x342 with 0 Axes>"
      ]
     },
     "metadata": {},
     "output_type": "display_data"
    },
    {
     "data": {
      "text/plain": [
       "<Figure size 396x342 with 0 Axes>"
      ]
     },
     "metadata": {},
     "output_type": "display_data"
    },
    {
     "data": {
      "text/plain": [
       "<Figure size 396x342 with 0 Axes>"
      ]
     },
     "metadata": {},
     "output_type": "display_data"
    },
    {
     "data": {
      "text/plain": [
       "<Figure size 396x342 with 0 Axes>"
      ]
     },
     "metadata": {},
     "output_type": "display_data"
    },
    {
     "data": {
      "text/plain": [
       "<Figure size 396x342 with 0 Axes>"
      ]
     },
     "metadata": {},
     "output_type": "display_data"
    },
    {
     "data": {
      "text/plain": [
       "<Figure size 396x342 with 0 Axes>"
      ]
     },
     "metadata": {},
     "output_type": "display_data"
    },
    {
     "data": {
      "text/plain": [
       "<Figure size 396x342 with 0 Axes>"
      ]
     },
     "metadata": {},
     "output_type": "display_data"
    },
    {
     "data": {
      "text/plain": [
       "<Figure size 396x342 with 0 Axes>"
      ]
     },
     "metadata": {},
     "output_type": "display_data"
    },
    {
     "data": {
      "text/plain": [
       "<Figure size 396x342 with 0 Axes>"
      ]
     },
     "metadata": {},
     "output_type": "display_data"
    },
    {
     "data": {
      "text/plain": [
       "<Figure size 396x342 with 0 Axes>"
      ]
     },
     "metadata": {},
     "output_type": "display_data"
    },
    {
     "data": {
      "text/plain": [
       "<Figure size 396x342 with 0 Axes>"
      ]
     },
     "metadata": {},
     "output_type": "display_data"
    },
    {
     "data": {
      "text/plain": [
       "<Figure size 396x342 with 0 Axes>"
      ]
     },
     "metadata": {},
     "output_type": "display_data"
    },
    {
     "data": {
      "text/plain": [
       "<Figure size 396x342 with 0 Axes>"
      ]
     },
     "metadata": {},
     "output_type": "display_data"
    },
    {
     "data": {
      "text/plain": [
       "<Figure size 396x342 with 0 Axes>"
      ]
     },
     "metadata": {},
     "output_type": "display_data"
    },
    {
     "data": {
      "text/plain": [
       "<Figure size 396x342 with 0 Axes>"
      ]
     },
     "metadata": {},
     "output_type": "display_data"
    },
    {
     "data": {
      "text/plain": [
       "<Figure size 396x342 with 0 Axes>"
      ]
     },
     "metadata": {},
     "output_type": "display_data"
    },
    {
     "data": {
      "text/plain": [
       "<Figure size 396x342 with 0 Axes>"
      ]
     },
     "metadata": {},
     "output_type": "display_data"
    },
    {
     "data": {
      "text/plain": [
       "<Figure size 396x342 with 0 Axes>"
      ]
     },
     "metadata": {},
     "output_type": "display_data"
    },
    {
     "data": {
      "text/plain": [
       "<Figure size 396x342 with 0 Axes>"
      ]
     },
     "metadata": {},
     "output_type": "display_data"
    },
    {
     "data": {
      "text/plain": [
       "<Figure size 396x342 with 0 Axes>"
      ]
     },
     "metadata": {},
     "output_type": "display_data"
    },
    {
     "data": {
      "text/plain": [
       "<Figure size 396x342 with 0 Axes>"
      ]
     },
     "metadata": {},
     "output_type": "display_data"
    },
    {
     "data": {
      "text/plain": [
       "<Figure size 396x342 with 0 Axes>"
      ]
     },
     "metadata": {},
     "output_type": "display_data"
    },
    {
     "data": {
      "text/plain": [
       "<Figure size 396x342 with 0 Axes>"
      ]
     },
     "metadata": {},
     "output_type": "display_data"
    },
    {
     "data": {
      "text/plain": [
       "<Figure size 396x342 with 0 Axes>"
      ]
     },
     "metadata": {},
     "output_type": "display_data"
    },
    {
     "data": {
      "text/plain": [
       "<Figure size 396x342 with 0 Axes>"
      ]
     },
     "metadata": {},
     "output_type": "display_data"
    },
    {
     "data": {
      "text/plain": [
       "<Figure size 396x342 with 0 Axes>"
      ]
     },
     "metadata": {},
     "output_type": "display_data"
    },
    {
     "data": {
      "text/plain": [
       "<Figure size 396x342 with 0 Axes>"
      ]
     },
     "metadata": {},
     "output_type": "display_data"
    },
    {
     "data": {
      "text/plain": [
       "<Figure size 396x342 with 0 Axes>"
      ]
     },
     "metadata": {},
     "output_type": "display_data"
    },
    {
     "data": {
      "text/plain": [
       "<Figure size 396x342 with 0 Axes>"
      ]
     },
     "metadata": {},
     "output_type": "display_data"
    },
    {
     "data": {
      "text/plain": [
       "<Figure size 396x342 with 0 Axes>"
      ]
     },
     "metadata": {},
     "output_type": "display_data"
    },
    {
     "data": {
      "text/plain": [
       "<Figure size 396x342 with 0 Axes>"
      ]
     },
     "metadata": {},
     "output_type": "display_data"
    },
    {
     "data": {
      "text/plain": [
       "<Figure size 396x342 with 0 Axes>"
      ]
     },
     "metadata": {},
     "output_type": "display_data"
    },
    {
     "data": {
      "text/plain": [
       "<Figure size 396x342 with 0 Axes>"
      ]
     },
     "metadata": {},
     "output_type": "display_data"
    },
    {
     "data": {
      "text/plain": [
       "<Figure size 396x342 with 0 Axes>"
      ]
     },
     "metadata": {},
     "output_type": "display_data"
    },
    {
     "data": {
      "text/plain": [
       "<Figure size 396x342 with 0 Axes>"
      ]
     },
     "metadata": {},
     "output_type": "display_data"
    },
    {
     "data": {
      "text/plain": [
       "<Figure size 396x342 with 0 Axes>"
      ]
     },
     "metadata": {},
     "output_type": "display_data"
    },
    {
     "data": {
      "text/plain": [
       "<Figure size 396x342 with 0 Axes>"
      ]
     },
     "metadata": {},
     "output_type": "display_data"
    },
    {
     "data": {
      "text/plain": [
       "<Figure size 396x342 with 0 Axes>"
      ]
     },
     "metadata": {},
     "output_type": "display_data"
    },
    {
     "data": {
      "text/plain": [
       "<Figure size 396x342 with 0 Axes>"
      ]
     },
     "metadata": {},
     "output_type": "display_data"
    },
    {
     "data": {
      "text/plain": [
       "<Figure size 396x342 with 0 Axes>"
      ]
     },
     "metadata": {},
     "output_type": "display_data"
    },
    {
     "data": {
      "text/plain": [
       "<Figure size 396x342 with 0 Axes>"
      ]
     },
     "metadata": {},
     "output_type": "display_data"
    },
    {
     "data": {
      "text/plain": [
       "<Figure size 396x342 with 0 Axes>"
      ]
     },
     "metadata": {},
     "output_type": "display_data"
    },
    {
     "data": {
      "text/plain": [
       "<Figure size 396x342 with 0 Axes>"
      ]
     },
     "metadata": {},
     "output_type": "display_data"
    },
    {
     "data": {
      "text/plain": [
       "<Figure size 396x342 with 0 Axes>"
      ]
     },
     "metadata": {},
     "output_type": "display_data"
    },
    {
     "data": {
      "text/plain": [
       "<Figure size 396x342 with 0 Axes>"
      ]
     },
     "metadata": {},
     "output_type": "display_data"
    },
    {
     "data": {
      "text/plain": [
       "<Figure size 396x342 with 0 Axes>"
      ]
     },
     "metadata": {},
     "output_type": "display_data"
    },
    {
     "data": {
      "text/plain": [
       "<Figure size 396x342 with 0 Axes>"
      ]
     },
     "metadata": {},
     "output_type": "display_data"
    },
    {
     "data": {
      "text/plain": [
       "<Figure size 396x342 with 0 Axes>"
      ]
     },
     "metadata": {},
     "output_type": "display_data"
    },
    {
     "data": {
      "text/plain": [
       "<Figure size 396x342 with 0 Axes>"
      ]
     },
     "metadata": {},
     "output_type": "display_data"
    },
    {
     "data": {
      "text/plain": [
       "<Figure size 396x342 with 0 Axes>"
      ]
     },
     "metadata": {},
     "output_type": "display_data"
    },
    {
     "data": {
      "text/plain": [
       "<Figure size 396x342 with 0 Axes>"
      ]
     },
     "metadata": {},
     "output_type": "display_data"
    },
    {
     "data": {
      "text/plain": [
       "<Figure size 396x342 with 0 Axes>"
      ]
     },
     "metadata": {},
     "output_type": "display_data"
    },
    {
     "data": {
      "text/plain": [
       "<Figure size 396x342 with 0 Axes>"
      ]
     },
     "metadata": {},
     "output_type": "display_data"
    },
    {
     "data": {
      "text/plain": [
       "<Figure size 396x342 with 0 Axes>"
      ]
     },
     "metadata": {},
     "output_type": "display_data"
    },
    {
     "data": {
      "text/plain": [
       "<Figure size 396x342 with 0 Axes>"
      ]
     },
     "metadata": {},
     "output_type": "display_data"
    },
    {
     "data": {
      "text/plain": [
       "<Figure size 396x342 with 0 Axes>"
      ]
     },
     "metadata": {},
     "output_type": "display_data"
    },
    {
     "data": {
      "text/plain": [
       "<Figure size 396x342 with 0 Axes>"
      ]
     },
     "metadata": {},
     "output_type": "display_data"
    },
    {
     "data": {
      "text/plain": [
       "<Figure size 396x342 with 0 Axes>"
      ]
     },
     "metadata": {},
     "output_type": "display_data"
    },
    {
     "data": {
      "text/plain": [
       "<Figure size 396x342 with 0 Axes>"
      ]
     },
     "metadata": {},
     "output_type": "display_data"
    },
    {
     "data": {
      "text/plain": [
       "<Figure size 396x342 with 0 Axes>"
      ]
     },
     "metadata": {},
     "output_type": "display_data"
    },
    {
     "data": {
      "text/plain": [
       "<Figure size 396x342 with 0 Axes>"
      ]
     },
     "metadata": {},
     "output_type": "display_data"
    },
    {
     "data": {
      "text/plain": [
       "<Figure size 396x342 with 0 Axes>"
      ]
     },
     "metadata": {},
     "output_type": "display_data"
    },
    {
     "data": {
      "text/plain": [
       "<Figure size 396x342 with 0 Axes>"
      ]
     },
     "metadata": {},
     "output_type": "display_data"
    },
    {
     "data": {
      "text/plain": [
       "<Figure size 396x342 with 0 Axes>"
      ]
     },
     "metadata": {},
     "output_type": "display_data"
    },
    {
     "data": {
      "text/plain": [
       "<Figure size 396x342 with 0 Axes>"
      ]
     },
     "metadata": {},
     "output_type": "display_data"
    },
    {
     "data": {
      "text/plain": [
       "<Figure size 396x342 with 0 Axes>"
      ]
     },
     "metadata": {},
     "output_type": "display_data"
    },
    {
     "data": {
      "text/plain": [
       "<Figure size 396x342 with 0 Axes>"
      ]
     },
     "metadata": {},
     "output_type": "display_data"
    },
    {
     "data": {
      "text/plain": [
       "<Figure size 396x342 with 0 Axes>"
      ]
     },
     "metadata": {},
     "output_type": "display_data"
    },
    {
     "data": {
      "text/plain": [
       "<Figure size 396x342 with 0 Axes>"
      ]
     },
     "metadata": {},
     "output_type": "display_data"
    },
    {
     "data": {
      "text/plain": [
       "<Figure size 396x342 with 0 Axes>"
      ]
     },
     "metadata": {},
     "output_type": "display_data"
    },
    {
     "data": {
      "text/plain": [
       "<Figure size 396x342 with 0 Axes>"
      ]
     },
     "metadata": {},
     "output_type": "display_data"
    },
    {
     "data": {
      "text/plain": [
       "<Figure size 396x342 with 0 Axes>"
      ]
     },
     "metadata": {},
     "output_type": "display_data"
    },
    {
     "data": {
      "text/plain": [
       "<Figure size 396x342 with 0 Axes>"
      ]
     },
     "metadata": {},
     "output_type": "display_data"
    },
    {
     "data": {
      "text/plain": [
       "<Figure size 396x342 with 0 Axes>"
      ]
     },
     "metadata": {},
     "output_type": "display_data"
    },
    {
     "data": {
      "text/plain": [
       "<Figure size 396x342 with 0 Axes>"
      ]
     },
     "metadata": {},
     "output_type": "display_data"
    },
    {
     "data": {
      "text/plain": [
       "<Figure size 396x342 with 0 Axes>"
      ]
     },
     "metadata": {},
     "output_type": "display_data"
    },
    {
     "data": {
      "text/plain": [
       "<Figure size 396x342 with 0 Axes>"
      ]
     },
     "metadata": {},
     "output_type": "display_data"
    },
    {
     "data": {
      "text/plain": [
       "<Figure size 396x342 with 0 Axes>"
      ]
     },
     "metadata": {},
     "output_type": "display_data"
    },
    {
     "data": {
      "text/plain": [
       "<Figure size 396x342 with 0 Axes>"
      ]
     },
     "metadata": {},
     "output_type": "display_data"
    },
    {
     "data": {
      "text/plain": [
       "<Figure size 396x342 with 0 Axes>"
      ]
     },
     "metadata": {},
     "output_type": "display_data"
    },
    {
     "data": {
      "text/plain": [
       "<Figure size 396x342 with 0 Axes>"
      ]
     },
     "metadata": {},
     "output_type": "display_data"
    },
    {
     "data": {
      "text/plain": [
       "<Figure size 396x342 with 0 Axes>"
      ]
     },
     "metadata": {},
     "output_type": "display_data"
    },
    {
     "data": {
      "text/plain": [
       "<Figure size 396x342 with 0 Axes>"
      ]
     },
     "metadata": {},
     "output_type": "display_data"
    },
    {
     "data": {
      "text/plain": [
       "<Figure size 396x342 with 0 Axes>"
      ]
     },
     "metadata": {},
     "output_type": "display_data"
    },
    {
     "data": {
      "text/plain": [
       "<Figure size 396x342 with 0 Axes>"
      ]
     },
     "metadata": {},
     "output_type": "display_data"
    },
    {
     "data": {
      "text/plain": [
       "<Figure size 396x342 with 0 Axes>"
      ]
     },
     "metadata": {},
     "output_type": "display_data"
    },
    {
     "data": {
      "text/plain": [
       "<Figure size 396x342 with 0 Axes>"
      ]
     },
     "metadata": {},
     "output_type": "display_data"
    },
    {
     "data": {
      "text/plain": [
       "<Figure size 396x342 with 0 Axes>"
      ]
     },
     "metadata": {},
     "output_type": "display_data"
    },
    {
     "data": {
      "text/plain": [
       "<Figure size 396x342 with 0 Axes>"
      ]
     },
     "metadata": {},
     "output_type": "display_data"
    },
    {
     "data": {
      "text/plain": [
       "<Figure size 396x342 with 0 Axes>"
      ]
     },
     "metadata": {},
     "output_type": "display_data"
    },
    {
     "data": {
      "text/plain": [
       "<Figure size 396x342 with 0 Axes>"
      ]
     },
     "metadata": {},
     "output_type": "display_data"
    },
    {
     "data": {
      "text/plain": [
       "<Figure size 396x342 with 0 Axes>"
      ]
     },
     "metadata": {},
     "output_type": "display_data"
    },
    {
     "data": {
      "text/plain": [
       "<Figure size 396x342 with 0 Axes>"
      ]
     },
     "metadata": {},
     "output_type": "display_data"
    },
    {
     "data": {
      "text/plain": [
       "<Figure size 396x342 with 0 Axes>"
      ]
     },
     "metadata": {},
     "output_type": "display_data"
    },
    {
     "data": {
      "text/plain": [
       "<Figure size 396x342 with 0 Axes>"
      ]
     },
     "metadata": {},
     "output_type": "display_data"
    },
    {
     "data": {
      "text/plain": [
       "<Figure size 396x342 with 0 Axes>"
      ]
     },
     "metadata": {},
     "output_type": "display_data"
    },
    {
     "data": {
      "text/plain": [
       "<Figure size 396x342 with 0 Axes>"
      ]
     },
     "metadata": {},
     "output_type": "display_data"
    },
    {
     "data": {
      "text/plain": [
       "<Figure size 396x342 with 0 Axes>"
      ]
     },
     "metadata": {},
     "output_type": "display_data"
    },
    {
     "data": {
      "text/plain": [
       "<Figure size 396x342 with 0 Axes>"
      ]
     },
     "metadata": {},
     "output_type": "display_data"
    },
    {
     "data": {
      "text/plain": [
       "<Figure size 396x342 with 0 Axes>"
      ]
     },
     "metadata": {},
     "output_type": "display_data"
    },
    {
     "data": {
      "text/plain": [
       "<Figure size 396x342 with 0 Axes>"
      ]
     },
     "metadata": {},
     "output_type": "display_data"
    },
    {
     "data": {
      "text/plain": [
       "<Figure size 396x342 with 0 Axes>"
      ]
     },
     "metadata": {},
     "output_type": "display_data"
    },
    {
     "data": {
      "text/plain": [
       "<Figure size 396x342 with 0 Axes>"
      ]
     },
     "metadata": {},
     "output_type": "display_data"
    },
    {
     "data": {
      "text/plain": [
       "<Figure size 396x342 with 0 Axes>"
      ]
     },
     "metadata": {},
     "output_type": "display_data"
    },
    {
     "data": {
      "text/plain": [
       "<Figure size 396x342 with 0 Axes>"
      ]
     },
     "metadata": {},
     "output_type": "display_data"
    },
    {
     "data": {
      "text/plain": [
       "<Figure size 396x342 with 0 Axes>"
      ]
     },
     "metadata": {},
     "output_type": "display_data"
    },
    {
     "data": {
      "text/plain": [
       "<Figure size 396x342 with 0 Axes>"
      ]
     },
     "metadata": {},
     "output_type": "display_data"
    },
    {
     "data": {
      "text/plain": [
       "<Figure size 396x342 with 0 Axes>"
      ]
     },
     "metadata": {},
     "output_type": "display_data"
    },
    {
     "data": {
      "text/plain": [
       "<Figure size 396x342 with 0 Axes>"
      ]
     },
     "metadata": {},
     "output_type": "display_data"
    },
    {
     "data": {
      "text/plain": [
       "<Figure size 396x342 with 0 Axes>"
      ]
     },
     "metadata": {},
     "output_type": "display_data"
    },
    {
     "data": {
      "text/plain": [
       "<Figure size 396x342 with 0 Axes>"
      ]
     },
     "metadata": {},
     "output_type": "display_data"
    },
    {
     "data": {
      "text/plain": [
       "<Figure size 396x342 with 0 Axes>"
      ]
     },
     "metadata": {},
     "output_type": "display_data"
    },
    {
     "data": {
      "text/plain": [
       "<Figure size 396x342 with 0 Axes>"
      ]
     },
     "metadata": {},
     "output_type": "display_data"
    },
    {
     "data": {
      "text/plain": [
       "<Figure size 396x342 with 0 Axes>"
      ]
     },
     "metadata": {},
     "output_type": "display_data"
    },
    {
     "data": {
      "text/plain": [
       "<Figure size 396x342 with 0 Axes>"
      ]
     },
     "metadata": {},
     "output_type": "display_data"
    },
    {
     "data": {
      "text/plain": [
       "<Figure size 396x342 with 0 Axes>"
      ]
     },
     "metadata": {},
     "output_type": "display_data"
    },
    {
     "data": {
      "text/plain": [
       "<Figure size 396x342 with 0 Axes>"
      ]
     },
     "metadata": {},
     "output_type": "display_data"
    },
    {
     "data": {
      "text/plain": [
       "<Figure size 396x342 with 0 Axes>"
      ]
     },
     "metadata": {},
     "output_type": "display_data"
    },
    {
     "data": {
      "text/plain": [
       "<Figure size 396x342 with 0 Axes>"
      ]
     },
     "metadata": {},
     "output_type": "display_data"
    },
    {
     "data": {
      "text/plain": [
       "<Figure size 396x342 with 0 Axes>"
      ]
     },
     "metadata": {},
     "output_type": "display_data"
    },
    {
     "data": {
      "text/plain": [
       "<Figure size 396x342 with 0 Axes>"
      ]
     },
     "metadata": {},
     "output_type": "display_data"
    },
    {
     "data": {
      "text/plain": [
       "<Figure size 396x342 with 0 Axes>"
      ]
     },
     "metadata": {},
     "output_type": "display_data"
    },
    {
     "data": {
      "text/plain": [
       "<Figure size 396x342 with 0 Axes>"
      ]
     },
     "metadata": {},
     "output_type": "display_data"
    },
    {
     "data": {
      "text/plain": [
       "<Figure size 396x342 with 0 Axes>"
      ]
     },
     "metadata": {},
     "output_type": "display_data"
    },
    {
     "data": {
      "text/plain": [
       "<Figure size 396x342 with 0 Axes>"
      ]
     },
     "metadata": {},
     "output_type": "display_data"
    },
    {
     "data": {
      "text/plain": [
       "<Figure size 396x342 with 0 Axes>"
      ]
     },
     "metadata": {},
     "output_type": "display_data"
    },
    {
     "data": {
      "text/plain": [
       "<Figure size 396x342 with 0 Axes>"
      ]
     },
     "metadata": {},
     "output_type": "display_data"
    },
    {
     "data": {
      "text/plain": [
       "<Figure size 396x342 with 0 Axes>"
      ]
     },
     "metadata": {},
     "output_type": "display_data"
    },
    {
     "data": {
      "text/plain": [
       "<Figure size 396x342 with 0 Axes>"
      ]
     },
     "metadata": {},
     "output_type": "display_data"
    },
    {
     "data": {
      "text/plain": [
       "<Figure size 396x342 with 0 Axes>"
      ]
     },
     "metadata": {},
     "output_type": "display_data"
    },
    {
     "data": {
      "text/plain": [
       "<Figure size 396x342 with 0 Axes>"
      ]
     },
     "metadata": {},
     "output_type": "display_data"
    },
    {
     "data": {
      "text/plain": [
       "<Figure size 396x342 with 0 Axes>"
      ]
     },
     "metadata": {},
     "output_type": "display_data"
    },
    {
     "data": {
      "text/plain": [
       "<Figure size 396x342 with 0 Axes>"
      ]
     },
     "metadata": {},
     "output_type": "display_data"
    },
    {
     "data": {
      "text/plain": [
       "<Figure size 396x342 with 0 Axes>"
      ]
     },
     "metadata": {},
     "output_type": "display_data"
    },
    {
     "data": {
      "text/plain": [
       "<Figure size 396x342 with 0 Axes>"
      ]
     },
     "metadata": {},
     "output_type": "display_data"
    },
    {
     "data": {
      "text/plain": [
       "<Figure size 396x342 with 0 Axes>"
      ]
     },
     "metadata": {},
     "output_type": "display_data"
    },
    {
     "data": {
      "text/plain": [
       "<Figure size 396x342 with 0 Axes>"
      ]
     },
     "metadata": {},
     "output_type": "display_data"
    },
    {
     "data": {
      "text/plain": [
       "<Figure size 396x342 with 0 Axes>"
      ]
     },
     "metadata": {},
     "output_type": "display_data"
    },
    {
     "data": {
      "text/plain": [
       "<Figure size 396x342 with 0 Axes>"
      ]
     },
     "metadata": {},
     "output_type": "display_data"
    },
    {
     "data": {
      "text/plain": [
       "<Figure size 396x342 with 0 Axes>"
      ]
     },
     "metadata": {},
     "output_type": "display_data"
    },
    {
     "data": {
      "text/plain": [
       "<Figure size 396x342 with 0 Axes>"
      ]
     },
     "metadata": {},
     "output_type": "display_data"
    },
    {
     "data": {
      "text/plain": [
       "<Figure size 396x342 with 0 Axes>"
      ]
     },
     "metadata": {},
     "output_type": "display_data"
    },
    {
     "data": {
      "text/plain": [
       "<Figure size 396x342 with 0 Axes>"
      ]
     },
     "metadata": {},
     "output_type": "display_data"
    },
    {
     "data": {
      "text/plain": [
       "<Figure size 396x342 with 0 Axes>"
      ]
     },
     "metadata": {},
     "output_type": "display_data"
    },
    {
     "data": {
      "text/plain": [
       "<Figure size 396x342 with 0 Axes>"
      ]
     },
     "metadata": {},
     "output_type": "display_data"
    },
    {
     "data": {
      "text/plain": [
       "<Figure size 396x342 with 0 Axes>"
      ]
     },
     "metadata": {},
     "output_type": "display_data"
    },
    {
     "data": {
      "text/plain": [
       "<Figure size 396x342 with 0 Axes>"
      ]
     },
     "metadata": {},
     "output_type": "display_data"
    },
    {
     "data": {
      "text/plain": [
       "<Figure size 396x342 with 0 Axes>"
      ]
     },
     "metadata": {},
     "output_type": "display_data"
    },
    {
     "data": {
      "text/plain": [
       "<Figure size 396x342 with 0 Axes>"
      ]
     },
     "metadata": {},
     "output_type": "display_data"
    },
    {
     "data": {
      "text/plain": [
       "<Figure size 396x342 with 0 Axes>"
      ]
     },
     "metadata": {},
     "output_type": "display_data"
    },
    {
     "data": {
      "text/plain": [
       "<Figure size 396x342 with 0 Axes>"
      ]
     },
     "metadata": {},
     "output_type": "display_data"
    },
    {
     "data": {
      "text/plain": [
       "<Figure size 396x342 with 0 Axes>"
      ]
     },
     "metadata": {},
     "output_type": "display_data"
    },
    {
     "data": {
      "text/plain": [
       "<Figure size 396x342 with 0 Axes>"
      ]
     },
     "metadata": {},
     "output_type": "display_data"
    },
    {
     "data": {
      "text/plain": [
       "<Figure size 396x342 with 0 Axes>"
      ]
     },
     "metadata": {},
     "output_type": "display_data"
    },
    {
     "data": {
      "text/plain": [
       "<Figure size 396x342 with 0 Axes>"
      ]
     },
     "metadata": {},
     "output_type": "display_data"
    },
    {
     "data": {
      "text/plain": [
       "<Figure size 396x342 with 0 Axes>"
      ]
     },
     "metadata": {},
     "output_type": "display_data"
    },
    {
     "data": {
      "text/plain": [
       "<Figure size 396x342 with 0 Axes>"
      ]
     },
     "metadata": {},
     "output_type": "display_data"
    },
    {
     "data": {
      "text/plain": [
       "<Figure size 396x342 with 0 Axes>"
      ]
     },
     "metadata": {},
     "output_type": "display_data"
    },
    {
     "data": {
      "text/plain": [
       "<Figure size 396x342 with 0 Axes>"
      ]
     },
     "metadata": {},
     "output_type": "display_data"
    },
    {
     "data": {
      "text/plain": [
       "<Figure size 396x342 with 0 Axes>"
      ]
     },
     "metadata": {},
     "output_type": "display_data"
    }
   ],
   "source": [
    "\n",
    "for robot in robots:\n",
    "   for seed in seeds:\n",
    "        for range_ in rab_ranges:\n",
    "\n",
    "         black_values = ['black_followers','nesters_black','decision_makers_black','black_exploration']\n",
    "         white_values = ['white_followers','nesters_white','decision_makers_white','white_exploration']\n",
    "\n",
    "\n",
    "         fname = column_position(robot,seed,range_)\n",
    "         print(fname)\n",
    "         pos_frame = pd.read_csv(fname, sep=',', names=get_names_for_position(robot))\n",
    "\n",
    "         df = pd.DataFrame(pos_frame)\n",
    "         df.drop(df.filter(regex='time').columns, axis=1, inplace=True)\n",
    "         df.drop(df.filter(regex='id').columns, axis=1, inplace=True)\n",
    "         df.drop(df.filter(regex='seed').columns, axis=1, inplace=True)\n",
    "         df.drop(df.filter(regex='no_of_robots').columns, axis=1, inplace=True)\n",
    "         df.drop(df.filter(regex='exp_finished').columns, axis=1, inplace=True)\n",
    "         state = df.filter(regex='state').melt()\n",
    "\n",
    "         df.drop(df.filter(regex='state').columns, axis=1, inplace=True)\n",
    "\n",
    "         positionalDf = df.groupby(np.arange(len(df.columns)) // 2, axis=1).apply(lambda x: pd.Series([np.array(i) for i in x.values]))\n",
    "         positionalDf = positionalDf.melt()\n",
    "         positionalDf = positionalDf.rename(columns={\"variable\": \"robot\", \"value\": \"position\"})\n",
    "         positionalDf[\"state\"] = state[\"value\"]\n",
    "\n",
    "         positionalDf_black = positionalDf.loc[positionalDf['state'].isin(black_values)].reset_index(drop=True)\n",
    "         positionalDf_white = positionalDf.loc[positionalDf['state'].isin(white_values)].reset_index(drop=True)\n",
    "\n",
    "         x = list(positionalDf_white['position'].apply(lambda x: x[0]))\n",
    "         y = list(positionalDf_white['position'].apply(lambda y: y[1]))\n",
    "\n",
    "         f, ax = plt.subplots(figsize=(5.5,4.75))\n",
    "         plt.rc('xtick', labelsize=10) \n",
    "         plt.rc('ytick', labelsize=10) \n",
    "         plt.title(\"Heatmap for white robots:\" + str(robot) + \" seed: \"+str(seed))\n",
    "         heatmap, xedges, yedges = np.histogram2d(x, y, bins=[np.arange(-2,2,0.2),np.arange(-2,2,0.2)])\n",
    "         extent = [xedges[0], xedges[-1], yedges[0], yedges[-1]]\n",
    "         plt.imshow(heatmap, origin='lower', extent=extent)\n",
    "         plt.colorbar()\n",
    "         plt.plot([1, 1], [-2, 1.8], [-1,-1], [-2, 1.80], color='black', linewidth=2, marker = 'o', linestyle = 'dashed')\n",
    "         ax.set_ylabel(\"x (m)\",fontsize=10)\n",
    "         ax.set_xlabel(\"y (m)\",fontsize=10)\n",
    "         plt.tight_layout(pad=0.1)\n",
    "         plt.savefig(\"heatmap_white_comm_congestion\"+str(range_)+\"_\"+str(robot)+\"_\"+str(seed)+\".pdf\", dpi=600, format=\"pdf\", transparent=False)\n",
    "         plt.clf()        \n",
    "\n",
    "         x = list(positionalDf_black['position'].apply(lambda x: x[0]))\n",
    "         y = list(positionalDf_black['position'].apply(lambda y: y[1]))\n",
    "\n",
    "         heatmap, xedges, yedges = np.histogram2d(x, y, bins=[np.arange(-2,2,0.2),np.arange(-2,2,0.2)])\n",
    "        \n",
    "         f, ax = plt.subplots(figsize=(5.5,4.75))\n",
    "         plt.rc('xtick', labelsize=10) \n",
    "         plt.rc('ytick', labelsize=10) \n",
    "         plt.title(\"Heatmap for black robots:\" + str(robot) + \" seed: \"+str(seed))\n",
    "         heatmap, xedges, yedges = np.histogram2d(x, y, bins=[np.arange(-2,2,0.2),np.arange(-2,2,0.2)])\n",
    "         extent = [xedges[0], xedges[-1], yedges[0], yedges[-1]]\n",
    "         plt.imshow(heatmap, origin='lower', extent=extent)\n",
    "         plt.colorbar()\n",
    "         plt.plot([1, 1], [-2, 1.8], [-1,-1], [-2, 1.80], color='black', linewidth=2, marker = 'o', linestyle = 'dashed')\n",
    "         plt.tight_layout(pad=1)\n",
    "         ax.set_ylabel(\"x (m)\",fontsize=10)\n",
    "         ax.set_xlabel(\"y (m)\",fontsize=10)\n",
    "         plt.tight_layout(pad=0.1)\n",
    "         plt.plot([1, 1], [-2, 1.8], [-1,-1], [-2, 1.8], color='black', linewidth=2, marker = 'o', linestyle = 'dashed')\n",
    "         plt.savefig(\"heatmap_black_comm_congestion\"+str(range_)+\"_\"+str(robot)+\"_\"+str(seed)+\".pdf\", dpi=600, format=\"pdf\", transparent=False)\n",
    "         plt.clf()\n",
    "\n",
    "\n",
    "\n"
   ]
  },
  {
   "cell_type": "code",
   "execution_count": null,
   "metadata": {},
   "outputs": [
    {
     "name": "stdout",
     "output_type": "stream",
     "text": [
      "[-2.0, 1.799999999999999, -2.0, 1.799999999999999]\n"
     ]
    },
    {
     "data": {
      "image/png": "[encoded data removed]",
      "text/plain": [
       "<Figure size 432x288 with 2 Axes>"
      ]
     },
     "metadata": {
      "needs_background": "light"
     },
     "output_type": "display_data"
    }
   ],
   "source": [
    "\n",
    "# plt.show()"
   ]
  },
  {
   "cell_type": "code",
   "execution_count": null,
   "metadata": {},
   "outputs": [
    {
     "name": "stdout",
     "output_type": "stream",
     "text": [
      "[-2.0, 1.799999999999999, -2.0, 1.799999999999999]\n"
     ]
    },
    {
     "data": {
      "image/png": "[encoded data removed]",
      "text/plain": [
       "<Figure size 432x288 with 2 Axes>"
      ]
     },
     "metadata": {
      "needs_background": "light"
     },
     "output_type": "display_data"
    }
   ],
   "source": [
    "x = list(positionalDf_black['position'].apply(lambda x: x[0]))\n",
    "y = list(positionalDf_black['position'].apply(lambda y: y[1]))\n",
    "\n",
    "# print(positionalDf_black['position'])\n",
    "# print(x)\n",
    "# print(y)\n",
    "\n",
    "heatmap, xedges, yedges = np.histogram2d(x, y, bins=[np.arange(-2,2,0.2),np.arange(-2,2,0.2)])\n",
    "print(extent)\n",
    "plt.imshow(heatmap, origin='lower', extent=extent)\n",
    "\n",
    "#plt.clim(0,30000) \n",
    "plt.colorbar()\n",
    "plt.savefig(\"heatmap_black.pdf\", dpi=600, format=\"pdf\", transparent=False)\n",
    "# plt.show()"
   ]
  }
 ],
 "metadata": {
  "interpreter": {
   "hash": "fc146275188d0659e7a3bfee7ebf2211438d8c523262d02dd35863c9488ae045"
  },
  "kernelspec": {
   "display_name": "Python 3.8.12 64-bit ('data_process')",
   "language": "python",
   "name": "python3"
  },
  "language_info": {
   "codemirror_mode": {
    "name": "ipython",
    "version": 3
   },
   "file_extension": ".py",
   "mimetype": "text/x-python",
   "name": "python",
   "nbconvert_exporter": "python",
   "pygments_lexer": "ipython3",
   "version": "3.8.12"
  },
  "orig_nbformat": 4
 },
 "nbformat": 4,
 "nbformat_minor": 2
}
